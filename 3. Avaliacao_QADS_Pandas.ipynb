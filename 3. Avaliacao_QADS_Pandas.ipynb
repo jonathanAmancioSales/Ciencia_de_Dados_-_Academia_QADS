{
  "nbformat": 4,
  "nbformat_minor": 5,
  "metadata": {
    "kernelspec": {
      "display_name": "Python 3",
      "language": "python",
      "name": "python3"
    },
    "language_info": {
      "codemirror_mode": {
        "name": "ipython",
        "version": 3
      },
      "file_extension": ".py",
      "mimetype": "text/x-python",
      "name": "python",
      "nbconvert_exporter": "python",
      "pygments_lexer": "ipython3",
      "version": "3.8.8"
    },
    "colab": {
      "name": "Avaliacao_QADS_pandas+.ipynb",
      "provenance": [],
      "collapsed_sections": [
        "Lk02BmciwWF9",
        "O_aakwZKwV_9",
        "on0ZP9yhwV8D",
        "g0k5MaKrwp6A",
        "wGSc7wrywp2k",
        "CHIb-EjwwpzF",
        "0A8piDdcwpvk",
        "tJulkaACw1ux",
        "oyNnm45VEtBi",
        "dq6dPLXEFCux",
        "Uh4nv6MmFa2d",
        "97a8113a"
      ]
    }
  },
  "cells": [
    {
      "cell_type": "markdown",
      "metadata": {
        "id": "WbdKke5GwS9C"
      },
      "source": [
        "# Avaliação"
      ],
      "id": "WbdKke5GwS9C"
    },
    {
      "cell_type": "markdown",
      "metadata": {
        "id": "Lk02BmciwWF9"
      },
      "source": [
        "#### 1. Crie uma função que recebe uma lista e retorna o valor máximo e mínimo da lista (não utilize a função max() e min())."
      ],
      "id": "Lk02BmciwWF9"
    },
    {
      "cell_type": "code",
      "metadata": {
        "colab": {
          "base_uri": "https://localhost:8080/"
        },
        "id": "xb8Xwnxow8f1",
        "outputId": "3c43eacd-3983-4ffb-b9ae-07d7260d370f"
      },
      "source": [
        "def F_min_max(lista):\n",
        "  Min=Max=lista[0];\n",
        "  for el in lista:\n",
        "    if el < Min: Min=el\n",
        "    if el > Max: Max=el\n",
        "  return [Min,Max]\n",
        "\n",
        "L=[1,0.1,2,3,5,6,9.9,1e-4]\n",
        "min_list, max_list = F_min_max(L)\n",
        "print(f'Min = {min_list}\\nMax = {max_list}')"
      ],
      "id": "xb8Xwnxow8f1",
      "execution_count": null,
      "outputs": [
        {
          "output_type": "stream",
          "text": [
            "Min = 0.0001\n",
            "Max = 9.9\n"
          ],
          "name": "stdout"
        }
      ]
    },
    {
      "cell_type": "markdown",
      "metadata": {
        "id": "O_aakwZKwV_9"
      },
      "source": [
        "#### 2. Crie uma função que recebe dois parâmetros (início e fim) e retorna uma lista com todos os valores pares entre ínicio e fim."
      ],
      "id": "O_aakwZKwV_9"
    },
    {
      "cell_type": "code",
      "metadata": {
        "colab": {
          "base_uri": "https://localhost:8080/"
        },
        "id": "FkVGnILGxQhm",
        "outputId": "f046716e-8233-411b-d7e0-54875b72ce68"
      },
      "source": [
        "#Solução 1:\n",
        "def F(ini, fim):\n",
        "  if fim >= ini:\n",
        "    pares=[]\n",
        "    for i in range(ini,fim+1):\n",
        "      if i%2==0:\n",
        "        pares.append(i)\n",
        "    return pares\n",
        "\n",
        "print(F(1,33))"
      ],
      "id": "FkVGnILGxQhm",
      "execution_count": null,
      "outputs": [
        {
          "output_type": "stream",
          "text": [
            "[2, 4, 6, 8, 10, 12, 14, 16, 18, 20, 22, 24, 26, 28, 30, 32]\n"
          ],
          "name": "stdout"
        }
      ]
    },
    {
      "cell_type": "code",
      "metadata": {
        "colab": {
          "base_uri": "https://localhost:8080/"
        },
        "id": "1TQCvPNnxQeN",
        "outputId": "fbe6340c-479c-4488-8407-03a7e72da879"
      },
      "source": [
        "#Solução 2:\n",
        "def F2(ini, fim):\n",
        "  if fim >= ini:\n",
        "    pares=[i for i in range(ini,fim+1) if i%2==0]\n",
        "    return pares\n",
        "\n",
        "print(F2(-4,44))"
      ],
      "id": "1TQCvPNnxQeN",
      "execution_count": null,
      "outputs": [
        {
          "output_type": "stream",
          "text": [
            "[-4, -2, 0, 2, 4, 6, 8, 10, 12, 14, 16, 18, 20, 22, 24, 26, 28, 30, 32, 34, 36, 38, 40, 42, 44]\n"
          ],
          "name": "stdout"
        }
      ]
    },
    {
      "cell_type": "code",
      "metadata": {
        "colab": {
          "base_uri": "https://localhost:8080/"
        },
        "id": "jqqt0Y0W0o4k",
        "outputId": "791c9bf4-d1f9-4fcf-ce12-4924b1910768"
      },
      "source": [
        "print(F2(4,4))"
      ],
      "id": "jqqt0Y0W0o4k",
      "execution_count": null,
      "outputs": [
        {
          "output_type": "stream",
          "text": [
            "[4]\n"
          ],
          "name": "stdout"
        }
      ]
    },
    {
      "cell_type": "code",
      "metadata": {
        "colab": {
          "base_uri": "https://localhost:8080/"
        },
        "id": "JHVTDE-l1E_v",
        "outputId": "4378df66-ef8b-418f-8a60-bd2879ab6914"
      },
      "source": [
        "#Solução 3:\n",
        "def F3(v1, v2):\n",
        "  L=[v1,v2]\n",
        "  return [i for i in range(min(L),max(L)+1) if i%2==0]\n",
        "\n",
        "print(F3(-4,-20))"
      ],
      "id": "JHVTDE-l1E_v",
      "execution_count": null,
      "outputs": [
        {
          "output_type": "stream",
          "text": [
            "[-20, -18, -16, -14, -12, -10, -8, -6, -4]\n"
          ],
          "name": "stdout"
        }
      ]
    },
    {
      "cell_type": "markdown",
      "metadata": {
        "id": "on0ZP9yhwV8D"
      },
      "source": [
        "#### 3. Acesse a nota de matemática em dc3 e altere para 3."
      ],
      "id": "on0ZP9yhwV8D"
    },
    {
      "cell_type": "code",
      "metadata": {
        "colab": {
          "base_uri": "https://localhost:8080/"
        },
        "id": "7mx3Y1MGlU-S",
        "outputId": "cba1416d-7f91-402c-8aa5-9ca38d037e0d"
      },
      "source": [
        "dc3 = { \n",
        "        \"turma\":{ \n",
        "            \"aluno\":{ \n",
        "              \"nome\":\"Joao\",\n",
        "              \"notas\":{ \n",
        "                  \"português\":2,\n",
        "                  \"matemática\":9\n",
        "              }\n",
        "            }\n",
        "        }\n",
        "      }\n",
        "\n",
        "dc3"
      ],
      "id": "7mx3Y1MGlU-S",
      "execution_count": null,
      "outputs": [
        {
          "output_type": "execute_result",
          "data": {
            "text/plain": [
              "{'turma': {'aluno': {'nome': 'Joao',\n",
              "   'notas': {'matemática': 9, 'português': 2}}}}"
            ]
          },
          "metadata": {
            "tags": []
          },
          "execution_count": 6
        }
      ]
    },
    {
      "cell_type": "code",
      "metadata": {
        "colab": {
          "base_uri": "https://localhost:8080/"
        },
        "id": "pv-QvcfblU7R",
        "outputId": "66140661-af7d-495c-c9ad-49b538945d51"
      },
      "source": [
        "dc3['turma']['aluno']['notas']['matemática'] = 3\n",
        "print( dc3['turma']['aluno']['notas']['matemática'] )\n",
        "print( dc3 )"
      ],
      "id": "pv-QvcfblU7R",
      "execution_count": null,
      "outputs": [
        {
          "output_type": "stream",
          "text": [
            "3\n",
            "{'turma': {'aluno': {'nome': 'Joao', 'notas': {'português': 2, 'matemática': 3}}}}\n"
          ],
          "name": "stdout"
        }
      ]
    },
    {
      "cell_type": "markdown",
      "metadata": {
        "id": "bzYPHWcawV4v"
      },
      "source": [
        "### Para as questões 4 a 8 utilize o dataset 'water_potability.csv'. O dataset descreve características de uma amostra de água e na coluna 'potability' descreve se a água é ou não própria para consumo humano. Para iniciar a resolução das questões abaixo drope a coluna 'Unnamed: 0'."
      ],
      "id": "bzYPHWcawV4v"
    },
    {
      "cell_type": "code",
      "metadata": {
        "id": "88Ja4MCrw7Dm"
      },
      "source": [
        "import pandas as pd\n",
        "import seaborn as sns\n",
        "import matplotlib.pyplot as plt\n",
        "\n",
        "from IPython.display import display\n",
        "from google.colab import files"
      ],
      "id": "88Ja4MCrw7Dm",
      "execution_count": null,
      "outputs": []
    },
    {
      "cell_type": "code",
      "metadata": {
        "id": "ZHPVR1kdYvg7"
      },
      "source": [
        "file_csv='water_potability.csv'"
      ],
      "id": "ZHPVR1kdYvg7",
      "execution_count": null,
      "outputs": []
    },
    {
      "cell_type": "code",
      "metadata": {
        "colab": {
          "resources": {
            "http://localhost:8080/nbextensions/google.colab/files.js": {
              "data": "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",
              "ok": true,
              "headers": [
                [
                  "content-type",
                  "application/javascript"
                ]
              ],
              "status": 200,
              "status_text": ""
            }
          },
          "base_uri": "https://localhost:8080/",
          "height": 73
        },
        "id": "Aq7ltBZRw7AQ",
        "outputId": "5e07ee40-a543-4987-99b4-abcb8f0a1eeb"
      },
      "source": [
        "#Importar dataset #Método 1:\n",
        "uploaded = files.upload()"
      ],
      "id": "Aq7ltBZRw7AQ",
      "execution_count": null,
      "outputs": [
        {
          "output_type": "display_data",
          "data": {
            "text/html": [
              "\n",
              "     <input type=\"file\" id=\"files-6bf3eff9-e8cb-43ef-9c36-9b8968449078\" name=\"files[]\" multiple disabled\n",
              "        style=\"border:none\" />\n",
              "     <output id=\"result-6bf3eff9-e8cb-43ef-9c36-9b8968449078\">\n",
              "      Upload widget is only available when the cell has been executed in the\n",
              "      current browser session. Please rerun this cell to enable.\n",
              "      </output>\n",
              "      <script src=\"/nbextensions/google.colab/files.js\"></script> "
            ],
            "text/plain": [
              "<IPython.core.display.HTML object>"
            ]
          },
          "metadata": {
            "tags": []
          }
        },
        {
          "output_type": "stream",
          "text": [
            "Saving water_potability.csv to water_potability (1).csv\n"
          ],
          "name": "stdout"
        }
      ]
    },
    {
      "cell_type": "code",
      "metadata": {
        "colab": {
          "base_uri": "https://localhost:8080/"
        },
        "id": "IaQ2mMJ-WcmA",
        "outputId": "f28e9093-b0b0-4893-dd99-0677e90ff933"
      },
      "source": [
        "#Importar dataset #Método 2:\n",
        "import os\n",
        "import urllib.request\n",
        "\n",
        "id='https://drive.google.com/file/d/1ArgzI9H-DH9shlVlBN25X6enhD2pMuGt/'.split('/')[-2]\n",
        "url='https://drive.google.com/uc?id='+id+'&export=download'\n",
        "print(url)\n",
        "\n",
        "if not os.path.exists(file_csv):\n",
        "  File = urllib.request.urlretrieve(url, file_csv)"
      ],
      "id": "IaQ2mMJ-WcmA",
      "execution_count": null,
      "outputs": [
        {
          "output_type": "stream",
          "text": [
            "https://drive.google.com/uc?id=1ArgzI9H-DH9shlVlBN25X6enhD2pMuGt&export=download\n"
          ],
          "name": "stdout"
        }
      ]
    },
    {
      "cell_type": "code",
      "metadata": {
        "colab": {
          "base_uri": "https://localhost:8080/",
          "height": 960
        },
        "id": "WhypQ_6u60NN",
        "outputId": "0cc393cc-e192-49fe-a7a1-8103a85d8f1d"
      },
      "source": [
        "df = pd.read_csv(file_csv, sep=';', index_col=0)\n",
        "#df = pd.read_csv(file_csv, sep=';'); df.drop(columns='Unnamed: 0', inplace=True)\n",
        "\n",
        "df"
      ],
      "id": "WhypQ_6u60NN",
      "execution_count": null,
      "outputs": [
        {
          "output_type": "execute_result",
          "data": {
            "text/html": [
              "<div>\n",
              "<style scoped>\n",
              "    .dataframe tbody tr th:only-of-type {\n",
              "        vertical-align: middle;\n",
              "    }\n",
              "\n",
              "    .dataframe tbody tr th {\n",
              "        vertical-align: top;\n",
              "    }\n",
              "\n",
              "    .dataframe thead th {\n",
              "        text-align: right;\n",
              "    }\n",
              "</style>\n",
              "<table border=\"1\" class=\"dataframe\">\n",
              "  <thead>\n",
              "    <tr style=\"text-align: right;\">\n",
              "      <th></th>\n",
              "      <th>ph</th>\n",
              "      <th>Hardness</th>\n",
              "      <th>Solids</th>\n",
              "      <th>Chloramines</th>\n",
              "      <th>Sulfate</th>\n",
              "      <th>Conductivity</th>\n",
              "      <th>Organic_carbon</th>\n",
              "      <th>Trihalomethanes</th>\n",
              "      <th>Turbidity</th>\n",
              "      <th>Potability</th>\n",
              "      <th>state</th>\n",
              "      <th>sample_id</th>\n",
              "    </tr>\n",
              "  </thead>\n",
              "  <tbody>\n",
              "    <tr>\n",
              "      <th>0</th>\n",
              "      <td>NaN</td>\n",
              "      <td>204.890455</td>\n",
              "      <td>20791.318981</td>\n",
              "      <td>7.300212</td>\n",
              "      <td>368.516441</td>\n",
              "      <td>564.308654</td>\n",
              "      <td>10.379783</td>\n",
              "      <td>86.990970</td>\n",
              "      <td>2.963135</td>\n",
              "      <td>0</td>\n",
              "      <td>Pennsylvania</td>\n",
              "      <td>4b4962b9-fed5-492e-9d28-50d954937c3f</td>\n",
              "    </tr>\n",
              "    <tr>\n",
              "      <th>1</th>\n",
              "      <td>3.716080</td>\n",
              "      <td>129.422921</td>\n",
              "      <td>18630.057858</td>\n",
              "      <td>6.635246</td>\n",
              "      <td>NaN</td>\n",
              "      <td>592.885359</td>\n",
              "      <td>15.180013</td>\n",
              "      <td>56.329076</td>\n",
              "      <td>4.500656</td>\n",
              "      <td>0</td>\n",
              "      <td>Iowa</td>\n",
              "      <td>f1099b93-9195-4bd5-90b7-f0c191a74619</td>\n",
              "    </tr>\n",
              "    <tr>\n",
              "      <th>2</th>\n",
              "      <td>8.099124</td>\n",
              "      <td>224.236259</td>\n",
              "      <td>19909.541732</td>\n",
              "      <td>9.275884</td>\n",
              "      <td>NaN</td>\n",
              "      <td>418.606213</td>\n",
              "      <td>16.868637</td>\n",
              "      <td>66.420093</td>\n",
              "      <td>3.055934</td>\n",
              "      <td>0</td>\n",
              "      <td>Wisconsin</td>\n",
              "      <td>5bc660ce-c94c-4631-b69b-b937be4ab7bb</td>\n",
              "    </tr>\n",
              "    <tr>\n",
              "      <th>3</th>\n",
              "      <td>8.316766</td>\n",
              "      <td>214.373394</td>\n",
              "      <td>22018.417441</td>\n",
              "      <td>8.059332</td>\n",
              "      <td>356.886136</td>\n",
              "      <td>363.266516</td>\n",
              "      <td>18.436524</td>\n",
              "      <td>100.341674</td>\n",
              "      <td>4.628771</td>\n",
              "      <td>0</td>\n",
              "      <td>Maryland</td>\n",
              "      <td>fa912705-9dc8-4224-b5f8-f315f31070a6</td>\n",
              "    </tr>\n",
              "    <tr>\n",
              "      <th>4</th>\n",
              "      <td>9.092223</td>\n",
              "      <td>181.101509</td>\n",
              "      <td>17978.986339</td>\n",
              "      <td>6.546600</td>\n",
              "      <td>310.135738</td>\n",
              "      <td>398.410813</td>\n",
              "      <td>11.558279</td>\n",
              "      <td>31.997993</td>\n",
              "      <td>4.075075</td>\n",
              "      <td>0</td>\n",
              "      <td>Delaware</td>\n",
              "      <td>1761ae51-da0d-40af-bb86-50819ac3d1bc</td>\n",
              "    </tr>\n",
              "    <tr>\n",
              "      <th>...</th>\n",
              "      <td>...</td>\n",
              "      <td>...</td>\n",
              "      <td>...</td>\n",
              "      <td>...</td>\n",
              "      <td>...</td>\n",
              "      <td>...</td>\n",
              "      <td>...</td>\n",
              "      <td>...</td>\n",
              "      <td>...</td>\n",
              "      <td>...</td>\n",
              "      <td>...</td>\n",
              "      <td>...</td>\n",
              "    </tr>\n",
              "    <tr>\n",
              "      <th>3271</th>\n",
              "      <td>4.668102</td>\n",
              "      <td>193.681735</td>\n",
              "      <td>47580.991603</td>\n",
              "      <td>7.166639</td>\n",
              "      <td>359.948574</td>\n",
              "      <td>526.424171</td>\n",
              "      <td>13.894419</td>\n",
              "      <td>66.687695</td>\n",
              "      <td>4.435821</td>\n",
              "      <td>1</td>\n",
              "      <td>Washington</td>\n",
              "      <td>29150e92-6819-4b9d-b6d2-5e077c8051a1</td>\n",
              "    </tr>\n",
              "    <tr>\n",
              "      <th>3272</th>\n",
              "      <td>7.808856</td>\n",
              "      <td>193.553212</td>\n",
              "      <td>17329.802160</td>\n",
              "      <td>8.061362</td>\n",
              "      <td>NaN</td>\n",
              "      <td>392.449580</td>\n",
              "      <td>19.903225</td>\n",
              "      <td>NaN</td>\n",
              "      <td>2.798243</td>\n",
              "      <td>1</td>\n",
              "      <td>Pennsylvania</td>\n",
              "      <td>f8466dac-e9f0-479d-83f9-11d61d586ee2</td>\n",
              "    </tr>\n",
              "    <tr>\n",
              "      <th>3273</th>\n",
              "      <td>9.419510</td>\n",
              "      <td>175.762646</td>\n",
              "      <td>33155.578218</td>\n",
              "      <td>7.350233</td>\n",
              "      <td>NaN</td>\n",
              "      <td>432.044783</td>\n",
              "      <td>11.039070</td>\n",
              "      <td>69.845400</td>\n",
              "      <td>3.298875</td>\n",
              "      <td>1</td>\n",
              "      <td>New Jersey</td>\n",
              "      <td>1e9abc9e-d805-42e5-b68b-3b3b7df6afd3</td>\n",
              "    </tr>\n",
              "    <tr>\n",
              "      <th>3274</th>\n",
              "      <td>5.126763</td>\n",
              "      <td>230.603758</td>\n",
              "      <td>11983.869376</td>\n",
              "      <td>6.303357</td>\n",
              "      <td>NaN</td>\n",
              "      <td>402.883113</td>\n",
              "      <td>11.168946</td>\n",
              "      <td>77.488213</td>\n",
              "      <td>4.708658</td>\n",
              "      <td>1</td>\n",
              "      <td>Texas</td>\n",
              "      <td>29229715-229f-4dda-a650-1b9741504d79</td>\n",
              "    </tr>\n",
              "    <tr>\n",
              "      <th>3275</th>\n",
              "      <td>7.874671</td>\n",
              "      <td>195.102299</td>\n",
              "      <td>17404.177061</td>\n",
              "      <td>7.509306</td>\n",
              "      <td>NaN</td>\n",
              "      <td>327.459760</td>\n",
              "      <td>16.140368</td>\n",
              "      <td>78.698446</td>\n",
              "      <td>2.309149</td>\n",
              "      <td>1</td>\n",
              "      <td>Arizona</td>\n",
              "      <td>65330756-59b6-43c1-a7e5-9cb0d86f1a6e</td>\n",
              "    </tr>\n",
              "  </tbody>\n",
              "</table>\n",
              "<p>3276 rows × 12 columns</p>\n",
              "</div>"
            ],
            "text/plain": [
              "            ph    Hardness  ...         state                             sample_id\n",
              "0          NaN  204.890455  ...  Pennsylvania  4b4962b9-fed5-492e-9d28-50d954937c3f\n",
              "1     3.716080  129.422921  ...          Iowa  f1099b93-9195-4bd5-90b7-f0c191a74619\n",
              "2     8.099124  224.236259  ...     Wisconsin  5bc660ce-c94c-4631-b69b-b937be4ab7bb\n",
              "3     8.316766  214.373394  ...      Maryland  fa912705-9dc8-4224-b5f8-f315f31070a6\n",
              "4     9.092223  181.101509  ...      Delaware  1761ae51-da0d-40af-bb86-50819ac3d1bc\n",
              "...        ...         ...  ...           ...                                   ...\n",
              "3271  4.668102  193.681735  ...    Washington  29150e92-6819-4b9d-b6d2-5e077c8051a1\n",
              "3272  7.808856  193.553212  ...  Pennsylvania  f8466dac-e9f0-479d-83f9-11d61d586ee2\n",
              "3273  9.419510  175.762646  ...    New Jersey  1e9abc9e-d805-42e5-b68b-3b3b7df6afd3\n",
              "3274  5.126763  230.603758  ...         Texas  29229715-229f-4dda-a650-1b9741504d79\n",
              "3275  7.874671  195.102299  ...       Arizona  65330756-59b6-43c1-a7e5-9cb0d86f1a6e\n",
              "\n",
              "[3276 rows x 12 columns]"
            ]
          },
          "metadata": {
            "tags": []
          },
          "execution_count": 4
        }
      ]
    },
    {
      "cell_type": "code",
      "metadata": {
        "colab": {
          "base_uri": "https://localhost:8080/"
        },
        "id": "aaphh0rI60RH",
        "outputId": "ceb86218-5f87-467e-bce7-6676011a426a"
      },
      "source": [
        "df.info()"
      ],
      "id": "aaphh0rI60RH",
      "execution_count": null,
      "outputs": [
        {
          "output_type": "stream",
          "text": [
            "<class 'pandas.core.frame.DataFrame'>\n",
            "Int64Index: 3276 entries, 0 to 3275\n",
            "Data columns (total 12 columns):\n",
            " #   Column           Non-Null Count  Dtype  \n",
            "---  ------           --------------  -----  \n",
            " 0   ph               2785 non-null   float64\n",
            " 1   Hardness         3276 non-null   float64\n",
            " 2   Solids           3276 non-null   float64\n",
            " 3   Chloramines      3276 non-null   float64\n",
            " 4   Sulfate          2495 non-null   float64\n",
            " 5   Conductivity     3276 non-null   float64\n",
            " 6   Organic_carbon   3276 non-null   float64\n",
            " 7   Trihalomethanes  3114 non-null   float64\n",
            " 8   Turbidity        3276 non-null   float64\n",
            " 9   Potability       3276 non-null   int64  \n",
            " 10  state            3276 non-null   object \n",
            " 11  sample_id        3276 non-null   object \n",
            "dtypes: float64(9), int64(1), object(2)\n",
            "memory usage: 332.7+ KB\n"
          ],
          "name": "stdout"
        }
      ]
    },
    {
      "cell_type": "code",
      "metadata": {
        "colab": {
          "base_uri": "https://localhost:8080/",
          "height": 319
        },
        "id": "jmXSCffY8V9L",
        "outputId": "4dba43bb-33b8-4d23-e7fe-7221ed941d1c"
      },
      "source": [
        "df.describe()"
      ],
      "id": "jmXSCffY8V9L",
      "execution_count": null,
      "outputs": [
        {
          "output_type": "execute_result",
          "data": {
            "text/html": [
              "<div>\n",
              "<style scoped>\n",
              "    .dataframe tbody tr th:only-of-type {\n",
              "        vertical-align: middle;\n",
              "    }\n",
              "\n",
              "    .dataframe tbody tr th {\n",
              "        vertical-align: top;\n",
              "    }\n",
              "\n",
              "    .dataframe thead th {\n",
              "        text-align: right;\n",
              "    }\n",
              "</style>\n",
              "<table border=\"1\" class=\"dataframe\">\n",
              "  <thead>\n",
              "    <tr style=\"text-align: right;\">\n",
              "      <th></th>\n",
              "      <th>ph</th>\n",
              "      <th>Hardness</th>\n",
              "      <th>Solids</th>\n",
              "      <th>Chloramines</th>\n",
              "      <th>Sulfate</th>\n",
              "      <th>Conductivity</th>\n",
              "      <th>Organic_carbon</th>\n",
              "      <th>Trihalomethanes</th>\n",
              "      <th>Turbidity</th>\n",
              "      <th>Potability</th>\n",
              "    </tr>\n",
              "  </thead>\n",
              "  <tbody>\n",
              "    <tr>\n",
              "      <th>count</th>\n",
              "      <td>2785.000000</td>\n",
              "      <td>3276.000000</td>\n",
              "      <td>3276.000000</td>\n",
              "      <td>3276.000000</td>\n",
              "      <td>2495.000000</td>\n",
              "      <td>3276.000000</td>\n",
              "      <td>3276.000000</td>\n",
              "      <td>3114.000000</td>\n",
              "      <td>3276.000000</td>\n",
              "      <td>3276.000000</td>\n",
              "    </tr>\n",
              "    <tr>\n",
              "      <th>mean</th>\n",
              "      <td>7.080795</td>\n",
              "      <td>196.369496</td>\n",
              "      <td>22014.092526</td>\n",
              "      <td>7.122277</td>\n",
              "      <td>333.775777</td>\n",
              "      <td>426.205111</td>\n",
              "      <td>14.284970</td>\n",
              "      <td>66.396293</td>\n",
              "      <td>3.966786</td>\n",
              "      <td>0.390110</td>\n",
              "    </tr>\n",
              "    <tr>\n",
              "      <th>std</th>\n",
              "      <td>1.594320</td>\n",
              "      <td>32.879761</td>\n",
              "      <td>8768.570828</td>\n",
              "      <td>1.583085</td>\n",
              "      <td>41.416840</td>\n",
              "      <td>80.824064</td>\n",
              "      <td>3.308162</td>\n",
              "      <td>16.175008</td>\n",
              "      <td>0.780382</td>\n",
              "      <td>0.487849</td>\n",
              "    </tr>\n",
              "    <tr>\n",
              "      <th>min</th>\n",
              "      <td>0.000000</td>\n",
              "      <td>47.432000</td>\n",
              "      <td>320.942611</td>\n",
              "      <td>0.352000</td>\n",
              "      <td>129.000000</td>\n",
              "      <td>181.483754</td>\n",
              "      <td>2.200000</td>\n",
              "      <td>0.738000</td>\n",
              "      <td>1.450000</td>\n",
              "      <td>0.000000</td>\n",
              "    </tr>\n",
              "    <tr>\n",
              "      <th>25%</th>\n",
              "      <td>6.093092</td>\n",
              "      <td>176.850538</td>\n",
              "      <td>15666.690297</td>\n",
              "      <td>6.127421</td>\n",
              "      <td>307.699498</td>\n",
              "      <td>365.734414</td>\n",
              "      <td>12.065801</td>\n",
              "      <td>55.844536</td>\n",
              "      <td>3.439711</td>\n",
              "      <td>0.000000</td>\n",
              "    </tr>\n",
              "    <tr>\n",
              "      <th>50%</th>\n",
              "      <td>7.036752</td>\n",
              "      <td>196.967627</td>\n",
              "      <td>20927.833607</td>\n",
              "      <td>7.130299</td>\n",
              "      <td>333.073546</td>\n",
              "      <td>421.884968</td>\n",
              "      <td>14.218338</td>\n",
              "      <td>66.622485</td>\n",
              "      <td>3.955028</td>\n",
              "      <td>0.000000</td>\n",
              "    </tr>\n",
              "    <tr>\n",
              "      <th>75%</th>\n",
              "      <td>8.062066</td>\n",
              "      <td>216.667456</td>\n",
              "      <td>27332.762127</td>\n",
              "      <td>8.114887</td>\n",
              "      <td>359.950170</td>\n",
              "      <td>481.792304</td>\n",
              "      <td>16.557652</td>\n",
              "      <td>77.337473</td>\n",
              "      <td>4.500320</td>\n",
              "      <td>1.000000</td>\n",
              "    </tr>\n",
              "    <tr>\n",
              "      <th>max</th>\n",
              "      <td>14.000000</td>\n",
              "      <td>323.124000</td>\n",
              "      <td>61227.196008</td>\n",
              "      <td>13.127000</td>\n",
              "      <td>481.030642</td>\n",
              "      <td>753.342620</td>\n",
              "      <td>28.300000</td>\n",
              "      <td>124.000000</td>\n",
              "      <td>6.739000</td>\n",
              "      <td>1.000000</td>\n",
              "    </tr>\n",
              "  </tbody>\n",
              "</table>\n",
              "</div>"
            ],
            "text/plain": [
              "                ph     Hardness  ...    Turbidity   Potability\n",
              "count  2785.000000  3276.000000  ...  3276.000000  3276.000000\n",
              "mean      7.080795   196.369496  ...     3.966786     0.390110\n",
              "std       1.594320    32.879761  ...     0.780382     0.487849\n",
              "min       0.000000    47.432000  ...     1.450000     0.000000\n",
              "25%       6.093092   176.850538  ...     3.439711     0.000000\n",
              "50%       7.036752   196.967627  ...     3.955028     0.000000\n",
              "75%       8.062066   216.667456  ...     4.500320     1.000000\n",
              "max      14.000000   323.124000  ...     6.739000     1.000000\n",
              "\n",
              "[8 rows x 10 columns]"
            ]
          },
          "metadata": {
            "tags": []
          },
          "execution_count": 14
        }
      ]
    },
    {
      "cell_type": "code",
      "metadata": {
        "colab": {
          "base_uri": "https://localhost:8080/",
          "height": 175
        },
        "id": "7ItwvXVL8WAb",
        "outputId": "e8caef50-4bc5-4b51-f4d8-724a838d73bc"
      },
      "source": [
        "df.describe(include='O')"
      ],
      "id": "7ItwvXVL8WAb",
      "execution_count": null,
      "outputs": [
        {
          "output_type": "execute_result",
          "data": {
            "text/html": [
              "<div>\n",
              "<style scoped>\n",
              "    .dataframe tbody tr th:only-of-type {\n",
              "        vertical-align: middle;\n",
              "    }\n",
              "\n",
              "    .dataframe tbody tr th {\n",
              "        vertical-align: top;\n",
              "    }\n",
              "\n",
              "    .dataframe thead th {\n",
              "        text-align: right;\n",
              "    }\n",
              "</style>\n",
              "<table border=\"1\" class=\"dataframe\">\n",
              "  <thead>\n",
              "    <tr style=\"text-align: right;\">\n",
              "      <th></th>\n",
              "      <th>state</th>\n",
              "      <th>sample_id</th>\n",
              "    </tr>\n",
              "  </thead>\n",
              "  <tbody>\n",
              "    <tr>\n",
              "      <th>count</th>\n",
              "      <td>3276</td>\n",
              "      <td>3276</td>\n",
              "    </tr>\n",
              "    <tr>\n",
              "      <th>unique</th>\n",
              "      <td>50</td>\n",
              "      <td>3276</td>\n",
              "    </tr>\n",
              "    <tr>\n",
              "      <th>top</th>\n",
              "      <td>Kentucky</td>\n",
              "      <td>7d29ec06-b975-44b2-b623-d7d9d3a56ec0</td>\n",
              "    </tr>\n",
              "    <tr>\n",
              "      <th>freq</th>\n",
              "      <td>78</td>\n",
              "      <td>1</td>\n",
              "    </tr>\n",
              "  </tbody>\n",
              "</table>\n",
              "</div>"
            ],
            "text/plain": [
              "           state                             sample_id\n",
              "count       3276                                  3276\n",
              "unique        50                                  3276\n",
              "top     Kentucky  7d29ec06-b975-44b2-b623-d7d9d3a56ec0\n",
              "freq          78                                     1"
            ]
          },
          "metadata": {
            "tags": []
          },
          "execution_count": 15
        }
      ]
    },
    {
      "cell_type": "markdown",
      "metadata": {
        "id": "g0k5MaKrwp6A"
      },
      "source": [
        "#### 4. Demonstre a correlação entre todas as colunas do dataset. Qual é a coluna com maior correlação positiva com 'Potability'? Desconsidere a correlação com ela mesma (valor 1.0)."
      ],
      "id": "g0k5MaKrwp6A"
    },
    {
      "cell_type": "code",
      "metadata": {
        "colab": {
          "base_uri": "https://localhost:8080/",
          "height": 362
        },
        "id": "-grt1lKsw6i1",
        "outputId": "ed709953-4c3b-4ace-9e25-30449f73a67f"
      },
      "source": [
        "df.corr()"
      ],
      "id": "-grt1lKsw6i1",
      "execution_count": null,
      "outputs": [
        {
          "output_type": "execute_result",
          "data": {
            "text/html": [
              "<div>\n",
              "<style scoped>\n",
              "    .dataframe tbody tr th:only-of-type {\n",
              "        vertical-align: middle;\n",
              "    }\n",
              "\n",
              "    .dataframe tbody tr th {\n",
              "        vertical-align: top;\n",
              "    }\n",
              "\n",
              "    .dataframe thead th {\n",
              "        text-align: right;\n",
              "    }\n",
              "</style>\n",
              "<table border=\"1\" class=\"dataframe\">\n",
              "  <thead>\n",
              "    <tr style=\"text-align: right;\">\n",
              "      <th></th>\n",
              "      <th>ph</th>\n",
              "      <th>Hardness</th>\n",
              "      <th>Solids</th>\n",
              "      <th>Chloramines</th>\n",
              "      <th>Sulfate</th>\n",
              "      <th>Conductivity</th>\n",
              "      <th>Organic_carbon</th>\n",
              "      <th>Trihalomethanes</th>\n",
              "      <th>Turbidity</th>\n",
              "      <th>Potability</th>\n",
              "    </tr>\n",
              "  </thead>\n",
              "  <tbody>\n",
              "    <tr>\n",
              "      <th>ph</th>\n",
              "      <td>1.000000</td>\n",
              "      <td>0.082096</td>\n",
              "      <td>-0.089288</td>\n",
              "      <td>-0.034350</td>\n",
              "      <td>0.018203</td>\n",
              "      <td>0.018614</td>\n",
              "      <td>0.043503</td>\n",
              "      <td>0.003354</td>\n",
              "      <td>-0.039057</td>\n",
              "      <td>-0.003556</td>\n",
              "    </tr>\n",
              "    <tr>\n",
              "      <th>Hardness</th>\n",
              "      <td>0.082096</td>\n",
              "      <td>1.000000</td>\n",
              "      <td>-0.046899</td>\n",
              "      <td>-0.030054</td>\n",
              "      <td>-0.106923</td>\n",
              "      <td>-0.023915</td>\n",
              "      <td>0.003610</td>\n",
              "      <td>-0.013013</td>\n",
              "      <td>-0.014449</td>\n",
              "      <td>-0.013837</td>\n",
              "    </tr>\n",
              "    <tr>\n",
              "      <th>Solids</th>\n",
              "      <td>-0.089288</td>\n",
              "      <td>-0.046899</td>\n",
              "      <td>1.000000</td>\n",
              "      <td>-0.070148</td>\n",
              "      <td>-0.171804</td>\n",
              "      <td>0.013831</td>\n",
              "      <td>0.010242</td>\n",
              "      <td>-0.009143</td>\n",
              "      <td>0.019546</td>\n",
              "      <td>0.033743</td>\n",
              "    </tr>\n",
              "    <tr>\n",
              "      <th>Chloramines</th>\n",
              "      <td>-0.034350</td>\n",
              "      <td>-0.030054</td>\n",
              "      <td>-0.070148</td>\n",
              "      <td>1.000000</td>\n",
              "      <td>0.027244</td>\n",
              "      <td>-0.020486</td>\n",
              "      <td>-0.012653</td>\n",
              "      <td>0.017084</td>\n",
              "      <td>0.002363</td>\n",
              "      <td>0.023779</td>\n",
              "    </tr>\n",
              "    <tr>\n",
              "      <th>Sulfate</th>\n",
              "      <td>0.018203</td>\n",
              "      <td>-0.106923</td>\n",
              "      <td>-0.171804</td>\n",
              "      <td>0.027244</td>\n",
              "      <td>1.000000</td>\n",
              "      <td>-0.016121</td>\n",
              "      <td>0.030831</td>\n",
              "      <td>-0.030274</td>\n",
              "      <td>-0.011187</td>\n",
              "      <td>-0.023577</td>\n",
              "    </tr>\n",
              "    <tr>\n",
              "      <th>Conductivity</th>\n",
              "      <td>0.018614</td>\n",
              "      <td>-0.023915</td>\n",
              "      <td>0.013831</td>\n",
              "      <td>-0.020486</td>\n",
              "      <td>-0.016121</td>\n",
              "      <td>1.000000</td>\n",
              "      <td>0.020966</td>\n",
              "      <td>0.001285</td>\n",
              "      <td>0.005798</td>\n",
              "      <td>-0.008128</td>\n",
              "    </tr>\n",
              "    <tr>\n",
              "      <th>Organic_carbon</th>\n",
              "      <td>0.043503</td>\n",
              "      <td>0.003610</td>\n",
              "      <td>0.010242</td>\n",
              "      <td>-0.012653</td>\n",
              "      <td>0.030831</td>\n",
              "      <td>0.020966</td>\n",
              "      <td>1.000000</td>\n",
              "      <td>-0.013274</td>\n",
              "      <td>-0.027308</td>\n",
              "      <td>-0.030001</td>\n",
              "    </tr>\n",
              "    <tr>\n",
              "      <th>Trihalomethanes</th>\n",
              "      <td>0.003354</td>\n",
              "      <td>-0.013013</td>\n",
              "      <td>-0.009143</td>\n",
              "      <td>0.017084</td>\n",
              "      <td>-0.030274</td>\n",
              "      <td>0.001285</td>\n",
              "      <td>-0.013274</td>\n",
              "      <td>1.000000</td>\n",
              "      <td>-0.022145</td>\n",
              "      <td>0.007130</td>\n",
              "    </tr>\n",
              "    <tr>\n",
              "      <th>Turbidity</th>\n",
              "      <td>-0.039057</td>\n",
              "      <td>-0.014449</td>\n",
              "      <td>0.019546</td>\n",
              "      <td>0.002363</td>\n",
              "      <td>-0.011187</td>\n",
              "      <td>0.005798</td>\n",
              "      <td>-0.027308</td>\n",
              "      <td>-0.022145</td>\n",
              "      <td>1.000000</td>\n",
              "      <td>0.001581</td>\n",
              "    </tr>\n",
              "    <tr>\n",
              "      <th>Potability</th>\n",
              "      <td>-0.003556</td>\n",
              "      <td>-0.013837</td>\n",
              "      <td>0.033743</td>\n",
              "      <td>0.023779</td>\n",
              "      <td>-0.023577</td>\n",
              "      <td>-0.008128</td>\n",
              "      <td>-0.030001</td>\n",
              "      <td>0.007130</td>\n",
              "      <td>0.001581</td>\n",
              "      <td>1.000000</td>\n",
              "    </tr>\n",
              "  </tbody>\n",
              "</table>\n",
              "</div>"
            ],
            "text/plain": [
              "                       ph  Hardness  ...  Turbidity  Potability\n",
              "ph               1.000000  0.082096  ...  -0.039057   -0.003556\n",
              "Hardness         0.082096  1.000000  ...  -0.014449   -0.013837\n",
              "Solids          -0.089288 -0.046899  ...   0.019546    0.033743\n",
              "Chloramines     -0.034350 -0.030054  ...   0.002363    0.023779\n",
              "Sulfate          0.018203 -0.106923  ...  -0.011187   -0.023577\n",
              "Conductivity     0.018614 -0.023915  ...   0.005798   -0.008128\n",
              "Organic_carbon   0.043503  0.003610  ...  -0.027308   -0.030001\n",
              "Trihalomethanes  0.003354 -0.013013  ...  -0.022145    0.007130\n",
              "Turbidity       -0.039057 -0.014449  ...   1.000000    0.001581\n",
              "Potability      -0.003556 -0.013837  ...   0.001581    1.000000\n",
              "\n",
              "[10 rows x 10 columns]"
            ]
          },
          "metadata": {
            "tags": []
          },
          "execution_count": 16
        }
      ]
    },
    {
      "cell_type": "code",
      "metadata": {
        "colab": {
          "base_uri": "https://localhost:8080/",
          "height": 451
        },
        "id": "VeQIV5sKdW0L",
        "outputId": "08ff856b-075c-4d6d-e8db-6d07cbe85f69"
      },
      "source": [
        "plt.figure(figsize=(14,6))\n",
        "sns.heatmap(df.corr())\n",
        "plt.show()"
      ],
      "id": "VeQIV5sKdW0L",
      "execution_count": null,
      "outputs": [
        {
          "output_type": "display_data",
          "data": {
            "image/png": "[encoded data removed]",
            "text/plain": [
              "<Figure size 1008x432 with 2 Axes>"
            ]
          },
          "metadata": {
            "tags": [],
            "needs_background": "light"
          }
        }
      ]
    },
    {
      "cell_type": "code",
      "metadata": {
        "colab": {
          "base_uri": "https://localhost:8080/"
        },
        "id": "j3L5cAWSe6b-",
        "outputId": "bc9e85f9-6805-4dd7-febc-541b2a1fb375"
      },
      "source": [
        "#Correlações de todas as colunas com 'Potability', em ordem decrescente:\n",
        "df.corr().Potability.sort_values(ascending=False)"
      ],
      "id": "j3L5cAWSe6b-",
      "execution_count": null,
      "outputs": [
        {
          "output_type": "execute_result",
          "data": {
            "text/plain": [
              "Potability         1.000000\n",
              "Solids             0.033743\n",
              "Chloramines        0.023779\n",
              "Trihalomethanes    0.007130\n",
              "Turbidity          0.001581\n",
              "ph                -0.003556\n",
              "Conductivity      -0.008128\n",
              "Hardness          -0.013837\n",
              "Sulfate           -0.023577\n",
              "Organic_carbon    -0.030001\n",
              "Name: Potability, dtype: float64"
            ]
          },
          "metadata": {
            "tags": []
          },
          "execution_count": 18
        }
      ]
    },
    {
      "cell_type": "code",
      "metadata": {
        "colab": {
          "base_uri": "https://localhost:8080/"
        },
        "id": "LBfZfHkNd5Yd",
        "outputId": "4f2149d7-3100-4d4e-c6b5-ea09cfc6e074"
      },
      "source": [
        "print(\"Portanto, a coluna com maior correlação positiva com 'Potability' \", end='')\n",
        "print(f\"é '{df.corr().Potability.sort_values(ascending=False).index[1]}', \",end='')\n",
        "print(f\"com uma correlação de {df.corr().Potability.sort_values(ascending=False)[1]}.\")"
      ],
      "id": "LBfZfHkNd5Yd",
      "execution_count": null,
      "outputs": [
        {
          "output_type": "stream",
          "text": [
            "Portanto, a coluna com maior correlação positiva com 'Potability' é 'Solids', com uma correlação de 0.03374331339365047.\n"
          ],
          "name": "stdout"
        }
      ]
    },
    {
      "cell_type": "markdown",
      "metadata": {
        "id": "wGSc7wrywp2k"
      },
      "source": [
        "#### 5. Crie uma série que descreve (em porcentagem) quanto cada coluna tem de valores nulos. Qual a coluna com maior porcentagem de valores nulos?"
      ],
      "id": "wGSc7wrywp2k"
    },
    {
      "cell_type": "code",
      "metadata": {
        "colab": {
          "base_uri": "https://localhost:8080/"
        },
        "id": "2LSoKdTfw6A0",
        "outputId": "f7a47ffb-1997-4625-c550-6657b83d3822"
      },
      "source": [
        "#Verificando valores nulos:\n",
        "plt.figure(figsize=(14,6))\n",
        "sns.heatmap(df.isnull());"
      ],
      "id": "2LSoKdTfw6A0",
      "execution_count": null,
      "outputs": [
        {
          "output_type": "display_data",
          "data": {
            "image/png": "[encoded data removed]",
            "text/plain": [
              "<Figure size 1008x432 with 2 Axes>"
            ]
          },
          "metadata": {
            "tags": [],
            "needs_background": "light"
          }
        }
      ]
    },
    {
      "cell_type": "code",
      "metadata": {
        "colab": {
          "base_uri": "https://localhost:8080/"
        },
        "id": "uz-sfUpQw594",
        "outputId": "e5795d1c-f1d4-4395-a130-b9602e307b52"
      },
      "source": [
        "#Valores absolutos:\n",
        "#print( df.isnull().sum() )\n",
        "\n",
        "#Percentuais:\n",
        "p = df.isnull().sum()/df.shape[0]\n",
        "#print( p )\n",
        "\n",
        "#ou:\n",
        "\n",
        "nulos = p.to_frame()#.rename(columns={0:'P'})\n",
        "#display( p.style.format({0:'{:.2%}'}) )\n",
        "\n",
        "nulos.rename(columns={0:'Percentual'},inplace=True)\n",
        "display( nulos.sort_values(by='Percentual', ascending=False).style.format({'Percentual':'{:.2%}'}) )"
      ],
      "id": "uz-sfUpQw594",
      "execution_count": null,
      "outputs": [
        {
          "output_type": "display_data",
          "data": {
            "text/html": [
              "<style  type=\"text/css\" >\n",
              "</style><table id=\"T_eb260cce_f62a_11eb_b009_0242ac1c0002\" ><thead>    <tr>        <th class=\"blank level0\" ></th>        <th class=\"col_heading level0 col0\" >Percentual</th>    </tr></thead><tbody>\n",
              "                <tr>\n",
              "                        <th id=\"T_eb260cce_f62a_11eb_b009_0242ac1c0002level0_row0\" class=\"row_heading level0 row0\" >Sulfate</th>\n",
              "                        <td id=\"T_eb260cce_f62a_11eb_b009_0242ac1c0002row0_col0\" class=\"data row0 col0\" >23.84%</td>\n",
              "            </tr>\n",
              "            <tr>\n",
              "                        <th id=\"T_eb260cce_f62a_11eb_b009_0242ac1c0002level0_row1\" class=\"row_heading level0 row1\" >ph</th>\n",
              "                        <td id=\"T_eb260cce_f62a_11eb_b009_0242ac1c0002row1_col0\" class=\"data row1 col0\" >14.99%</td>\n",
              "            </tr>\n",
              "            <tr>\n",
              "                        <th id=\"T_eb260cce_f62a_11eb_b009_0242ac1c0002level0_row2\" class=\"row_heading level0 row2\" >Trihalomethanes</th>\n",
              "                        <td id=\"T_eb260cce_f62a_11eb_b009_0242ac1c0002row2_col0\" class=\"data row2 col0\" >4.95%</td>\n",
              "            </tr>\n",
              "            <tr>\n",
              "                        <th id=\"T_eb260cce_f62a_11eb_b009_0242ac1c0002level0_row3\" class=\"row_heading level0 row3\" >Hardness</th>\n",
              "                        <td id=\"T_eb260cce_f62a_11eb_b009_0242ac1c0002row3_col0\" class=\"data row3 col0\" >0.00%</td>\n",
              "            </tr>\n",
              "            <tr>\n",
              "                        <th id=\"T_eb260cce_f62a_11eb_b009_0242ac1c0002level0_row4\" class=\"row_heading level0 row4\" >Solids</th>\n",
              "                        <td id=\"T_eb260cce_f62a_11eb_b009_0242ac1c0002row4_col0\" class=\"data row4 col0\" >0.00%</td>\n",
              "            </tr>\n",
              "            <tr>\n",
              "                        <th id=\"T_eb260cce_f62a_11eb_b009_0242ac1c0002level0_row5\" class=\"row_heading level0 row5\" >Chloramines</th>\n",
              "                        <td id=\"T_eb260cce_f62a_11eb_b009_0242ac1c0002row5_col0\" class=\"data row5 col0\" >0.00%</td>\n",
              "            </tr>\n",
              "            <tr>\n",
              "                        <th id=\"T_eb260cce_f62a_11eb_b009_0242ac1c0002level0_row6\" class=\"row_heading level0 row6\" >Conductivity</th>\n",
              "                        <td id=\"T_eb260cce_f62a_11eb_b009_0242ac1c0002row6_col0\" class=\"data row6 col0\" >0.00%</td>\n",
              "            </tr>\n",
              "            <tr>\n",
              "                        <th id=\"T_eb260cce_f62a_11eb_b009_0242ac1c0002level0_row7\" class=\"row_heading level0 row7\" >Organic_carbon</th>\n",
              "                        <td id=\"T_eb260cce_f62a_11eb_b009_0242ac1c0002row7_col0\" class=\"data row7 col0\" >0.00%</td>\n",
              "            </tr>\n",
              "            <tr>\n",
              "                        <th id=\"T_eb260cce_f62a_11eb_b009_0242ac1c0002level0_row8\" class=\"row_heading level0 row8\" >Turbidity</th>\n",
              "                        <td id=\"T_eb260cce_f62a_11eb_b009_0242ac1c0002row8_col0\" class=\"data row8 col0\" >0.00%</td>\n",
              "            </tr>\n",
              "            <tr>\n",
              "                        <th id=\"T_eb260cce_f62a_11eb_b009_0242ac1c0002level0_row9\" class=\"row_heading level0 row9\" >Potability</th>\n",
              "                        <td id=\"T_eb260cce_f62a_11eb_b009_0242ac1c0002row9_col0\" class=\"data row9 col0\" >0.00%</td>\n",
              "            </tr>\n",
              "            <tr>\n",
              "                        <th id=\"T_eb260cce_f62a_11eb_b009_0242ac1c0002level0_row10\" class=\"row_heading level0 row10\" >state</th>\n",
              "                        <td id=\"T_eb260cce_f62a_11eb_b009_0242ac1c0002row10_col0\" class=\"data row10 col0\" >0.00%</td>\n",
              "            </tr>\n",
              "            <tr>\n",
              "                        <th id=\"T_eb260cce_f62a_11eb_b009_0242ac1c0002level0_row11\" class=\"row_heading level0 row11\" >sample_id</th>\n",
              "                        <td id=\"T_eb260cce_f62a_11eb_b009_0242ac1c0002row11_col0\" class=\"data row11 col0\" >0.00%</td>\n",
              "            </tr>\n",
              "    </tbody></table>"
            ],
            "text/plain": [
              "<pandas.io.formats.style.Styler at 0x7f94d785dfd0>"
            ]
          },
          "metadata": {
            "tags": []
          }
        }
      ]
    },
    {
      "cell_type": "code",
      "metadata": {
        "colab": {
          "base_uri": "https://localhost:8080/"
        },
        "id": "ogpvE0xgj3c0",
        "outputId": "bd7c0c03-9d6d-4dff-c315-84d96c8fb1e8"
      },
      "source": [
        "print(\"Portanto, a coluna com maior porcentagem de valores nulos \", end='')\n",
        "print(f\"é '{p.sort_values().index[-1]}', \",end='')\n",
        "print(f\"com o percentual de {100*p.sort_values()[-1]:.2f}%.\")\n",
        "\n",
        "#df.isnull().sum().max()"
      ],
      "id": "ogpvE0xgj3c0",
      "execution_count": null,
      "outputs": [
        {
          "output_type": "stream",
          "text": [
            "Portanto, a coluna com maior porcentagem de valores nulos é 'Sulfate', com o percentual de 23.84%.\n"
          ],
          "name": "stdout"
        }
      ]
    },
    {
      "cell_type": "markdown",
      "metadata": {
        "id": "CHIb-EjwwpzF"
      },
      "source": [
        "#### 6. Crie uma coluna dentro do dataset que descreve se 'Turbidity' está acima ou abaixo da média."
      ],
      "id": "CHIb-EjwwpzF"
    },
    {
      "cell_type": "code",
      "metadata": {
        "id": "0nJ_c5ZSw5iS",
        "colab": {
          "base_uri": "https://localhost:8080/"
        },
        "outputId": "1963f65f-4da3-44ca-b4c9-fee6df379413"
      },
      "source": [
        "df['Turbidity_mean']=df['Turbidity'].apply(lambda v: True if v>=df['Turbidity'].mean() else False)\n",
        "df['Turbidity_mean']"
      ],
      "id": "0nJ_c5ZSw5iS",
      "execution_count": null,
      "outputs": [
        {
          "output_type": "execute_result",
          "data": {
            "text/plain": [
              "0       False\n",
              "1        True\n",
              "2       False\n",
              "3        True\n",
              "4        True\n",
              "        ...  \n",
              "3271     True\n",
              "3272    False\n",
              "3273    False\n",
              "3274     True\n",
              "3275    False\n",
              "Name: Turbidity_mean, Length: 3276, dtype: bool"
            ]
          },
          "metadata": {
            "tags": []
          },
          "execution_count": 23
        }
      ]
    },
    {
      "cell_type": "markdown",
      "metadata": {
        "id": "0A8piDdcwpvk"
      },
      "source": [
        "#### 7. Quantas amostras de água são potáveis e não potáveis? Utilize a coluna criada na questão 6 como dimensão de análise."
      ],
      "id": "0A8piDdcwpvk"
    },
    {
      "cell_type": "markdown",
      "metadata": {
        "id": "OMbtRs4M7qLB"
      },
      "source": [
        "A coluna 'Potability' possui apenas dois valores distintos [1, 0], indicando se a água é ou não potável."
      ],
      "id": "OMbtRs4M7qLB"
    },
    {
      "cell_type": "code",
      "metadata": {
        "id": "Nipugab2w5Pf",
        "colab": {
          "base_uri": "https://localhost:8080/"
        },
        "outputId": "5f738163-133a-4a84-9f71-ead98fd1cba6"
      },
      "source": [
        "df.Potability.unique()"
      ],
      "id": "Nipugab2w5Pf",
      "execution_count": null,
      "outputs": [
        {
          "output_type": "execute_result",
          "data": {
            "text/plain": [
              "array([0, 1])"
            ]
          },
          "metadata": {
            "tags": []
          },
          "execution_count": 24
        }
      ]
    },
    {
      "cell_type": "code",
      "metadata": {
        "id": "gHwNgl2rw5NC",
        "colab": {
          "base_uri": "https://localhost:8080/"
        },
        "outputId": "3e0c11fe-0a2b-48ae-a827-fdfa95a0def5"
      },
      "source": [
        "#Número de amostras de água não potável (0) e potável (1), respectivamente:\n",
        "df.Potability.value_counts()"
      ],
      "id": "gHwNgl2rw5NC",
      "execution_count": null,
      "outputs": [
        {
          "output_type": "execute_result",
          "data": {
            "text/plain": [
              "0    1998\n",
              "1    1278\n",
              "Name: Potability, dtype: int64"
            ]
          },
          "metadata": {
            "tags": []
          },
          "execution_count": 25
        }
      ]
    },
    {
      "cell_type": "code",
      "metadata": {
        "colab": {
          "base_uri": "https://localhost:8080/"
        },
        "id": "e8iiV9z27fnj",
        "outputId": "e6d0685c-7d83-45c4-c6ee-bd6baf41ea95"
      },
      "source": [
        "#Número de amostras de água cuja turbidez é (True) ou não (False) acima da média:\n",
        "df.Turbidity_mean.value_counts()"
      ],
      "id": "e8iiV9z27fnj",
      "execution_count": null,
      "outputs": [
        {
          "output_type": "execute_result",
          "data": {
            "text/plain": [
              "False    1660\n",
              "True     1616\n",
              "Name: Turbidity_mean, dtype: int64"
            ]
          },
          "metadata": {
            "tags": []
          },
          "execution_count": 26
        }
      ]
    },
    {
      "cell_type": "code",
      "metadata": {
        "colab": {
          "base_uri": "https://localhost:8080/"
        },
        "id": "LoBWaMHh-e88",
        "outputId": "47684249-a15d-4120-c350-6ab1dd28d731"
      },
      "source": [
        "df.groupby('Turbidity_mean')['Potability'].value_counts()"
      ],
      "id": "LoBWaMHh-e88",
      "execution_count": null,
      "outputs": [
        {
          "output_type": "execute_result",
          "data": {
            "text/plain": [
              "Turbidity_mean  Potability\n",
              "False           0             1012\n",
              "                1              648\n",
              "True            0              986\n",
              "                1              630\n",
              "Name: Potability, dtype: int64"
            ]
          },
          "metadata": {
            "tags": []
          },
          "execution_count": 27
        }
      ]
    },
    {
      "cell_type": "markdown",
      "metadata": {
        "id": "VfVUbpNp_qGy"
      },
      "source": [
        "Note que 1012 amostras de água possuem uma turbidez abaixo da média, mas ainda assim não são potáveis, enquanto 630 amostras possuem uma turbidez acima da média e são potáveis.\n",
        "\n",
        "É claro que a turbidez da água contribue para a análise da potabilidade da água, entretanto deve-se levar em conta outros fatores.\n",
        "\n",
        "Além disso, provavelmente não deve ser adequado usar a média da turbidez como um limite (ou, o único limite) para caracterizar se a amostra é ou não potável."
      ],
      "id": "VfVUbpNp_qGy"
    },
    {
      "cell_type": "code",
      "metadata": {
        "colab": {
          "base_uri": "https://localhost:8080/"
        },
        "id": "BDIp40m2W5lz",
        "outputId": "fb5b25de-67d9-44e0-c6b7-3b9570b5c288"
      },
      "source": [
        "#Nestes gráficos podemos ver que a turbidez possui praticamente\n",
        "#a mesma faixa de valores tanto para amostras potáveis quanto não potáveis, considerando todas as amostras.\n",
        "sns.catplot(data=df, x='Potability', y='Turbidity', kind='box', height=4, aspect=6/5);\n",
        "plt.show()\n",
        "\n",
        "sns.catplot(data=df, x='Potability', y='Turbidity', height=4, aspect=6/5);"
      ],
      "id": "BDIp40m2W5lz",
      "execution_count": null,
      "outputs": [
        {
          "output_type": "display_data",
          "data": {
            "image/png": "[encoded data removed]",
            "text/plain": [
              "<Figure size 345.6x288 with 1 Axes>"
            ]
          },
          "metadata": {
            "tags": [],
            "needs_background": "light"
          }
        },
        {
          "output_type": "display_data",
          "data": {
            "image/png": "[encoded data removed]",
            "text/plain": [
              "<Figure size 345.6x288 with 1 Axes>"
            ]
          },
          "metadata": {
            "tags": [],
            "needs_background": "light"
          }
        }
      ]
    },
    {
      "cell_type": "code",
      "metadata": {
        "colab": {
          "base_uri": "https://localhost:8080/"
        },
        "id": "nE937hlmYdjA",
        "outputId": "253f0657-d866-4e7b-b8df-223513f12481"
      },
      "source": [
        "#Entretanto, se separarmos as amostras por estado, veremos que a turbidez possui\n",
        "#diferentes faixa de valores para amostras potáveis e não potáveis.\n",
        "sns.catplot(data=df, x='state', hue='Potability', y='Turbidity', kind='box', aspect=18/6);\n",
        "plt.xticks(rotation=90)\n",
        "plt.show()"
      ],
      "id": "nE937hlmYdjA",
      "execution_count": null,
      "outputs": [
        {
          "output_type": "display_data",
          "data": {
            "image/png": "[encoded data removed]",
            "text/plain": [
              "<Figure size 1134.25x360 with 1 Axes>"
            ]
          },
          "metadata": {
            "tags": [],
            "needs_background": "light"
          }
        }
      ]
    },
    {
      "cell_type": "markdown",
      "metadata": {
        "id": "tJulkaACw1ux"
      },
      "source": [
        "#### 8. Crie um dataframe onde o índice deve ser cada estado e com duas colunas. A primeira é a porcentagem de amostras não potáveis naquele estado e a segunda é a porcentagem de amostras potáveis naquele estado. Qual é o estado com a menor porcentagem de amostras de água potável?"
      ],
      "id": "tJulkaACw1ux"
    },
    {
      "cell_type": "code",
      "metadata": {
        "id": "3zr2i7Z-xDSk",
        "colab": {
          "base_uri": "https://localhost:8080/"
        },
        "outputId": "19ea440a-c240-4122-cde5-313b066a1284"
      },
      "source": [
        "df.groupby('state')['Potability'].value_counts()"
      ],
      "id": "3zr2i7Z-xDSk",
      "execution_count": null,
      "outputs": [
        {
          "output_type": "execute_result",
          "data": {
            "text/plain": [
              "state          Potability\n",
              "Alabama        0             30\n",
              "               1             24\n",
              "Alaska         0             36\n",
              "               1             32\n",
              "Arizona        0             43\n",
              "                             ..\n",
              "West Virginia  1             27\n",
              "Wisconsin      0             40\n",
              "               1             32\n",
              "Wyoming        0             38\n",
              "               1             27\n",
              "Name: Potability, Length: 100, dtype: int64"
            ]
          },
          "metadata": {
            "tags": []
          },
          "execution_count": 52
        }
      ]
    },
    {
      "cell_type": "code",
      "metadata": {
        "id": "h2tpA175xDPF"
      },
      "source": [
        "#Solução 1:\n",
        "#a=pd.crosstab(index=df.state, columns=df.Potability, values=df.sample_id, aggfunc='count', margins=True)\n",
        "a=df.pivot_table(index='state', columns='Potability', values='sample_id', aggfunc='count', margins=True)\n",
        "a[0]=a[0]/a['All']; a[1]=a[1]/a['All']; a.drop(columns='All', inplace=True); a.drop(index='All', inplace=True)\n",
        "#display( a )\n",
        "\n",
        "#Solução 2:\n",
        "a=df.pivot_table(index='state', columns='Potability', values='sample_id', aggfunc='count')\n",
        "All=a[0]+a[1]; a[0]/=All; a[1]/=All;\n",
        "#display( a )"
      ],
      "id": "h2tpA175xDPF",
      "execution_count": null,
      "outputs": []
    },
    {
      "cell_type": "code",
      "metadata": {
        "colab": {
          "base_uri": "https://localhost:8080/"
        },
        "id": "1FEJ30HZVt2K",
        "outputId": "cc40e649-7c95-453b-914e-c206d26243dd"
      },
      "source": [
        "#Solução 3:\n",
        "States = pd.crosstab(index=df.state, columns=df.Potability, values=df.sample_id, aggfunc='count', normalize='index')\n",
        "\n",
        "States.rename(columns={0:'não_potável',1:'potável'}, inplace=True)\n",
        "States.columns.rename('', inplace=True)\n",
        "#States.index.rename('', inplace=True)\n",
        "\n",
        "#display(States)\n",
        "display(States.style.format({'não_potável':'{:.2%}','potável':'{:.2%}'}))"
      ],
      "id": "1FEJ30HZVt2K",
      "execution_count": null,
      "outputs": [
        {
          "output_type": "display_data",
          "data": {
            "text/html": [
              "<style  type=\"text/css\" >\n",
              "</style><table id=\"T_cd648342_fd0e_11eb_b3ee_0242ac1c0002\" ><thead>    <tr>        <th class=\"index_name level0\" ></th>        <th class=\"col_heading level0 col0\" >não_potável</th>        <th class=\"col_heading level0 col1\" >potável</th>    </tr>    <tr>        <th class=\"index_name level0\" >state</th>        <th class=\"blank\" ></th>        <th class=\"blank\" ></th>    </tr></thead><tbody>\n",
              "                <tr>\n",
              "                        <th id=\"T_cd648342_fd0e_11eb_b3ee_0242ac1c0002level0_row0\" class=\"row_heading level0 row0\" >Alabama</th>\n",
              "                        <td id=\"T_cd648342_fd0e_11eb_b3ee_0242ac1c0002row0_col0\" class=\"data row0 col0\" >55.56%</td>\n",
              "                        <td id=\"T_cd648342_fd0e_11eb_b3ee_0242ac1c0002row0_col1\" class=\"data row0 col1\" >44.44%</td>\n",
              "            </tr>\n",
              "            <tr>\n",
              "                        <th id=\"T_cd648342_fd0e_11eb_b3ee_0242ac1c0002level0_row1\" class=\"row_heading level0 row1\" >Alaska</th>\n",
              "                        <td id=\"T_cd648342_fd0e_11eb_b3ee_0242ac1c0002row1_col0\" class=\"data row1 col0\" >52.94%</td>\n",
              "                        <td id=\"T_cd648342_fd0e_11eb_b3ee_0242ac1c0002row1_col1\" class=\"data row1 col1\" >47.06%</td>\n",
              "            </tr>\n",
              "            <tr>\n",
              "                        <th id=\"T_cd648342_fd0e_11eb_b3ee_0242ac1c0002level0_row2\" class=\"row_heading level0 row2\" >Arizona</th>\n",
              "                        <td id=\"T_cd648342_fd0e_11eb_b3ee_0242ac1c0002row2_col0\" class=\"data row2 col0\" >60.56%</td>\n",
              "                        <td id=\"T_cd648342_fd0e_11eb_b3ee_0242ac1c0002row2_col1\" class=\"data row2 col1\" >39.44%</td>\n",
              "            </tr>\n",
              "            <tr>\n",
              "                        <th id=\"T_cd648342_fd0e_11eb_b3ee_0242ac1c0002level0_row3\" class=\"row_heading level0 row3\" >Arkansas</th>\n",
              "                        <td id=\"T_cd648342_fd0e_11eb_b3ee_0242ac1c0002row3_col0\" class=\"data row3 col0\" >55.38%</td>\n",
              "                        <td id=\"T_cd648342_fd0e_11eb_b3ee_0242ac1c0002row3_col1\" class=\"data row3 col1\" >44.62%</td>\n",
              "            </tr>\n",
              "            <tr>\n",
              "                        <th id=\"T_cd648342_fd0e_11eb_b3ee_0242ac1c0002level0_row4\" class=\"row_heading level0 row4\" >California</th>\n",
              "                        <td id=\"T_cd648342_fd0e_11eb_b3ee_0242ac1c0002row4_col0\" class=\"data row4 col0\" >60.61%</td>\n",
              "                        <td id=\"T_cd648342_fd0e_11eb_b3ee_0242ac1c0002row4_col1\" class=\"data row4 col1\" >39.39%</td>\n",
              "            </tr>\n",
              "            <tr>\n",
              "                        <th id=\"T_cd648342_fd0e_11eb_b3ee_0242ac1c0002level0_row5\" class=\"row_heading level0 row5\" >Colorado</th>\n",
              "                        <td id=\"T_cd648342_fd0e_11eb_b3ee_0242ac1c0002row5_col0\" class=\"data row5 col0\" >63.79%</td>\n",
              "                        <td id=\"T_cd648342_fd0e_11eb_b3ee_0242ac1c0002row5_col1\" class=\"data row5 col1\" >36.21%</td>\n",
              "            </tr>\n",
              "            <tr>\n",
              "                        <th id=\"T_cd648342_fd0e_11eb_b3ee_0242ac1c0002level0_row6\" class=\"row_heading level0 row6\" >Connecticut</th>\n",
              "                        <td id=\"T_cd648342_fd0e_11eb_b3ee_0242ac1c0002row6_col0\" class=\"data row6 col0\" >62.90%</td>\n",
              "                        <td id=\"T_cd648342_fd0e_11eb_b3ee_0242ac1c0002row6_col1\" class=\"data row6 col1\" >37.10%</td>\n",
              "            </tr>\n",
              "            <tr>\n",
              "                        <th id=\"T_cd648342_fd0e_11eb_b3ee_0242ac1c0002level0_row7\" class=\"row_heading level0 row7\" >Delaware</th>\n",
              "                        <td id=\"T_cd648342_fd0e_11eb_b3ee_0242ac1c0002row7_col0\" class=\"data row7 col0\" >53.97%</td>\n",
              "                        <td id=\"T_cd648342_fd0e_11eb_b3ee_0242ac1c0002row7_col1\" class=\"data row7 col1\" >46.03%</td>\n",
              "            </tr>\n",
              "            <tr>\n",
              "                        <th id=\"T_cd648342_fd0e_11eb_b3ee_0242ac1c0002level0_row8\" class=\"row_heading level0 row8\" >Florida</th>\n",
              "                        <td id=\"T_cd648342_fd0e_11eb_b3ee_0242ac1c0002row8_col0\" class=\"data row8 col0\" >55.88%</td>\n",
              "                        <td id=\"T_cd648342_fd0e_11eb_b3ee_0242ac1c0002row8_col1\" class=\"data row8 col1\" >44.12%</td>\n",
              "            </tr>\n",
              "            <tr>\n",
              "                        <th id=\"T_cd648342_fd0e_11eb_b3ee_0242ac1c0002level0_row9\" class=\"row_heading level0 row9\" >Georgia</th>\n",
              "                        <td id=\"T_cd648342_fd0e_11eb_b3ee_0242ac1c0002row9_col0\" class=\"data row9 col0\" >65.62%</td>\n",
              "                        <td id=\"T_cd648342_fd0e_11eb_b3ee_0242ac1c0002row9_col1\" class=\"data row9 col1\" >34.38%</td>\n",
              "            </tr>\n",
              "            <tr>\n",
              "                        <th id=\"T_cd648342_fd0e_11eb_b3ee_0242ac1c0002level0_row10\" class=\"row_heading level0 row10\" >Hawaii</th>\n",
              "                        <td id=\"T_cd648342_fd0e_11eb_b3ee_0242ac1c0002row10_col0\" class=\"data row10 col0\" >61.97%</td>\n",
              "                        <td id=\"T_cd648342_fd0e_11eb_b3ee_0242ac1c0002row10_col1\" class=\"data row10 col1\" >38.03%</td>\n",
              "            </tr>\n",
              "            <tr>\n",
              "                        <th id=\"T_cd648342_fd0e_11eb_b3ee_0242ac1c0002level0_row11\" class=\"row_heading level0 row11\" >Idaho</th>\n",
              "                        <td id=\"T_cd648342_fd0e_11eb_b3ee_0242ac1c0002row11_col0\" class=\"data row11 col0\" >65.67%</td>\n",
              "                        <td id=\"T_cd648342_fd0e_11eb_b3ee_0242ac1c0002row11_col1\" class=\"data row11 col1\" >34.33%</td>\n",
              "            </tr>\n",
              "            <tr>\n",
              "                        <th id=\"T_cd648342_fd0e_11eb_b3ee_0242ac1c0002level0_row12\" class=\"row_heading level0 row12\" >Illinois</th>\n",
              "                        <td id=\"T_cd648342_fd0e_11eb_b3ee_0242ac1c0002row12_col0\" class=\"data row12 col0\" >52.54%</td>\n",
              "                        <td id=\"T_cd648342_fd0e_11eb_b3ee_0242ac1c0002row12_col1\" class=\"data row12 col1\" >47.46%</td>\n",
              "            </tr>\n",
              "            <tr>\n",
              "                        <th id=\"T_cd648342_fd0e_11eb_b3ee_0242ac1c0002level0_row13\" class=\"row_heading level0 row13\" >Indiana</th>\n",
              "                        <td id=\"T_cd648342_fd0e_11eb_b3ee_0242ac1c0002row13_col0\" class=\"data row13 col0\" >60.56%</td>\n",
              "                        <td id=\"T_cd648342_fd0e_11eb_b3ee_0242ac1c0002row13_col1\" class=\"data row13 col1\" >39.44%</td>\n",
              "            </tr>\n",
              "            <tr>\n",
              "                        <th id=\"T_cd648342_fd0e_11eb_b3ee_0242ac1c0002level0_row14\" class=\"row_heading level0 row14\" >Iowa</th>\n",
              "                        <td id=\"T_cd648342_fd0e_11eb_b3ee_0242ac1c0002row14_col0\" class=\"data row14 col0\" >66.67%</td>\n",
              "                        <td id=\"T_cd648342_fd0e_11eb_b3ee_0242ac1c0002row14_col1\" class=\"data row14 col1\" >33.33%</td>\n",
              "            </tr>\n",
              "            <tr>\n",
              "                        <th id=\"T_cd648342_fd0e_11eb_b3ee_0242ac1c0002level0_row15\" class=\"row_heading level0 row15\" >Kansas</th>\n",
              "                        <td id=\"T_cd648342_fd0e_11eb_b3ee_0242ac1c0002row15_col0\" class=\"data row15 col0\" >56.25%</td>\n",
              "                        <td id=\"T_cd648342_fd0e_11eb_b3ee_0242ac1c0002row15_col1\" class=\"data row15 col1\" >43.75%</td>\n",
              "            </tr>\n",
              "            <tr>\n",
              "                        <th id=\"T_cd648342_fd0e_11eb_b3ee_0242ac1c0002level0_row16\" class=\"row_heading level0 row16\" >Kentucky</th>\n",
              "                        <td id=\"T_cd648342_fd0e_11eb_b3ee_0242ac1c0002row16_col0\" class=\"data row16 col0\" >58.97%</td>\n",
              "                        <td id=\"T_cd648342_fd0e_11eb_b3ee_0242ac1c0002row16_col1\" class=\"data row16 col1\" >41.03%</td>\n",
              "            </tr>\n",
              "            <tr>\n",
              "                        <th id=\"T_cd648342_fd0e_11eb_b3ee_0242ac1c0002level0_row17\" class=\"row_heading level0 row17\" >Louisiana</th>\n",
              "                        <td id=\"T_cd648342_fd0e_11eb_b3ee_0242ac1c0002row17_col0\" class=\"data row17 col0\" >63.16%</td>\n",
              "                        <td id=\"T_cd648342_fd0e_11eb_b3ee_0242ac1c0002row17_col1\" class=\"data row17 col1\" >36.84%</td>\n",
              "            </tr>\n",
              "            <tr>\n",
              "                        <th id=\"T_cd648342_fd0e_11eb_b3ee_0242ac1c0002level0_row18\" class=\"row_heading level0 row18\" >Maine</th>\n",
              "                        <td id=\"T_cd648342_fd0e_11eb_b3ee_0242ac1c0002row18_col0\" class=\"data row18 col0\" >61.43%</td>\n",
              "                        <td id=\"T_cd648342_fd0e_11eb_b3ee_0242ac1c0002row18_col1\" class=\"data row18 col1\" >38.57%</td>\n",
              "            </tr>\n",
              "            <tr>\n",
              "                        <th id=\"T_cd648342_fd0e_11eb_b3ee_0242ac1c0002level0_row19\" class=\"row_heading level0 row19\" >Maryland</th>\n",
              "                        <td id=\"T_cd648342_fd0e_11eb_b3ee_0242ac1c0002row19_col0\" class=\"data row19 col0\" >66.67%</td>\n",
              "                        <td id=\"T_cd648342_fd0e_11eb_b3ee_0242ac1c0002row19_col1\" class=\"data row19 col1\" >33.33%</td>\n",
              "            </tr>\n",
              "            <tr>\n",
              "                        <th id=\"T_cd648342_fd0e_11eb_b3ee_0242ac1c0002level0_row20\" class=\"row_heading level0 row20\" >Massachusetts</th>\n",
              "                        <td id=\"T_cd648342_fd0e_11eb_b3ee_0242ac1c0002row20_col0\" class=\"data row20 col0\" >47.76%</td>\n",
              "                        <td id=\"T_cd648342_fd0e_11eb_b3ee_0242ac1c0002row20_col1\" class=\"data row20 col1\" >52.24%</td>\n",
              "            </tr>\n",
              "            <tr>\n",
              "                        <th id=\"T_cd648342_fd0e_11eb_b3ee_0242ac1c0002level0_row21\" class=\"row_heading level0 row21\" >Michigan</th>\n",
              "                        <td id=\"T_cd648342_fd0e_11eb_b3ee_0242ac1c0002row21_col0\" class=\"data row21 col0\" >62.26%</td>\n",
              "                        <td id=\"T_cd648342_fd0e_11eb_b3ee_0242ac1c0002row21_col1\" class=\"data row21 col1\" >37.74%</td>\n",
              "            </tr>\n",
              "            <tr>\n",
              "                        <th id=\"T_cd648342_fd0e_11eb_b3ee_0242ac1c0002level0_row22\" class=\"row_heading level0 row22\" >Minnesota</th>\n",
              "                        <td id=\"T_cd648342_fd0e_11eb_b3ee_0242ac1c0002row22_col0\" class=\"data row22 col0\" >78.33%</td>\n",
              "                        <td id=\"T_cd648342_fd0e_11eb_b3ee_0242ac1c0002row22_col1\" class=\"data row22 col1\" >21.67%</td>\n",
              "            </tr>\n",
              "            <tr>\n",
              "                        <th id=\"T_cd648342_fd0e_11eb_b3ee_0242ac1c0002level0_row23\" class=\"row_heading level0 row23\" >Mississippi</th>\n",
              "                        <td id=\"T_cd648342_fd0e_11eb_b3ee_0242ac1c0002row23_col0\" class=\"data row23 col0\" >61.54%</td>\n",
              "                        <td id=\"T_cd648342_fd0e_11eb_b3ee_0242ac1c0002row23_col1\" class=\"data row23 col1\" >38.46%</td>\n",
              "            </tr>\n",
              "            <tr>\n",
              "                        <th id=\"T_cd648342_fd0e_11eb_b3ee_0242ac1c0002level0_row24\" class=\"row_heading level0 row24\" >Missouri</th>\n",
              "                        <td id=\"T_cd648342_fd0e_11eb_b3ee_0242ac1c0002row24_col0\" class=\"data row24 col0\" >55.56%</td>\n",
              "                        <td id=\"T_cd648342_fd0e_11eb_b3ee_0242ac1c0002row24_col1\" class=\"data row24 col1\" >44.44%</td>\n",
              "            </tr>\n",
              "            <tr>\n",
              "                        <th id=\"T_cd648342_fd0e_11eb_b3ee_0242ac1c0002level0_row25\" class=\"row_heading level0 row25\" >Montana</th>\n",
              "                        <td id=\"T_cd648342_fd0e_11eb_b3ee_0242ac1c0002row25_col0\" class=\"data row25 col0\" >57.89%</td>\n",
              "                        <td id=\"T_cd648342_fd0e_11eb_b3ee_0242ac1c0002row25_col1\" class=\"data row25 col1\" >42.11%</td>\n",
              "            </tr>\n",
              "            <tr>\n",
              "                        <th id=\"T_cd648342_fd0e_11eb_b3ee_0242ac1c0002level0_row26\" class=\"row_heading level0 row26\" >Nebraska</th>\n",
              "                        <td id=\"T_cd648342_fd0e_11eb_b3ee_0242ac1c0002row26_col0\" class=\"data row26 col0\" >57.14%</td>\n",
              "                        <td id=\"T_cd648342_fd0e_11eb_b3ee_0242ac1c0002row26_col1\" class=\"data row26 col1\" >42.86%</td>\n",
              "            </tr>\n",
              "            <tr>\n",
              "                        <th id=\"T_cd648342_fd0e_11eb_b3ee_0242ac1c0002level0_row27\" class=\"row_heading level0 row27\" >Nevada</th>\n",
              "                        <td id=\"T_cd648342_fd0e_11eb_b3ee_0242ac1c0002row27_col0\" class=\"data row27 col0\" >63.49%</td>\n",
              "                        <td id=\"T_cd648342_fd0e_11eb_b3ee_0242ac1c0002row27_col1\" class=\"data row27 col1\" >36.51%</td>\n",
              "            </tr>\n",
              "            <tr>\n",
              "                        <th id=\"T_cd648342_fd0e_11eb_b3ee_0242ac1c0002level0_row28\" class=\"row_heading level0 row28\" >New Hampshire</th>\n",
              "                        <td id=\"T_cd648342_fd0e_11eb_b3ee_0242ac1c0002row28_col0\" class=\"data row28 col0\" >59.65%</td>\n",
              "                        <td id=\"T_cd648342_fd0e_11eb_b3ee_0242ac1c0002row28_col1\" class=\"data row28 col1\" >40.35%</td>\n",
              "            </tr>\n",
              "            <tr>\n",
              "                        <th id=\"T_cd648342_fd0e_11eb_b3ee_0242ac1c0002level0_row29\" class=\"row_heading level0 row29\" >New Jersey</th>\n",
              "                        <td id=\"T_cd648342_fd0e_11eb_b3ee_0242ac1c0002row29_col0\" class=\"data row29 col0\" >65.57%</td>\n",
              "                        <td id=\"T_cd648342_fd0e_11eb_b3ee_0242ac1c0002row29_col1\" class=\"data row29 col1\" >34.43%</td>\n",
              "            </tr>\n",
              "            <tr>\n",
              "                        <th id=\"T_cd648342_fd0e_11eb_b3ee_0242ac1c0002level0_row30\" class=\"row_heading level0 row30\" >New Mexico</th>\n",
              "                        <td id=\"T_cd648342_fd0e_11eb_b3ee_0242ac1c0002row30_col0\" class=\"data row30 col0\" >58.33%</td>\n",
              "                        <td id=\"T_cd648342_fd0e_11eb_b3ee_0242ac1c0002row30_col1\" class=\"data row30 col1\" >41.67%</td>\n",
              "            </tr>\n",
              "            <tr>\n",
              "                        <th id=\"T_cd648342_fd0e_11eb_b3ee_0242ac1c0002level0_row31\" class=\"row_heading level0 row31\" >New York</th>\n",
              "                        <td id=\"T_cd648342_fd0e_11eb_b3ee_0242ac1c0002row31_col0\" class=\"data row31 col0\" >70.15%</td>\n",
              "                        <td id=\"T_cd648342_fd0e_11eb_b3ee_0242ac1c0002row31_col1\" class=\"data row31 col1\" >29.85%</td>\n",
              "            </tr>\n",
              "            <tr>\n",
              "                        <th id=\"T_cd648342_fd0e_11eb_b3ee_0242ac1c0002level0_row32\" class=\"row_heading level0 row32\" >North Carolina</th>\n",
              "                        <td id=\"T_cd648342_fd0e_11eb_b3ee_0242ac1c0002row32_col0\" class=\"data row32 col0\" >66.10%</td>\n",
              "                        <td id=\"T_cd648342_fd0e_11eb_b3ee_0242ac1c0002row32_col1\" class=\"data row32 col1\" >33.90%</td>\n",
              "            </tr>\n",
              "            <tr>\n",
              "                        <th id=\"T_cd648342_fd0e_11eb_b3ee_0242ac1c0002level0_row33\" class=\"row_heading level0 row33\" >North Dakota</th>\n",
              "                        <td id=\"T_cd648342_fd0e_11eb_b3ee_0242ac1c0002row33_col0\" class=\"data row33 col0\" >65.38%</td>\n",
              "                        <td id=\"T_cd648342_fd0e_11eb_b3ee_0242ac1c0002row33_col1\" class=\"data row33 col1\" >34.62%</td>\n",
              "            </tr>\n",
              "            <tr>\n",
              "                        <th id=\"T_cd648342_fd0e_11eb_b3ee_0242ac1c0002level0_row34\" class=\"row_heading level0 row34\" >Ohio</th>\n",
              "                        <td id=\"T_cd648342_fd0e_11eb_b3ee_0242ac1c0002row34_col0\" class=\"data row34 col0\" >70.49%</td>\n",
              "                        <td id=\"T_cd648342_fd0e_11eb_b3ee_0242ac1c0002row34_col1\" class=\"data row34 col1\" >29.51%</td>\n",
              "            </tr>\n",
              "            <tr>\n",
              "                        <th id=\"T_cd648342_fd0e_11eb_b3ee_0242ac1c0002level0_row35\" class=\"row_heading level0 row35\" >Oklahoma</th>\n",
              "                        <td id=\"T_cd648342_fd0e_11eb_b3ee_0242ac1c0002row35_col0\" class=\"data row35 col0\" >50.00%</td>\n",
              "                        <td id=\"T_cd648342_fd0e_11eb_b3ee_0242ac1c0002row35_col1\" class=\"data row35 col1\" >50.00%</td>\n",
              "            </tr>\n",
              "            <tr>\n",
              "                        <th id=\"T_cd648342_fd0e_11eb_b3ee_0242ac1c0002level0_row36\" class=\"row_heading level0 row36\" >Oregon</th>\n",
              "                        <td id=\"T_cd648342_fd0e_11eb_b3ee_0242ac1c0002row36_col0\" class=\"data row36 col0\" >57.89%</td>\n",
              "                        <td id=\"T_cd648342_fd0e_11eb_b3ee_0242ac1c0002row36_col1\" class=\"data row36 col1\" >42.11%</td>\n",
              "            </tr>\n",
              "            <tr>\n",
              "                        <th id=\"T_cd648342_fd0e_11eb_b3ee_0242ac1c0002level0_row37\" class=\"row_heading level0 row37\" >Pennsylvania</th>\n",
              "                        <td id=\"T_cd648342_fd0e_11eb_b3ee_0242ac1c0002row37_col0\" class=\"data row37 col0\" >53.97%</td>\n",
              "                        <td id=\"T_cd648342_fd0e_11eb_b3ee_0242ac1c0002row37_col1\" class=\"data row37 col1\" >46.03%</td>\n",
              "            </tr>\n",
              "            <tr>\n",
              "                        <th id=\"T_cd648342_fd0e_11eb_b3ee_0242ac1c0002level0_row38\" class=\"row_heading level0 row38\" >Rhode Island</th>\n",
              "                        <td id=\"T_cd648342_fd0e_11eb_b3ee_0242ac1c0002row38_col0\" class=\"data row38 col0\" >66.67%</td>\n",
              "                        <td id=\"T_cd648342_fd0e_11eb_b3ee_0242ac1c0002row38_col1\" class=\"data row38 col1\" >33.33%</td>\n",
              "            </tr>\n",
              "            <tr>\n",
              "                        <th id=\"T_cd648342_fd0e_11eb_b3ee_0242ac1c0002level0_row39\" class=\"row_heading level0 row39\" >South Carolina</th>\n",
              "                        <td id=\"T_cd648342_fd0e_11eb_b3ee_0242ac1c0002row39_col0\" class=\"data row39 col0\" >53.12%</td>\n",
              "                        <td id=\"T_cd648342_fd0e_11eb_b3ee_0242ac1c0002row39_col1\" class=\"data row39 col1\" >46.88%</td>\n",
              "            </tr>\n",
              "            <tr>\n",
              "                        <th id=\"T_cd648342_fd0e_11eb_b3ee_0242ac1c0002level0_row40\" class=\"row_heading level0 row40\" >South Dakota</th>\n",
              "                        <td id=\"T_cd648342_fd0e_11eb_b3ee_0242ac1c0002row40_col0\" class=\"data row40 col0\" >69.12%</td>\n",
              "                        <td id=\"T_cd648342_fd0e_11eb_b3ee_0242ac1c0002row40_col1\" class=\"data row40 col1\" >30.88%</td>\n",
              "            </tr>\n",
              "            <tr>\n",
              "                        <th id=\"T_cd648342_fd0e_11eb_b3ee_0242ac1c0002level0_row41\" class=\"row_heading level0 row41\" >Tennessee</th>\n",
              "                        <td id=\"T_cd648342_fd0e_11eb_b3ee_0242ac1c0002row41_col0\" class=\"data row41 col0\" >54.41%</td>\n",
              "                        <td id=\"T_cd648342_fd0e_11eb_b3ee_0242ac1c0002row41_col1\" class=\"data row41 col1\" >45.59%</td>\n",
              "            </tr>\n",
              "            <tr>\n",
              "                        <th id=\"T_cd648342_fd0e_11eb_b3ee_0242ac1c0002level0_row42\" class=\"row_heading level0 row42\" >Texas</th>\n",
              "                        <td id=\"T_cd648342_fd0e_11eb_b3ee_0242ac1c0002row42_col0\" class=\"data row42 col0\" >63.01%</td>\n",
              "                        <td id=\"T_cd648342_fd0e_11eb_b3ee_0242ac1c0002row42_col1\" class=\"data row42 col1\" >36.99%</td>\n",
              "            </tr>\n",
              "            <tr>\n",
              "                        <th id=\"T_cd648342_fd0e_11eb_b3ee_0242ac1c0002level0_row43\" class=\"row_heading level0 row43\" >Utah</th>\n",
              "                        <td id=\"T_cd648342_fd0e_11eb_b3ee_0242ac1c0002row43_col0\" class=\"data row43 col0\" >62.50%</td>\n",
              "                        <td id=\"T_cd648342_fd0e_11eb_b3ee_0242ac1c0002row43_col1\" class=\"data row43 col1\" >37.50%</td>\n",
              "            </tr>\n",
              "            <tr>\n",
              "                        <th id=\"T_cd648342_fd0e_11eb_b3ee_0242ac1c0002level0_row44\" class=\"row_heading level0 row44\" >Vermont</th>\n",
              "                        <td id=\"T_cd648342_fd0e_11eb_b3ee_0242ac1c0002row44_col0\" class=\"data row44 col0\" >71.23%</td>\n",
              "                        <td id=\"T_cd648342_fd0e_11eb_b3ee_0242ac1c0002row44_col1\" class=\"data row44 col1\" >28.77%</td>\n",
              "            </tr>\n",
              "            <tr>\n",
              "                        <th id=\"T_cd648342_fd0e_11eb_b3ee_0242ac1c0002level0_row45\" class=\"row_heading level0 row45\" >Virginia</th>\n",
              "                        <td id=\"T_cd648342_fd0e_11eb_b3ee_0242ac1c0002row45_col0\" class=\"data row45 col0\" >70.00%</td>\n",
              "                        <td id=\"T_cd648342_fd0e_11eb_b3ee_0242ac1c0002row45_col1\" class=\"data row45 col1\" >30.00%</td>\n",
              "            </tr>\n",
              "            <tr>\n",
              "                        <th id=\"T_cd648342_fd0e_11eb_b3ee_0242ac1c0002level0_row46\" class=\"row_heading level0 row46\" >Washington</th>\n",
              "                        <td id=\"T_cd648342_fd0e_11eb_b3ee_0242ac1c0002row46_col0\" class=\"data row46 col0\" >61.54%</td>\n",
              "                        <td id=\"T_cd648342_fd0e_11eb_b3ee_0242ac1c0002row46_col1\" class=\"data row46 col1\" >38.46%</td>\n",
              "            </tr>\n",
              "            <tr>\n",
              "                        <th id=\"T_cd648342_fd0e_11eb_b3ee_0242ac1c0002level0_row47\" class=\"row_heading level0 row47\" >West Virginia</th>\n",
              "                        <td id=\"T_cd648342_fd0e_11eb_b3ee_0242ac1c0002row47_col0\" class=\"data row47 col0\" >61.43%</td>\n",
              "                        <td id=\"T_cd648342_fd0e_11eb_b3ee_0242ac1c0002row47_col1\" class=\"data row47 col1\" >38.57%</td>\n",
              "            </tr>\n",
              "            <tr>\n",
              "                        <th id=\"T_cd648342_fd0e_11eb_b3ee_0242ac1c0002level0_row48\" class=\"row_heading level0 row48\" >Wisconsin</th>\n",
              "                        <td id=\"T_cd648342_fd0e_11eb_b3ee_0242ac1c0002row48_col0\" class=\"data row48 col0\" >55.56%</td>\n",
              "                        <td id=\"T_cd648342_fd0e_11eb_b3ee_0242ac1c0002row48_col1\" class=\"data row48 col1\" >44.44%</td>\n",
              "            </tr>\n",
              "            <tr>\n",
              "                        <th id=\"T_cd648342_fd0e_11eb_b3ee_0242ac1c0002level0_row49\" class=\"row_heading level0 row49\" >Wyoming</th>\n",
              "                        <td id=\"T_cd648342_fd0e_11eb_b3ee_0242ac1c0002row49_col0\" class=\"data row49 col0\" >58.46%</td>\n",
              "                        <td id=\"T_cd648342_fd0e_11eb_b3ee_0242ac1c0002row49_col1\" class=\"data row49 col1\" >41.54%</td>\n",
              "            </tr>\n",
              "    </tbody></table>"
            ],
            "text/plain": [
              "<pandas.io.formats.style.Styler at 0x7f6a443ba050>"
            ]
          },
          "metadata": {
            "tags": []
          }
        }
      ]
    },
    {
      "cell_type": "code",
      "metadata": {
        "colab": {
          "base_uri": "https://localhost:8080/"
        },
        "id": "10QDfgIwjnmU",
        "outputId": "3a049241-2033-4ce3-d94e-cc66944de806"
      },
      "source": [
        "filtro = States['potável']==States['potável'].min()\n",
        "display( States[filtro] )\n",
        "\n",
        "print()\n",
        "print( States['potável'].idxmin(), States['potável'].min() )\n",
        "print( States['potável'].idxmax(), States['potável'].max() )"
      ],
      "id": "10QDfgIwjnmU",
      "execution_count": null,
      "outputs": [
        {
          "output_type": "display_data",
          "data": {
            "text/html": [
              "<div>\n",
              "<style scoped>\n",
              "    .dataframe tbody tr th:only-of-type {\n",
              "        vertical-align: middle;\n",
              "    }\n",
              "\n",
              "    .dataframe tbody tr th {\n",
              "        vertical-align: top;\n",
              "    }\n",
              "\n",
              "    .dataframe thead th {\n",
              "        text-align: right;\n",
              "    }\n",
              "</style>\n",
              "<table border=\"1\" class=\"dataframe\">\n",
              "  <thead>\n",
              "    <tr style=\"text-align: right;\">\n",
              "      <th></th>\n",
              "      <th>não_potável</th>\n",
              "      <th>potável</th>\n",
              "    </tr>\n",
              "    <tr>\n",
              "      <th>state</th>\n",
              "      <th></th>\n",
              "      <th></th>\n",
              "    </tr>\n",
              "  </thead>\n",
              "  <tbody>\n",
              "    <tr>\n",
              "      <th>Minnesota</th>\n",
              "      <td>0.783333</td>\n",
              "      <td>0.216667</td>\n",
              "    </tr>\n",
              "  </tbody>\n",
              "</table>\n",
              "</div>"
            ],
            "text/plain": [
              "           não_potável   potável\n",
              "state                           \n",
              "Minnesota     0.783333  0.216667"
            ]
          },
          "metadata": {
            "tags": []
          }
        },
        {
          "output_type": "stream",
          "text": [
            "\n",
            "Minnesota 0.21666666666666667\n",
            "Massachusetts 0.5223880597014925\n"
          ],
          "name": "stdout"
        }
      ]
    },
    {
      "cell_type": "code",
      "metadata": {
        "colab": {
          "base_uri": "https://localhost:8080/"
        },
        "id": "KTbEfLK6jnjV",
        "outputId": "eaffddf6-1fed-43fd-e3a5-cf35c93f6dd3"
      },
      "source": [
        "print(f'O estado com a menor porcentagem de amostras de água potável é {States[filtro].index[0]}, ', end='')\n",
        "print(f\"com o valor de {100*States['potável'].min():.2f}%.\")\n",
        "#print(f\"com o valor de {100*States[filtro].values[0][1]:.2f}%.\")"
      ],
      "id": "KTbEfLK6jnjV",
      "execution_count": null,
      "outputs": [
        {
          "output_type": "stream",
          "text": [
            "O estado com a menor porcentagem de amostras de água potável é Minnesota, com o valor de 21.67%.\n"
          ],
          "name": "stdout"
        }
      ]
    },
    {
      "cell_type": "markdown",
      "metadata": {
        "id": "PZENTu3ew1ql"
      },
      "source": [
        "#### 9. Utlizando dados coletados da internet sobre a quantidade de habitantes de cada estado no ano 2020 responda: Qual estado, com população acima de 10 milhões de habitantes, tem a maior porcentagem de amostras de águas não potável?"
      ],
      "id": "PZENTu3ew1ql"
    },
    {
      "cell_type": "code",
      "metadata": {
        "id": "0WCnaIaaExUg"
      },
      "source": [
        "url='https://en.wikipedia.org/wiki/List_of_U.S._states_and_territories_by_population'"
      ],
      "id": "0WCnaIaaExUg",
      "execution_count": null,
      "outputs": []
    },
    {
      "cell_type": "markdown",
      "metadata": {
        "id": "oyNnm45VEtBi"
      },
      "source": [
        "##### Método 1:"
      ],
      "id": "oyNnm45VEtBi"
    },
    {
      "cell_type": "code",
      "metadata": {
        "id": "hV0C4GvwxDyi",
        "colab": {
          "base_uri": "https://localhost:8080/",
          "height": 1000
        },
        "outputId": "f18708d6-4601-499d-8a13-178d9a4d9e67"
      },
      "source": [
        "df_pop = pd.read_html(url)[0]\n",
        "df_pop"
      ],
      "id": "hV0C4GvwxDyi",
      "execution_count": null,
      "outputs": [
        {
          "output_type": "execute_result",
          "data": {
            "text/html": [
              "<div>\n",
              "<style scoped>\n",
              "    .dataframe tbody tr th:only-of-type {\n",
              "        vertical-align: middle;\n",
              "    }\n",
              "\n",
              "    .dataframe tbody tr th {\n",
              "        vertical-align: top;\n",
              "    }\n",
              "\n",
              "    .dataframe thead tr th {\n",
              "        text-align: left;\n",
              "    }\n",
              "</style>\n",
              "<table border=\"1\" class=\"dataframe\">\n",
              "  <thead>\n",
              "    <tr>\n",
              "      <th></th>\n",
              "      <th colspan=\"2\" halign=\"left\">Rank</th>\n",
              "      <th>State or territory</th>\n",
              "      <th colspan=\"2\" halign=\"left\">Census population[6][a]</th>\n",
              "      <th colspan=\"2\" halign=\"left\">Change,2010–2020[6][b]</th>\n",
              "      <th colspan=\"2\" halign=\"left\">House of Reps.</th>\n",
              "      <th>Pop. per elec. vote, 2020[c]</th>\n",
              "      <th colspan=\"2\" halign=\"left\">Census pop. per seat</th>\n",
              "      <th colspan=\"3\" halign=\"left\">% of the total U.S. pop.[d]</th>\n",
              "      <th>% of Elec. Coll.</th>\n",
              "    </tr>\n",
              "    <tr>\n",
              "      <th></th>\n",
              "      <th>'20</th>\n",
              "      <th>'10</th>\n",
              "      <th>State or territory</th>\n",
              "      <th>April 1, 2020</th>\n",
              "      <th>April 1, 2010</th>\n",
              "      <th>%</th>\n",
              "      <th>Abs.</th>\n",
              "      <th>S.</th>\n",
              "      <th>%</th>\n",
              "      <th>Pop. per elec. vote, 2020[c]</th>\n",
              "      <th>'20</th>\n",
              "      <th>'10</th>\n",
              "      <th>Est. 2020</th>\n",
              "      <th>2010</th>\n",
              "      <th>Ch.2010–2020</th>\n",
              "      <th>% of Elec. Coll.</th>\n",
              "    </tr>\n",
              "  </thead>\n",
              "  <tbody>\n",
              "    <tr>\n",
              "      <th>0</th>\n",
              "      <td>1.0</td>\n",
              "      <td>1.0</td>\n",
              "      <td>California</td>\n",
              "      <td>39538223</td>\n",
              "      <td>37253956</td>\n",
              "      <td>6.1%</td>\n",
              "      <td>2284267</td>\n",
              "      <td>52</td>\n",
              "      <td>11.95%</td>\n",
              "      <td>715783</td>\n",
              "      <td>761091</td>\n",
              "      <td>702905</td>\n",
              "      <td>11.80%</td>\n",
              "      <td>11.91%</td>\n",
              "      <td>–0.11%</td>\n",
              "      <td>10.04%</td>\n",
              "    </tr>\n",
              "    <tr>\n",
              "      <th>1</th>\n",
              "      <td>2.0</td>\n",
              "      <td>2.0</td>\n",
              "      <td>Texas</td>\n",
              "      <td>29145505</td>\n",
              "      <td>25145561</td>\n",
              "      <td>15.9%</td>\n",
              "      <td>3999944</td>\n",
              "      <td>38</td>\n",
              "      <td>8.74%</td>\n",
              "      <td>772652</td>\n",
              "      <td>767981</td>\n",
              "      <td>698488</td>\n",
              "      <td>8.70%</td>\n",
              "      <td>8.04%</td>\n",
              "      <td>0.66%</td>\n",
              "      <td>7.43%</td>\n",
              "    </tr>\n",
              "    <tr>\n",
              "      <th>2</th>\n",
              "      <td>3.0</td>\n",
              "      <td>4.0</td>\n",
              "      <td>Florida</td>\n",
              "      <td>21538187</td>\n",
              "      <td>18801310</td>\n",
              "      <td>14.6%</td>\n",
              "      <td>2736877</td>\n",
              "      <td>28</td>\n",
              "      <td>6.44%</td>\n",
              "      <td>749425</td>\n",
              "      <td>770376</td>\n",
              "      <td>696345</td>\n",
              "      <td>6.43%</td>\n",
              "      <td>6.01%</td>\n",
              "      <td>0.42%</td>\n",
              "      <td>5.58%</td>\n",
              "    </tr>\n",
              "    <tr>\n",
              "      <th>3</th>\n",
              "      <td>4.0</td>\n",
              "      <td>3.0</td>\n",
              "      <td>New York</td>\n",
              "      <td>20201249</td>\n",
              "      <td>19378102</td>\n",
              "      <td>4.2%</td>\n",
              "      <td>823147</td>\n",
              "      <td>26</td>\n",
              "      <td>5.98%</td>\n",
              "      <td>666785</td>\n",
              "      <td>777529</td>\n",
              "      <td>717707</td>\n",
              "      <td>6.03%</td>\n",
              "      <td>6.19%</td>\n",
              "      <td>–0.17%</td>\n",
              "      <td>5.20%</td>\n",
              "    </tr>\n",
              "    <tr>\n",
              "      <th>4</th>\n",
              "      <td>5.0</td>\n",
              "      <td>6.0</td>\n",
              "      <td>Pennsylvania</td>\n",
              "      <td>13011844</td>\n",
              "      <td>12702379</td>\n",
              "      <td>2.4%</td>\n",
              "      <td>309465</td>\n",
              "      <td>17</td>\n",
              "      <td>3.91%</td>\n",
              "      <td>639163</td>\n",
              "      <td>765403</td>\n",
              "      <td>705688</td>\n",
              "      <td>3.88%</td>\n",
              "      <td>4.06%</td>\n",
              "      <td>–0.18%</td>\n",
              "      <td>3.53%</td>\n",
              "    </tr>\n",
              "    <tr>\n",
              "      <th>5</th>\n",
              "      <td>6.0</td>\n",
              "      <td>5.0</td>\n",
              "      <td>Illinois</td>\n",
              "      <td>12812508</td>\n",
              "      <td>12830632</td>\n",
              "      <td>–0.1%</td>\n",
              "      <td>–18,124</td>\n",
              "      <td>17</td>\n",
              "      <td>3.91%</td>\n",
              "      <td>629377</td>\n",
              "      <td>754279</td>\n",
              "      <td>712813</td>\n",
              "      <td>3.82%</td>\n",
              "      <td>4.10%</td>\n",
              "      <td>–0.28%</td>\n",
              "      <td>3.53%</td>\n",
              "    </tr>\n",
              "    <tr>\n",
              "      <th>6</th>\n",
              "      <td>7.0</td>\n",
              "      <td>7.0</td>\n",
              "      <td>Ohio</td>\n",
              "      <td>11799448</td>\n",
              "      <td>11536504</td>\n",
              "      <td>2.3%</td>\n",
              "      <td>262944</td>\n",
              "      <td>15</td>\n",
              "      <td>3.45%</td>\n",
              "      <td>649623</td>\n",
              "      <td>787257</td>\n",
              "      <td>721032</td>\n",
              "      <td>3.52%</td>\n",
              "      <td>3.69%</td>\n",
              "      <td>–0.17%</td>\n",
              "      <td>3.16%</td>\n",
              "    </tr>\n",
              "    <tr>\n",
              "      <th>7</th>\n",
              "      <td>8.0</td>\n",
              "      <td>9.0</td>\n",
              "      <td>Georgia</td>\n",
              "      <td>10711908</td>\n",
              "      <td>9687653</td>\n",
              "      <td>10.6%</td>\n",
              "      <td>1024255</td>\n",
              "      <td>14</td>\n",
              "      <td>3.22%</td>\n",
              "      <td>669376</td>\n",
              "      <td>766091</td>\n",
              "      <td>691975</td>\n",
              "      <td>3.20%</td>\n",
              "      <td>3.10%</td>\n",
              "      <td>0.10%</td>\n",
              "      <td>2.97%</td>\n",
              "    </tr>\n",
              "    <tr>\n",
              "      <th>8</th>\n",
              "      <td>9.0</td>\n",
              "      <td>10.0</td>\n",
              "      <td>North Carolina</td>\n",
              "      <td>10439388</td>\n",
              "      <td>9535483</td>\n",
              "      <td>9.5%</td>\n",
              "      <td>903905</td>\n",
              "      <td>14</td>\n",
              "      <td>3.22%</td>\n",
              "      <td>706722</td>\n",
              "      <td>746711</td>\n",
              "      <td>733499</td>\n",
              "      <td>3.12%</td>\n",
              "      <td>3.05%</td>\n",
              "      <td>0.07%</td>\n",
              "      <td>2.97%</td>\n",
              "    </tr>\n",
              "    <tr>\n",
              "      <th>9</th>\n",
              "      <td>10.0</td>\n",
              "      <td>8.0</td>\n",
              "      <td>Michigan</td>\n",
              "      <td>10077331</td>\n",
              "      <td>9883640</td>\n",
              "      <td>2.0%</td>\n",
              "      <td>193691</td>\n",
              "      <td>13</td>\n",
              "      <td>2.99%</td>\n",
              "      <td>622910</td>\n",
              "      <td>775726</td>\n",
              "      <td>705974</td>\n",
              "      <td>3.01%</td>\n",
              "      <td>3.16%</td>\n",
              "      <td>–0.15%</td>\n",
              "      <td>2.79%</td>\n",
              "    </tr>\n",
              "    <tr>\n",
              "      <th>10</th>\n",
              "      <td>11.0</td>\n",
              "      <td>11.0</td>\n",
              "      <td>New Jersey</td>\n",
              "      <td>9288994</td>\n",
              "      <td>8791894</td>\n",
              "      <td>5.7%</td>\n",
              "      <td>497100</td>\n",
              "      <td>12</td>\n",
              "      <td>2.76%</td>\n",
              "      <td>634455</td>\n",
              "      <td>774541</td>\n",
              "      <td>732658</td>\n",
              "      <td>2.77%</td>\n",
              "      <td>2.81%</td>\n",
              "      <td>–0.04%</td>\n",
              "      <td>2.60%</td>\n",
              "    </tr>\n",
              "    <tr>\n",
              "      <th>11</th>\n",
              "      <td>12.0</td>\n",
              "      <td>12.0</td>\n",
              "      <td>Virginia</td>\n",
              "      <td>8631393</td>\n",
              "      <td>8001024</td>\n",
              "      <td>7.9%</td>\n",
              "      <td>630369</td>\n",
              "      <td>11</td>\n",
              "      <td>2.53%</td>\n",
              "      <td>660813</td>\n",
              "      <td>786777</td>\n",
              "      <td>727366</td>\n",
              "      <td>2.58%</td>\n",
              "      <td>2.56%</td>\n",
              "      <td>0.02%</td>\n",
              "      <td>2.42%</td>\n",
              "    </tr>\n",
              "    <tr>\n",
              "      <th>12</th>\n",
              "      <td>13.0</td>\n",
              "      <td>13.0</td>\n",
              "      <td>Washington</td>\n",
              "      <td>7705281</td>\n",
              "      <td>6724540</td>\n",
              "      <td>14.6%</td>\n",
              "      <td>980741</td>\n",
              "      <td>10</td>\n",
              "      <td>2.30%</td>\n",
              "      <td>641134</td>\n",
              "      <td>771595</td>\n",
              "      <td>672454</td>\n",
              "      <td>2.30%</td>\n",
              "      <td>2.15%</td>\n",
              "      <td>0.15%</td>\n",
              "      <td>2.23%</td>\n",
              "    </tr>\n",
              "    <tr>\n",
              "      <th>13</th>\n",
              "      <td>14.0</td>\n",
              "      <td>16.0</td>\n",
              "      <td>Arizona</td>\n",
              "      <td>7151502</td>\n",
              "      <td>6392017</td>\n",
              "      <td>11.9%</td>\n",
              "      <td>759485</td>\n",
              "      <td>9</td>\n",
              "      <td>2.07%</td>\n",
              "      <td>674673</td>\n",
              "      <td>795436</td>\n",
              "      <td>710224</td>\n",
              "      <td>2.13%</td>\n",
              "      <td>2.04%</td>\n",
              "      <td>0.09%</td>\n",
              "      <td>2.04%</td>\n",
              "    </tr>\n",
              "    <tr>\n",
              "      <th>14</th>\n",
              "      <td>15.0</td>\n",
              "      <td>14.0</td>\n",
              "      <td>Massachusetts</td>\n",
              "      <td>7029917</td>\n",
              "      <td>6547629</td>\n",
              "      <td>7.4%</td>\n",
              "      <td>482288</td>\n",
              "      <td>9</td>\n",
              "      <td>2.07%</td>\n",
              "      <td>626689</td>\n",
              "      <td>781497</td>\n",
              "      <td>727514</td>\n",
              "      <td>2.10%</td>\n",
              "      <td>2.09%</td>\n",
              "      <td>0.00%</td>\n",
              "      <td>2.04%</td>\n",
              "    </tr>\n",
              "    <tr>\n",
              "      <th>15</th>\n",
              "      <td>16.0</td>\n",
              "      <td>17.0</td>\n",
              "      <td>Tennessee</td>\n",
              "      <td>6910840</td>\n",
              "      <td>6346105</td>\n",
              "      <td>8.9%</td>\n",
              "      <td>564735</td>\n",
              "      <td>9</td>\n",
              "      <td>2.07%</td>\n",
              "      <td>626076</td>\n",
              "      <td>768544</td>\n",
              "      <td>705123</td>\n",
              "      <td>2.06%</td>\n",
              "      <td>2.03%</td>\n",
              "      <td>0.03%</td>\n",
              "      <td>2.04%</td>\n",
              "    </tr>\n",
              "    <tr>\n",
              "      <th>16</th>\n",
              "      <td>17.0</td>\n",
              "      <td>15.0</td>\n",
              "      <td>Indiana</td>\n",
              "      <td>6785528</td>\n",
              "      <td>6483802</td>\n",
              "      <td>4.7%</td>\n",
              "      <td>301726</td>\n",
              "      <td>9</td>\n",
              "      <td>2.07%</td>\n",
              "      <td>614087</td>\n",
              "      <td>754476</td>\n",
              "      <td>720422</td>\n",
              "      <td>2.02%</td>\n",
              "      <td>2.07%</td>\n",
              "      <td>–0.05%</td>\n",
              "      <td>2.04%</td>\n",
              "    </tr>\n",
              "    <tr>\n",
              "      <th>17</th>\n",
              "      <td>18.0</td>\n",
              "      <td>19.0</td>\n",
              "      <td>Maryland</td>\n",
              "      <td>6177224</td>\n",
              "      <td>5773552</td>\n",
              "      <td>7.0%</td>\n",
              "      <td>403672</td>\n",
              "      <td>8</td>\n",
              "      <td>1.84%</td>\n",
              "      <td>615155</td>\n",
              "      <td>773160</td>\n",
              "      <td>748616</td>\n",
              "      <td>1.84%</td>\n",
              "      <td>1.85%</td>\n",
              "      <td>–0.00%</td>\n",
              "      <td>1.86%</td>\n",
              "    </tr>\n",
              "    <tr>\n",
              "      <th>18</th>\n",
              "      <td>19.0</td>\n",
              "      <td>18.0</td>\n",
              "      <td>Missouri</td>\n",
              "      <td>6154913</td>\n",
              "      <td>5988927</td>\n",
              "      <td>2.8%</td>\n",
              "      <td>165986</td>\n",
              "      <td>8</td>\n",
              "      <td>1.84%</td>\n",
              "      <td>605580</td>\n",
              "      <td>770035</td>\n",
              "      <td>721694</td>\n",
              "      <td>1.84%</td>\n",
              "      <td>1.91%</td>\n",
              "      <td>–0.08%</td>\n",
              "      <td>1.86%</td>\n",
              "    </tr>\n",
              "    <tr>\n",
              "      <th>19</th>\n",
              "      <td>20.0</td>\n",
              "      <td>20.0</td>\n",
              "      <td>Wisconsin</td>\n",
              "      <td>5893718</td>\n",
              "      <td>5686986</td>\n",
              "      <td>3.6%</td>\n",
              "      <td>206732</td>\n",
              "      <td>8</td>\n",
              "      <td>1.84%</td>\n",
              "      <td>583266</td>\n",
              "      <td>737184</td>\n",
              "      <td>710873</td>\n",
              "      <td>1.76%</td>\n",
              "      <td>1.82%</td>\n",
              "      <td>–0.06%</td>\n",
              "      <td>1.86%</td>\n",
              "    </tr>\n",
              "    <tr>\n",
              "      <th>20</th>\n",
              "      <td>21.0</td>\n",
              "      <td>22.0</td>\n",
              "      <td>Colorado</td>\n",
              "      <td>5773714</td>\n",
              "      <td>5029196</td>\n",
              "      <td>14.8%</td>\n",
              "      <td>744518</td>\n",
              "      <td>8</td>\n",
              "      <td>1.84%</td>\n",
              "      <td>645302</td>\n",
              "      <td>722771</td>\n",
              "      <td>718457</td>\n",
              "      <td>1.72%</td>\n",
              "      <td>1.61%</td>\n",
              "      <td>0.12%</td>\n",
              "      <td>1.86%</td>\n",
              "    </tr>\n",
              "    <tr>\n",
              "      <th>21</th>\n",
              "      <td>22.0</td>\n",
              "      <td>21.0</td>\n",
              "      <td>Minnesota</td>\n",
              "      <td>5706494</td>\n",
              "      <td>5303925</td>\n",
              "      <td>7.6%</td>\n",
              "      <td>402569</td>\n",
              "      <td>8</td>\n",
              "      <td>1.84%</td>\n",
              "      <td>565734</td>\n",
              "      <td>713719</td>\n",
              "      <td>662991</td>\n",
              "      <td>1.70%</td>\n",
              "      <td>1.70%</td>\n",
              "      <td>0.01%</td>\n",
              "      <td>1.86%</td>\n",
              "    </tr>\n",
              "    <tr>\n",
              "      <th>22</th>\n",
              "      <td>23.0</td>\n",
              "      <td>24.0</td>\n",
              "      <td>South Carolina</td>\n",
              "      <td>5118425</td>\n",
              "      <td>4625364</td>\n",
              "      <td>10.7%</td>\n",
              "      <td>493061</td>\n",
              "      <td>7</td>\n",
              "      <td>1.61%</td>\n",
              "      <td>579782</td>\n",
              "      <td>732102</td>\n",
              "      <td>660766</td>\n",
              "      <td>1.53%</td>\n",
              "      <td>1.48%</td>\n",
              "      <td>0.05%</td>\n",
              "      <td>1.67%</td>\n",
              "    </tr>\n",
              "    <tr>\n",
              "      <th>23</th>\n",
              "      <td>24.0</td>\n",
              "      <td>23.0</td>\n",
              "      <td>Alabama</td>\n",
              "      <td>5024279</td>\n",
              "      <td>4779736</td>\n",
              "      <td>5.1%</td>\n",
              "      <td>244543</td>\n",
              "      <td>7</td>\n",
              "      <td>1.61%</td>\n",
              "      <td>546837</td>\n",
              "      <td>718579</td>\n",
              "      <td>682819</td>\n",
              "      <td>1.50%</td>\n",
              "      <td>1.53%</td>\n",
              "      <td>–0.03%</td>\n",
              "      <td>1.67%</td>\n",
              "    </tr>\n",
              "    <tr>\n",
              "      <th>24</th>\n",
              "      <td>25.0</td>\n",
              "      <td>25.0</td>\n",
              "      <td>Louisiana</td>\n",
              "      <td>4657757</td>\n",
              "      <td>4533372</td>\n",
              "      <td>2.7%</td>\n",
              "      <td>124385</td>\n",
              "      <td>6</td>\n",
              "      <td>1.38%</td>\n",
              "      <td>580665</td>\n",
              "      <td>776911</td>\n",
              "      <td>755562</td>\n",
              "      <td>1.39%</td>\n",
              "      <td>1.45%</td>\n",
              "      <td>–0.06%</td>\n",
              "      <td>1.49%</td>\n",
              "    </tr>\n",
              "    <tr>\n",
              "      <th>25</th>\n",
              "      <td>26.0</td>\n",
              "      <td>26.0</td>\n",
              "      <td>Kentucky</td>\n",
              "      <td>4505836</td>\n",
              "      <td>4339367</td>\n",
              "      <td>3.8%</td>\n",
              "      <td>166469</td>\n",
              "      <td>6</td>\n",
              "      <td>1.38%</td>\n",
              "      <td>559656</td>\n",
              "      <td>751557</td>\n",
              "      <td>723228</td>\n",
              "      <td>1.35%</td>\n",
              "      <td>1.39%</td>\n",
              "      <td>–0.04%</td>\n",
              "      <td>1.49%</td>\n",
              "    </tr>\n",
              "    <tr>\n",
              "      <th>26</th>\n",
              "      <td>27.0</td>\n",
              "      <td>27.0</td>\n",
              "      <td>Oregon</td>\n",
              "      <td>4237256</td>\n",
              "      <td>3831074</td>\n",
              "      <td>10.6%</td>\n",
              "      <td>406182</td>\n",
              "      <td>6</td>\n",
              "      <td>1.38%</td>\n",
              "      <td>605930</td>\n",
              "      <td>706917</td>\n",
              "      <td>766215</td>\n",
              "      <td>1.26%</td>\n",
              "      <td>1.22%</td>\n",
              "      <td>0.04%</td>\n",
              "      <td>1.49%</td>\n",
              "    </tr>\n",
              "    <tr>\n",
              "      <th>27</th>\n",
              "      <td>28.0</td>\n",
              "      <td>28.0</td>\n",
              "      <td>Oklahoma</td>\n",
              "      <td>3959353</td>\n",
              "      <td>3751351</td>\n",
              "      <td>5.5%</td>\n",
              "      <td>208002</td>\n",
              "      <td>5</td>\n",
              "      <td>1.15%</td>\n",
              "      <td>568683</td>\n",
              "      <td>792703</td>\n",
              "      <td>750270</td>\n",
              "      <td>1.18%</td>\n",
              "      <td>1.20%</td>\n",
              "      <td>–0.02%</td>\n",
              "      <td>1.30%</td>\n",
              "    </tr>\n",
              "    <tr>\n",
              "      <th>28</th>\n",
              "      <td>29.0</td>\n",
              "      <td>30.0</td>\n",
              "      <td>Connecticut</td>\n",
              "      <td>3605944</td>\n",
              "      <td>3574097</td>\n",
              "      <td>0.9%</td>\n",
              "      <td>31847</td>\n",
              "      <td>5</td>\n",
              "      <td>1.15%</td>\n",
              "      <td>508144</td>\n",
              "      <td>721660</td>\n",
              "      <td>714819</td>\n",
              "      <td>1.08%</td>\n",
              "      <td>1.14%</td>\n",
              "      <td>–0.07%</td>\n",
              "      <td>1.30%</td>\n",
              "    </tr>\n",
              "    <tr>\n",
              "      <th>29</th>\n",
              "      <td>30.0</td>\n",
              "      <td>29.0</td>\n",
              "      <td>Puerto Rico</td>\n",
              "      <td>3285874</td>\n",
              "      <td>3725789</td>\n",
              "      <td>–‍11.8%</td>\n",
              "      <td>–439,915</td>\n",
              "      <td>1*</td>\n",
              "      <td>NaN</td>\n",
              "      <td>—</td>\n",
              "      <td>3193694</td>\n",
              "      <td>3725789</td>\n",
              "      <td>0.98%</td>\n",
              "      <td>1.19%</td>\n",
              "      <td>–0.21%</td>\n",
              "      <td>—</td>\n",
              "    </tr>\n",
              "    <tr>\n",
              "      <th>30</th>\n",
              "      <td>31.0</td>\n",
              "      <td>35.0</td>\n",
              "      <td>Utah</td>\n",
              "      <td>3271616</td>\n",
              "      <td>2763885</td>\n",
              "      <td>18.4%</td>\n",
              "      <td>507731</td>\n",
              "      <td>4</td>\n",
              "      <td>0.92%</td>\n",
              "      <td>541647</td>\n",
              "      <td>818813</td>\n",
              "      <td>690971</td>\n",
              "      <td>0.98%</td>\n",
              "      <td>0.88%</td>\n",
              "      <td>0.09%</td>\n",
              "      <td>1.12%</td>\n",
              "    </tr>\n",
              "    <tr>\n",
              "      <th>31</th>\n",
              "      <td>32.0</td>\n",
              "      <td>31.0</td>\n",
              "      <td>Iowa</td>\n",
              "      <td>3190369</td>\n",
              "      <td>3046355</td>\n",
              "      <td>4.7%</td>\n",
              "      <td>144014</td>\n",
              "      <td>4</td>\n",
              "      <td>0.92%</td>\n",
              "      <td>527260</td>\n",
              "      <td>798102</td>\n",
              "      <td>761589</td>\n",
              "      <td>0.95%</td>\n",
              "      <td>0.97%</td>\n",
              "      <td>–0.02%</td>\n",
              "      <td>1.12%</td>\n",
              "    </tr>\n",
              "    <tr>\n",
              "      <th>32</th>\n",
              "      <td>33.0</td>\n",
              "      <td>36.0</td>\n",
              "      <td>Nevada</td>\n",
              "      <td>3104614</td>\n",
              "      <td>2700551</td>\n",
              "      <td>15.0%</td>\n",
              "      <td>404063</td>\n",
              "      <td>4</td>\n",
              "      <td>0.92%</td>\n",
              "      <td>523043</td>\n",
              "      <td>777116</td>\n",
              "      <td>675138</td>\n",
              "      <td>0.93%</td>\n",
              "      <td>0.86%</td>\n",
              "      <td>0.06%</td>\n",
              "      <td>1.12%</td>\n",
              "    </tr>\n",
              "    <tr>\n",
              "      <th>33</th>\n",
              "      <td>34.0</td>\n",
              "      <td>33.0</td>\n",
              "      <td>Arkansas</td>\n",
              "      <td>3011524</td>\n",
              "      <td>2915918</td>\n",
              "      <td>3.3%</td>\n",
              "      <td>95606</td>\n",
              "      <td>4</td>\n",
              "      <td>0.92%</td>\n",
              "      <td>505087</td>\n",
              "      <td>753439</td>\n",
              "      <td>728980</td>\n",
              "      <td>0.90%</td>\n",
              "      <td>0.93%</td>\n",
              "      <td>–0.03%</td>\n",
              "      <td>1.12%</td>\n",
              "    </tr>\n",
              "    <tr>\n",
              "      <th>34</th>\n",
              "      <td>35.0</td>\n",
              "      <td>32.0</td>\n",
              "      <td>Mississippi</td>\n",
              "      <td>2961279</td>\n",
              "      <td>2967297</td>\n",
              "      <td>–0.2%</td>\n",
              "      <td>–6,018</td>\n",
              "      <td>4</td>\n",
              "      <td>0.92%</td>\n",
              "      <td>494464</td>\n",
              "      <td>740979</td>\n",
              "      <td>741824</td>\n",
              "      <td>0.88%</td>\n",
              "      <td>0.95%</td>\n",
              "      <td>–0.06%</td>\n",
              "      <td>1.12%</td>\n",
              "    </tr>\n",
              "    <tr>\n",
              "      <th>35</th>\n",
              "      <td>36.0</td>\n",
              "      <td>34.0</td>\n",
              "      <td>Kansas</td>\n",
              "      <td>2937880</td>\n",
              "      <td>2853118</td>\n",
              "      <td>3.0%</td>\n",
              "      <td>84762</td>\n",
              "      <td>4</td>\n",
              "      <td>0.92%</td>\n",
              "      <td>485634</td>\n",
              "      <td>735216</td>\n",
              "      <td>713280</td>\n",
              "      <td>0.88%</td>\n",
              "      <td>0.91%</td>\n",
              "      <td>–0.04%</td>\n",
              "      <td>1.12%</td>\n",
              "    </tr>\n",
              "    <tr>\n",
              "      <th>36</th>\n",
              "      <td>37.0</td>\n",
              "      <td>37.0</td>\n",
              "      <td>New Mexico</td>\n",
              "      <td>2117522</td>\n",
              "      <td>2059179</td>\n",
              "      <td>2.8%</td>\n",
              "      <td>58343</td>\n",
              "      <td>3</td>\n",
              "      <td>0.69%</td>\n",
              "      <td>421264</td>\n",
              "      <td>706740</td>\n",
              "      <td>686393</td>\n",
              "      <td>0.63%</td>\n",
              "      <td>0.66%</td>\n",
              "      <td>–0.03%</td>\n",
              "      <td>0.93%</td>\n",
              "    </tr>\n",
              "    <tr>\n",
              "      <th>37</th>\n",
              "      <td>38.0</td>\n",
              "      <td>39.0</td>\n",
              "      <td>Nebraska</td>\n",
              "      <td>1961504</td>\n",
              "      <td>1826341</td>\n",
              "      <td>7.4%</td>\n",
              "      <td>135163</td>\n",
              "      <td>3</td>\n",
              "      <td>0.69%</td>\n",
              "      <td>387510</td>\n",
              "      <td>654444</td>\n",
              "      <td>608780</td>\n",
              "      <td>0.59%</td>\n",
              "      <td>0.58%</td>\n",
              "      <td>0.00%</td>\n",
              "      <td>0.93%</td>\n",
              "    </tr>\n",
              "    <tr>\n",
              "      <th>38</th>\n",
              "      <td>39.0</td>\n",
              "      <td>40.0</td>\n",
              "      <td>Idaho</td>\n",
              "      <td>1839106</td>\n",
              "      <td>1567582</td>\n",
              "      <td>17.3%</td>\n",
              "      <td>271524</td>\n",
              "      <td>2</td>\n",
              "      <td>0.46%</td>\n",
              "      <td>456728</td>\n",
              "      <td>920689</td>\n",
              "      <td>783791</td>\n",
              "      <td>0.55%</td>\n",
              "      <td>0.50%</td>\n",
              "      <td>0.05%</td>\n",
              "      <td>0.74%</td>\n",
              "    </tr>\n",
              "    <tr>\n",
              "      <th>39</th>\n",
              "      <td>40.0</td>\n",
              "      <td>38.0</td>\n",
              "      <td>West Virginia</td>\n",
              "      <td>1793716</td>\n",
              "      <td>1852994</td>\n",
              "      <td>–3.2%</td>\n",
              "      <td>–59,278</td>\n",
              "      <td>2</td>\n",
              "      <td>0.46%</td>\n",
              "      <td>356957</td>\n",
              "      <td>897523</td>\n",
              "      <td>617665</td>\n",
              "      <td>0.54%</td>\n",
              "      <td>0.59%</td>\n",
              "      <td>–0.06%</td>\n",
              "      <td>0.74%</td>\n",
              "    </tr>\n",
              "    <tr>\n",
              "      <th>40</th>\n",
              "      <td>41.0</td>\n",
              "      <td>41.0</td>\n",
              "      <td>Hawaii</td>\n",
              "      <td>1455271</td>\n",
              "      <td>1360301</td>\n",
              "      <td>7.0%</td>\n",
              "      <td>94970</td>\n",
              "      <td>2</td>\n",
              "      <td>0.46%</td>\n",
              "      <td>351752</td>\n",
              "      <td>730069</td>\n",
              "      <td>680151</td>\n",
              "      <td>0.44%</td>\n",
              "      <td>0.43%</td>\n",
              "      <td>0.00%</td>\n",
              "      <td>0.74%</td>\n",
              "    </tr>\n",
              "    <tr>\n",
              "      <th>41</th>\n",
              "      <td>42.0</td>\n",
              "      <td>43.0</td>\n",
              "      <td>New Hampshire</td>\n",
              "      <td>1377529</td>\n",
              "      <td>1316470</td>\n",
              "      <td>4.6%</td>\n",
              "      <td>61059</td>\n",
              "      <td>2</td>\n",
              "      <td>0.46%</td>\n",
              "      <td>341569</td>\n",
              "      <td>689545</td>\n",
              "      <td>658235</td>\n",
              "      <td>0.41%</td>\n",
              "      <td>0.42%</td>\n",
              "      <td>–0.01%</td>\n",
              "      <td>0.74%</td>\n",
              "    </tr>\n",
              "    <tr>\n",
              "      <th>42</th>\n",
              "      <td>43.0</td>\n",
              "      <td>42.0</td>\n",
              "      <td>Maine</td>\n",
              "      <td>1362359</td>\n",
              "      <td>1328361</td>\n",
              "      <td>2.6%</td>\n",
              "      <td>33998</td>\n",
              "      <td>2</td>\n",
              "      <td>0.46%</td>\n",
              "      <td>337535</td>\n",
              "      <td>681791</td>\n",
              "      <td>664181</td>\n",
              "      <td>0.41%</td>\n",
              "      <td>0.42%</td>\n",
              "      <td>–0.02%</td>\n",
              "      <td>0.74%</td>\n",
              "    </tr>\n",
              "    <tr>\n",
              "      <th>43</th>\n",
              "      <td>44.0</td>\n",
              "      <td>44.0</td>\n",
              "      <td>Rhode Island</td>\n",
              "      <td>1097379</td>\n",
              "      <td>1052567</td>\n",
              "      <td>4.3%</td>\n",
              "      <td>44812</td>\n",
              "      <td>2</td>\n",
              "      <td>0.46%</td>\n",
              "      <td>264281</td>\n",
              "      <td>549082</td>\n",
              "      <td>526284</td>\n",
              "      <td>0.33%</td>\n",
              "      <td>0.34%</td>\n",
              "      <td>–0.01%</td>\n",
              "      <td>0.74%</td>\n",
              "    </tr>\n",
              "    <tr>\n",
              "      <th>44</th>\n",
              "      <td>45.0</td>\n",
              "      <td>45.0</td>\n",
              "      <td>Montana</td>\n",
              "      <td>1084225</td>\n",
              "      <td>989415</td>\n",
              "      <td>9.6%</td>\n",
              "      <td>94810</td>\n",
              "      <td>2</td>\n",
              "      <td>0.46%</td>\n",
              "      <td>360192</td>\n",
              "      <td>542704</td>\n",
              "      <td>989415</td>\n",
              "      <td>0.32%</td>\n",
              "      <td>0.32%</td>\n",
              "      <td>0.01%</td>\n",
              "      <td>0.74%</td>\n",
              "    </tr>\n",
              "    <tr>\n",
              "      <th>45</th>\n",
              "      <td>46.0</td>\n",
              "      <td>46.0</td>\n",
              "      <td>Delaware</td>\n",
              "      <td>989948</td>\n",
              "      <td>897934</td>\n",
              "      <td>10.2%</td>\n",
              "      <td>92014</td>\n",
              "      <td>1</td>\n",
              "      <td>0.23%</td>\n",
              "      <td>328936</td>\n",
              "      <td>990837</td>\n",
              "      <td>897934</td>\n",
              "      <td>0.30%</td>\n",
              "      <td>0.29%</td>\n",
              "      <td>0.01%</td>\n",
              "      <td>0.56%</td>\n",
              "    </tr>\n",
              "    <tr>\n",
              "      <th>46</th>\n",
              "      <td>47.0</td>\n",
              "      <td>47.0</td>\n",
              "      <td>South Dakota</td>\n",
              "      <td>886667</td>\n",
              "      <td>814180</td>\n",
              "      <td>8.9%</td>\n",
              "      <td>72487</td>\n",
              "      <td>1</td>\n",
              "      <td>0.23%</td>\n",
              "      <td>297572</td>\n",
              "      <td>887770</td>\n",
              "      <td>814180</td>\n",
              "      <td>0.26%</td>\n",
              "      <td>0.26%</td>\n",
              "      <td>0.00%</td>\n",
              "      <td>0.56%</td>\n",
              "    </tr>\n",
              "    <tr>\n",
              "      <th>47</th>\n",
              "      <td>48.0</td>\n",
              "      <td>49.0</td>\n",
              "      <td>North Dakota</td>\n",
              "      <td>779094</td>\n",
              "      <td>672591</td>\n",
              "      <td>15.8%</td>\n",
              "      <td>106503</td>\n",
              "      <td>1</td>\n",
              "      <td>0.23%</td>\n",
              "      <td>255103</td>\n",
              "      <td>779702</td>\n",
              "      <td>672591</td>\n",
              "      <td>0.23%</td>\n",
              "      <td>0.21%</td>\n",
              "      <td>0.02%</td>\n",
              "      <td>0.56%</td>\n",
              "    </tr>\n",
              "    <tr>\n",
              "      <th>48</th>\n",
              "      <td>49.0</td>\n",
              "      <td>48.0</td>\n",
              "      <td>Alaska</td>\n",
              "      <td>733391</td>\n",
              "      <td>710231</td>\n",
              "      <td>3.3%</td>\n",
              "      <td>23160</td>\n",
              "      <td>1</td>\n",
              "      <td>0.23%</td>\n",
              "      <td>243719</td>\n",
              "      <td>736081</td>\n",
              "      <td>710231</td>\n",
              "      <td>0.22%</td>\n",
              "      <td>0.23%</td>\n",
              "      <td>–0.01%</td>\n",
              "      <td>0.56%</td>\n",
              "    </tr>\n",
              "    <tr>\n",
              "      <th>49</th>\n",
              "      <td>50.0</td>\n",
              "      <td>51.0</td>\n",
              "      <td>District of Columbia</td>\n",
              "      <td>689545</td>\n",
              "      <td>601723</td>\n",
              "      <td>14.6%</td>\n",
              "      <td>87822</td>\n",
              "      <td>1*</td>\n",
              "      <td>—</td>\n",
              "      <td>237605</td>\n",
              "      <td>—</td>\n",
              "      <td>—</td>\n",
              "      <td>0.21%</td>\n",
              "      <td>0.19%</td>\n",
              "      <td>0.01%</td>\n",
              "      <td>0.56%</td>\n",
              "    </tr>\n",
              "    <tr>\n",
              "      <th>50</th>\n",
              "      <td>51.0</td>\n",
              "      <td>50.0</td>\n",
              "      <td>Vermont</td>\n",
              "      <td>643077</td>\n",
              "      <td>625741</td>\n",
              "      <td>2.8%</td>\n",
              "      <td>17336</td>\n",
              "      <td>1</td>\n",
              "      <td>0.23%</td>\n",
              "      <td>207782</td>\n",
              "      <td>643503</td>\n",
              "      <td>625741</td>\n",
              "      <td>0.19%</td>\n",
              "      <td>0.20%</td>\n",
              "      <td>–0.01%</td>\n",
              "      <td>0.56%</td>\n",
              "    </tr>\n",
              "    <tr>\n",
              "      <th>51</th>\n",
              "      <td>52.0</td>\n",
              "      <td>52.0</td>\n",
              "      <td>Wyoming</td>\n",
              "      <td>576851</td>\n",
              "      <td>563626</td>\n",
              "      <td>2.3%</td>\n",
              "      <td>13225</td>\n",
              "      <td>1</td>\n",
              "      <td>0.23%</td>\n",
              "      <td>194109</td>\n",
              "      <td>577719</td>\n",
              "      <td>563626</td>\n",
              "      <td>0.17%</td>\n",
              "      <td>0.18%</td>\n",
              "      <td>–0.01%</td>\n",
              "      <td>0.56%</td>\n",
              "    </tr>\n",
              "    <tr>\n",
              "      <th>52</th>\n",
              "      <td>53.0</td>\n",
              "      <td>53.0</td>\n",
              "      <td>Guam</td>\n",
              "      <td>168,485[7]</td>\n",
              "      <td>159,358[8]</td>\n",
              "      <td>5.7%</td>\n",
              "      <td>+9,127</td>\n",
              "      <td>1*</td>\n",
              "      <td>—</td>\n",
              "      <td>—</td>\n",
              "      <td>—</td>\n",
              "      <td>—</td>\n",
              "      <td>0.05%</td>\n",
              "      <td>0.05%</td>\n",
              "      <td>–0.00%</td>\n",
              "      <td>—</td>\n",
              "    </tr>\n",
              "    <tr>\n",
              "      <th>53</th>\n",
              "      <td>54.0</td>\n",
              "      <td>54.0</td>\n",
              "      <td>U.S. Virgin Islands</td>\n",
              "      <td>106,235[9]</td>\n",
              "      <td>106,405[10]</td>\n",
              "      <td>–0.2%</td>\n",
              "      <td>–170</td>\n",
              "      <td>1*</td>\n",
              "      <td>—</td>\n",
              "      <td>—</td>\n",
              "      <td>—</td>\n",
              "      <td>—</td>\n",
              "      <td>0.03%</td>\n",
              "      <td>0.03%</td>\n",
              "      <td>–0.00%</td>\n",
              "      <td>—</td>\n",
              "    </tr>\n",
              "    <tr>\n",
              "      <th>54</th>\n",
              "      <td>55.0</td>\n",
              "      <td>56.0</td>\n",
              "      <td>Northern Mariana Islands</td>\n",
              "      <td>51,433[11]</td>\n",
              "      <td>53,883[12]</td>\n",
              "      <td>–4.5%</td>\n",
              "      <td>–2,450</td>\n",
              "      <td>1*</td>\n",
              "      <td>—</td>\n",
              "      <td>—</td>\n",
              "      <td>—</td>\n",
              "      <td>—</td>\n",
              "      <td>0.02%</td>\n",
              "      <td>0.02%</td>\n",
              "      <td>–0.00%</td>\n",
              "      <td>—</td>\n",
              "    </tr>\n",
              "    <tr>\n",
              "      <th>55</th>\n",
              "      <td>56.0</td>\n",
              "      <td>55.0</td>\n",
              "      <td>American Samoa</td>\n",
              "      <td>49,437[13]</td>\n",
              "      <td>55,519[14]</td>\n",
              "      <td>–11.0%</td>\n",
              "      <td>–6,082</td>\n",
              "      <td>1*</td>\n",
              "      <td>—</td>\n",
              "      <td>—</td>\n",
              "      <td>—</td>\n",
              "      <td>—</td>\n",
              "      <td>0.01%</td>\n",
              "      <td>0.02%</td>\n",
              "      <td>–0.00%</td>\n",
              "      <td>—</td>\n",
              "    </tr>\n",
              "    <tr>\n",
              "      <th>56</th>\n",
              "      <td>NaN</td>\n",
              "      <td>NaN</td>\n",
              "      <td>Contiguous United States</td>\n",
              "      <td>328571074</td>\n",
              "      <td>306675006</td>\n",
              "      <td>7.5%</td>\n",
              "      <td>+22,896,068</td>\n",
              "      <td>432</td>\n",
              "      <td>99.31%</td>\n",
              "      <td>616471</td>\n",
              "      <td>757745</td>\n",
              "      <td>709896</td>\n",
              "      <td>98.04%</td>\n",
              "      <td>98.03%</td>\n",
              "      <td>0.23%</td>\n",
              "      <td>98.70%</td>\n",
              "    </tr>\n",
              "    <tr>\n",
              "      <th>57</th>\n",
              "      <td>NaN</td>\n",
              "      <td>NaN</td>\n",
              "      <td>The fifty states</td>\n",
              "      <td>330759736</td>\n",
              "      <td>308143815</td>\n",
              "      <td>7.3%</td>\n",
              "      <td>+22,615,921</td>\n",
              "      <td>435</td>\n",
              "      <td>—</td>\n",
              "      <td>614526</td>\n",
              "      <td>755796</td>\n",
              "      <td>708377</td>\n",
              "      <td>98.70%</td>\n",
              "      <td>98.50%</td>\n",
              "      <td>0.21%</td>\n",
              "      <td>99.44%</td>\n",
              "    </tr>\n",
              "    <tr>\n",
              "      <th>58</th>\n",
              "      <td>NaN</td>\n",
              "      <td>NaN</td>\n",
              "      <td>The fifty states and D.C.</td>\n",
              "      <td>331449281</td>\n",
              "      <td>308745538</td>\n",
              "      <td>7.4%</td>\n",
              "      <td>+22,703,743</td>\n",
              "      <td>435(+1*)</td>\n",
              "      <td>—</td>\n",
              "      <td>612424</td>\n",
              "      <td>—</td>\n",
              "      <td>—</td>\n",
              "      <td>98.91%</td>\n",
              "      <td>98.69%</td>\n",
              "      <td>0.22%</td>\n",
              "      <td>100.00%</td>\n",
              "    </tr>\n",
              "    <tr>\n",
              "      <th>59</th>\n",
              "      <td>NaN</td>\n",
              "      <td>NaN</td>\n",
              "      <td>Total United States</td>\n",
              "      <td>335110745</td>\n",
              "      <td>312846492</td>\n",
              "      <td>7.1%</td>\n",
              "      <td>+22,264,253</td>\n",
              "      <td>435(+6*)</td>\n",
              "      <td>—</td>\n",
              "      <td>—</td>\n",
              "      <td>—</td>\n",
              "      <td>—</td>\n",
              "      <td>—</td>\n",
              "      <td>—</td>\n",
              "      <td>—</td>\n",
              "      <td>—</td>\n",
              "    </tr>\n",
              "  </tbody>\n",
              "</table>\n",
              "</div>"
            ],
            "text/plain": [
              "    Rank               State or territory  ... % of the total U.S. pop.[d]              % of Elec. Coll.\n",
              "     '20   '10         State or territory  ...                        2010 Ch.2010–2020 % of Elec. Coll.\n",
              "0    1.0   1.0                 California  ...                      11.91%       –0.11%           10.04%\n",
              "1    2.0   2.0                      Texas  ...                       8.04%        0.66%            7.43%\n",
              "2    3.0   4.0                    Florida  ...                       6.01%        0.42%            5.58%\n",
              "3    4.0   3.0                   New York  ...                       6.19%       –0.17%            5.20%\n",
              "4    5.0   6.0               Pennsylvania  ...                       4.06%       –0.18%            3.53%\n",
              "5    6.0   5.0                   Illinois  ...                       4.10%       –0.28%            3.53%\n",
              "6    7.0   7.0                       Ohio  ...                       3.69%       –0.17%            3.16%\n",
              "7    8.0   9.0                    Georgia  ...                       3.10%        0.10%            2.97%\n",
              "8    9.0  10.0             North Carolina  ...                       3.05%        0.07%            2.97%\n",
              "9   10.0   8.0                   Michigan  ...                       3.16%       –0.15%            2.79%\n",
              "10  11.0  11.0                 New Jersey  ...                       2.81%       –0.04%            2.60%\n",
              "11  12.0  12.0                   Virginia  ...                       2.56%        0.02%            2.42%\n",
              "12  13.0  13.0                 Washington  ...                       2.15%        0.15%            2.23%\n",
              "13  14.0  16.0                    Arizona  ...                       2.04%        0.09%            2.04%\n",
              "14  15.0  14.0              Massachusetts  ...                       2.09%        0.00%            2.04%\n",
              "15  16.0  17.0                  Tennessee  ...                       2.03%        0.03%            2.04%\n",
              "16  17.0  15.0                    Indiana  ...                       2.07%       –0.05%            2.04%\n",
              "17  18.0  19.0                   Maryland  ...                       1.85%       –0.00%            1.86%\n",
              "18  19.0  18.0                   Missouri  ...                       1.91%       –0.08%            1.86%\n",
              "19  20.0  20.0                  Wisconsin  ...                       1.82%       –0.06%            1.86%\n",
              "20  21.0  22.0                   Colorado  ...                       1.61%        0.12%            1.86%\n",
              "21  22.0  21.0                  Minnesota  ...                       1.70%        0.01%            1.86%\n",
              "22  23.0  24.0             South Carolina  ...                       1.48%        0.05%            1.67%\n",
              "23  24.0  23.0                    Alabama  ...                       1.53%       –0.03%            1.67%\n",
              "24  25.0  25.0                  Louisiana  ...                       1.45%       –0.06%            1.49%\n",
              "25  26.0  26.0                   Kentucky  ...                       1.39%       –0.04%            1.49%\n",
              "26  27.0  27.0                     Oregon  ...                       1.22%        0.04%            1.49%\n",
              "27  28.0  28.0                   Oklahoma  ...                       1.20%       –0.02%            1.30%\n",
              "28  29.0  30.0                Connecticut  ...                       1.14%       –0.07%            1.30%\n",
              "29  30.0  29.0                Puerto Rico  ...                       1.19%       –0.21%                —\n",
              "30  31.0  35.0                       Utah  ...                       0.88%        0.09%            1.12%\n",
              "31  32.0  31.0                       Iowa  ...                       0.97%       –0.02%            1.12%\n",
              "32  33.0  36.0                     Nevada  ...                       0.86%        0.06%            1.12%\n",
              "33  34.0  33.0                   Arkansas  ...                       0.93%       –0.03%            1.12%\n",
              "34  35.0  32.0                Mississippi  ...                       0.95%       –0.06%            1.12%\n",
              "35  36.0  34.0                     Kansas  ...                       0.91%       –0.04%            1.12%\n",
              "36  37.0  37.0                 New Mexico  ...                       0.66%       –0.03%            0.93%\n",
              "37  38.0  39.0                   Nebraska  ...                       0.58%        0.00%            0.93%\n",
              "38  39.0  40.0                      Idaho  ...                       0.50%        0.05%            0.74%\n",
              "39  40.0  38.0              West Virginia  ...                       0.59%       –0.06%            0.74%\n",
              "40  41.0  41.0                     Hawaii  ...                       0.43%        0.00%            0.74%\n",
              "41  42.0  43.0              New Hampshire  ...                       0.42%       –0.01%            0.74%\n",
              "42  43.0  42.0                      Maine  ...                       0.42%       –0.02%            0.74%\n",
              "43  44.0  44.0               Rhode Island  ...                       0.34%       –0.01%            0.74%\n",
              "44  45.0  45.0                    Montana  ...                       0.32%        0.01%            0.74%\n",
              "45  46.0  46.0                   Delaware  ...                       0.29%        0.01%            0.56%\n",
              "46  47.0  47.0               South Dakota  ...                       0.26%        0.00%            0.56%\n",
              "47  48.0  49.0               North Dakota  ...                       0.21%        0.02%            0.56%\n",
              "48  49.0  48.0                     Alaska  ...                       0.23%       –0.01%            0.56%\n",
              "49  50.0  51.0       District of Columbia  ...                       0.19%        0.01%            0.56%\n",
              "50  51.0  50.0                    Vermont  ...                       0.20%       –0.01%            0.56%\n",
              "51  52.0  52.0                    Wyoming  ...                       0.18%       –0.01%            0.56%\n",
              "52  53.0  53.0                       Guam  ...                       0.05%       –0.00%                —\n",
              "53  54.0  54.0        U.S. Virgin Islands  ...                       0.03%       –0.00%                —\n",
              "54  55.0  56.0   Northern Mariana Islands  ...                       0.02%       –0.00%                —\n",
              "55  56.0  55.0             American Samoa  ...                       0.02%       –0.00%                —\n",
              "56   NaN   NaN   Contiguous United States  ...                      98.03%        0.23%           98.70%\n",
              "57   NaN   NaN           The fifty states  ...                      98.50%        0.21%           99.44%\n",
              "58   NaN   NaN  The fifty states and D.C.  ...                      98.69%        0.22%          100.00%\n",
              "59   NaN   NaN        Total United States  ...                           —            —                —\n",
              "\n",
              "[60 rows x 16 columns]"
            ]
          },
          "metadata": {
            "tags": []
          },
          "execution_count": 27
        }
      ]
    },
    {
      "cell_type": "code",
      "metadata": {
        "id": "ejnpA-T0xDvy",
        "colab": {
          "base_uri": "https://localhost:8080/"
        },
        "outputId": "e0a63ee6-7eb1-4008-cc86-039fb56cf157"
      },
      "source": [
        "df_pop.columns"
      ],
      "id": "ejnpA-T0xDvy",
      "execution_count": null,
      "outputs": [
        {
          "output_type": "execute_result",
          "data": {
            "text/plain": [
              "MultiIndex([(                        'Rank',                          ''20'),\n",
              "            (                        'Rank',                          ''10'),\n",
              "            (          'State or territory',           'State or territory'),\n",
              "            (     'Census population[6][a]',                'April 1, 2020'),\n",
              "            (     'Census population[6][a]',                'April 1, 2010'),\n",
              "            (      'Change,2010–2020[6][b]',                            '%'),\n",
              "            (      'Change,2010–2020[6][b]',                         'Abs.'),\n",
              "            (              'House of Reps.',                           'S.'),\n",
              "            (              'House of Reps.',                            '%'),\n",
              "            ('Pop. per elec. vote, 2020[c]', 'Pop. per elec. vote, 2020[c]'),\n",
              "            (        'Census pop. per seat',                          ''20'),\n",
              "            (        'Census pop. per seat',                          ''10'),\n",
              "            ( '% of the total U.S. pop.[d]',                    'Est. 2020'),\n",
              "            ( '% of the total U.S. pop.[d]',                         '2010'),\n",
              "            ( '% of the total U.S. pop.[d]',                 'Ch.2010–2020'),\n",
              "            (            '% of Elec. Coll.',             '% of Elec. Coll.')],\n",
              "           )"
            ]
          },
          "metadata": {
            "tags": []
          },
          "execution_count": 28
        }
      ]
    },
    {
      "cell_type": "code",
      "metadata": {
        "id": "3lyHqZAgqvQ8",
        "colab": {
          "base_uri": "https://localhost:8080/"
        },
        "outputId": "ccc73403-7b5d-414b-a906-1317f62e7e92"
      },
      "source": [
        "df_pop2 = pd.DataFrame()\n",
        "df_pop2['state'] = df_pop['State or territory']['State or territory']\n",
        "df_pop2['population_2020'] = df_pop['Census population[6][a]']['April 1, 2020']\n",
        "\n",
        "df_pop2=df_pop2.drop(index=df_pop2.index[52:]).set_index('state').drop(index=['District of Columbia','Puerto Rico'])\n",
        "#display(df_pop2)\n",
        "df_pop2.shape"
      ],
      "id": "3lyHqZAgqvQ8",
      "execution_count": null,
      "outputs": [
        {
          "output_type": "execute_result",
          "data": {
            "text/plain": [
              "(50, 1)"
            ]
          },
          "metadata": {
            "tags": []
          },
          "execution_count": 49
        }
      ]
    },
    {
      "cell_type": "markdown",
      "metadata": {
        "id": "dq6dPLXEFCux"
      },
      "source": [
        "##### Método 2:"
      ],
      "id": "dq6dPLXEFCux"
    },
    {
      "cell_type": "code",
      "metadata": {
        "colab": {
          "base_uri": "https://localhost:8080/",
          "height": 161
        },
        "id": "8EJ4H5j3A9IR",
        "outputId": "e74a9f97-905b-475a-b0ae-610a52e5004c"
      },
      "source": [
        "df_pop2 = pd.read_html(url, header=1)[0].rename(columns={'State or territory':'state','April 1, 2020':'population_2020'})\n",
        "\n",
        "col = df_pop2.columns.drop(['state','population_2020'])\n",
        "\n",
        "df_pop2.drop(columns=col, inplace=True)\n",
        "df_pop2=df_pop2.drop(index=df_pop2.index[52:]).set_index('state').drop(index=['District of Columbia','Puerto Rico'])\n",
        "\n",
        "display( df_pop2.head(2) )\n",
        "df_pop2.shape"
      ],
      "id": "8EJ4H5j3A9IR",
      "execution_count": null,
      "outputs": [
        {
          "output_type": "display_data",
          "data": {
            "text/html": [
              "<div>\n",
              "<style scoped>\n",
              "    .dataframe tbody tr th:only-of-type {\n",
              "        vertical-align: middle;\n",
              "    }\n",
              "\n",
              "    .dataframe tbody tr th {\n",
              "        vertical-align: top;\n",
              "    }\n",
              "\n",
              "    .dataframe thead th {\n",
              "        text-align: right;\n",
              "    }\n",
              "</style>\n",
              "<table border=\"1\" class=\"dataframe\">\n",
              "  <thead>\n",
              "    <tr style=\"text-align: right;\">\n",
              "      <th></th>\n",
              "      <th>population_2020</th>\n",
              "    </tr>\n",
              "    <tr>\n",
              "      <th>state</th>\n",
              "      <th></th>\n",
              "    </tr>\n",
              "  </thead>\n",
              "  <tbody>\n",
              "    <tr>\n",
              "      <th>California</th>\n",
              "      <td>39538223</td>\n",
              "    </tr>\n",
              "    <tr>\n",
              "      <th>Texas</th>\n",
              "      <td>29145505</td>\n",
              "    </tr>\n",
              "  </tbody>\n",
              "</table>\n",
              "</div>"
            ],
            "text/plain": [
              "           population_2020\n",
              "state                     \n",
              "California        39538223\n",
              "Texas             29145505"
            ]
          },
          "metadata": {
            "tags": []
          }
        },
        {
          "output_type": "execute_result",
          "data": {
            "text/plain": [
              "(50, 1)"
            ]
          },
          "metadata": {
            "tags": []
          },
          "execution_count": 48
        }
      ]
    },
    {
      "cell_type": "markdown",
      "metadata": {
        "id": "Uh4nv6MmFa2d"
      },
      "source": [
        "##### Método 3:"
      ],
      "id": "Uh4nv6MmFa2d"
    },
    {
      "cell_type": "code",
      "metadata": {
        "colab": {
          "base_uri": "https://localhost:8080/",
          "height": 161
        },
        "id": "P5q9gd5VET8X",
        "outputId": "bf4dfadf-4749-404f-8eb9-7473ed5fc765"
      },
      "source": [
        "df_pop2 = (pd.read_html(url, header=1)[0]\n",
        "           .rename(columns={'State or territory':'state','April 1, 2020':'population_2020'})\n",
        "           .iloc[:52, 2:4]\n",
        "           .set_index('state')\n",
        "           .drop(index=['District of Columbia','Puerto Rico'])\n",
        "          )\n",
        "\n",
        "display( df_pop2.head(2) )\n",
        "df_pop2.shape"
      ],
      "id": "P5q9gd5VET8X",
      "execution_count": null,
      "outputs": [
        {
          "output_type": "display_data",
          "data": {
            "text/html": [
              "<div>\n",
              "<style scoped>\n",
              "    .dataframe tbody tr th:only-of-type {\n",
              "        vertical-align: middle;\n",
              "    }\n",
              "\n",
              "    .dataframe tbody tr th {\n",
              "        vertical-align: top;\n",
              "    }\n",
              "\n",
              "    .dataframe thead th {\n",
              "        text-align: right;\n",
              "    }\n",
              "</style>\n",
              "<table border=\"1\" class=\"dataframe\">\n",
              "  <thead>\n",
              "    <tr style=\"text-align: right;\">\n",
              "      <th></th>\n",
              "      <th>population_2020</th>\n",
              "    </tr>\n",
              "    <tr>\n",
              "      <th>state</th>\n",
              "      <th></th>\n",
              "    </tr>\n",
              "  </thead>\n",
              "  <tbody>\n",
              "    <tr>\n",
              "      <th>California</th>\n",
              "      <td>39538223</td>\n",
              "    </tr>\n",
              "    <tr>\n",
              "      <th>Texas</th>\n",
              "      <td>29145505</td>\n",
              "    </tr>\n",
              "  </tbody>\n",
              "</table>\n",
              "</div>"
            ],
            "text/plain": [
              "           population_2020\n",
              "state                     \n",
              "California        39538223\n",
              "Texas             29145505"
            ]
          },
          "metadata": {
            "tags": []
          }
        },
        {
          "output_type": "execute_result",
          "data": {
            "text/plain": [
              "(50, 1)"
            ]
          },
          "metadata": {
            "tags": []
          },
          "execution_count": 50
        }
      ]
    },
    {
      "cell_type": "markdown",
      "metadata": {
        "id": "sWrAnFKpE3WN"
      },
      "source": [
        "##### Merge"
      ],
      "id": "sWrAnFKpE3WN"
    },
    {
      "cell_type": "code",
      "metadata": {
        "colab": {
          "base_uri": "https://localhost:8080/",
          "height": 1000
        },
        "id": "N3Q_0bQZn9fF",
        "outputId": "22329081-ac05-45c4-e1bd-bbf4c2d92c5d"
      },
      "source": [
        "States_pop = pd.merge(States, df_pop2, how='left', on='state')\n",
        "States_pop.population_2020 = States_pop.population_2020.astype('int64')\n",
        "States_pop"
      ],
      "id": "N3Q_0bQZn9fF",
      "execution_count": null,
      "outputs": [
        {
          "output_type": "execute_result",
          "data": {
            "text/html": [
              "<div>\n",
              "<style scoped>\n",
              "    .dataframe tbody tr th:only-of-type {\n",
              "        vertical-align: middle;\n",
              "    }\n",
              "\n",
              "    .dataframe tbody tr th {\n",
              "        vertical-align: top;\n",
              "    }\n",
              "\n",
              "    .dataframe thead th {\n",
              "        text-align: right;\n",
              "    }\n",
              "</style>\n",
              "<table border=\"1\" class=\"dataframe\">\n",
              "  <thead>\n",
              "    <tr style=\"text-align: right;\">\n",
              "      <th></th>\n",
              "      <th>não_potável</th>\n",
              "      <th>potável</th>\n",
              "      <th>population_2020</th>\n",
              "    </tr>\n",
              "    <tr>\n",
              "      <th>state</th>\n",
              "      <th></th>\n",
              "      <th></th>\n",
              "      <th></th>\n",
              "    </tr>\n",
              "  </thead>\n",
              "  <tbody>\n",
              "    <tr>\n",
              "      <th>Alabama</th>\n",
              "      <td>0.555556</td>\n",
              "      <td>0.444444</td>\n",
              "      <td>5024279</td>\n",
              "    </tr>\n",
              "    <tr>\n",
              "      <th>Alaska</th>\n",
              "      <td>0.529412</td>\n",
              "      <td>0.470588</td>\n",
              "      <td>733391</td>\n",
              "    </tr>\n",
              "    <tr>\n",
              "      <th>Arizona</th>\n",
              "      <td>0.605634</td>\n",
              "      <td>0.394366</td>\n",
              "      <td>7151502</td>\n",
              "    </tr>\n",
              "    <tr>\n",
              "      <th>Arkansas</th>\n",
              "      <td>0.553846</td>\n",
              "      <td>0.446154</td>\n",
              "      <td>3011524</td>\n",
              "    </tr>\n",
              "    <tr>\n",
              "      <th>California</th>\n",
              "      <td>0.606061</td>\n",
              "      <td>0.393939</td>\n",
              "      <td>39538223</td>\n",
              "    </tr>\n",
              "    <tr>\n",
              "      <th>Colorado</th>\n",
              "      <td>0.637931</td>\n",
              "      <td>0.362069</td>\n",
              "      <td>5773714</td>\n",
              "    </tr>\n",
              "    <tr>\n",
              "      <th>Connecticut</th>\n",
              "      <td>0.629032</td>\n",
              "      <td>0.370968</td>\n",
              "      <td>3605944</td>\n",
              "    </tr>\n",
              "    <tr>\n",
              "      <th>Delaware</th>\n",
              "      <td>0.539683</td>\n",
              "      <td>0.460317</td>\n",
              "      <td>989948</td>\n",
              "    </tr>\n",
              "    <tr>\n",
              "      <th>Florida</th>\n",
              "      <td>0.558824</td>\n",
              "      <td>0.441176</td>\n",
              "      <td>21538187</td>\n",
              "    </tr>\n",
              "    <tr>\n",
              "      <th>Georgia</th>\n",
              "      <td>0.656250</td>\n",
              "      <td>0.343750</td>\n",
              "      <td>10711908</td>\n",
              "    </tr>\n",
              "    <tr>\n",
              "      <th>Hawaii</th>\n",
              "      <td>0.619718</td>\n",
              "      <td>0.380282</td>\n",
              "      <td>1455271</td>\n",
              "    </tr>\n",
              "    <tr>\n",
              "      <th>Idaho</th>\n",
              "      <td>0.656716</td>\n",
              "      <td>0.343284</td>\n",
              "      <td>1839106</td>\n",
              "    </tr>\n",
              "    <tr>\n",
              "      <th>Illinois</th>\n",
              "      <td>0.525424</td>\n",
              "      <td>0.474576</td>\n",
              "      <td>12812508</td>\n",
              "    </tr>\n",
              "    <tr>\n",
              "      <th>Indiana</th>\n",
              "      <td>0.605634</td>\n",
              "      <td>0.394366</td>\n",
              "      <td>6785528</td>\n",
              "    </tr>\n",
              "    <tr>\n",
              "      <th>Iowa</th>\n",
              "      <td>0.666667</td>\n",
              "      <td>0.333333</td>\n",
              "      <td>3190369</td>\n",
              "    </tr>\n",
              "    <tr>\n",
              "      <th>Kansas</th>\n",
              "      <td>0.562500</td>\n",
              "      <td>0.437500</td>\n",
              "      <td>2937880</td>\n",
              "    </tr>\n",
              "    <tr>\n",
              "      <th>Kentucky</th>\n",
              "      <td>0.589744</td>\n",
              "      <td>0.410256</td>\n",
              "      <td>4505836</td>\n",
              "    </tr>\n",
              "    <tr>\n",
              "      <th>Louisiana</th>\n",
              "      <td>0.631579</td>\n",
              "      <td>0.368421</td>\n",
              "      <td>4657757</td>\n",
              "    </tr>\n",
              "    <tr>\n",
              "      <th>Maine</th>\n",
              "      <td>0.614286</td>\n",
              "      <td>0.385714</td>\n",
              "      <td>1362359</td>\n",
              "    </tr>\n",
              "    <tr>\n",
              "      <th>Maryland</th>\n",
              "      <td>0.666667</td>\n",
              "      <td>0.333333</td>\n",
              "      <td>6177224</td>\n",
              "    </tr>\n",
              "    <tr>\n",
              "      <th>Massachusetts</th>\n",
              "      <td>0.477612</td>\n",
              "      <td>0.522388</td>\n",
              "      <td>7029917</td>\n",
              "    </tr>\n",
              "    <tr>\n",
              "      <th>Michigan</th>\n",
              "      <td>0.622642</td>\n",
              "      <td>0.377358</td>\n",
              "      <td>10077331</td>\n",
              "    </tr>\n",
              "    <tr>\n",
              "      <th>Minnesota</th>\n",
              "      <td>0.783333</td>\n",
              "      <td>0.216667</td>\n",
              "      <td>5706494</td>\n",
              "    </tr>\n",
              "    <tr>\n",
              "      <th>Mississippi</th>\n",
              "      <td>0.615385</td>\n",
              "      <td>0.384615</td>\n",
              "      <td>2961279</td>\n",
              "    </tr>\n",
              "    <tr>\n",
              "      <th>Missouri</th>\n",
              "      <td>0.555556</td>\n",
              "      <td>0.444444</td>\n",
              "      <td>6154913</td>\n",
              "    </tr>\n",
              "    <tr>\n",
              "      <th>Montana</th>\n",
              "      <td>0.578947</td>\n",
              "      <td>0.421053</td>\n",
              "      <td>1084225</td>\n",
              "    </tr>\n",
              "    <tr>\n",
              "      <th>Nebraska</th>\n",
              "      <td>0.571429</td>\n",
              "      <td>0.428571</td>\n",
              "      <td>1961504</td>\n",
              "    </tr>\n",
              "    <tr>\n",
              "      <th>Nevada</th>\n",
              "      <td>0.634921</td>\n",
              "      <td>0.365079</td>\n",
              "      <td>3104614</td>\n",
              "    </tr>\n",
              "    <tr>\n",
              "      <th>New Hampshire</th>\n",
              "      <td>0.596491</td>\n",
              "      <td>0.403509</td>\n",
              "      <td>1377529</td>\n",
              "    </tr>\n",
              "    <tr>\n",
              "      <th>New Jersey</th>\n",
              "      <td>0.655738</td>\n",
              "      <td>0.344262</td>\n",
              "      <td>9288994</td>\n",
              "    </tr>\n",
              "    <tr>\n",
              "      <th>New Mexico</th>\n",
              "      <td>0.583333</td>\n",
              "      <td>0.416667</td>\n",
              "      <td>2117522</td>\n",
              "    </tr>\n",
              "    <tr>\n",
              "      <th>New York</th>\n",
              "      <td>0.701493</td>\n",
              "      <td>0.298507</td>\n",
              "      <td>20201249</td>\n",
              "    </tr>\n",
              "    <tr>\n",
              "      <th>North Carolina</th>\n",
              "      <td>0.661017</td>\n",
              "      <td>0.338983</td>\n",
              "      <td>10439388</td>\n",
              "    </tr>\n",
              "    <tr>\n",
              "      <th>North Dakota</th>\n",
              "      <td>0.653846</td>\n",
              "      <td>0.346154</td>\n",
              "      <td>779094</td>\n",
              "    </tr>\n",
              "    <tr>\n",
              "      <th>Ohio</th>\n",
              "      <td>0.704918</td>\n",
              "      <td>0.295082</td>\n",
              "      <td>11799448</td>\n",
              "    </tr>\n",
              "    <tr>\n",
              "      <th>Oklahoma</th>\n",
              "      <td>0.500000</td>\n",
              "      <td>0.500000</td>\n",
              "      <td>3959353</td>\n",
              "    </tr>\n",
              "    <tr>\n",
              "      <th>Oregon</th>\n",
              "      <td>0.578947</td>\n",
              "      <td>0.421053</td>\n",
              "      <td>4237256</td>\n",
              "    </tr>\n",
              "    <tr>\n",
              "      <th>Pennsylvania</th>\n",
              "      <td>0.539683</td>\n",
              "      <td>0.460317</td>\n",
              "      <td>13011844</td>\n",
              "    </tr>\n",
              "    <tr>\n",
              "      <th>Rhode Island</th>\n",
              "      <td>0.666667</td>\n",
              "      <td>0.333333</td>\n",
              "      <td>1097379</td>\n",
              "    </tr>\n",
              "    <tr>\n",
              "      <th>South Carolina</th>\n",
              "      <td>0.531250</td>\n",
              "      <td>0.468750</td>\n",
              "      <td>5118425</td>\n",
              "    </tr>\n",
              "    <tr>\n",
              "      <th>South Dakota</th>\n",
              "      <td>0.691176</td>\n",
              "      <td>0.308824</td>\n",
              "      <td>886667</td>\n",
              "    </tr>\n",
              "    <tr>\n",
              "      <th>Tennessee</th>\n",
              "      <td>0.544118</td>\n",
              "      <td>0.455882</td>\n",
              "      <td>6910840</td>\n",
              "    </tr>\n",
              "    <tr>\n",
              "      <th>Texas</th>\n",
              "      <td>0.630137</td>\n",
              "      <td>0.369863</td>\n",
              "      <td>29145505</td>\n",
              "    </tr>\n",
              "    <tr>\n",
              "      <th>Utah</th>\n",
              "      <td>0.625000</td>\n",
              "      <td>0.375000</td>\n",
              "      <td>3271616</td>\n",
              "    </tr>\n",
              "    <tr>\n",
              "      <th>Vermont</th>\n",
              "      <td>0.712329</td>\n",
              "      <td>0.287671</td>\n",
              "      <td>643077</td>\n",
              "    </tr>\n",
              "    <tr>\n",
              "      <th>Virginia</th>\n",
              "      <td>0.700000</td>\n",
              "      <td>0.300000</td>\n",
              "      <td>8631393</td>\n",
              "    </tr>\n",
              "    <tr>\n",
              "      <th>Washington</th>\n",
              "      <td>0.615385</td>\n",
              "      <td>0.384615</td>\n",
              "      <td>7705281</td>\n",
              "    </tr>\n",
              "    <tr>\n",
              "      <th>West Virginia</th>\n",
              "      <td>0.614286</td>\n",
              "      <td>0.385714</td>\n",
              "      <td>1793716</td>\n",
              "    </tr>\n",
              "    <tr>\n",
              "      <th>Wisconsin</th>\n",
              "      <td>0.555556</td>\n",
              "      <td>0.444444</td>\n",
              "      <td>5893718</td>\n",
              "    </tr>\n",
              "    <tr>\n",
              "      <th>Wyoming</th>\n",
              "      <td>0.584615</td>\n",
              "      <td>0.415385</td>\n",
              "      <td>576851</td>\n",
              "    </tr>\n",
              "  </tbody>\n",
              "</table>\n",
              "</div>"
            ],
            "text/plain": [
              "                não_potável   potável  population_2020\n",
              "state                                                 \n",
              "Alabama            0.555556  0.444444          5024279\n",
              "Alaska             0.529412  0.470588           733391\n",
              "Arizona            0.605634  0.394366          7151502\n",
              "Arkansas           0.553846  0.446154          3011524\n",
              "California         0.606061  0.393939         39538223\n",
              "Colorado           0.637931  0.362069          5773714\n",
              "Connecticut        0.629032  0.370968          3605944\n",
              "Delaware           0.539683  0.460317           989948\n",
              "Florida            0.558824  0.441176         21538187\n",
              "Georgia            0.656250  0.343750         10711908\n",
              "Hawaii             0.619718  0.380282          1455271\n",
              "Idaho              0.656716  0.343284          1839106\n",
              "Illinois           0.525424  0.474576         12812508\n",
              "Indiana            0.605634  0.394366          6785528\n",
              "Iowa               0.666667  0.333333          3190369\n",
              "Kansas             0.562500  0.437500          2937880\n",
              "Kentucky           0.589744  0.410256          4505836\n",
              "Louisiana          0.631579  0.368421          4657757\n",
              "Maine              0.614286  0.385714          1362359\n",
              "Maryland           0.666667  0.333333          6177224\n",
              "Massachusetts      0.477612  0.522388          7029917\n",
              "Michigan           0.622642  0.377358         10077331\n",
              "Minnesota          0.783333  0.216667          5706494\n",
              "Mississippi        0.615385  0.384615          2961279\n",
              "Missouri           0.555556  0.444444          6154913\n",
              "Montana            0.578947  0.421053          1084225\n",
              "Nebraska           0.571429  0.428571          1961504\n",
              "Nevada             0.634921  0.365079          3104614\n",
              "New Hampshire      0.596491  0.403509          1377529\n",
              "New Jersey         0.655738  0.344262          9288994\n",
              "New Mexico         0.583333  0.416667          2117522\n",
              "New York           0.701493  0.298507         20201249\n",
              "North Carolina     0.661017  0.338983         10439388\n",
              "North Dakota       0.653846  0.346154           779094\n",
              "Ohio               0.704918  0.295082         11799448\n",
              "Oklahoma           0.500000  0.500000          3959353\n",
              "Oregon             0.578947  0.421053          4237256\n",
              "Pennsylvania       0.539683  0.460317         13011844\n",
              "Rhode Island       0.666667  0.333333          1097379\n",
              "South Carolina     0.531250  0.468750          5118425\n",
              "South Dakota       0.691176  0.308824           886667\n",
              "Tennessee          0.544118  0.455882          6910840\n",
              "Texas              0.630137  0.369863         29145505\n",
              "Utah               0.625000  0.375000          3271616\n",
              "Vermont            0.712329  0.287671           643077\n",
              "Virginia           0.700000  0.300000          8631393\n",
              "Washington         0.615385  0.384615          7705281\n",
              "West Virginia      0.614286  0.385714          1793716\n",
              "Wisconsin          0.555556  0.444444          5893718\n",
              "Wyoming            0.584615  0.415385           576851"
            ]
          },
          "metadata": {
            "tags": []
          },
          "execution_count": 57
        }
      ]
    },
    {
      "cell_type": "code",
      "metadata": {
        "colab": {
          "base_uri": "https://localhost:8080/"
        },
        "id": "1j2Z5WXtn9hg",
        "outputId": "44e02cdc-0ff5-4c20-84fc-3d70a233ae1a"
      },
      "source": [
        "States_pop.info()"
      ],
      "id": "1j2Z5WXtn9hg",
      "execution_count": null,
      "outputs": [
        {
          "output_type": "stream",
          "text": [
            "<class 'pandas.core.frame.DataFrame'>\n",
            "Index: 50 entries, Alabama to Wyoming\n",
            "Data columns (total 3 columns):\n",
            " #   Column           Non-Null Count  Dtype  \n",
            "---  ------           --------------  -----  \n",
            " 0   não_potável      50 non-null     float64\n",
            " 1   potável          50 non-null     float64\n",
            " 2   population_2020  50 non-null     int64  \n",
            "dtypes: float64(2), int64(1)\n",
            "memory usage: 1.6+ KB\n"
          ],
          "name": "stdout"
        }
      ]
    },
    {
      "cell_type": "code",
      "metadata": {
        "colab": {
          "base_uri": "https://localhost:8080/"
        },
        "id": "eX1bkET4AP2G",
        "outputId": "2e567028-7761-41c8-a8d7-7cea116985b7"
      },
      "source": [
        "filtro = States_pop['population_2020']>1e+7\n",
        "States_pop[filtro]"
      ],
      "id": "eX1bkET4AP2G",
      "execution_count": null,
      "outputs": [
        {
          "output_type": "execute_result",
          "data": {
            "text/html": [
              "<div>\n",
              "<style scoped>\n",
              "    .dataframe tbody tr th:only-of-type {\n",
              "        vertical-align: middle;\n",
              "    }\n",
              "\n",
              "    .dataframe tbody tr th {\n",
              "        vertical-align: top;\n",
              "    }\n",
              "\n",
              "    .dataframe thead th {\n",
              "        text-align: right;\n",
              "    }\n",
              "</style>\n",
              "<table border=\"1\" class=\"dataframe\">\n",
              "  <thead>\n",
              "    <tr style=\"text-align: right;\">\n",
              "      <th></th>\n",
              "      <th>não_potável</th>\n",
              "      <th>potável</th>\n",
              "      <th>population_2020</th>\n",
              "    </tr>\n",
              "    <tr>\n",
              "      <th>state</th>\n",
              "      <th></th>\n",
              "      <th></th>\n",
              "      <th></th>\n",
              "    </tr>\n",
              "  </thead>\n",
              "  <tbody>\n",
              "    <tr>\n",
              "      <th>California</th>\n",
              "      <td>0.606061</td>\n",
              "      <td>0.393939</td>\n",
              "      <td>39538223</td>\n",
              "    </tr>\n",
              "    <tr>\n",
              "      <th>Florida</th>\n",
              "      <td>0.558824</td>\n",
              "      <td>0.441176</td>\n",
              "      <td>21538187</td>\n",
              "    </tr>\n",
              "    <tr>\n",
              "      <th>Georgia</th>\n",
              "      <td>0.656250</td>\n",
              "      <td>0.343750</td>\n",
              "      <td>10711908</td>\n",
              "    </tr>\n",
              "    <tr>\n",
              "      <th>Illinois</th>\n",
              "      <td>0.525424</td>\n",
              "      <td>0.474576</td>\n",
              "      <td>12812508</td>\n",
              "    </tr>\n",
              "    <tr>\n",
              "      <th>Michigan</th>\n",
              "      <td>0.622642</td>\n",
              "      <td>0.377358</td>\n",
              "      <td>10077331</td>\n",
              "    </tr>\n",
              "    <tr>\n",
              "      <th>New York</th>\n",
              "      <td>0.701493</td>\n",
              "      <td>0.298507</td>\n",
              "      <td>20201249</td>\n",
              "    </tr>\n",
              "    <tr>\n",
              "      <th>North Carolina</th>\n",
              "      <td>0.661017</td>\n",
              "      <td>0.338983</td>\n",
              "      <td>10439388</td>\n",
              "    </tr>\n",
              "    <tr>\n",
              "      <th>Ohio</th>\n",
              "      <td>0.704918</td>\n",
              "      <td>0.295082</td>\n",
              "      <td>11799448</td>\n",
              "    </tr>\n",
              "    <tr>\n",
              "      <th>Pennsylvania</th>\n",
              "      <td>0.539683</td>\n",
              "      <td>0.460317</td>\n",
              "      <td>13011844</td>\n",
              "    </tr>\n",
              "    <tr>\n",
              "      <th>Texas</th>\n",
              "      <td>0.630137</td>\n",
              "      <td>0.369863</td>\n",
              "      <td>29145505</td>\n",
              "    </tr>\n",
              "  </tbody>\n",
              "</table>\n",
              "</div>"
            ],
            "text/plain": [
              "                não_potável   potável  population_2020\n",
              "state                                                 \n",
              "California         0.606061  0.393939         39538223\n",
              "Florida            0.558824  0.441176         21538187\n",
              "Georgia            0.656250  0.343750         10711908\n",
              "Illinois           0.525424  0.474576         12812508\n",
              "Michigan           0.622642  0.377358         10077331\n",
              "New York           0.701493  0.298507         20201249\n",
              "North Carolina     0.661017  0.338983         10439388\n",
              "Ohio               0.704918  0.295082         11799448\n",
              "Pennsylvania       0.539683  0.460317         13011844\n",
              "Texas              0.630137  0.369863         29145505"
            ]
          },
          "metadata": {
            "tags": []
          },
          "execution_count": 40
        }
      ]
    },
    {
      "cell_type": "code",
      "metadata": {
        "colab": {
          "base_uri": "https://localhost:8080/"
        },
        "id": "sqg_-7TOAPye",
        "outputId": "abe114ef-267f-4305-8687-50abbba7f1d1"
      },
      "source": [
        "print('O estado, com população acima de 10 milhões de habitantes,')\n",
        "print(f\"que tem a maior porcentagem de amostras de águas não potável é {States_pop[filtro]['não_potável'].idxmax()},\")\n",
        "print(f\"com o valor de {100*States_pop[filtro]['não_potável'].max():.2f}%.\")"
      ],
      "id": "sqg_-7TOAPye",
      "execution_count": null,
      "outputs": [
        {
          "output_type": "stream",
          "text": [
            "O estado, com população acima de 10 milhões de habitantes,\n",
            "que tem a maior porcentagem de amostras de águas não potável é Ohio,\n",
            "com o valor de 70.49%.\n"
          ],
          "name": "stdout"
        }
      ]
    },
    {
      "cell_type": "markdown",
      "metadata": {
        "id": "97a8113a"
      },
      "source": [
        "#### 10. Crie o dicionário dc_states contendo como chaves os nomes de cada estado e como valor uma lista contendo o zscore aplicado a coluna \"Solids\" de todas as amostras daquele respectivo estado. Passe para função violin_plot_states o dicionário e uma lista contendo 5 estados que gostaria de análisar. Faça uma análise sucinta do resultado do gráfico."
      ],
      "id": "97a8113a"
    },
    {
      "cell_type": "code",
      "metadata": {
        "id": "vT-JXXxPI8OY"
      },
      "source": [
        "def Z_score(x):\n",
        "  N=len(x)\n",
        "  mean_x=sum(x)/N\n",
        "  std=(sum([(i-mean_x)**2 for i in x])/N)**0.5\n",
        "  return [(i-mean_x)/std for i in x]"
      ],
      "id": "vT-JXXxPI8OY",
      "execution_count": null,
      "outputs": []
    },
    {
      "cell_type": "code",
      "metadata": {
        "id": "3f7ef2cc"
      },
      "source": [
        "sns.set(font_scale=1.4)\n",
        "sns.set_style({'font.family': 'serif','fontname': 'Times New Roman'})\n",
        "\n",
        "def violin_plot_states(dc_states,lista_estados, CUT=2):\n",
        "    f, ax = plt.subplots(1,1,figsize=(16,4))\n",
        "    data_plot = pd.DataFrame.from_dict(dc_states, orient='index').T.melt().rename(columns={'variable':'state',\n",
        "                                                                                           'value':'z_score'})\n",
        "    states_plot = lista_estados\n",
        "    sns.violinplot(x='state', y='z_score', data=data_plot[data_plot.state.isin(states_plot)], cut=CUT)\n",
        "    ax.axhline(0, color='black', alpha=0.3)"
      ],
      "id": "3f7ef2cc",
      "execution_count": null,
      "outputs": []
    },
    {
      "cell_type": "code",
      "metadata": {
        "id": "A8f32hdwwHgn"
      },
      "source": [
        "lista_estados = ['California', 'Massachusetts', 'Ohio', 'Minnesota', 'Vermont']"
      ],
      "id": "A8f32hdwwHgn",
      "execution_count": null,
      "outputs": []
    },
    {
      "cell_type": "code",
      "metadata": {
        "id": "LjCCZzhaT4xJ"
      },
      "source": [
        "##Tentativa 1:\n",
        "#list(df.groupby('state')['Solids'])\n",
        "#list(df.groupby('state')['Solids'])[0]\n",
        "#list(df.groupby('state')['Solids'])[0][0] #state\n",
        "#list(df.groupby('state')['Solids'])[0][1] #index+value\n",
        "\n",
        "##dict(zip(keys, values))"
      ],
      "id": "LjCCZzhaT4xJ",
      "execution_count": null,
      "outputs": []
    },
    {
      "cell_type": "code",
      "metadata": {
        "id": "5XDQHaf5dC9J"
      },
      "source": [
        "##Tentativa 2:\n",
        "#Provavelmente, não há valores repetidos e poderiamos usar os valores únicos...\n",
        "#df.groupby('state')['Solids'].unique().to_dict()"
      ],
      "id": "5XDQHaf5dC9J",
      "execution_count": null,
      "outputs": []
    },
    {
      "cell_type": "code",
      "metadata": {
        "id": "gLJ0juwjT4t4"
      },
      "source": [
        "#display( df.groupby('state')['Solids'].apply(list) )\n",
        "#dc_states_original = df.groupby('state')['Solids'].apply(list).to_dict()\n",
        "\n",
        "#Solução:\n",
        "dc_states = df.groupby('state')['Solids'].apply(list).apply(lambda L: Z_score(L)).to_dict()"
      ],
      "id": "gLJ0juwjT4t4",
      "execution_count": null,
      "outputs": []
    },
    {
      "cell_type": "code",
      "metadata": {
        "id": "ty24kjFgwHxO",
        "colab": {
          "base_uri": "https://localhost:8080/"
        },
        "outputId": "191b99bc-c259-428f-ac56-223f7495f278"
      },
      "source": [
        "violin_plot_states(dc_states,lista_estados)"
      ],
      "id": "ty24kjFgwHxO",
      "execution_count": null,
      "outputs": [
        {
          "output_type": "display_data",
          "data": {
            "image/png": "[encoded data removed]",
            "text/plain": [
              "<Figure size 1152x288 with 1 Axes>"
            ]
          },
          "metadata": {
            "tags": []
          }
        }
      ]
    },
    {
      "cell_type": "markdown",
      "metadata": {
        "id": "WMOwTOdQiaoO"
      },
      "source": [
        "Um gráfico de violino permite comparar as distribuições dos dados de variáveis categóricas.\n",
        "\n",
        "No gráfico acima, as variáveis categóricas são os nomes dos estados. Nesse gráfico, podemos comparar a distribuição do z-score da quantidade de sólidos nas amostras de água para os estados selecionados.\n",
        "\n",
        "Note que dentre esses, o estado que apresenta uma distribuição \"mais simétrica\" em relação à mediana é a Califórnia."
      ],
      "id": "WMOwTOdQiaoO"
    },
    {
      "cell_type": "markdown",
      "metadata": {
        "id": "uRNIR9nsDFJS"
      },
      "source": [
        "Sabendo que um limite de corte do Z-score, aceito pela literatura, é $\\pm3$, podemos dizer que os estados da Califórnia, Massachusetts e Ohio apresentam outliers."
      ],
      "id": "uRNIR9nsDFJS"
    },
    {
      "cell_type": "code",
      "metadata": {
        "id": "I9jnLYjYwH0Y",
        "colab": {
          "base_uri": "https://localhost:8080/"
        },
        "outputId": "54cdb76c-ab24-4da9-9025-218205a8c7d8"
      },
      "source": [
        "#Limitar o intervalo do violino dentro do intervalo dos dados observados:\n",
        "violin_plot_states(dc_states,lista_estados,0)"
      ],
      "id": "I9jnLYjYwH0Y",
      "execution_count": null,
      "outputs": [
        {
          "output_type": "display_data",
          "data": {
            "image/png": "[encoded data removed]",
            "text/plain": [
              "<Figure size 1152x288 with 1 Axes>"
            ]
          },
          "metadata": {
            "tags": []
          }
        }
      ]
    },
    {
      "cell_type": "markdown",
      "metadata": {
        "id": "xySyZlWMM2Ma"
      },
      "source": [
        "___________"
      ],
      "id": "xySyZlWMM2Ma"
    },
    {
      "cell_type": "markdown",
      "metadata": {
        "id": "x9A9TQzw9yrv"
      },
      "source": [
        "##### Gráfico violino com Z-score modificado"
      ],
      "id": "x9A9TQzw9yrv"
    },
    {
      "cell_type": "markdown",
      "metadata": {
        "id": "j0MDMrerEHNd"
      },
      "source": [
        "Se utilizarmos o Z-score modificado, em vez do Z-score, que não é robusto, obtemos o gráfico apresentado a seguir, que mostra agora que outros estados também apresentam outliers."
      ],
      "id": "j0MDMrerEHNd"
    },
    {
      "cell_type": "code",
      "metadata": {
        "id": "zXJ10BkCiIW_"
      },
      "source": [
        "import numpy as np\n",
        "from scipy.stats import median_absolute_deviation\n",
        "#from scipy.stats import median_abs_deviation\n",
        "\n",
        "def Z_score_modified(x):\n",
        "  median_x = np.median(x)\n",
        "  mad = median_absolute_deviation(x)\n",
        "  return [(i-median_x)/mad for i in x]"
      ],
      "id": "zXJ10BkCiIW_",
      "execution_count": null,
      "outputs": []
    },
    {
      "cell_type": "code",
      "metadata": {
        "colab": {
          "base_uri": "https://localhost:8080/"
        },
        "id": "VG-siR0wgbQT",
        "outputId": "ebe28ccd-9005-4bbd-9969-d49e83a1ddf4"
      },
      "source": [
        "dc_states_modf = df.groupby('state')['Solids'].apply(list).apply(lambda L: Z_score_modified(L)).to_dict()\n",
        "violin_plot_states(dc_states_modf,lista_estados)"
      ],
      "id": "VG-siR0wgbQT",
      "execution_count": null,
      "outputs": [
        {
          "output_type": "display_data",
          "data": {
            "image/png": "[encoded data removed]",
            "text/plain": [
              "<Figure size 1152x288 with 1 Axes>"
            ]
          },
          "metadata": {
            "tags": []
          }
        }
      ]
    },
    {
      "cell_type": "markdown",
      "metadata": {
        "id": "DIJBrqbf9i80"
      },
      "source": [
        "##### Gráfico violino de todos os estados"
      ],
      "id": "DIJBrqbf9i80"
    },
    {
      "cell_type": "code",
      "metadata": {
        "id": "yJE49ptyJG1z"
      },
      "source": [
        "def violin_plot_states_all(dc_states,CUT=2):\n",
        "    f, ax = plt.subplots(1,1,figsize=(19,5))\n",
        "    data_plot = pd.DataFrame.from_dict(dc_states, orient='index').T.melt().rename(columns={'variable':'state',\n",
        "                                                                                           'value':'z_score'})\n",
        "    sns.violinplot(x='state', y='z_score', data=data_plot, cut=CUT)\n",
        "    plt.xticks(rotation=90)\n",
        "    ax.axhline(0, color='black', alpha=0.3)"
      ],
      "id": "yJE49ptyJG1z",
      "execution_count": null,
      "outputs": []
    },
    {
      "cell_type": "code",
      "metadata": {
        "colab": {
          "base_uri": "https://localhost:8080/"
        },
        "id": "-TeaV4ksJMyd",
        "outputId": "b52572e2-21a8-4c28-eb60-46859e5a0101"
      },
      "source": [
        "violin_plot_states_all(dc_states,0)"
      ],
      "id": "-TeaV4ksJMyd",
      "execution_count": null,
      "outputs": [
        {
          "output_type": "display_data",
          "data": {
            "image/png": "[encoded data removed]",
            "text/plain": [
              "<Figure size 1368x360 with 1 Axes>"
            ]
          },
          "metadata": {
            "tags": []
          }
        }
      ]
    },
    {
      "cell_type": "markdown",
      "metadata": {
        "id": "fJY2bxA79RLv"
      },
      "source": [
        "##### Gráfico violino agrupado por 'Potability'"
      ],
      "id": "fJY2bxA79RLv"
    },
    {
      "cell_type": "code",
      "metadata": {
        "colab": {
          "base_uri": "https://localhost:8080/"
        },
        "id": "ys7LM4Zp0Jra",
        "outputId": "2993b1b6-ab46-41d3-ab07-d1e6debc745f"
      },
      "source": [
        "a = df.groupby('state')['Solids'].apply(list).apply(lambda L: Z_score(L))\n",
        "b = df.groupby('state')['Potability'].apply(list)\n",
        "\n",
        "#Ver tamanho das listas:\n",
        "#pd.merge(a, b, how='left', on='state')['Solids'].apply(lambda L:len(L))\n",
        "#pd.merge(a, b, how='left', on='state')['Potability'].map(lambda L:len(L))\n",
        "\n",
        "df_state_solids = pd.merge(a,b,how='left',on='state').apply(pd.Series.explode).reset_index().rename(columns={'Solids':'z_score'})\n",
        "df_state_solids['z_score'] = df_state_solids['z_score'].astype('float64')\n",
        "df_state_solids['Potability'] = df_state_solids['Potability'].astype('int64')\n",
        "df_state_solids"
      ],
      "id": "ys7LM4Zp0Jra",
      "execution_count": null,
      "outputs": [
        {
          "output_type": "execute_result",
          "data": {
            "text/html": [
              "<div>\n",
              "<style scoped>\n",
              "    .dataframe tbody tr th:only-of-type {\n",
              "        vertical-align: middle;\n",
              "    }\n",
              "\n",
              "    .dataframe tbody tr th {\n",
              "        vertical-align: top;\n",
              "    }\n",
              "\n",
              "    .dataframe thead th {\n",
              "        text-align: right;\n",
              "    }\n",
              "</style>\n",
              "<table border=\"1\" class=\"dataframe\">\n",
              "  <thead>\n",
              "    <tr style=\"text-align: right;\">\n",
              "      <th></th>\n",
              "      <th>state</th>\n",
              "      <th>z_score</th>\n",
              "      <th>Potability</th>\n",
              "    </tr>\n",
              "  </thead>\n",
              "  <tbody>\n",
              "    <tr>\n",
              "      <th>0</th>\n",
              "      <td>Alabama</td>\n",
              "      <td>0.595374</td>\n",
              "      <td>0</td>\n",
              "    </tr>\n",
              "    <tr>\n",
              "      <th>1</th>\n",
              "      <td>Alabama</td>\n",
              "      <td>0.311079</td>\n",
              "      <td>0</td>\n",
              "    </tr>\n",
              "    <tr>\n",
              "      <th>2</th>\n",
              "      <td>Alabama</td>\n",
              "      <td>0.731458</td>\n",
              "      <td>1</td>\n",
              "    </tr>\n",
              "    <tr>\n",
              "      <th>3</th>\n",
              "      <td>Alabama</td>\n",
              "      <td>-1.098879</td>\n",
              "      <td>1</td>\n",
              "    </tr>\n",
              "    <tr>\n",
              "      <th>4</th>\n",
              "      <td>Alabama</td>\n",
              "      <td>0.742520</td>\n",
              "      <td>1</td>\n",
              "    </tr>\n",
              "    <tr>\n",
              "      <th>...</th>\n",
              "      <td>...</td>\n",
              "      <td>...</td>\n",
              "      <td>...</td>\n",
              "    </tr>\n",
              "    <tr>\n",
              "      <th>3271</th>\n",
              "      <td>Wyoming</td>\n",
              "      <td>1.936214</td>\n",
              "      <td>0</td>\n",
              "    </tr>\n",
              "    <tr>\n",
              "      <th>3272</th>\n",
              "      <td>Wyoming</td>\n",
              "      <td>-0.942513</td>\n",
              "      <td>0</td>\n",
              "    </tr>\n",
              "    <tr>\n",
              "      <th>3273</th>\n",
              "      <td>Wyoming</td>\n",
              "      <td>1.001248</td>\n",
              "      <td>0</td>\n",
              "    </tr>\n",
              "    <tr>\n",
              "      <th>3274</th>\n",
              "      <td>Wyoming</td>\n",
              "      <td>-0.769018</td>\n",
              "      <td>0</td>\n",
              "    </tr>\n",
              "    <tr>\n",
              "      <th>3275</th>\n",
              "      <td>Wyoming</td>\n",
              "      <td>-0.077265</td>\n",
              "      <td>1</td>\n",
              "    </tr>\n",
              "  </tbody>\n",
              "</table>\n",
              "<p>3276 rows × 3 columns</p>\n",
              "</div>"
            ],
            "text/plain": [
              "        state   z_score  Potability\n",
              "0     Alabama  0.595374           0\n",
              "1     Alabama  0.311079           0\n",
              "2     Alabama  0.731458           1\n",
              "3     Alabama -1.098879           1\n",
              "4     Alabama  0.742520           1\n",
              "...       ...       ...         ...\n",
              "3271  Wyoming  1.936214           0\n",
              "3272  Wyoming -0.942513           0\n",
              "3273  Wyoming  1.001248           0\n",
              "3274  Wyoming -0.769018           0\n",
              "3275  Wyoming -0.077265           1\n",
              "\n",
              "[3276 rows x 3 columns]"
            ]
          },
          "metadata": {
            "tags": []
          },
          "execution_count": 54
        }
      ]
    },
    {
      "cell_type": "code",
      "metadata": {
        "colab": {
          "base_uri": "https://localhost:8080/"
        },
        "id": "hMTrNzDR56qq",
        "outputId": "667b79e4-538a-4e14-e2e2-2b5bd43fb5c3"
      },
      "source": [
        "plt.figure(figsize=(17,5))\n",
        "sns.violinplot(data=df_state_solids[df_state_solids.state.isin(lista_estados)],\n",
        "               x='state', y='z_score', hue='Potability');\n",
        "plt.axhline(0, color='black', alpha=0.3);"
      ],
      "id": "hMTrNzDR56qq",
      "execution_count": null,
      "outputs": [
        {
          "output_type": "display_data",
          "data": {
            "image/png": "[encoded data removed]",
            "text/plain": [
              "<Figure size 1224x360 with 1 Axes>"
            ]
          },
          "metadata": {
            "tags": []
          }
        }
      ]
    },
    {
      "cell_type": "code",
      "metadata": {
        "colab": {
          "base_uri": "https://localhost:8080/"
        },
        "id": "A1k7_yy240iw",
        "outputId": "c276ac3e-73b6-4a99-b5a4-78c49912daae"
      },
      "source": [
        "plt.figure(figsize=(17,5))\n",
        "sns.violinplot(data=df_state_solids[df_state_solids.state.isin(lista_estados)],\n",
        "               x='state', y='z_score', hue='Potability', split=True);\n",
        "plt.axhline(0, color='black', alpha=0.3);"
      ],
      "id": "A1k7_yy240iw",
      "execution_count": null,
      "outputs": [
        {
          "output_type": "display_data",
          "data": {
            "image/png": "[encoded data removed]",
            "text/plain": [
              "<Figure size 1224x360 with 1 Axes>"
            ]
          },
          "metadata": {
            "tags": []
          }
        }
      ]
    },
    {
      "cell_type": "markdown",
      "metadata": {
        "id": "g5JMMyI6JHp0"
      },
      "source": [
        "___________\n",
        "___________"
      ],
      "id": "g5JMMyI6JHp0"
    }
  ]
}