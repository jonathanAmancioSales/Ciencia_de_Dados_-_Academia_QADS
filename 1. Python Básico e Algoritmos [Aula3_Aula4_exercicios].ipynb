{
  "nbformat": 4,
  "nbformat_minor": 5,
  "metadata": {
    "kernelspec": {
      "display_name": "Python 3",
      "language": "python",
      "name": "python3"
    },
    "language_info": {
      "codemirror_mode": {
        "name": "ipython",
        "version": 3
      },
      "file_extension": ".py",
      "mimetype": "text/x-python",
      "name": "python",
      "nbconvert_exporter": "python",
      "pygments_lexer": "ipython3",
      "version": "3.8.5"
    },
    "colab": {
      "name": "Aula3-Aula4_exercicios.ipynb",
      "provenance": [],
      "collapsed_sections": [
        "Shz7MD8-mZt4",
        "k_LbjIZFmZqf",
        "MiB-m9I4mZnJ",
        "9E0zVLxTmZix",
        "svv_rcKMmopD",
        "zzDWnnlwmoZd",
        "v5fIQLg9nBmL",
        "pPh2KHgqnBiv",
        "m5WZBnlBnBfX",
        "u0F23TelnM2y",
        "GKpV6uYznM6u",
        "ak7mYnv2nNBR",
        "MxDMoFjSnZ0Z",
        "ddY2kJq9nZxA",
        "69IN3oKYneux",
        "xHF9f6W3nex9",
        "jiSc9lH3nfQA",
        "9898ca93"
      ]
    }
  },
  "cells": [
    {
      "cell_type": "markdown",
      "metadata": {
        "id": "c_eMpJkRgrSX"
      },
      "source": [
        "# Exercícios - Aula 03 e Aula 04\n",
        "___"
      ],
      "id": "c_eMpJkRgrSX"
    },
    {
      "cell_type": "markdown",
      "metadata": {
        "id": "Shz7MD8-mZt4"
      },
      "source": [
        "## Questão 01\n",
        "-> Escreva uma função python que receba uma lista e separe os múltiplos de 5. Ao final ela retorna a soma de todos os valores da lista de entrada que são múltiplos de 5."
      ],
      "id": "Shz7MD8-mZt4"
    },
    {
      "cell_type": "code",
      "metadata": {
        "id": "HnzGoMnWqNyH"
      },
      "source": [
        "#Método 1:\n",
        "def Sum_Multiples(L, value=5):\n",
        "  Sum=0\n",
        "  for el in L:\n",
        "    if el%value==0:\n",
        "      Sum+=el\n",
        "  return Sum"
      ],
      "id": "HnzGoMnWqNyH",
      "execution_count": null,
      "outputs": []
    },
    {
      "cell_type": "code",
      "metadata": {
        "colab": {
          "base_uri": "https://localhost:8080/"
        },
        "id": "u4eCyyprqV5d",
        "outputId": "e931ed12-ac76-4c01-b3d0-8fcd1e0a0104"
      },
      "source": [
        "Sum_Multiples([1,2,3,5,20,4])"
      ],
      "id": "u4eCyyprqV5d",
      "execution_count": null,
      "outputs": [
        {
          "output_type": "execute_result",
          "data": {
            "text/plain": [
              "25"
            ]
          },
          "metadata": {
            "tags": []
          },
          "execution_count": 2
        }
      ]
    },
    {
      "cell_type": "code",
      "metadata": {
        "id": "6Ylj428hm98-"
      },
      "source": [
        "#Método 2:\n",
        "def Sum_Multiples(L, value=5):\n",
        "  multiples=[]\n",
        "  for el in L:\n",
        "    if el%value==0:\n",
        "      multiples.append(el)\n",
        "  return sum(multiples)"
      ],
      "id": "6Ylj428hm98-",
      "execution_count": null,
      "outputs": []
    },
    {
      "cell_type": "code",
      "metadata": {
        "colab": {
          "base_uri": "https://localhost:8080/"
        },
        "id": "doCyT95DpLXg",
        "outputId": "e811e6a6-9293-44b6-8ff5-8ff0998f2393"
      },
      "source": [
        "Sum_Multiples([1,2,3,5,50])"
      ],
      "id": "doCyT95DpLXg",
      "execution_count": null,
      "outputs": [
        {
          "output_type": "execute_result",
          "data": {
            "text/plain": [
              "55"
            ]
          },
          "metadata": {
            "tags": []
          },
          "execution_count": 4
        }
      ]
    },
    {
      "cell_type": "code",
      "metadata": {
        "id": "askCO6fSpw6F"
      },
      "source": [
        "#Método 3:\n",
        "Sum_Multiples_5 = lambda L: sum([el for el in L if el%5==0])"
      ],
      "id": "askCO6fSpw6F",
      "execution_count": null,
      "outputs": []
    },
    {
      "cell_type": "code",
      "metadata": {
        "colab": {
          "base_uri": "https://localhost:8080/"
        },
        "id": "4r9fvs1fpZ0R",
        "outputId": "53cf1820-e47c-4240-80cb-f7544d66f3a4"
      },
      "source": [
        "L=[1,2,3,5,50,60]\n",
        "Sum_Multiples_5(L)"
      ],
      "id": "4r9fvs1fpZ0R",
      "execution_count": null,
      "outputs": [
        {
          "output_type": "execute_result",
          "data": {
            "text/plain": [
              "115"
            ]
          },
          "metadata": {
            "tags": []
          },
          "execution_count": 6
        }
      ]
    },
    {
      "cell_type": "markdown",
      "metadata": {
        "id": "k_LbjIZFmZqf"
      },
      "source": [
        "## Questão 02\n",
        "-> Escreva uma função para verificar se uma palavra é um palíndromo e retorne 1 em caso positivo e 0 (zero) em caso negativo."
      ],
      "id": "k_LbjIZFmZqf"
    },
    {
      "cell_type": "code",
      "metadata": {
        "colab": {
          "base_uri": "https://localhost:8080/"
        },
        "id": "2tjtChUHXSbD",
        "outputId": "56831574-234b-4c06-8120-8352f618ae30"
      },
      "source": [
        "#Teste\n",
        "word='omissíssimo'\n",
        "#word='roda'\n",
        "print(word[int(len(word)/2)])\n",
        "\n",
        "str1=word[:int(len(word)/2)]\n",
        "if len(word)%2==0:\n",
        "  str2=word[int(len(word)/2):]\n",
        "else:\n",
        "  str2=word[int(len(word)/2)+1:]\n",
        "\n",
        "print(str1,str2[::-1])"
      ],
      "id": "2tjtChUHXSbD",
      "execution_count": null,
      "outputs": [
        {
          "output_type": "stream",
          "text": [
            "í\n",
            "omiss omiss\n"
          ],
          "name": "stdout"
        }
      ]
    },
    {
      "cell_type": "code",
      "metadata": {
        "id": "RY4UfzDCm-93"
      },
      "source": [
        "def Palindromo(word):\n",
        "  str1=word[:int(len(word)/2)]\n",
        "  if len(word)%2==0:\n",
        "    str2=word[int(len(word)/2):]\n",
        "  else:\n",
        "    str2=word[int(len(word)/2)+1:]\n",
        "  return (str1==str2[::-1])*1"
      ],
      "id": "RY4UfzDCm-93",
      "execution_count": null,
      "outputs": []
    },
    {
      "cell_type": "code",
      "metadata": {
        "id": "6NkLxHNEm_BF",
        "colab": {
          "base_uri": "https://localhost:8080/"
        },
        "outputId": "af08ff0c-9cfa-4b08-a02c-1ee57d59ed48"
      },
      "source": [
        "word_list=['roda', 'omissíssimo', 'anilina', 'arara', 'ovo', 'asa', 'ama', 'reviver', 'palavra', 'palíndromo', 'esse', 'oco']\n",
        "\n",
        "for word in word_list:\n",
        "  print(f'Palavra: {word} --> palídromo: {Palindromo(word)}')"
      ],
      "id": "6NkLxHNEm_BF",
      "execution_count": null,
      "outputs": [
        {
          "output_type": "stream",
          "text": [
            "Palavra: roda --> palídromo: 0\n",
            "Palavra: omissíssimo --> palídromo: 1\n",
            "Palavra: anilina --> palídromo: 1\n",
            "Palavra: arara --> palídromo: 1\n",
            "Palavra: ovo --> palídromo: 1\n",
            "Palavra: asa --> palídromo: 1\n",
            "Palavra: ama --> palídromo: 1\n",
            "Palavra: reviver --> palídromo: 1\n",
            "Palavra: palavra --> palídromo: 0\n",
            "Palavra: palíndromo --> palídromo: 0\n",
            "Palavra: esse --> palídromo: 1\n",
            "Palavra: oco --> palídromo: 1\n"
          ],
          "name": "stdout"
        }
      ]
    },
    {
      "cell_type": "code",
      "metadata": {
        "id": "10nsggD4aXD7"
      },
      "source": [
        "def Palindromo2(word):\n",
        "  str1=word[:int(len(word)/2)]\n",
        "  str2=word[int(len(word)/2) + len(word)%2:]\n",
        "  return (str1==str2[::-1])*1"
      ],
      "id": "10nsggD4aXD7",
      "execution_count": null,
      "outputs": []
    },
    {
      "cell_type": "code",
      "metadata": {
        "colab": {
          "base_uri": "https://localhost:8080/"
        },
        "id": "k6IFuI1galUZ",
        "outputId": "11c18d68-a338-4358-e40b-fb05393eb72b"
      },
      "source": [
        "word_list=['pedra', 'arara','ata', 'ele', 'mirim', 'osso', 'raiar', 'reter', 'rever', 'rir', 'saias', 'salas']\n",
        "\n",
        "for word in word_list:\n",
        "  print(f'Palavra: {word} --> palídromo: {Palindromo2(word)}')"
      ],
      "id": "k6IFuI1galUZ",
      "execution_count": null,
      "outputs": [
        {
          "output_type": "stream",
          "text": [
            "Palavra: pedra --> palídromo: 0\n",
            "Palavra: arara --> palídromo: 1\n",
            "Palavra: ata --> palídromo: 1\n",
            "Palavra: ele --> palídromo: 1\n",
            "Palavra: mirim --> palídromo: 1\n",
            "Palavra: osso --> palídromo: 1\n",
            "Palavra: raiar --> palídromo: 1\n",
            "Palavra: reter --> palídromo: 1\n",
            "Palavra: rever --> palídromo: 1\n",
            "Palavra: rir --> palídromo: 1\n",
            "Palavra: saias --> palídromo: 1\n",
            "Palavra: salas --> palídromo: 1\n"
          ],
          "name": "stdout"
        }
      ]
    },
    {
      "cell_type": "markdown",
      "metadata": {
        "id": "MiB-m9I4mZnJ"
      },
      "source": [
        "## Questão 03\n",
        "-> Escreva uma função que receba uma lista crie um dicionário com a contagem dos valores dessa lista."
      ],
      "id": "MiB-m9I4mZnJ"
    },
    {
      "cell_type": "code",
      "metadata": {
        "colab": {
          "base_uri": "https://localhost:8080/"
        },
        "id": "_3q0_ldxUUe2",
        "outputId": "8d1e7a0f-870b-479d-8464-8b0534f69d24"
      },
      "source": [
        "def test(L):\n",
        "  count_dict = dict(zip(L, [i*3 for i in L]))\n",
        "  print(count_dict)\n",
        "\n",
        "L = [1,2,3,4,0,9,7,1,3,2,5,3,1]\n",
        "test(L)"
      ],
      "id": "_3q0_ldxUUe2",
      "execution_count": null,
      "outputs": [
        {
          "output_type": "stream",
          "text": [
            "{1: 3, 2: 6, 3: 9, 4: 12, 0: 0, 9: 27, 7: 21, 5: 15}\n"
          ],
          "name": "stdout"
        }
      ]
    },
    {
      "cell_type": "code",
      "metadata": {
        "id": "aRrE30DIm9Vk"
      },
      "source": [
        "#Solução:\n",
        "def Dict_count(L):\n",
        "  values = set(L)\n",
        "  counts = [L.count(i) for i in values]\n",
        "\n",
        "  count_dict = dict(zip(values, counts))\n",
        "  print(count_dict)"
      ],
      "id": "aRrE30DIm9Vk",
      "execution_count": null,
      "outputs": []
    },
    {
      "cell_type": "code",
      "metadata": {
        "id": "lTuI4YBOm9Yt",
        "colab": {
          "base_uri": "https://localhost:8080/"
        },
        "outputId": "24a5171d-7f11-4a5e-bd19-8612af25e4ca"
      },
      "source": [
        "L = [1,2,3,4,0,9,7,1,3,2,5,3,1,6,6,5]\n",
        "\n",
        "Dict_count(L)"
      ],
      "id": "lTuI4YBOm9Yt",
      "execution_count": null,
      "outputs": [
        {
          "output_type": "stream",
          "text": [
            "{0: 1, 1: 3, 2: 2, 3: 3, 4: 1, 5: 2, 6: 2, 7: 1, 9: 1}\n"
          ],
          "name": "stdout"
        }
      ]
    },
    {
      "cell_type": "markdown",
      "metadata": {
        "id": "9E0zVLxTmZix"
      },
      "source": [
        "## Questão 04\n",
        "-> Escreva uma função que receba uma lista de listas, itere sobre cada lista, some seus valores, gere uma segunda lista e descubra o desvio padrão dela.\n",
        "```\n",
        "entrada : [[12,12,5,6,3,6,8,5,5,5],[3,3,3,3,4,4,15,89,20,20],\n",
        "           [15,15,15,20,30,35,35,35,15,15],[10,10,10,10,15,15,15,15],\n",
        "           [5,5,2,2],[8,8,89,89,898,1000]]\n",
        "```"
      ],
      "id": "9E0zVLxTmZix"
    },
    {
      "cell_type": "code",
      "metadata": {
        "id": "PHP2PRmfe1ge"
      },
      "source": [
        "def Std_List(x):\n",
        "  N=len(x)\n",
        "  mean_x=sum(x)/N\n",
        "  std=(sum([(i-mean_x)**2 for i in x])/N)**0.5\n",
        "  return std"
      ],
      "id": "PHP2PRmfe1ge",
      "execution_count": null,
      "outputs": []
    },
    {
      "cell_type": "code",
      "metadata": {
        "id": "ayHAVW4CPrC6"
      },
      "source": [
        "def List_Sum_std(LL):\n",
        "  Sum_list=[]\n",
        "  for lista in LL:\n",
        "    Sum_list.append(sum(lista))\n",
        "\n",
        "  print(f'Lista resultante: {Sum_list}')\n",
        "  print(f'\\nO desvio padrão da lista resultante é {Std_List(Sum_list):.4f}.')"
      ],
      "id": "ayHAVW4CPrC6",
      "execution_count": null,
      "outputs": []
    },
    {
      "cell_type": "code",
      "metadata": {
        "id": "ALlMk-wEe1kX"
      },
      "source": [
        "LL = [[12,12,5,6,3,6,8,5,5,5],[3,3,3,3,4,4,15,89,20,20],\n",
        "      [15,15,15,20,30,35,35,35,15,15],[10,10,10,10,15,15,15,15],\n",
        "      [5,5,2,2],[8,8,89,89,898,1000]]"
      ],
      "id": "ALlMk-wEe1kX",
      "execution_count": null,
      "outputs": []
    },
    {
      "cell_type": "code",
      "metadata": {
        "colab": {
          "base_uri": "https://localhost:8080/"
        },
        "id": "hcdThr2QSS9F",
        "outputId": "99fe3830-ef7e-405f-f6fc-324c63e6a13c"
      },
      "source": [
        "List_Sum_std(LL)"
      ],
      "id": "hcdThr2QSS9F",
      "execution_count": null,
      "outputs": [
        {
          "output_type": "stream",
          "text": [
            "Lista resultante: [67, 164, 230, 100, 14, 2092]\n",
            "\n",
            "O desvio padrão da lista resultante é 739.9846.\n"
          ],
          "name": "stdout"
        }
      ]
    },
    {
      "cell_type": "markdown",
      "metadata": {
        "id": "svv_rcKMmopD"
      },
      "source": [
        "## Questão 05\n",
        "-> Escreva uma função que gere uma sequencia de Fibonnaci. O único parâmetro é a quantidade de números que devem gerados. (Fibonnaci é uma sequencia onde o próximo número é a soma dos dois imediatamente anteriores a ele)."
      ],
      "id": "svv_rcKMmopD"
    },
    {
      "cell_type": "code",
      "metadata": {
        "id": "j33CWhhZm0ni"
      },
      "source": [
        "def Fib(N):\n",
        "  f=[0,1]\n",
        "  if N>1:\n",
        "    for i in range(2,N+1):\n",
        "      f.append(f[i-1]+f[i-2])\n",
        "  return f"
      ],
      "id": "j33CWhhZm0ni",
      "execution_count": null,
      "outputs": []
    },
    {
      "cell_type": "code",
      "metadata": {
        "id": "xhuq1VFDm0rX",
        "colab": {
          "base_uri": "https://localhost:8080/"
        },
        "outputId": "60df6ece-ec79-44c1-ff59-31efb152341d"
      },
      "source": [
        "N=11; fib = Fib(N)\n",
        "for i in range(N):\n",
        "  print(f'Fib({i}) = {fib[i]}')"
      ],
      "id": "xhuq1VFDm0rX",
      "execution_count": null,
      "outputs": [
        {
          "output_type": "stream",
          "text": [
            "Fib(0) = 0\n",
            "Fib(1) = 1\n",
            "Fib(2) = 1\n",
            "Fib(3) = 2\n",
            "Fib(4) = 3\n",
            "Fib(5) = 5\n",
            "Fib(6) = 8\n",
            "Fib(7) = 13\n",
            "Fib(8) = 21\n",
            "Fib(9) = 34\n",
            "Fib(10) = 55\n"
          ],
          "name": "stdout"
        }
      ]
    },
    {
      "cell_type": "markdown",
      "metadata": {
        "id": "zzDWnnlwmoZd"
      },
      "source": [
        "## Questão 06\n",
        "-> Monte uma função que vai calcular e comparar os custos de uma viagem para 3 cidades diferentes e que, ao final, irá recomendar qual é o destino mais barato. Essa função deve receber somente uma parâmetro 'noites'. A partir desse argumento a função deve calcular o custo total de viagem para cada uma das cidades. Utilize os dados abaixo.\n",
        "\n",
        "|   Cidade  | Hotel/noite | Alimentação/noite | Locomoção/noite |\n",
        "|:---------:|:-----------:|:-----------------:|:---------------:|\n",
        "| Abu Dhabi |     1300    |        200        |       150       |\n",
        "|  Genebra  |     1200    |        150        |        80       |\n",
        "|    Oslo   |     1000    |        250        |       100       |\n"
      ],
      "id": "zzDWnnlwmoZd"
    },
    {
      "cell_type": "code",
      "metadata": {
        "colab": {
          "base_uri": "https://localhost:8080/"
        },
        "id": "FF2KlQfHdyFH",
        "outputId": "fc84081c-a6c8-4d32-9760-9281e08654ca"
      },
      "source": [
        "dict_viagem = {\n",
        "                'Abu Dhabi':{'Hotel/noite':1300, 'Alimentação/noite':200, 'Locomoção/noite':150},\n",
        "                'Genebra':  {'Hotel/noite':1200, 'Alimentação/noite':150, 'Locomoção/noite':80 },\n",
        "                'Oslo':     {'Hotel/noite':1000, 'Alimentação/noite':250, 'Locomoção/noite':100}\n",
        "              }\n",
        "dict_viagem"
      ],
      "id": "FF2KlQfHdyFH",
      "execution_count": null,
      "outputs": [
        {
          "output_type": "execute_result",
          "data": {
            "text/plain": [
              "{'Abu Dhabi': {'Alimentação/noite': 200,\n",
              "  'Hotel/noite': 1300,\n",
              "  'Locomoção/noite': 150},\n",
              " 'Genebra': {'Alimentação/noite': 150,\n",
              "  'Hotel/noite': 1200,\n",
              "  'Locomoção/noite': 80},\n",
              " 'Oslo': {'Alimentação/noite': 250,\n",
              "  'Hotel/noite': 1000,\n",
              "  'Locomoção/noite': 100}}"
            ]
          },
          "metadata": {
            "tags": []
          },
          "execution_count": 21
        }
      ]
    },
    {
      "cell_type": "code",
      "metadata": {
        "id": "jhNzj3AYm8jB"
      },
      "source": [
        "def Custo_Viagem(noites):\n",
        "  custo_T=[]\n",
        "  for city in dict_viagem:\n",
        "    custo = noites * (dict_viagem[city]['Hotel/noite']+dict_viagem[city]['Alimentação/noite']+dict_viagem[city]['Locomoção/noite'])\n",
        "    print(f'Cidade: {city} -> Custo: ${custo}')\n",
        "    custo_T.append( custo )\n",
        "    idx=custo_T.index(min(custo_T))\n",
        "  print(f'\\n  --> O destino mais barato é {list(dict_viagem.keys())[idx]}, com um custo de ${min(custo_T)}' )"
      ],
      "id": "jhNzj3AYm8jB",
      "execution_count": null,
      "outputs": []
    },
    {
      "cell_type": "code",
      "metadata": {
        "colab": {
          "base_uri": "https://localhost:8080/"
        },
        "id": "J-NIainDeum5",
        "outputId": "da8d7889-25f2-4e50-dd68-d76312c050c9"
      },
      "source": [
        "Custo_Viagem(10)"
      ],
      "id": "J-NIainDeum5",
      "execution_count": null,
      "outputs": [
        {
          "output_type": "stream",
          "text": [
            "Cidade: Abu Dhabi -> Custo: $16500\n",
            "Cidade: Genebra -> Custo: $14300\n",
            "Cidade: Oslo -> Custo: $13500\n",
            "\n",
            "  --> O destino mais barato é Oslo, com um custo de $13500\n"
          ],
          "name": "stdout"
        }
      ]
    },
    {
      "cell_type": "markdown",
      "metadata": {
        "id": "v5fIQLg9nBmL"
      },
      "source": [
        "## Questão 07\n",
        "-> Defina uma função que calcule o z-score de todos os valores de uma lista e encontre quem são os outliers (z-score abaixo de -3 e acima de 3). Use a lista abaixo:"
      ],
      "id": "v5fIQLg9nBmL"
    },
    {
      "cell_type": "markdown",
      "metadata": {
        "id": "bAsfR6BFTddu"
      },
      "source": [
        "[Z-score : é calculado subtraindo a média da população de uma pontuação bruta individual e, em seguida, dividindo a diferença pelo desvio padrão da população . Esse processo de conversão de uma pontuação bruta em uma pontuação padrão é chamado de padronização.]"
      ],
      "id": "bAsfR6BFTddu"
    },
    {
      "cell_type": "markdown",
      "metadata": {
        "id": "nDS2zseNVdnU"
      },
      "source": [
        "Desvio padrão:\n",
        "\n",
        "![image.png](data:image/png;base64,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)"
      ],
      "id": "nDS2zseNVdnU"
    },
    {
      "cell_type": "code",
      "metadata": {
        "id": "KpeZWbb0nE_g"
      },
      "source": [
        "lista = [201, 102, -5558, 232, 213, -9249, -247, 1183, 211, 7598, 130,\n",
        "         61, 192, 207, -46, 170, 116, 106, 225, 75, 138, 107, 108, -33,\n",
        "         -9, 170, 147, 175, 137, -5, -9, 16600, 171, 183, 147, 171, 143,\n",
        "         104, 7, 227, 127, 173, 178, 194, 110, 20, 99, 11, 41, 242, 250,\n",
        "         62, 230, -32, 239, 241, 30, -35, 132, 214, 58, 90, -12, -24, 177,\n",
        "         116, 53, -26, 144, 29, 41, 217, 114, 109, -15, 32, 110, 162, 221,\n",
        "         -16, 210, 87, 76, 3100, 73, 174, 194, 93, -9, 241, 234, 79, -4800,\n",
        "         -22, -41, 224, 249, 114, -29, 79]"
      ],
      "id": "KpeZWbb0nE_g",
      "execution_count": null,
      "outputs": []
    },
    {
      "cell_type": "code",
      "metadata": {
        "id": "hJjbRcMunFCj"
      },
      "source": [
        "def Z_score(x):\n",
        "  N=len(x)\n",
        "  mean_x=sum(x)/N\n",
        "  std=(sum([(i-mean_x)**2 for i in x])/N)**0.5\n",
        "  return [(i-mean_x)/std for i in x]"
      ],
      "id": "hJjbRcMunFCj",
      "execution_count": null,
      "outputs": []
    },
    {
      "cell_type": "code",
      "metadata": {
        "colab": {
          "base_uri": "https://localhost:8080/"
        },
        "id": "GeE4Q5hPT_rS",
        "outputId": "65261464-7c86-40c4-bc47-8e4d63943cc9"
      },
      "source": [
        "import matplotlib.pyplot as plt\n",
        "\n",
        "z = Z_score(lista)\n",
        "plt.plot( z )\n",
        "plt.show()"
      ],
      "id": "GeE4Q5hPT_rS",
      "execution_count": null,
      "outputs": [
        {
          "output_type": "display_data",
          "data": {
            "image/png": "[encoded data removed]",
            "text/plain": [
              "<Figure size 432x288 with 1 Axes>"
            ]
          },
          "metadata": {
            "tags": [],
            "needs_background": "light"
          }
        }
      ]
    },
    {
      "cell_type": "code",
      "metadata": {
        "id": "aqELOs8zT_v1"
      },
      "source": [
        "def Z_score_outliers(x):\n",
        "  N=len(x)\n",
        "  mean_x=sum(x)/N\n",
        "  std=(sum([(i-mean_x)**2 for i in x])/N)**0.5\n",
        "  Z=[(i-mean_x)/std for i in x]\n",
        "  return [i for i,j in zip(x,Z) if abs(j)>3]"
      ],
      "id": "aqELOs8zT_v1",
      "execution_count": null,
      "outputs": []
    },
    {
      "cell_type": "code",
      "metadata": {
        "colab": {
          "base_uri": "https://localhost:8080/"
        },
        "id": "22aP-p17Z0AD",
        "outputId": "c94c0758-5930-446b-b2b8-b6fb6fe64403"
      },
      "source": [
        "print(f'Outliers = {Z_score_outliers(lista)}')"
      ],
      "id": "22aP-p17Z0AD",
      "execution_count": null,
      "outputs": [
        {
          "output_type": "stream",
          "text": [
            "Outliers = [-9249, 7598, 16600]\n"
          ],
          "name": "stdout"
        }
      ]
    },
    {
      "cell_type": "markdown",
      "metadata": {
        "id": "W7gREzf-oWA8"
      },
      "source": [
        "Premissa Distribuição Normal\n",
        "[https://blog.dp6.com.br/t%C3%A9cnicas-de-detec%C3%A7%C3%A3o-de-anomalias-3d9e216bf82e]\n",
        "\n",
        "\n",
        "A identificação de uma observação como um outlier depende da premissa da distribuição normal dos dados. Para os conjuntos de dados univariados, assume-se que eles sigam uma distribuição normal. Se não for uma normal, então a determinação do outlier será provavelmente atribuída a não normalidade ao invés de ser, de fato, um outlier (Filiben, 2013).\n",
        "\n",
        "Segundo (Gorrie, 2016), o objetivo do Z-score é remover os efeitos da localização e escala do dado, permitindo a comparação direta entre diferentes bases de dados. Como os dados são centralizados e re-escalados, qualquer ponto que está muito distante do zero pode ser considerado um outlier. De acordo com (Swarupa et al., 2018), um limite de corte do Z-score aceito pela literatura é de um valor fora do intervalo + ou -3.\n",
        "\n",
        "Um dos pontos contra o Z-score é que a média e o desvio padrão são altamente influenciados pelos outliers, ou seja, ele não é robusto."
      ],
      "id": "W7gREzf-oWA8"
    },
    {
      "cell_type": "markdown",
      "metadata": {
        "id": "jGMJAJyH65VD"
      },
      "source": [
        "Z-score Modificado [https://blog.dp6.com.br/t%C3%A9cnicas-de-detec%C3%A7%C3%A3o-de-anomalias-parte-ii-99ecb90f93b]\n",
        "\n",
        "Segundo (Seo, 2002), para resolver o problema do Z-score, a mediana e o desvio absoluto da mediana (MAD — Median of the absolute deviation) são utilizados no Z-score modificado (Mi) no lugar da média e do desvio padrão."
      ],
      "id": "jGMJAJyH65VD"
    },
    {
      "cell_type": "markdown",
      "metadata": {
        "id": "pPh2KHgqnBiv"
      },
      "source": [
        "## Questão 08\n",
        "-> Defina uma função que recebe uma lista, aplica a fórmula abaixo a cada um dos valores e retorna uma lista com o resultado.\n",
        "\n",
        "<img src=\"https://androidkt.com/wp-content/uploads/2020/10/Selection_060.png\" width=\"300\" height=\"100\">\n"
      ],
      "id": "pPh2KHgqnBiv"
    },
    {
      "cell_type": "code",
      "metadata": {
        "id": "CCTthbjhFZIt"
      },
      "source": [
        "def Norm(x):\n",
        "  min_x=min(x)\n",
        "  max_x=max(x)\n",
        "  return [(i-min_x)/(max_x-min_x) for i in x]"
      ],
      "id": "CCTthbjhFZIt",
      "execution_count": null,
      "outputs": []
    },
    {
      "cell_type": "code",
      "metadata": {
        "colab": {
          "base_uri": "https://localhost:8080/"
        },
        "id": "ON2eRnFzFZMK",
        "outputId": "f207595b-67ec-40b3-c8e5-e0fc1f41a997"
      },
      "source": [
        "L = [1,2.2,3,4,5,6.6]\n",
        "Norm(L)"
      ],
      "id": "ON2eRnFzFZMK",
      "execution_count": null,
      "outputs": [
        {
          "output_type": "execute_result",
          "data": {
            "text/plain": [
              "[0.0,\n",
              " 0.21428571428571433,\n",
              " 0.35714285714285715,\n",
              " 0.5357142857142857,\n",
              " 0.7142857142857143,\n",
              " 1.0]"
            ]
          },
          "metadata": {
            "tags": []
          },
          "execution_count": 30
        }
      ]
    },
    {
      "cell_type": "code",
      "metadata": {
        "id": "YdeerKa8HfIw"
      },
      "source": [
        "Norm2 = lambda x: [(i-min(x))/(max(x)-min(x)) for i in x]"
      ],
      "id": "YdeerKa8HfIw",
      "execution_count": null,
      "outputs": []
    },
    {
      "cell_type": "code",
      "metadata": {
        "colab": {
          "base_uri": "https://localhost:8080/"
        },
        "id": "r3eEIva0HrcL",
        "outputId": "305b54cb-4037-42fc-dc00-fe4ffb89d7c0"
      },
      "source": [
        "Norm2( [0,1,2.2,3.14,4.8,5,8.6] )"
      ],
      "id": "r3eEIva0HrcL",
      "execution_count": null,
      "outputs": [
        {
          "output_type": "execute_result",
          "data": {
            "text/plain": [
              "[0.0,\n",
              " 0.11627906976744186,\n",
              " 0.2558139534883721,\n",
              " 0.36511627906976746,\n",
              " 0.5581395348837209,\n",
              " 0.5813953488372093,\n",
              " 1.0]"
            ]
          },
          "metadata": {
            "tags": []
          },
          "execution_count": 32
        }
      ]
    },
    {
      "cell_type": "markdown",
      "metadata": {
        "id": "m5WZBnlBnBfX"
      },
      "source": [
        "## Questão 09\n",
        "-> Escreva um código que dê print em todos os quadrados dos valores de 0 a 10.\n"
      ],
      "id": "m5WZBnlBnBfX"
    },
    {
      "cell_type": "code",
      "metadata": {
        "colab": {
          "base_uri": "https://localhost:8080/"
        },
        "id": "1i7sUkS1nMM0",
        "outputId": "7d9b4fb2-3c85-4a5e-aeb2-627f76e8c0d6"
      },
      "source": [
        "for i in range(11):\n",
        "  print(i*i)"
      ],
      "id": "1i7sUkS1nMM0",
      "execution_count": null,
      "outputs": [
        {
          "output_type": "stream",
          "text": [
            "0\n",
            "1\n",
            "4\n",
            "9\n",
            "16\n",
            "25\n",
            "36\n",
            "49\n",
            "64\n",
            "81\n",
            "100\n"
          ],
          "name": "stdout"
        }
      ]
    },
    {
      "cell_type": "markdown",
      "metadata": {
        "id": "u0F23TelnM2y"
      },
      "source": [
        "## Questão 10\n",
        "-> Escreva um código que encontre a soma de todos os valores pares de 0 a 10."
      ],
      "id": "u0F23TelnM2y"
    },
    {
      "cell_type": "code",
      "metadata": {
        "colab": {
          "base_uri": "https://localhost:8080/"
        },
        "id": "NCGMh4JustPe",
        "outputId": "27c0c67e-cbfb-40a4-e79c-689a277fe230"
      },
      "source": [
        "Sum=0\n",
        "for i in range(11):\n",
        "  if i%2==0:\n",
        "    Sum+=i\n",
        "\n",
        "print(Sum)"
      ],
      "id": "NCGMh4JustPe",
      "execution_count": null,
      "outputs": [
        {
          "output_type": "stream",
          "text": [
            "30\n"
          ],
          "name": "stdout"
        }
      ]
    },
    {
      "cell_type": "markdown",
      "metadata": {
        "id": "GKpV6uYznM6u"
      },
      "source": [
        "## Questão 11\n",
        "-> Construa uma função que receba 3 valores (a,b,c) e retorne uma lista com todos os valores entre 'a' e 'b' que são múltiplos de 'c'. Utilize os valores abaixo (10,500,23)."
      ],
      "id": "GKpV6uYznM6u"
    },
    {
      "cell_type": "code",
      "metadata": {
        "id": "LOGkp4jztJ4d"
      },
      "source": [
        "#Metodo 1:\n",
        "def Func(a,b,c):\n",
        "  return [v for v in range(a,b+1) if v%c==0]"
      ],
      "id": "LOGkp4jztJ4d",
      "execution_count": null,
      "outputs": []
    },
    {
      "cell_type": "code",
      "metadata": {
        "colab": {
          "base_uri": "https://localhost:8080/"
        },
        "id": "z_WYILOftJ7F",
        "outputId": "281843fc-8c74-4b91-c5fd-9134bc2444dc"
      },
      "source": [
        "print( Func(10,500,23) )"
      ],
      "id": "z_WYILOftJ7F",
      "execution_count": null,
      "outputs": [
        {
          "output_type": "stream",
          "text": [
            "[23, 46, 69, 92, 115, 138, 161, 184, 207, 230, 253, 276, 299, 322, 345, 368, 391, 414, 437, 460, 483]\n"
          ],
          "name": "stdout"
        }
      ]
    },
    {
      "cell_type": "code",
      "metadata": {
        "id": "Q4xDLdbCA6vH"
      },
      "source": [
        "#Metodo 2:\n",
        "Func = lambda a,b,c: [v for v in range(a,b+1) if v%c==0]"
      ],
      "id": "Q4xDLdbCA6vH",
      "execution_count": null,
      "outputs": []
    },
    {
      "cell_type": "code",
      "metadata": {
        "colab": {
          "base_uri": "https://localhost:8080/"
        },
        "id": "sl8ycUfOBD6Y",
        "outputId": "43f4672e-eb29-4e38-b93e-955903e9444f"
      },
      "source": [
        "print( Func(200,400,11) )"
      ],
      "id": "sl8ycUfOBD6Y",
      "execution_count": null,
      "outputs": [
        {
          "output_type": "stream",
          "text": [
            "[209, 220, 231, 242, 253, 264, 275, 286, 297, 308, 319, 330, 341, 352, 363, 374, 385, 396]\n"
          ],
          "name": "stdout"
        }
      ]
    },
    {
      "cell_type": "markdown",
      "metadata": {
        "id": "ak7mYnv2nNBR"
      },
      "source": [
        "## Questão 12\n",
        "-> Escreva um código para ter o seguinte output:\n",
        "```\n",
        "    1 ---- 99\n",
        "    2 ---- 98\n",
        "    3 ---- 97\n",
        "    4 ---- 96\n",
        "    .\n",
        "    .\n",
        "    .\n",
        "    99 ---- 1\n",
        "```"
      ],
      "id": "ak7mYnv2nNBR"
    },
    {
      "cell_type": "code",
      "metadata": {
        "id": "QuO8_oXF_hUC"
      },
      "source": [
        "def F_1_99():\n",
        "  inicio=1; fim=99\n",
        "  for i in range(inicio,fim+1):\n",
        "    print(f'{i} ---- {fim+1-i}')"
      ],
      "id": "QuO8_oXF_hUC",
      "execution_count": null,
      "outputs": []
    },
    {
      "cell_type": "code",
      "metadata": {
        "colab": {
          "base_uri": "https://localhost:8080/"
        },
        "id": "dr3_ssWq_hZG",
        "outputId": "06aa2c75-7148-4abf-f487-5f83d6ed121a"
      },
      "source": [
        "F_1_99()"
      ],
      "id": "dr3_ssWq_hZG",
      "execution_count": null,
      "outputs": [
        {
          "output_type": "stream",
          "text": [
            "1 ---- 99\n",
            "2 ---- 98\n",
            "3 ---- 97\n",
            "4 ---- 96\n",
            "5 ---- 95\n",
            "6 ---- 94\n",
            "7 ---- 93\n",
            "8 ---- 92\n",
            "9 ---- 91\n",
            "10 ---- 90\n",
            "11 ---- 89\n",
            "12 ---- 88\n",
            "13 ---- 87\n",
            "14 ---- 86\n",
            "15 ---- 85\n",
            "16 ---- 84\n",
            "17 ---- 83\n",
            "18 ---- 82\n",
            "19 ---- 81\n",
            "20 ---- 80\n",
            "21 ---- 79\n",
            "22 ---- 78\n",
            "23 ---- 77\n",
            "24 ---- 76\n",
            "25 ---- 75\n",
            "26 ---- 74\n",
            "27 ---- 73\n",
            "28 ---- 72\n",
            "29 ---- 71\n",
            "30 ---- 70\n",
            "31 ---- 69\n",
            "32 ---- 68\n",
            "33 ---- 67\n",
            "34 ---- 66\n",
            "35 ---- 65\n",
            "36 ---- 64\n",
            "37 ---- 63\n",
            "38 ---- 62\n",
            "39 ---- 61\n",
            "40 ---- 60\n",
            "41 ---- 59\n",
            "42 ---- 58\n",
            "43 ---- 57\n",
            "44 ---- 56\n",
            "45 ---- 55\n",
            "46 ---- 54\n",
            "47 ---- 53\n",
            "48 ---- 52\n",
            "49 ---- 51\n",
            "50 ---- 50\n",
            "51 ---- 49\n",
            "52 ---- 48\n",
            "53 ---- 47\n",
            "54 ---- 46\n",
            "55 ---- 45\n",
            "56 ---- 44\n",
            "57 ---- 43\n",
            "58 ---- 42\n",
            "59 ---- 41\n",
            "60 ---- 40\n",
            "61 ---- 39\n",
            "62 ---- 38\n",
            "63 ---- 37\n",
            "64 ---- 36\n",
            "65 ---- 35\n",
            "66 ---- 34\n",
            "67 ---- 33\n",
            "68 ---- 32\n",
            "69 ---- 31\n",
            "70 ---- 30\n",
            "71 ---- 29\n",
            "72 ---- 28\n",
            "73 ---- 27\n",
            "74 ---- 26\n",
            "75 ---- 25\n",
            "76 ---- 24\n",
            "77 ---- 23\n",
            "78 ---- 22\n",
            "79 ---- 21\n",
            "80 ---- 20\n",
            "81 ---- 19\n",
            "82 ---- 18\n",
            "83 ---- 17\n",
            "84 ---- 16\n",
            "85 ---- 15\n",
            "86 ---- 14\n",
            "87 ---- 13\n",
            "88 ---- 12\n",
            "89 ---- 11\n",
            "90 ---- 10\n",
            "91 ---- 9\n",
            "92 ---- 8\n",
            "93 ---- 7\n",
            "94 ---- 6\n",
            "95 ---- 5\n",
            "96 ---- 4\n",
            "97 ---- 3\n",
            "98 ---- 2\n",
            "99 ---- 1\n"
          ],
          "name": "stdout"
        }
      ]
    },
    {
      "cell_type": "markdown",
      "metadata": {
        "id": "MxDMoFjSnZ0Z"
      },
      "source": [
        "## Questão 13\n",
        "-> Construa uma função que receba um input e printe um padrão conforme exemplo. ##<br>\n",
        "```\n",
        "input = 5\n",
        "output:\n",
        "+\n",
        "++\n",
        "+++\n",
        "++++\n",
        "+++++\n",
        "```"
      ],
      "id": "MxDMoFjSnZ0Z"
    },
    {
      "cell_type": "code",
      "metadata": {
        "id": "84QRWtxDIw7d"
      },
      "source": [
        "def F_plus(n=3):\n",
        "  for i in range(1,n+1):\n",
        "    print('+'*i)"
      ],
      "id": "84QRWtxDIw7d",
      "execution_count": null,
      "outputs": []
    },
    {
      "cell_type": "code",
      "metadata": {
        "id": "9TdUhZ8zIw-h",
        "colab": {
          "base_uri": "https://localhost:8080/"
        },
        "outputId": "bb9bdb2a-7086-4ecb-8069-3fd3acb4f626"
      },
      "source": [
        "F_plus()\n",
        "print()\n",
        "F_plus(5)"
      ],
      "id": "9TdUhZ8zIw-h",
      "execution_count": null,
      "outputs": [
        {
          "output_type": "stream",
          "text": [
            "+\n",
            "++\n",
            "+++\n",
            "\n",
            "+\n",
            "++\n",
            "+++\n",
            "++++\n",
            "+++++\n"
          ],
          "name": "stdout"
        }
      ]
    },
    {
      "cell_type": "markdown",
      "metadata": {
        "id": "ddY2kJq9nZxA"
      },
      "source": [
        "## Questão 14\n",
        "-> Itere sobre a lista abaixo e crie uma nova lista com todos os nomes em letras maiúsculas e com underline ao invés de espaços. Dica: utilize compreensão de listas."
      ],
      "id": "ddY2kJq9nZxA"
    },
    {
      "cell_type": "code",
      "metadata": {
        "id": "iG0vzzB8nekM"
      },
      "source": [
        "lista_nomes = ['Geralt de Rívia','Yennefer de Vengerberd','Triss Marigold','Emhyr var Emreis','Jaskier o bardo']"
      ],
      "id": "iG0vzzB8nekM",
      "execution_count": null,
      "outputs": []
    },
    {
      "cell_type": "code",
      "metadata": {
        "colab": {
          "base_uri": "https://localhost:8080/"
        },
        "id": "drK7NNw2nenG",
        "outputId": "de31b760-1e6c-4dea-ff48-5a8e6fe797da"
      },
      "source": [
        "new_list = [nome.upper().replace(' ','_') for nome in lista_nomes]\n",
        "new_list"
      ],
      "id": "drK7NNw2nenG",
      "execution_count": null,
      "outputs": [
        {
          "output_type": "execute_result",
          "data": {
            "text/plain": [
              "['GERALT_DE_RÍVIA',\n",
              " 'YENNEFER_DE_VENGERBERD',\n",
              " 'TRISS_MARIGOLD',\n",
              " 'EMHYR_VAR_EMREIS',\n",
              " 'JASKIER_O_BARDO']"
            ]
          },
          "metadata": {
            "tags": []
          },
          "execution_count": 44
        }
      ]
    },
    {
      "cell_type": "markdown",
      "metadata": {
        "id": "69IN3oKYneux"
      },
      "source": [
        "## Questão 15\n",
        "-> Voce é um jogador de tênis. Para decidir se você vai treinar hoje você deve avaliar duas coisas: o tempo e a temperatura. Crie um programa para saber se você deve ou não treinar hoje de acordo com as seguintes especificações: \n",
        "\n",
        "- Tempo: chuvoso -> não jogar\n",
        "- Tempo: ensolarado ou nublado -> jogar\n",
        "- Temperatura maior ou igual a 15 graus e tempo ensolarado ou nublado -> jogar\n",
        "- Temperatura menor que 15 graus e tempo ensolarado ou nublado -> não jogar\n",
        "\n",
        "Se o dia estiver ensolarado e a temperatura for de 16 graus. Você irá ou não jogar?"
      ],
      "id": "69IN3oKYneux"
    },
    {
      "cell_type": "code",
      "metadata": {
        "id": "LVuzMTLNnqr6"
      },
      "source": [
        "def Jogar(tempo, temperatura):\n",
        "  if tempo=='chuvoso':\n",
        "    print('não jogar')\n",
        "  elif tempo=='ensolarado' or tempo=='nublado':\n",
        "    if temperatura >= 15:\n",
        "      print('jogar')\n",
        "    else:\n",
        "      print('não jogar')"
      ],
      "id": "LVuzMTLNnqr6",
      "execution_count": null,
      "outputs": []
    },
    {
      "cell_type": "code",
      "metadata": {
        "colab": {
          "base_uri": "https://localhost:8080/"
        },
        "id": "rEFcdnDYnqvF",
        "outputId": "ca2f9ab1-f7aa-459b-d6b5-da8d875a10d5"
      },
      "source": [
        "Jogar('chuvoso', 25)\n",
        "Jogar('ensolarado', 15)\n",
        "Jogar('nublado', 25)\n",
        "Jogar('nublado', 10)"
      ],
      "id": "rEFcdnDYnqvF",
      "execution_count": null,
      "outputs": [
        {
          "output_type": "stream",
          "text": [
            "não jogar\n",
            "jogar\n",
            "jogar\n",
            "não jogar\n"
          ],
          "name": "stdout"
        }
      ]
    },
    {
      "cell_type": "markdown",
      "metadata": {
        "id": "xHF9f6W3nex9"
      },
      "source": [
        "## Questão 16\n",
        "-> Pesquise e use a função ```zip()``` para juntar as duas listas abaixo."
      ],
      "id": "xHF9f6W3nex9"
    },
    {
      "cell_type": "code",
      "metadata": {
        "id": "o8pt2gEvnz2q"
      },
      "source": [
        "nomes = ['nasser','joao','mateus']\n",
        "salarios = [1000,1500,5000]"
      ],
      "id": "o8pt2gEvnz2q",
      "execution_count": null,
      "outputs": []
    },
    {
      "cell_type": "code",
      "metadata": {
        "colab": {
          "base_uri": "https://localhost:8080/"
        },
        "id": "rhB-3O8Pnz5o",
        "outputId": "d8b471fc-c8e8-406b-8765-dda743a927b2"
      },
      "source": [
        "for n,s in zip(nomes,salarios):\n",
        "  print(n,s)"
      ],
      "id": "rhB-3O8Pnz5o",
      "execution_count": null,
      "outputs": [
        {
          "output_type": "stream",
          "text": [
            "nasser 1000\n",
            "joao 1500\n",
            "mateus 5000\n"
          ],
          "name": "stdout"
        }
      ]
    },
    {
      "cell_type": "markdown",
      "metadata": {
        "id": "jiSc9lH3nfQA"
      },
      "source": [
        "## Questão 17\n",
        "-> Considera as duas listas abaixo, a primeira demonstra o valor real de venda de uma casa e a segunda demonstra o valor recomendado por um modelo de regressão. Gere uma terceira lista com o resíduo de cada ponto. O resíduo é o resultado da subtração entre o valor real e o valor predito para determinado ponto."
      ],
      "id": "jiSc9lH3nfQA"
    },
    {
      "cell_type": "code",
      "metadata": {
        "id": "qkAIPDLVn-8P"
      },
      "source": [
        "real = [150358,368525,532152,144789]\n",
        "predito = [162122,365255,533200,185789]"
      ],
      "id": "qkAIPDLVn-8P",
      "execution_count": null,
      "outputs": []
    },
    {
      "cell_type": "code",
      "metadata": {
        "colab": {
          "base_uri": "https://localhost:8080/"
        },
        "id": "oIkLYX4kn-_f",
        "outputId": "7004d701-4482-486c-e00d-5b4ce7007280"
      },
      "source": [
        "residuo = [r-p for r,p in zip(real, predito)]\n",
        "residuo"
      ],
      "id": "oIkLYX4kn-_f",
      "execution_count": null,
      "outputs": [
        {
          "output_type": "execute_result",
          "data": {
            "text/plain": [
              "[-11764, 3270, -1048, -41000]"
            ]
          },
          "metadata": {
            "tags": []
          },
          "execution_count": 50
        }
      ]
    },
    {
      "cell_type": "markdown",
      "metadata": {
        "id": "9898ca93"
      },
      "source": [
        "## Questão 18\n",
        "-> Ainda usando os dados da questao 17 calcule, sem utilizar bibliotecas, o RMSE do valor predito. Referência: https://tinyurl.com/yd9ljcmj"
      ],
      "id": "9898ca93"
    },
    {
      "cell_type": "markdown",
      "metadata": {
        "id": "PJO6CNYD1rp0"
      },
      "source": [
        "![image.png](data:image/png;base64,iVBORw0KGgoAAAANSUhEUgAAAhwAAADoCAIAAAArAKoNAAAgAElEQVR4Ae3dd4BsR3E2fL02tsHkLEAimZxzBpMxUeQgDAhEElFkEEnknDEWQkgkAwaTTRAgCZEzJpgoJEBgcjJgsPFnf7+7DyofZnZnZ3Zn9s7eW+ePMz19qquqn+6u6nT67PG/fTUCjUAj0Ag0AnNCYI858Wk2jUAj0Ag0Ao3A/7ZT6UrQCDQCjUAjMDcE2qnMDcpm1Ag0Ao1AI9BOpetAI9AINAKNwNwQaKcyNyibUSPQCDQCjUA7la4DjUAj0Ag0AnNDoJ3K3KBsRo1AI9AINALtVLoONAKNQCPQCMwNgXYqc4OyGTUCjUAj0Ai0U+k60Ag0Ao1AIzA3BNqpzA3KZtQINAKNQCPQTqXrQCPQCDQCjcDcEGinMjcom1Ej0Ag0Ao1AO5WuA41AI9AINAJzQ6CdytygbEaNQCPQCDQC7VS6Diw1Av/zP/8T/f7zP/8zgac+9al77bXXX61cF7rQhfbcc8/Tnva0ZzzjGc90pjOd8pSnPH1fjUAjsDAETnGKU5z5zGfee++9Ncb/+q//+s1vfjNuPtqpjGPSMUuEwP+3clHod7/7XdR6xCMecepTn3qPwfXnf/7n+fcnf/In/6+vRqARWBgCJz/5yTU3d41R03T/j//4jzTMurdTKSg6sNQI/Pd//3f0O+CAAzQZXuRc5zqXu7De08DFdLARaAQWi8A5z3nOX/7yl2mP7VSW2m62chMQqHmwO9/5zlrM5S9/+RNPPDH0xuDf+ta33I3H1fW+GoFGYEEIaHG//vWvf/jDH1bTy3hl2HJ7pDJEo8PLiIAxiorLYUS5W97ylpzKPvvsk7+//e1vS+lf/OIXK7NlfWsEGoGFIMBXZXUz09Hp6pFUbVCgncoQjQ4vIwJxKjX9daMb3ciU1+Uud7nhuFsVR1CjmWXMRuvUCOxaCKRJ/v73v6+2mfy1U9m1ynk3yM21rnUtTuWe97ynvKrQrtoYthvkvrPYCOxkBHTgsumrJg9GFGqnMgJI/10uBIysa/whzIVc4QpXMP11l7vcpep0Okr+FuVy5aG1aQR2IQSq3cmT9RX3kV5dO5VdqLR3xaykvg5nuuyRt3X4AQ94gOzyInEk8Ssjw/BdEY/OUyOw7Ai0U1n2EtrN9TM0gcCwK3TWs57V9NeDH/xg8bxIFglHlgp3c9A6+43ATkSgncpOBL9FT4VAhiMZkUhwmtOcxvTXwQcfLMypuATaqUwFZRM1AotHoJ3K4jFuCZtDIJuG4zy4lpOd7GScyote9CJc/Y07yYCmXcvmkO7UjcAcEGinMgcQm8VCEchWE06FC/nVr37Fo7he/epXEyoml6c8ivBCNWnmjUAjsC4C7VTWhagJdjICGanEZ3iLnkexpvKmN71JTIYv0a89yk4upxbfCKwg0E6lK8KyI5CpLVryIl/60pfiVN71rneJHzoVT5c9J61fI7AbINBOZTco5F0li9zGJz/5SU7FluKjjz46U16VuX5PpaDoQCOwExFop7ITwW/R6yOQJRN0GZS85z3v+bM/+zPTX9/5znfq5RVDlh6mrA9lUzQCW4JAO5UtgbmFbBSB8hYJvPnNbzZScf3gBz+ol1f4m15Q2SjAna4RmDMC7VTmDGizmy8C5S0SeMUrXsGjGKk4LbUWVMrxzFd0c2sEGoENINBOZQOgdZItRSDuJPcXv/jFnIoZsDqASHwe0akCW6pfC2sEGoEBAu1UBmB0cCkRMCJxxWE861nP4lR8Trg0HTqSYbgIOtAINAJbiUA7la1Eu2VtBIFsHY7DePzjH8+pnO1sZ1uVUTuVVWHpyEZgKxFop7KVaLesjSBgmJJk1k4OPPBATuV85zufmHYhG0Gz0zQCC0agncqCAW72m0NgZerrD07Fdq973OMenMpFL3pRDsZVvNvBFBQdaAR2LgLtVHYu/i19fQSGDuO2t70tp3L1q199/WRN0Qg0AjsDgXYqOwP1lrkhBIxabnrTm3IqPlO/IQadqBFoBBaOQDuVhUPcAjaDwHCYYhvxNa95TU7ljne842Z4dtpGoBFYHALtVBaHbXOeAwJDp2KkcrnLXY5Tufe97z0H1s2iEWgEFoBAO5UFgNos541Arclf+MIX5lTyLeF5C2l+jUAjMAcE2qnMAcRmsWgE6vT7vfbai1PJt4QXLbT5NwKNwAYQaKeyAdA6ydYhkDFKvapyutOdjlN5wQtesHUatKRGoBGYBYF2KrOg1bRbjkDO+OJaLK64/uIv/oJTOfzww7dckRbYCDQCUyHQTmUqmJpoJyJQwxTH3fMoriOOOGIn6jOT6LjDfPrlV7/6lbx87GMfCweP6vR+vvO444774he/mMxynz/72c9C9rvf/W4miU3cCOxcBNqp7Fz8W/r6CGQGDN0JJ5zAo/jsow/Ur59saSjiJ/7t3/5tn332Of3pTy8Lju5/4xvfGAXl7g1veMMFLnCBzOz96Z/+6UMe8pA8spL029/+dmny0Yo0AlMh0E5lKpiaaGchkJ5+pOvIs8jOvT/mmGN2lj4bkPvrX//605/+dNzJKU5xipOd7GRycaYznemnP/2pr8Lst99+HIlL5ClPeUr3M5/5zNyMQUyNUWpAswHpnaQR2GIE2qlsMeAtbjYEapgi2cc//nE298///M8/85nPzMZlp1J/+MMfPs1pTnPZy172E5/4BPdwkYtcRC54l3//93/3Fqfws5/97J/85Cd03HvvveN77nCHO9QHYwTMhu3UHLTwRmAGBNqpzABWk+4sBGJVjzrqKHNfevpf+cpXdpYms8qluaWgm9zkJscff7y0FlcudalL8TFy8YQnPIFHMYgpno94xCPEuG53u9tVZI1XKqYDjcAyI9BOZZlLp3X7AwJZlnjrW9/KqbhOPPHE7QWNQUn8okBGKpZVznGOcxx55JGZ2nI3InnhC1/4l3/5lwYrBxxwgJiM0uodne2V5dZ2t0WgncpuW/TbI+MxrJwKo/yqV71KL545Zpq3h/YrWsYjCv7mN7+h+cpQZMfHK+93v/uJlMEiuMENbpCn2d4my1xLj1S2UVm3qhBop9LVYKkRSD89lveQQw5hc41U4mmWWu+TlIs7LMfwute9zmqKXHAqP//5z0+i+sPvec5zHi7T029/+9uiytn0YGUEqP67zAi0U1nm0mnddiBQLuTpT386m+tbwmVttxFAcmHk8YAHPCB+8UEPehDlsxqfmbHPfvaz/KW1Fv4mGeSKtmNOt1GhtKqLQKCdyiJQbZ7zRIBhjdl15BeLfO5zn3ue3BfMqzZxRU6O7pcLQ5bEJGvCL33pS+NvrOrHj2aA4lWVGugsWNlm3wjMAYF2KnMAsVksFAFOxcXOOpyY2fUt4YWKmy/zvL1If2y9lWLuy2DLWyn2GiSyxmG3vvWt5c513/ve1+pL1BjxSfPVrbk1AotAoJ3KIlBtnvNEgNmN/d1///3Z3Ctd6UrVu5+nmMXwiuaGGnT2ngr9OZVLXOISpNVykbATXLKgcqpTneq9730vYq9GlkblYyqmA43A0iLQTmVpi6YV+z8E0p2/zW1uwyhf97rX3Xb99/gPhyvT31UfGYt35Hi8eXPyk588T7/3ve/9X85X9owN/3a4EVhyBNqpLHkBtXo7EIhTyY7bW93qVtvLqZS2Jriy9cve6IqUO+OY97///fEoV7nKVbI+7x37F7/4xVlN6d1f3Qy2EQLtVLZRYe2+qmYS6WpXuxrLe9e73nV7ARH/YYLL245ZU/n6178uC/GUBisIvNcZp2KV3iOvs2QB6W1ve9v2ymxr2wi0U+k6sA0QiF3OB+qtY28DjQcq8oiGGt/61rfiNpxGnIfcjIBHvMtb3vIWT+0ntoZ/l7vc5eIXv7i/j33sYxFksDLg18FGYKkRaKey1MXTymWMEhx8S5jZ1YUfRo5DxEy7Kj5/MywQadHb4CBX0Sw0kINYnvOc52Tu62Y3u1k+r/LjH/84+mQdPi4zXyGT00MPPTS5KM0XqmQzbwTmhUA7lXkh2XwWgkDNEeF+hjOcwbn3j3nMYyZIyrAgBLbwxi5zIWJ0+cUk7O8vfvGLCXzm+CjDLAdKvutd73LYlz1gxdyp+AnLprDTWZzd8vrXv/773/9+0Qi0Xxmi0eElR6CdypIX0O6uXuxpfAOP4nrmM585DSi8S4YIiAUyOBgmjK0fxiwiTPNxQTKVSB4uw5Qc2TJ8z9Ejf4dOcRHqNc9GYO4ItFOZO6TNcJ4IsK0uHoIhtszAqXjzfIIAxpohlqRopM1faxgf+tCHjjrqqDiboQUv4rkH4hWwpQaJES3S3zz60Y9+FKH1MgqaCody7lo1w0ZgcQi0U1kcts15DghkpMIrmB3iVKxjO+Akkatyr2VtQxPWGWU8yne/+9273/3uOHjxsEz2+PBlVZ6bieQ8JK9xSZxKGFI1f2kYB+Ne+g+F5ukwpsONwNIi0E5laYumFduBQPkPXoFL8Dr6O97xjslG1hsecSQx2T4O/8AHPvC0pz2t5K7rX//62Gbn1RZAzKnwKOW9KjsRHfeGIIEik4oTLQ9UgS1QuEU0AptEoJ3KJgHs5ItFIO6BjH/5l3/Jh9x9oL4ix2Xnu7yscKaVTHZlV5W0Xlm3eezKV74yyx63lAHEOJPFxRCdsUt9EqbykhhTZBVDDX9DvziVmnMjMF8E2qnMF8/mNmcEYmHdLYf4Or2hxkc/+tHJMtLr//KXv7zPPvusDE52fNZegEdxv851riM5dzK03ZMZbuYpKRlncGORyK+U6Pi2mgerkQqJUpU7qcBmNOm0jcDWINBOZWtwbikbRyCW933vex+X4DWOE044YfIIw9SWj737Li/iM57xjE41ltC8mbsPltz85jenSpn1yWrVCkemy/gD1zAJPmKiobArT4fhIf2GwyUXZ1oVAhEUr4Om3c+GEe6E80Kgncq8kGw+i0KArWQ6c5AJ3+Adjgmm81Of+lQ+Av9Xf/VXT3jCE3LWrw1jszqVMtNlzZlyaiSTMeWVYX9LJQ5mOAySfC4XETi7SgH61MimFMvTXoOpounA1iPQTmXrMW+JMyAQc8lkv+IVrzDOMNowaBixoUN2H/7wh9E4JcyAJvGWJcyYbcypRFBM+dCCi6FSqSEwDJfpF8ijzd/lhXMqzpXlWpuJPuXbiqADjcAWI9BOZYsBb3GzIRAr6e7c+CyNlPlei9GnP/1p9tfTLK4IH3vssbM6FckNBWLEy1JnF8BQLmUiyz2BeiqVEcPm3UlxCGdsKeYqrRL/s5/9rER3oBHYiQi0U9mJ4Lfo9RGIWWdYn/KUpzg7yyWNv2ulNPUUa1s0Xla3yL8BpzLceZUJpSc+8YnXWrms9l/vetdzv8Y1rvHXf/3XPvHir+GRg+tF/s3f/I2Ya1/72rYv+37wXC6fJiOZFNwEcPYhAAFSyL3qVa964xvf+AMf+EDAofla+HR8I7BoBNqpLBrh5r8pBKo/ftBBBxmpOD0eu3IY46zjhPiALGXn/vGPf3wDTiVSwgFbA5FLXepS5tbGL8x5u8zODZ9mv9kwZsNh/HPWZDjYIZ0cZZu1yNOc5jT/9E//NA5IxzQCW4xAO5UtBrzFzYwA4+468MADmc58oN7fyVyqqx6fZJF/VqdSc1lxKuFzn/vch+0u51GBWHYibDmryFh/f+dyhZs71+KsmvwVJhp/d+HXvva1kCnNJ0PUTxuBBSHQTmVBwDbbuSFglMCm+wQvS3r5y18+Vn4t7hYb6pFUWVYxL7QBpzJ0XWF74oknnutc5+I5YtNrlODv4Ycf/slPftLONBsEvvrVr6L0Jv9xxx3ncOK5XD7Hgts3v/lNoy6zcNnhRi6PEmXc3/CGN8h7+5WqAB3YKQi0U9kpsLfQaRHIEAG1rwizmxYVpjGa5Q+S/Oijj57VqaylHw+BVea1wjN/jWBY/MgtDee4tTcZwbkGYbe73e1OecpTwiT7FwQcre9pJgDX0r/jG4FFI9BOZdEIN/9NIVDuwXd22c28urjuDE+lmrtTkRknWtLEdBN34hJ2Gb5YsffUzmNjKRqWDpvK/x8njpfiNhK48IUvTHRmw2jyz//8z+si88f8+l8jMH8E2qnMH9PmOHcE2Eq7nkz1+NQu5uva6yKYu1MJZ1utMvdllMCm1zyY1y2pl9fvI3qOUAzHPZnWs4gSr5aRk28SR712LXOEvVnNikA7lVkRa/qdgAAreZnLXIYB9WFE4stnrKVKEczdqWCIua9G2jIQX+Kb8ytjlT1OfepTC3zwgx8srYYLPBW54UCcSjmMfI34ghe8IKFxLW9605vytGfANgxyJ9w8Au1UNo9hc1ggAmVDHbvCej784Q+vmAlSF+dUMkQg+otf/CJ3cqpTnYpWBisJmATjWny0ON8JLuIJqs70KAzr3X7Og5elgMswzkcBpgFnJolN3AjMikA7lVkRa/otRaAmkc585jMznU960pOm6YYvzqnIvMXwaPWP//iPVDJeyexTTYLlIOQ6QGUueA3nvgoTruvtb397vQ3DqWQ5Zy4Sm0kjsDEE2qlsDLdOtUUIpOvNjHr7jwV/4QtfOE1nfKFORc6zBYuUm970pvX5r2w1zh5fu35rPDEXpDiV7KVO1gxZooONyzX/9uY3vxkZrKaBaC5aNZNGYByBdirjmHTM0iHAVjLWLq+DTKPc4pxKGXdqMN8WV3yfOGMU+8G4vcyDCXitZL5+hcQa/VDD3/Dfe++943E5lcr4NCg1TSOwCATaqSwC1eY5TwT0u7/3ve/FcJtxmpK1VCbKMld25JFH5mUOix+2JheHDfTowzATULHsXnWMTc9CPXciQFsDiB/+8Ifj9OOnUpY+GwjQ4R73uAehe+65J48bpxKhG+DWSRqBzSPQTmXzGDaHxSLAUHqv0DCF6Xzb295GWGz6qlLZU3uuRjrsXn7Myxw43OlOdzK8wGGEZlVua0VmwTy2G5/XvOY1OLvyNmLC7uXAMnPFASRh7msxnzUeOO985zt9OPk73/lOkJnvrrNZ9Wn63RyBdiq7eQXYBtk3nvCBejbaxlkfqKfxBKfiKXoE7kw58y3wnve8J5tuMfGNYTQb7ssn4bgCd77zneO34leMVDIbduihh44rHB8jfvNXVlbCR04T2Iy/3LxKzWE3R6Cdym5eAbZB9tlKL3/EqXzmM59ZV2N2P+aVbY0P+NjHPiY5K28SzHuLOCR+Az36THnhUBYcKz7GgvmlL33pbMQyE0WcoRVPJuZLX/oSLxL6vBc5R6Mftu7WV8rBJHfrAtUEjcAiEGinsghUm+fcEIj9ffe73501FQsYk1kz32X3UcbmGqmw8jH0t73tba1qZKyQp5MZjj/NMIXhrnX4WHNHSRJhfSUzdQYuGR5d7GIXI4jELLOX6R/nvMkYWNHNtbF8bVJ6J28EgkA7la4J2wABXwrJIKCWDdZVmm2NQ2Jh/+Ef/iEehaH3TZSk3bBxry1YnAopQ02cvrXDd+2xx8lPfnJ34uJgTI4NhebVyGHCDYcNtmSkvMgOl/LHKm2YcydsBDaGQDuVjeHWqbYUgSOOOCLWOWvs68rmTsrO8gEHH3ywQQMTb/qLc8qs14ZXyxnxuCtqlGfKvJaYO9zhDmRF2xX/8ofb61//+qRi9Eu3dTMyJUHpgx7zufOfUo0mawQg0E6lq8FSIxD7+KIXvYhtZqzXXS2ofnrsrE29DhW2uzcDHUy8R+KNxR/84AeyPbTFU6IQfcxlRVA4DO9GIRe/+MUjKDq78zFnPetZfRPF4GYDQifoVqJ3eJKTFuon0PejRmDRCGzEqVTvjHI6aCONxF+VexgpzBa4u6rNSzvkYx7cXwnTiyy26xqRIsgEd0SsiPqDLDyrF5mZ9GBKk8nrtJhgXkqWoDCp+GKymSZNmeK/GT6Lri5bzz9oP/vZz+ZRnNSS+lNYjevj0fvf/37TTTe84Q190ctb7nnRnVPBgX3PZchygQtcwMfkfZXkEY94BD4ZuIS/oh/nvG5M0iKz8GMFKHKHQh1f5mmRZe2nBkzDpaB1ZW2SIPNv6vAQz1S8mtwrPTcpa5dPrsrF4CSngTFVlHHI3zJBc0SDxQtz94hzr1JLdUrzGdq9VRXAwTXyKJUEn6qiIwRr/d2IUyHGNZwXhp2Yys9Q2M9+9rPh34SLWG7H3wWr7JnriKsYyhrnpm1Ac1Xghh3D0mSEWEIcZCEFM86/TEwFQqP5yYhwZacczDiTtWKGPGlCh2HMWql2t/jHPvaxOvu+upg6Nhmiww47zCezTnIfO750UmFM8h2UxGT7r0P1f/SjHwXS4D+Z/wTwU4WUow8YE0F0nIqZt0i8+93vrnqnViMuW5OEEzjP8VFGaRhGDZCSnroXKbQKztUS5yh9F2MVC1Bmt/qasikMwKpL8y1i5RUkU1LuKU2RHsUQRavJcqlXrJjiT33qU8669gnRY489FsOhQROesj7M7FQKvuSBToG16krqqJwIuMQLs7/Jm5jKwzC36rELqzQ5Ugqj4rxqoLh5Spm4n1IykPlbZCO4+Bsli7kkCYtP1miSQCksO06iLbJKS4rks14jKuEGiuLZAaje9773ZZ1NK40U1jg4aQZVJ4fdEWkVTZIg0OZTK1LTxEi7Lv9xiYkZL8R9992XIzn96U/vzpPFr1jA9xEUSYaKlUprMZ9jfNXhkToGGbsM8lZNNZ85yt2FWVVlq65JMls2BwG0C/m5QFH1jSF6yUteYnSemq9eJZA7WSgni7b55fGPf/x5z3tedTVnQ1SfzHfnXvCCF0Th6ZvGzE4Fa1qqgiVDOEpH+2q3UWVYQQvlPPI3TKqBhXOe5q48fv7znw9jVg1DkFwXDpWwCrvw5QyqK0GxIpCEMpInLa2imL8VEF6R8EcTI8SFgIhyM2Ey5X3Ik0pTutIpme8aZEA2ncU0X/GKVxwWx4TcgTE1ITUzFU+MgPsQc2FlV2yTqirMBBHjj6rpqmbYMjG+AZMBinvOiRHwFos3Vyp5NZBhbaynCwoMM6h/etBBB13ykpek2xnPeMZ//dd/pTy5slMNc0Fq7AJs0zXxllLykpqmTMtni6mKEWDnkusIUm+rmplxvc997lPMQ+DvZJNy73vf22pfJoevetWrPuYxj9G3MNvsMAgOJiuRr3zlK/GhfPEsKasGZnYquJSVl580CcJUU1faZCSJTDuBacEqEJroJ0mI8UwNRiCygEjC8gTjeZDVYu6pOS5NusioV2lNphEd6QqjAMKhxHlaBR/OYY6+aARcYsKQrFJgA42QRNwKB9yG+lRGdttAsLXyweRd61rXSvHlviomwBzGV9EIuKpwhVWAFGsKWiqloGdQNEM+04TDE2WqHCU///nPm2FL788GgdoS5gVMT6ugU52mETEXmrRZQlXXj370o+c5z3lg67ruda/71Kc+NU/nImi3YpK2//GPf/xv//ZvGXfdoI985CM76tzvfx8cyuDMBRZsVdcwf9WrXuUz2znBgWvJcDNSas5/LaH7779/Sv9xj3sc1zhU8kY3upFHDuHWHxp+em4tVhU/s1OJ+dNsNMhwEVPhNEj3iilJCVC6UBYTbgLJzPARDviIX4tVGNZTjSQ+THMVWcaFiJE+YAlFWY9qnMEnORTEEYTve9/7NLnPfvazRUMilYZKRgdKDmkSOeu9tJKQYrMm31XpA4t+k/p9s5vdLNkcL4Jh9lNtisbfqgxDsmEYwRDzYVkMyWYKp0rnWLC4Ew1ey0/YKhFusUSpw1WTZ5KyAWKASCXLD3rQgzIpx6/Y8RyUAlcGW1um0gZysTxJFGLGJSzGOc95ThUVqjms+uijj6an41Dd1zVls+aoarVich1zzDEXuchFHGZqovgWt7gFbqldAp6uxTynkdq04kOiqRiIw9mY4UxnOlNczite8Qombsp2MbNToZxRxQMe8ADbNE0Qn+UsZ9FUzna2s5mP0ykTA01Tcjbq+NCp8dQDH/hA830UonG1c38rwxhG15/+9KewwFbPDtswx3avvfayK3QtUNJ0iwkRd7vb3c6wcknrwseXX43gWI2gVtDQIXDLEQR9q+NCF7pQQKwOJi+tkIwQdZOf8Yxn2KJKlt4cuaAP+roDj3zkI00dkBWh098NMJ/3vOfVYJmShdJaWd6t4oPG1a52NaWw3377Je9DB7AWGlXclURZKzX9IVeBrA6kQ1AxazGcHF/tNhUyw+X0+o1LKJ96xdxoLwnruKRChjPi4d/J4jbzVKXVhTrggAOihtZx3HHHwSQ8q0FtRsTukzYWQH7tes9SBIuRfgM7ptxf/OIXe5rqMUdsI1eFqd5wjCozpVgNL65ylauQOyRYtVA+8IEPeAnM4d9pBWgqIJxBNm7GMdM3kJmdSiwyM8oUppsz3DrJRA5313iUJsQoaELJVRWDvzVVlZxga9Epdd29unUpmCQfv1d7wMQnJWq3T1oyn/S0pz0tziBpU7RlvunwzGc+s84t5xuudKUr6Rpf73rXsyc1s4q8Rbj5nO3I/AA+agw///SnPz2AlP7TBBSbTiLFyioJTGM0x3HYhWPM+CuI+9///vI4GRxVvzoNAUStWMtYD+OrWKsgZsUzdbjaXuq5yimgk1SLn1UrROpIkaJCJtXkrM2qz6r0yR0ko4Zu33CGJGqEJtlZlUlHjiDwrGc9S2kGUpsJWSGuunoSLAP68W2uI0xm/auY0jWPFa3Kc/WrX50m2gu/kqIcaREjglJRQxMXJVVK32hBLx+3Qw45RKopneLMTgVrTRF31+1vf3vyuA2X2lndbTTf/va37XKxgRIBvx2PZzCYZjw5k0CJq5c2y5u8QkEWmIioQB5Z4dA8uIGo5O7C5xOf+ISGXcTUltZVjT+LwIi9RvD85z8/Gy7xDNaf+9znDFPwicPI0ev0ryZXfIi41a1uFc3VJ2/YjWQ2zk89MEF5vvOdb0XBHbfvf//75VzJdUXDvkMgaJz//OfXwzjwwAPFVDw7sqoAACAASURBVFFuF3xUOW+ucCrV56jq7UWZtIWqRfPKVFAiesg5Hi79Nv0kHSnvYxbIq4qu9jJkpVCq/idVqrpwBRJPjaECq4rYLpEyUnkJvP4KxEOb29Cj19UWCRzXc57znLRx5f7kJz85HQiZhWRQYmFiEwrkuUDBwlz4whfWXkg3fsIzvodQ2rrEVBcqEmO6owbNRQqzqDjgwz85PU/klKZpZqcSnaKK6QhSeRT3hz3sYUFcIykamumGe+riV+Au4Uh+wqrusmQSLIhIJT/4GzdAZCRLKRj3WH9Pn/CEJ0iSpptuwuUudzljiDAPvTCtAqKYBz/4wRmjmLByQlQALWUikZfekYGV64QTTqjcIcMhJRHKfVd2kYbyoQ99aPiUBw1zlDgcfvjh8ihrZz/72RGIjHrhUwp0IAhACVa2pvgLqGC1LcCJqopV7UrFSNcvc+5i/u7v/q5qnWY830ylOlXDxNxirLnh9NV0+1TFye1RkiQXwA29HMVIiVH5xaSGa1PiEYvJHUEuMScFd4Vf3fkUGdtiTV4hasumN7zkAZzqICpNXVIvV6UPYTpEQsYKOK4AAbT5NvkYQ30FWmWiKFNEFEspRFzIEhNjqOyqmFIl7NrAhPI2FtN2+so5s1OpKkg5Ww5IzeXIv2obNKBfrC1XrFfOnYTMgo9HyVJgHb/rviG26OR4VwENgONFpiTSRCtJUFgpo98bYcQ9+LxrZLmXZZcknYJKK/DNb37TZBcydcIqUfTHjeZpNtFTwjB0trlU1aJQAsElMmnNnqOMl/UOUWTlUdAQkxZoOi48b3CDG4RMXiqD4Zn4vkMgU5rPfe5zC6vtBUvq7fWvf/0M2VP07ukAfeELX1hEdgiN3DST3L3xE+ksxfTVTKtPvcUw9dnfya1YjqrOJ8ki8rhlPMt6pNWT+41vfMPMBDCZnZe+9KV8SeW3Fr3BxZEYYSNjFpzyEIWH6KVc5p6RzBKRaw4J/lVwCl0WXCQKx55n1ktMKoyAZX8TemyvGnv88cfPpOTMTqW4Q9lSPKWNCRhlPaDgTq1oBjjEtDf0Q+ZiGow5khn3VS9JMjV017ve9V73ulcSmtpDDAKXAP4JBJp4WuvzNAGEnddSZaRichM9nso7raJcgrkyK/Ph756GDX2XJLkLJJUFfO3fRBk+5VarDiGjCZWiudqjJIxpxLuGqvpLATEapPkH16Mf/egVqv8rTn+HnPN0t70ra2ikmPRIUrUC6bbAJO1FoQvoSdhmU1UuASZJzyYLG1Xr5pK1qkXRAc8PfehDhBqpuNs+I94lvijH5YZgGK9FpBQSKawPqz6jTLlU6cQCDNNu97DMaukuiKmNYDRAsXG8evHyHsSYaWTJL2Iz3mbR9a0tidfciafj8G4SIgrEHupkM8s0dHlDHtvULgQuf6sQo09lgUqMuVesmFBzts6GSEZiCadRb2anUkypYmTkYm0zkojS4xXUNmoZy4jb3udhfopbBWzhTbfUfiqr4tWzq0FlkkeK/Cfwrne9awW9PR71qEfd+ta3JotiitBYJNgNEZEq1ULPManAxyMG69KkAjiYraIMKZW7KpIKGHLWzBtAiBgyHGmK6tx1rnMdSwXvfe97CaLSkHgYLjV2zwBkTEanmHQRCv9thEbVPYEvfvGL8sKRqJ8CqeoC2QO6bt9/plzHFqifQAOjtHe84x3JUtud/z9EsurwqvzL1bFWoUwLQlxMIqssQCVB6do16jMTIS9yLTsyqFp6T7A8RPqaitjThEMcEy8V6EyBBmE0KEMgpmpInm7yXmwtTituruXa1752ya2yTpGJz2AgReapDpCTtiW0IvDqV786CVPQlWSyhhtxKhGfXo81D81DF56YEkkzqPlrq67AEUccwTfov7P1lq9RTgDRGgyGgNARsKeinO2Xv/zlYU6iA+YiGehMlJm+/P73vw8LiLi0HHgFxFCGQ4V12SiWIZ5HAVcgCBKR4gmHSAyHCnskmyGLY8sI6S53uQvKEpRU/uJcbANXnKX4MKkKkSR9B9rXv/51pQlYq4VVx7YLMqVwapd73lzJHGlcy0pt3WPyFsdZ85uaKVVVQk1jzz33TN8uZ2gWzwm1Lo9w08qqIcjUsAngw3QmpxUf5pJPaOylwHYJyE5acRSW5RTrqr2BPCps4S8VfKqx+1vTHvNFgGiFVevZqtlXvvIVIqJ/ZA1LKiUrno/MHL5dS3//938fypRsZSSRE+4zOxXiU0uyKp72EIcWzTwlPoAS7K8Jx5C5WxgfZmZcsyc96UnIzAuZPqrxhxHAO97xjhAnb7H7aTDWbyXR+7PwaKATsy7GhFgIcgeNtEqxaj8axGQJZP6hwC3FIk68Cx9/BeppWIkX+cQnPjEM3Y1s0CQ+xACJzv7CpPovxQrxkL7iO+AVVJDqvpjn3XZopIZk+is1XzXw9Uk5yoq9gEX7+Bi1d14ZJGtYUbHVTY4Ucxp6hGL4iYiLkquKVifN2hlg+ZCzcf9IvZVQi0AjrTkT9wiVx9pBm5mxVZlvo8hkvIAyWQQTU0Mf/vCH5SJdQ208gAikrCETaxkzUuj5O9kMbhgZ+EcKHYTVLpe2U+uRyYJHKbiqk4pJfcgy+d57751tY9SojE+v8MxOpXLr9ebM9lD6uOOOEw/BXMKBMhkwH7WStR0bwN7ylrd4hKz4jARuectbItafEq8eC8dJ8EzhFtOcMD6Wy+zkM6DxWokk5ZOkcoJNBKXIC5Sq9/YUFf+4ARyG/FEmFXHsgqepHO4hK558VcaMyal9zNK6UnISugLOMO+ShyYEdS+2FbM7B8wQQlVliykERUphW2CSilqqqjZiNFQ9wVSVmgHz11C7KDcZGMol1HWnO90pMGosmBeGZelWlai3q30lofv++++PjMEKhwTIwt+bGShlJ2dJWYac8M7yqrKWP1JOtd+jjjrK6jc0cpkmOfHEEwtPUCQjLIZtETBh97wMbjbeiq+XFgJ4tfGin1f2w9mdUbLdiZJGKrxFLI/4GCLiGB93BlmAR8lhSFSNMSwNZS3VaVipJmi7EadCBiXOfe5za+cu/ayhgBKMhvZeWOEnkckbcLMcJBvIkiXcXDjAGgoqpf6UowPRcJ7SSshDHHTQQWhCiUw4dyftKDZJ7OcTaecYBOOHLKCl0pcgBEEqw9UcUZCRikmzr33tayFIKuHKS8oj0sUnecjCEOU5V05ooK0eaFWU5FQSF79oA6LZj/yNVglPf49KpYmEJWt6JigpNpLWXOVMHLaM2Afq0zDMg5XaKRE6BBD3agOzKiZhmKTfIHkxn5XV9PQ2m6ZRyNrwyvzwsN5uTJ9hncdBY0n91DRqw+FIzZFrOFTePc3gW4OqWWiqes0l2RzCJdU73/lOm2s0WPTJkR5eMqLUwjbFp/YSNCJ9XejkKJlal3IagrSgaJXSnyYVGlvA99prr+SRnxCQZcvapVuVHeYgespTnhKbBhN95dvc5jaxHlhJEjWmrLrRdrKeeCIrZWxqrWqW5CGI9LCisEfZLSZHVvVTTJ6WRHpOX14bcSqEseDVEq5whSuIITJoCgvUXgJdG5QpA28GDbtFpbEkLsg6dEv15SHs4Erm9Xok1xL0s8I/BZBs6wpxVAi8ZxQmlr6jGCfBnyUyJVdAi5Scwt5kDLEjbtQMg77jjz8+SRDUhpzxhEO2cqFS2jxWbx5kWUx9YqYjGr05TW6YOAcERYF6FG6z3pkJgzO9JFm2i9p255kuHUmvqbt7lQcTYQc81PtZsyqzUHrFpEooIBtaAhrMFZ+a4BqpRZvRBCsMtflhiW+G4eS0+Zxl9mKp4anJDNBhhx0moUrlEqDMhqtKJVSxM9umJWbBD+chdNVgqxV741h1tTD5/ve/364ZYeYpSkKpslZ6SmhGHpnCCpkGSERZqGRKjLLbMMIRt/l79KcJVkrcPeHK10hALly6NQwLHMwm2TaSzqss77ly8nRVzuTUPQgzLGggz6m8/OUvL86eVgFV5EgA1GhG6gBNRsiGf7ENvO523ioO0l2WpT1yhViWBVKUWaGQL5uqwjxTo8GEAomsujEUNx6e2amkexIlNAC6WvQjO/qRnbC/VHEWP1PLT1BXF+y73/2u+GRGQPYqnAD6lezvYeMdApdPaKSXZFv9MGOwwO3KV74yeuPunMLC1REkhmIe1ZRxtYFgHT6YC2S2LUIVOUedkUTRrGixIy+Vr4yQEp+7R3W6jKUdw5EquRCYbr7KVa5CigLWvCkW/qXYkNu6YUWbjMgmnV3Rf6a7ifU0iWHy2ga9rg5bRgD57B4EHeT9JXoEXvirPzDJ05l0SztRHHoAQVXyCszEagPEedGhbJMSVBzmHxiv0kGuR/I7vaAAAhzLUTEu7gYQI3mMLFJq8GHm2QSd+eEsL6PXPU/j0qLVk3B2T7+7tK1KmPFQtSOBCkd/lX+8KU2ftblT0qdysRZzHx1ROkaZASovoMiyEtRFqOYcPsDJwpJtx4HFnEpWnjyqMq3AWkITv65ulTxF46+AbnfVLu2IhnmKW9leb9Slw+EFdqnEV6PwV1mbtZOF6RWY2alEdZNOVXsMe4fyYnzVRWegFo0pyKqvONQAsDIWZOttSpY3ghzHHaunOAuIFJ4zzvA3eeW9y/Bh2ctEKu9UYqnKHwxFCwc7LSepIJsCuN/97udp1fjoVjWmKsEw1wEk7db2UPMGj3/84+0gcBl11fjJsKCUGVasZHbKe6oFPunkRmhBPX1AZtOjlMQ4QBcsW0SmVGNryJSsbVE0ZNFITEErApfyVYJDU6VEZr3wxKryUv6+YhYUSCFa7TMWzwSsLkIVpdcayNVkottQw+n1AUUSAm14WLL9LJgEyXArylROusHB6N/h7QiCcAYrqV0WBiQZaiKJRm0pMf1xZMY3CNLEqr2LGdq1IYeR8FpZFj+Xi0p0pgwNUxbVwEc0yV8gGMzZqqBdVwyDK6exHnkDL4+AU/Aa/Xs5KSXLLIRAFhJwL4NQMcNAcE7HQm3BNpAOaUbCxRzxJz/5yRSZu9ctcEtmK4lMpb+rfyM7QCCFOPiYGJDccdrSOtCsclRp1wpsxKmo60y8Tr12buLIrhKu214IGyFsh3CoiSXrjPi0Fpba3jCKpmJJm8IrKEtXgaRi5QsXM33Kw0UWRMrQ60lZ1ZTbffbZR8LQ24ZfbtmOAJGS5FEFAEF0Cc2mZysxrCpujCydNQxAGy2mDModVqrwHP7NnmYJKaA/ElbMtACG9M/kGHdV+gxnAtcqnlXjK7+quK+2GbF94xvfEJjpktb2ChMUVpKc0KwTYO6xcrqq3J0V6XBoqHpDkALVJAKjGGXkrlJVccyqJ3uhSsh71a7wnJXPBujlIrtR0j9QW1IPY83pk0xtLGtV5yXPOVQxf0cddZRH1QCjdlolfaCR7AeNkAmLVwoG4pTUbUKTJJIrlJRLxussg9lUQl2ehpvkrOFQqHAV4jh09SjJh0qOE284JvrQk5RoO5lVMJGXqAeBzMTARAlKi094ovEX2ac//WlPM1uTYV8eVb7QVHhceh4NHUnBPk4cBSTJhbMGTrpL2WXac5hNbHXN06dBk+NFMh719xznOEdqo7vl56i9qtCRyJmditpjTFcDgh36rvQi3QGXOpcw5Xh1xZAV4GFvRcaqesEIBNRi3RhfdrkWEoHigE/cxLsPrfDtV86yNC6rXZh4nuekzw0x6/Zj4EnbMMcqaKZ4xA8nkWk4fLueLJeFTRUieKUyCVddEQ5DrLz2qCEllWklblXn2gKS7Wf6dAaVeeRuFkJCnZdkP7qJmf4qGPlpqdzDSgZnukoi/RVByqgilyqghwU6szG0qgIVhn+qRDU5CCCY9ZIq+U2BZip1CxCgdjR/2cteJoPVttUle0zkIjoMq/2sWiVrWAVDjYsgH5JS8UTmaXKNs4pUvQpC1flULUrGkGUiWp+PhuhFItAiqk7q4eHvMtMShqVwcpq/JKZBhX/RDANVKNVGpFJL3z6ny9ANJ5McQ6ETwiNz6VUoep9sboBFQ9toHrVl87DDDgsmutqAKtgn5H1VNSTEDYcqr1XJIt09Aatc3EkUyAu25BYHNlCnnzFntULjzm7rW2dpw99YNtNOxFWuVxVdkTM7FWAZ2EYDaJrXsp/BvnuTbjkhmEIuEz5kqHbDypSqWZqBCY0cJv92HWALAlNGiUFvwBFZ7sZDoVdl5Zx0lGJSp01WZoiAUr1PmeETKRWIDtEt3JJcczL5k42eBail9WwJ8zQZSfLwlFwAIN6hKSXtn06DKYkI7AChMBpz5VLVVcpUzJQBcqv9l6Ap0xYZ5F31V6B4DiN3bhh6OXfHzKFcu+RXZEqNbqpTefSMMrXw6a8YSkVTNl3HaAuyLCOk5M6FqPauKJOT0tWiVA+Z3YA+SRX+wjX7L6fZJ4ln2kiQTDiChn3SxNMEE0dXURK2mCiFEFfAbAnbpP9ntid9lKSKoJDJqTN9bUnSQVZwQ6HhVvfo7178NUBtnOh5XQrabAdVtYJhlkuHkQBl0pNLuSgg+mcSni2iVbqMSeVRNGceU7XSQ63sjMM+Ii5/I4uGzqPUM7CA7XvPE7StepWmrYeUHjn1nGYS6QW79m7uxL5nJaKGmOnSA/Z6nyMTxVgbdoyIaU8N0KvolWpVPYeRMzsViWtHAUNpg51suCDu0gmifdrGNa5xjUgST6GyXyOwrqTb0W8yyyGt4jGfJlJakQYiKTCP+BIF6TK49leFqBlwzPOGv3iuxXRWxOGTUgnD3BUJzviXw8PTX8Vsx5ctVWHi7uIkhmjG7OITDqkZNcoBiIKpDAokLEdYMYuUSYUQHw6BaKa7rCUjBankYma9pIp6UWmYzZn0WSgxDdVy6Fldi7YlTn5TuJ7qx1Q98XemS4WphpdZyhKx0EAqgAkKu0XSH9JnVN8IHXp32dyAGsGqEPOtPM6AS5DTGn+n3KuTFynEpV2oDy5Khom2Vp5JA8ck1S93M6gfXXlHFfKag1SVhZoSwCfveDOyNuCk0U3OmiTVTNCfsLKGMVPhrkWcEnePAmUK1tKnkEQZ3FCKtAcsIrR9kxMQE18E5qXz1BhOvLThI1PJfiiHDXlVBdiZLA3gVq+Br0oZuDCMJj46STGpFL1TqZJNOqRShTiNaORRmOPjKkFVFhWzamBNpzJelWmZSG2gunX5WklY52nOww9BTuodqhUauRqiH6BZDZlXX60NlPagFxl7YX+FnGdCTOTRK5/qTFplY9Y4fSgVJQtisfh0iwKRGPog6FGqPgJPS2g+zpySwDNnTVaSZLbk+mtcWUp6qSKFFDJ3lNZdr371qzOOUamacVQqyikDxR+YyVppPiWHaCV5sQqHMgTT89kCSq/ZglehyGz0TC1K3t3TbNy1HJQbuGpsKi3/VLDMK3eUjPkI5yovf82Rpt4Sbf5WjFqR2rUZ6VW1gtJDHvIQ/NOOPvaxj4Vz0VRgXGKgjgV0TE4xMfhGHOYCOKjhnKJJY8TqeZnLBFLzvcgSyyBQIIwLFRO59chfIrRBCwNzueys0QF3wAefF7TzCkFJnDLA18IkDrvm7aM8tqZSVC0jaZ3jwmotzugrYeASI9cizXCQEkHlpNfiI75kWTpNQvf0VyIiaScXwQT+kx+t6VQiz12diB7uyWTtZTrb2c6mDSRSNoQJC8qatxrs1N6R+hpWklS2JRE2rswBrvYHD8235JaPcFNfuQqL5+nTcV3EocQKB2R5YTjt05sNBJWIEhoswl/CxOPjyiOZxcpAXhmkLyNgyhsO4jEMzxR5hWstx4A6mwiLYSg1M0Izdk773HBxJr/RNhlPLipmysAIH3mJqlMm30qyHEZkGmFEaApLZDnp2K8RsnX/yngwTKHMFwfVxkWH1DeCNBB/ySJIfz97Dpla1scUP2JlsbEyXTWnKejhS3B8Q3JaUiqwKoeKNFBIu9Yo9MpTn+WCCB32ND1r9aFXFiHwN3VeMekf2L3CbmhTk4WOPPUXLJqVwFyuwDKNga7srxWwawkg+iLcKg2Drfbu2nPPPT2yhxsCiV+LSeLRrFqHTQjBjXnx2hBKCKzFJ4+SOzQZKulvKZ07rxyyHgL3olmL1Ybj13QqJVJZDsNf+tKXwOQyUXC1q12NYAQlPu0nbyxCGZlc5ekQiMpYHkllvSSTZrowIkuigHf6VgTu2OjFsgjbaGGuUAEUT/U1Rcv3cAaeRhOsSr3wlEphR26KeWhExOTv/ivvbGKlqZthTNoSl4QR4aN+Uc/dqlI4l4iyd4nXGwqrjAlWrUChXPfO81EMIPYy6oPYjT3rBU9pTRW6pN13333ryNV1pW8lge2MbJkSKaEKosoiBguqFVNkUwaqhtduhY11WtcSR7dUwuKfWmGFoA5rUXnMmCNTtcbzsrGsqZ9hha0uc1aeIGmNWsUrntFtLeXFp7aHgAuM81BnEkOEgFfK7ZrxMplwSiRP3dPBStWK0JI4QllJxgMSEjTUZJxmYzF8PA2HHb6Z+MjCHe94R1bbZSssYAMIJo9+9KMVK2dguLAuT/OHaNiNyiNDFOhSK8IhNXNKuxG7Sgf9e6VmsR3/FAEpJWhd3WYlmORUCh1MS5XDVjYzcAD6VsaP4pPD5B+lBmPyLjWPX9H5QiMDoAmTUhF/V/LGFcu8Gp99I0kSypqM4jAIxTlD7+IjYAQjuYsbsLtXDM4hGPcu4kUSQaUqnlJPQtA71FotwVBOfdYlrOQxWaiMKHgKRy7dLHnFnUQ6skiX0BUm7mVcSsl6NFMAIDvyvKEL1NLJne5P3Lm/I/sIZlJmQcQw1Dujm752ga/OFLbkKoXUIpEgnfXCofrUC5oAjObqWFBKrUsPKaVnJY9ZSZsPceHp70hMPZocIA4UodEMU1s0H4MMDOtRNZDJ3FKBL3vZy1IYE2vyRW8blUj8tZqKxDYiJExHzSNyMzio5lb0qwZ25PykKwQKel7XsElW0ayqxuTIJ5/0vSggoJRxGqpRmhhMfD+xKtW6UoqgEMMwiKkbs/Z1ZDBHHKWOWSCosgbq5Ext5umaTgVTGUu1kNXYSpFZNY2WcRj0A6JHZaBNeuYVDSaeu/YIn7AayYxMBkd9bTx5VOuW4VaUJCqejHvQ2MNn0SWykha9zQlJ7m6elMRcHoVPlZb4lHoRCFQRhkxh2IqmU4abywYPNPiEVUQnO+L1U9CkL2AdMsqLR1aghVidEGn3iy6DekZolTH66S9KRk8NW/dTxY10TX2mayVzf7iBFzd7o6dXY8so7cGjpYoUuICZggBCgC0nXYBPr1uVV6VVNOE/PZMJlDSM8aoxq7VT9PlWK9i1ERO8ekUih2aueO6odps2AYTCkCxNKZ9DxTN5n8w8mIM6+NQbzRo4DVMEJrXUQK0+OotMG5GdzPWJr0FJjgLC1hWypFr1viPnK9eqTzcZOURbY1xXmbXElU+F8LHHHhugTHn56zOGQ08AmbWYyKUaEvdTdbJm55KwquhQ83GG1UDwzIvDNHF5iTDEaTXCE/QZZzt9zCSnIg/JnjyUeAP2dHJVI+P3SEp5lK4x8en/GmcMtZFPf93DOXfMsyzhCARPC7IITfEQSqJGWF/KIi4S0avQnmozsDNlXPWj1I5cVUeX0JyP9zTV6VT0Ehc9w9M5MSsFseP2xje+cZiF4hlXlBkM0lGWUY645HSY1vcCUNq9Vm1s+HTW8FFHHfX+979fZ0SWBWa6jjzySAu2LkzsI/C2nVJLjmZVY9H0ZhVg6+M6iqxkjQCYUvNUjZr1qmqg2khbZVeyNhOIzniGbf7aqWiySKZSbXTwY002I2gkbcSJLNCqW1bvflfNL+IRJv4GnCJQ06idKxtq4h0tk5jgUgoAlKraiDAvYqyJQK9FQt0g+zxLq3GJk2NoMpeLlJQ1EDasDCaMpGVU5WjEL3c2/or0JrilXwsE2lSyU/UzfyffNUN5NL+Nm6UEvdsw9/5GimMCtwInIrw8Hjus9Ou8jEo+LKbJKs30dJJTKZEV0N+JR2G+nUWY+KiobFKf/BU2d6TXDGWvjMBdVqNWaIQrIKyblrG52XN/cchThU1EOgJYEW1TYymDBiXOxFnkz2wVMtMI5eSiW8nKOZgKW9uIIPf0TMueEip5hrTKw5FHXlXxlFyyolt0SH2quSPeJQSSV37xp55U2FpeYh/VPyUdgsoLsikvrDB0JY9TphoniwKQSdYQFErjxDs3JtbQcXPRcATbmrlSHBuzDjXQSTYhPBKz+eyndrEINKSwQ7jTjlRaI1cSicgIZvOywgFWKokwWFLNCNU6XDanJoOp0miGkI4oECbFk4dI143R1DBpzlvIC5ePxrgEz6pIyax4Jzk5BSQJmQU9NoC4kvERiVvzl+joWQrT1rUx6en3MP1cLB+T/YredsQNT4Kqlq7FHw1NVlT4v5N5HXJhfzaLEei81i55DV9WZTWEVLHW2YkWvTAfPpV8QrmvynzKyDWdihxWfQrWjO973/veWH+Z5ACik8oRYcxcwhJm2TyGHsplZ7ENsbRymEzGbaia3sQJQfFEcPzxx5d/0jmSHLfoFiWFy6NQrHJekGlXIhFn/UO7spHMX1doRnLqryMK0ux9YyAS3RV8FM7d37ybGb/iDdCILp7BLZHuqWqk25xWrOrp9AFpQ0yNaC5A6EwXDuhLw7gogEyvxtZQyloKQqevYIdAVJUFakT5gmUmxVI3JEmzr5owE5PJxBmFRHn3VIOMURwvbdJDLpKdjWVhLenJS2oFuRpXhKqBWTr2aBqJ0RxxGKrtMQKOfz3ggAPwtOtpZIsHyhCnZ62a2eeWuVnSExmCtZRfNT55mcsd/6gRBORxw5VfzTH4ky+XDS8OMBbQmWasqn1NWb6ylowHnCS3jpUt73ZYrAtacSCRFWUP03yyn7hqu6euVUHefOSaTgXrSE2Vog11nYZd5lt3G020TE7QBwWR+VQJNA+aQwAAIABJREFUcNUkR5WgrN6fUsQzJRopKRKUj3/84wsUj8LNMNAyiVdJDz300ChTbh9quHkbhqBUdMOF4J66QqUkCStby0KmT4F/fL5HoYkyLNQ973lPDBWkiWMWIaw8RSZc2RTwxmn60UY/Bx10UPFB7CrOKFW11AycTRtiKzJkfZ+AAPOXKmdGOPAOa8iEhMvzKD4vdz369JBUA5sYzZNUJalqNhfNg5U6Rm44uxPKysDTmi2CNN40jQlCq7klwBGyU64s2pvHq6MuMBmWEYkukZqkuVmiKZAvZUTcLtMEstQEkz333DPvPBx++OFZTwrI8lsWL3kfv6eGiE8NB13AzJoi6LLwNp5wGAPSKtC8appZR9PdWdWrpwIpnWHyuYTXdCrlEoES2UCxwUnezIrqnvAEyXNGFcP6AZSXv/zlII4FNy34/ZXvM8uGR4Vy3Azo2W6DaJwtOSRXRZO/RKSEaFVlU8Yl78BL7sJKkgJOuMgktGaDJrIMDElJFpDhLHzCCSfYF4DJCrMdL6/Kl/hcUabu2hiGySN6zSZ8QhCFhc16PXplcyEavbzrXOc6pV6gK4YdGEfAju04FUtHKcoq0HHiJYxJdVXiKpjZDJ0P1SAdkVe+8pVVE1QwypdZ2XxGqv2GlWrMplg31iopYGxR8XQYNt4R0RlmUSy6ITZfh4Mr1sCSZ6wVKxFDgUOVUQJyZ8tZnEr2Um7HohxBJn/jaM21aNoqavJoWJD31dCUS66yXpVPRSqLYXFY58dWqbFa6QSP2MZKWIGIVnCGTSkpc/j57AiaUqMKqxLOK7CmUyEg1SiSLC0aPlMxS0YCHLLdX+puql3IZDityJJ1JoViEWzzzXfswxNSyZvlCi4hFV1H3pLU0Ucfndym2sE3lElYTSX4Wj4xYKKMskxzxeSII46ISoVa0poO5rRruCAjwl6ss3xikGFLjOPLOMt0NKyJHX/S8fuyhlUVhhYij16RzeuWpEsls0pdr837niZYhS984QubAyQluaNhAPFuM3/T7iQVZt27XnCqkL0V29QSVfXL8UIqjMsOaXnPI4E4lWRwXUymJKgaiz4N57CT3gegwNe//vVqXJG+FtsRJfX88soLJqbyMiMtbTW3yK28hDkDF4PLaETQUL21RG+LeNZG/7gMo8FKDgykvDyWhxAoTMbzVUWgpApJZHbQwNno1oEjSTW0t+N8yvSxURbPpGV22LdQ0ic1gYh1ndM48ylj1nQqsXrxEAx9+uO1y5auGVVlMEu/kZokoc8j10g/xM4mo1ZVpiybp7+DYV06NbyOMpBzEKROC/P5CdcErjMhJI/Rie0OEx8xJIgOKR6s8CFXr0ozyIkA0a2kq/F8g+Q6cdqenc1qQLKPlbArAWpYUy1AUpki3T0tB3O90YhwD2d3V31/rHDAtq+1ENCbSfl667Ya3lrEyxmvEqq3ZkpTOXU4bHLJTtN0Y1Or514fMFRpwzYNQStwYkWqZXYAJ34ybkPrg9sxxxyjGsuLHZt2D+IQu1msQp9InJWaS2c5TaO6zMn1ZNHb5SmcoRpjYkhNbdlnQgsEBECIDVk1UwVyaOAsrXC+WQBtndH4g8l8MEfg7mhIgGs7locLc1KiEprF9WvXdCrUqhGcsBGuZuBNdXfOUIWwMICgJnnQuOhK6VQvxFIBgml2yY+nNRhEDDgEnLx7/AQyQ5Dx2paGIUkBEcRJd5lbE2/phayIE0Zc1V0YZ/dh6z3uuOPsTj7kkEO8d+lUMds2HDWBRkFGXJJEkPi6sIWAQRKh8igAE8Mgf+UCJrIgm+KpgYncGfSIETAVFuagqEZYnDswjoDtttoGb82RF2ITGuc4h50bk0qYTfbp4LM+vqFCq6rVqWmqxHzzVeaDrILOXpWMmPWK9JzSIrSatVAKEwR0i+HLV18ZUCusUonH3N0lC2JCVrkTYzQj18ox7wyELJzXkrtd4jVqqtY5I7qtjAMoRCabAgAZt2kjGQxchUkZuhrh2ROUejLkPMLE35QCi1QDAIcpiE8FiGJJRb3ScJzPZmLWdCpBQSZdVEkmM7ZKDYuiwQKyyEpFGRhWU6mQiWRYkUmYkkgOxaRSgkwqlAx0spTCCBl9imfUQBNuQ7wyLYY4kVSq0gpxarwwtmFY4x4MxYQsj5RNZUqgwlHPHZOqLsmUSCKKspxoKU8x+ocgWStuHRhHIAc8cypAS9GgKXjH6ZcwRpei3IkuZ15lqGqTTKml860MVd+qppVEE87xK46yB1eZqrWgS5PJU58CzPywc9GHOod5Gl1a3PCpN71knFOxoIhPyATmm+W19F90vO6OA8jlzvx5Fo8rg8ljABEexq+qVcxsWRXI51OEegDpKBerVZNHnPujHvWorNtdeeWr6ipDiVYfqh1V5FrcNha/plNJeWvJrrCugUsW2CkUnYwVSjbtJXR5lLtHw0rpb+xs7sNHlVUJw7AQTEDFTd31FI1I9zQefijKeBQ+xU05haHGUzRDlCPLvbyCtGE7NF7EuSomgfgwaYcZkbakeyRVoBvSROiQLDF9H0Eg/WImSTwk87RKYYR4Cf+yOGw3/XXVmQbbQChZdlyVS1hNqMo5l1wEIjW/6lhagbvGYmo6M9Im5cgtmlVFpy1osK7YOKdaZFNyZWRYt5ORIU/nOUHAVMzjVg6nQFDKrCpxG0UCx4w6j2J+76ijjgJ7Mh5UhyDI1Mjf8WzGvhU+zoDP3K+3TEKMf6AbT1sxTrGiD8BtG8sJ6xpOpRIgZbyMKvnmA2s6lSFrOqVi5e5R1aHA5F7jtahbNCGQMHAMYa0aWdY8DixSCoiShWdhET7+Jqa09bdMTx4BMcQCdCgfKYmwGIFokoSJEU4g9+KfQEqo0EhgKChkyXWlRRBK9wSGaBRZB4YI1LdqRAY0gZFCH9IvW9iHTLICYXBgE4f50uivXqX03VP9VI/qM20+F6miwwqWsHiizUfRyviPVpnFWktioKaYRuoTD+gtRNs0gT49qnERaTJVRv5yQmwcn5oFRTqkUUfJtURvi/h8U0DuDKkpnLyXMQRO8giNIVDjWSsyjwIdE5TPM2N+5zvfGUFVj0gZZyLGlkITX3owNg1lT0TZw6ECETeBz6rMp4ycyqlMyavJGoG5I+D9Ht0u+1jSJNIYSEl78HekYSCrGM2p6IeKlb0bRlYq/fFh/JThNF3NPqNScnVZLNplooldMDLIEi6Gw+Y9Jf95kcWBmV3wiky2zpsn8VZZrDwQYhAFoJQ70eaB0x9nsHLk6wR9kvcQhFs+fg4EC42Jr/7BBD5L9agqUmkOH2/gcczyZboplWrYZ51Jf/xLhISkqFE+8IG5y3hdZFWbUCKoAvLULKuBoG0g6A2bqpjKFc2kz2aI26lsBr1Ou3AEtBONxIY97YewoT+o5q11pb1Vk65luaTSrgQybRuN4wNw0D5ZzETW0HkDucInspKWMdXIY7UzUsmAYOtb+HhejDCiKv+XVxnMsXiT0ft6NWfANmVRHVDAdK7EDtu2xx4OWsVwGqBSIjy0ZZgMibw1GWU4MO4WYtPwGdd/Z8V4dVpGfM2XAryy0wQyy2SPtXXZYekPa+lM2qZKYxX0nFoCcwtyXpjLQYu2ePjCJp7pBMRnE2eDbt5FRc8V2TgQucjwHOo2kz4bI26nsjHcOtUWIWBBWDvJt4mIrM5aeRQNZmip08xQMljjbRtlDUSwSo8PMW8UYpGuDectVpLFIYUNikVIO6+lxxK6YSmbSViYxH8AxOEfNgdn7t6QgsvxkiadxfjGq4kXw8RkxKkW6yqvOEJThswBLZK7zJspNQXkY5f+5riwzeRli9OaUDLcVBX3339/r07Lglkmi2Qx91Uhh7Vxeg0DV+oeDun05MNUBHkrDqvPf/7zXq3ztlPYVo3yShwa7zYYoNjIWh6lVJpejblQtlOZC4zNZFEI5A1TLw+NmKo0QhYqXTbiWcN4lLTq6gXHjNYev/DRaNMmx9/dw2pjfiVtOCsNFku1cy/kGqZ4jz2bgsoKlGVfFGoT+cZgITFES9j9ta997b777mvVR7wFZ8pzKlZB8k6xMN8TeMtbTBCSDHLViC0j4eZMGvfb3/723mwT8O5nbfyZwGd5Him7QJGNfNnmYLBi+Ku+7eiJrPRF1K5UsFk1B5QrqRQHAF02y0Wol8d9FY1ou7nUpdT5SFQohpu+ZGyi2OA4HMLNfWPKzKr8CH07lRFA+u9yIZAvWTn4IE0oyqWpuJd9ZNATiYxZ91IeyniXmhOrjOmJe0XDrE6sZFFqhJFSzbuSTBMoQSYrMvGVlzPy6aohZ/ZiGoaLoIloGcwW1RJRvVpjrHxsgunPZZnd6/fxAfJYlJV2JFDlUoCkZ5B3AyGTMYqn5fhHOCzh39e97nWx7zCxTmbE8PKXvzx6VmnKTiphKt6suUhlxq1qdbw7iV5gdPdOtxqbShuhw7LIEHwYU04lWs2qz4bp26lsGLpOuBUIOGKOaXaK+LC1EKzBVNtLM/PXoZM2X2p+6WU7miHuQZecTdep9CIYgrIODpbOgoq5oHBj6YrtTNmrdmuvrUkkOseG5pNxpTxzE5VmYj5HYoavjCC26WiHP6sk79Tznp3Tj0zyOCdxeFhkrbjU6HBVxZLZAgQNzocddpgXdHxJJXuRy9+symEJI70r/fSnP12FMQdoD1sW7eSioIBqAbuxIk63o6pfAiYPybWyKACWQlUg9CKJS3xQzaN6uvVgtlPZesxb4gwIXOMa17Ac6tzoaiRpsRqwGE06zcksFvPNl7jqFCbexYgkNs7y5lWvetX4G3dXXItjrdPF21jvciQn9EmvPEu4FloNmygcnWOJygyNpN2yvxSIwRpOxw1BgC0/HZ1pVcis5OOPVrAm6CxVrFsmHuOQlEUZTWmzwXoCk+V5JO/pu1Apg7ba3yFGVSyPUoGZlK9uR1INxUHSlfjy60VfPaoSN1TA0xDU0y0ItFPZApBbxMYRMLCw5cbbHrFx7mkzuadpMdaZJbv+9a+vL2w3TrmN7LkyG2ZO3zy4nqbzeHxNJzPj2e+r48mkDtkOm+VMqhsbRbSlFLunsmAz0qrLHMzEeV7E5ZujxorN+cP3kGL9syYUcRzAEJb4b4+KybhWYVsESbJqlne6cx1XfkJMMsK4B5C4xmQBhnnqUeI3UH+SEFBqeFXywFiThFWRwt/TAlYSf13JAn3QRKsJmVrQo3YqCwK22W4EAY2k2mfS29uq188TaCRaTiLRpDmlmdmhxPHYJ8YsJrnXKcSw747VM8Pj3GjDl+HpSdkPapLKZU4sqWIjqle4agaiQ/Xx0ZTO1k4IygZios3FbcC4rCp0QmQZIDTCNa0/IUk/agQWikA7lYXC28xnQyD9NWnKHDtpinuws0Uk01+Xv7H+YrzHd9BBB/nySgnL23Y2Lzkt1ASarZmOxM5T9AJGJybKmH4eyzcd8miyOwkNw11yjW/CTQ/RoMQWNQwJdccz7iepFncPYpmQKfSqA7s4uc25EVgLgXYqayHT8VuKQFnnSI1Fdo/pP/TQQyu+jLVhSo33sySAxlNHQTPrLkvlVvhZeZ/AS3Jm16w0GkssCLgrTsVytKcelScrEUk1vHuUpyGO+bZAesc73nFF5o6bxZsspQwTLi4MB+8umNAzGuN9jaIKlsUJbc6NwFoItFNZC5mO31IEYqlz52ASMJkTS+0liWjjkas0ywKACS4xLGlmn32Cs+y7gCM0PGV5ayDCfxipeJTldOfSIxgqUN6lBFUgZLgN1cgZTVZoMLR44xxA9DxNiCvtggI0yQ5mOcqn8BYkqNk2AtMg0E5lGpSaZuEIxP7GUgsnkPfm2Mr61M1Qj/THOYDyAVKJtFpeCxvefDaIqXmhSp7TX3A2ErJbtOJDGekVOQxEz9zLh3EkBj2WZzD0QgP6PCrFhhzmG+Ypfbp8ZW1oh3SHzFM+6s1XUHNrBKZEoJ3KlEA12WIRiB2PNSxb7J07hpLFfO9730v8iK3M1FOIh6sIOc9KQhNf8UYS4o/GUjyv4/L6S7YUOwQeZ0xGRK+V24grw+1key85R5b7gQceKGHm4khZi8l841/2spcRnY0JztTaXruq5gtFc1sGBNqpLEMptA47EGDWh5ad+c6xUQYTH//4xxGIie9J2N00lHtMfE1JOWuEkXU5wdDLBMOdWohdDrqwqSw0eTlRZLmlErFCO3qLU0FMVRLtLsMn+wJyQFltyTWGCPEoi3n/z3bqZMfMWzCZt5Dm1whMi0A7lWmRarpFI8BMxwrnbibKdzvYSmsV+daQeN3/OJ4oU73yGhY4ek+SdNvvf//7h8xkVFwFZ+CyEywmmLuy8TdrLbXigrK4jWc50sPN1jJ88ok9m4kZ9OhTWlVgnM+8YqjqOMhkx9khJ5xwwhYInZfyzWeXRKCdyi5ZrNsvU8x0LHXuyYAl97gHiyuseQx67gjK9CdJvEK9fsjOenGkiNEUvZcfc4aK+bFvfetbScgWo+FyCrsR6xwpxZCfy9eQYtAPP/zwDIkqVY2iJNz8Fa3wSYAaCTuLPtsNLCMJ5GD2ykIHGoGtR6CdytZj3hInIVB200gl3zZntXPASQx6EZR9D7v89c48et7CksnXvvY1j0bo/b3RjW4UT5BDedHE32SV3nho6Fo8FS9yKM6AwOsveSEfK5uSoyHiOkijfJjIzV+lEhcYPWXEBrN8qzjZcWRAlnOGqm5edHNoBGZCoJ3KTHA18cIRKB/AjGYJ2vxSWeoSX3azAh6xtmc/+9lZWObeRybyqExwZtW8de8AFZ166/++eIgmzHMYXwkqNZKq5ApYNXnsYx8bO07QBS5wgeNPOnKcxS/rTy7m+MzligIYFn9jLBujM5LLFJxvkodsXOeh/h1uBBaKQDuVhcLbzKdFgB1kfGOFK40vDrHdliviGMQjyNMKZEAQU8u48xaxs95GDGUeIUuSD33oQ3hmz7GPeGfuK5yHUsLWU1qVxBD4UCsOseMCvilr0smeAieM+TCfDb7+OtzX6o67DyvN5fL9RB9fwtm5/RZv6OATGqS75IUycp2dbDX/FrX73ghsMQLtVLYY8Ba3OgKx17Hg5TB8eIPRtBBdaaoPHhr0iUnyt7/97fWGyhFHHBGa4TQUeseIrZjiHbcc+MhzuGrTVJZGklZ8RIeJSD7Deky2I5tkwyRLGrlb+S8FBPxl6+dylc4CGNKhJt/ySKTdbvHNBVcHGoGtR6CdytZj3hJXQaC8hWc8RLzLox/9aBbTZ+8qQcgYdwShqUcC6GPTTW35bke5hNCgN2q5xS1uEXOMRnzNJr373e+OIxFJSgnyl0fJXxuU99lnn7LvxgflQjgYDONaEAjE5RTxJgMYuogjpVgJ569HIq92taslp5WR/O17I7CVCLRT2Uq0W9aaCMQOxk8w4gk4S5itvNzlLidZPRLOuCH3cMxTRzrGyPpSnpgMX5LWX5ewg7k4FVbYYVlF4IR8MWbMarySR9Eqd0vxyOgjIeMen5FJsBykH1tvxIC/S0CM+7yu8M+dAoZBufCnjHvN+A2RCT59bwS2DIF2KlsGdQuahECGAjHlsf7uOdP+Sle6kpQhiLkMWbkEAQMOL6M4AotTYWHzHiLi6rNXIJ/qYppR2hZs3f6+972vzcFOMj7xxBMJMhxxD32JEGODcpxEjU5i3yUUyFghMXFswvMdrHAbvMjIYGUo96EPfSg9R8ZnYvpqBLYSgXYqW4l2y1oTAS6E26i7gMuBK2zozW52sySLoa9ueNwMd4ISgQUV4wMvALLmBx98cJFJhTLuwUDkkY98ZIYXDtVHGQdw3ete17p6pNRCNw5JlYO8eLiiFxiGy7KXv+EAENTfFfJF3UiPAjluudznmlj3g0ZgkQi0U1kkus17cwg4oYu5vPWtbx028SK5iynryanYEPyCF7wgHsJk1GGHHSYSZfwNYh4i4R/84AfWHsrcOy7egV3ZE4xhLbGEf5Lo+7v222+/pCLFEMRSuXFDnEe5ENqiEZ+V/Dge9Iu74qlINErzMXNqV5aF+2oEth6Bdipbj3lLXBOBGET3XNZI2Ou73OUuSbCWU8lTr5g4Isy+2xpz8AQeSZUBRxyGwYqRhxfgvVfv6yP2AefdFB6lBjdoMgCiBg7xXryR7by2Dme7sD2+ruwbtpNY2MYwCnj6kY98xMSagPNgFn0RlN3MtkpnMxvNKyNBpu+NwFYi0E5lK9FuWWsiEMOdOzcg4LLvS0/cB+pj3ONUxA+5iOQ8zFnV+gcnwbB6t7wmssqpDK1teIYVgrgcfyO9uPlrGFQL+KGXdkSN/A2TOLOhkosLU68yIlBqL05ic24EJiPQTmUyPv10ZyJwznOek1N5whOeEJO96n3EuI+rG0cyNPTeRGF8Y4uzLC9VmePE5z50QmhEikHJlEcQ6WXWxWf1JSoh9kh4oVfUKI9Ilpjypnna90ZgKxFop7KVaLesNRGImc49lhGpw6w4Fe/VJ2Zo7sNIvHEJG8rWcxtDz4GVK48Qh4O7L6AkrUcIEuYPjEUwETN0JOJdYgxWGO6R8UrS1j3nbvkbPQUitAgWERhiUtkpBRYhsXk2ApMRaKcyGZ9+ukUIxB+kx82IxxxnAdyRJEMrmbBPCA+tf2kpkm3lCSpGOMzdk+RHP/pRPRUwvCjrL61LpNHMqvyTEE05GKsazih75StfmQ+CeURQKSyw0GuoJPSS/WHuOtwIbDEC7VS2GPAWtzoC5U48LhOfrU1Od2eXx5MhC6V7CMrCxjEMWeEfmjiYohzSlCuqp/i44j8kLEEiQ2O486QnPYnzc930pjddVc9xzecbE18SAHGWi8AyXynNrRGYEoF2KlMC1WQLRyA2nb2OTbSXKU7Ft4TLmlMCwcJVmSigXA4qnmbfffeNnk4Vqxkwj4ZkE/n90cNh7oRdQSPuKuE4OWO11772tV7eHKaP0JAN4zvcCGwZAu1UtgzqFrQOAjGIzGgM6HHHHRdj/cEPflDKMpQI1mG0yMcZ6BigEMILmjo7//nP7zUU710y8UPJlmFK52H8umEJh3kES5CRMN8q9tTmBQfdn+EMZ/jud787HB7VYGtdKU3QCCwIgXYqCwK22c6MQCype6ykE+M5Fa8T5r0TkbHRG7PUM2uzRgJWO34ld1QnnHCCr4F5hcWWAUpW/BoM1o/ORBa/FdeVBHIdWLwEw42ZbeNR4OO1zXI5KGsSbH0xTdEILAaBdiqLwbW5zo5AvEV10g1QGE0vqH/1q18Ns2VwKtEkdtw0VGaiEskHxKN4mnjjGJ5gpsswpUYboEhYJJ7ve9/7LnOZy2T0ls8hOzvAeWVDLzt0MLOXQKdoBOaAQDuVOYDYLOaIQJwKQ+wsr5X17//37W9/218iRrzOHIVOz4oOUaZecGHxJa9RBf25ltBMz7Yok9A97iRZ9lq+YwXOeMYzOovFEWQ+WOlclniX+tByKDcstxToQCOwSQTaqWwSwE4+ZwTS12YiX/Oa13Aqlit+8pOfxFbGbrLaO9d0Oq+FI7nOda7jDDFDh0tf+tLnPe95jzrqKECYfcpghaoW7YUFZrqCJo8SHDDkNmwwMzS5293uBgoE3/zmN+NRnDCWrQEwcVVJ7Fx8So0O7J4ItFPZPct9SXPNGsaYMpGHHHIIp2IBPGaaxuVvdq72LL7ryU9+cr5iQkkm3rJKtOJCBIbTYrNqGz+BQ/IruRdrvvjFL2a9hGgxDmOOXHvA/IVb5ObeTmVWzJt+jgi0U5kjmM1qswiUU2FPX/jCF7KbXqovprGqsZsVucWBSOfzzHcdeuihGTFc/OIXT3zcQOw+r+DUsmvNeF3jGte45z3vGQ7QwCScE5PdX7ysARzR8PnhD384RCAKtFMZYtLhLUagncoWA97i1kGgDKIP1Fs5MLMkASM+tNrVhV+H1wIel1PBm4YsO/tukcPfaJ47Mjrf9ra3ZfdnujB04tlIfof5CP/Idc9IBUEUKzWGSTrcCGwlAu1UthLtlrUmAuVLEmBVH/e4xzGaF7rQhaTxN/FxJ/6uyWjBD6JGLLghRYz785//fGINpFzl8IwtHvWoR/31jJeRyp3udKfKRASVwxAfBdqpFEQdWDYE2qksW4nspvrEVsp8Aizy/e53P6bzspe9rMiyqnEnO9GplIb8B91oaNOzj6mUSlS1kziuZWMrKxl8eOul/NOwTrRTGaLR4SVEoJ3KEhbK7qjSiFNho/P5XpuswFFOJYH6u1OQiqpOO87nHe30zdK6+Dxypz8lVyJmu8WRhI/cca6uYTbzqEcqQ0w6vFQItFNZquLYrZWJuawu/y1veUtrKre61a2AEi9SprYCOwWvSD/mmGMyTLniFa9YauSR+4adSmU/PHkUQ6LiLxAR7VSGmHR4qRBop7JUxbFbKxPPUXM+173udU9xilN4OYMZzaNyLTGsOwWsEv20pz2NZber2CfuaVLxAvVWvHmwDSiZLV55i348eQS1UxlHpmOWBIF2KktSEK3GH4Yj5VS8V+jgr/vf//58SSxpOZWdCFY5jxvd6Ea2ddHwrW99ayJpbmBRQw0bfx/xiEfMuE7/19e85jW9PF8ZxA3z4QxYZLVTKYg6sGwItFNZthLZTfVhK+MzYpT9dWwi0/mQhzyknEoehWxnwRSb7m6vsyV6Gn79618fV4aqPIG5u5n2EyPG0PHDleW4k2GWo0A7lXHMO2ZJEGinsiQFsWuqkXOxclqJHJatFM5SQcylXVJxGBmmJHymM52J1T744IMDTYxpHiW8syCjuTOJT33qU7Psl7zkJdn9MvpyGg3pJv6JT3zijO8+7iC/xS1uUUzwGW4hk/G4mTgV46Qc3JLIIVA7C5yW2wi0U+k6sEUIDBcYchpj/Mq4h4hJZbX13J/73OfSj9Ue2tnxJFuUh5OOivHxYGbddbOb3YxoNp07dCi9sEzZDSxQDmBW3ewrk0SWy1X9vcElAAAIvElEQVTEadV7jp7mjXoKRFbE2YQWlLIqM6vcpm8E5oJAO5W5wNhMVkGAnc3ZvWyiK6MWdCMmT+8+iWMQ2WLEYnIQ7xFHHCHsUQYxoQxBwlt/J/2Zz3wms24fwY1vfOOobURFYafTj+jm70xXslNeM8wDUbwySI8++mhjFKeiOfo+nkyqUAoMgdp6cFpiI9BOpevAQhBgSfGNpWMHY+nS17YZ1yOROvXIyoCWB0off2UksMcb3/hGxLHLArkqyUkRW/eb0dU73vEO6vEr5zjHOR72sIdd/epXN6i6z33uU47zl7/8ZV5emVWzjOHCx0ilPK4sQ8/XMI888sjrXe96Acf9ohe96Oc+9znHTQbqCB0OCmdVoOkbgU0i0E5lkwB28tURiN3nDPI9REQM5Yc+9KELXvCCTti1H3eYbNgTl9DFtsZuMt/+DomrSz6M3LJwPJ/T762mRENfYDztaU+bk1qoUX5FmKoruZnhlozUxJe/cWNnOctZjIS4LktN5BqmOAzfmlNewASpyDOf+cwhLlcUbn1vBLYSgXYqW4n2biTL0GQ4zfWBD3zgEpe4BMNn3kYHf6+99oJFTGc5iaEpzCdD2FDDmgx60Me7LMn0zrvf/W5He931rnd9+MMfbqxAK3oaoNCTH01gA+UNE1dhggMvJeOvfe1rn/KUp5h2472e8YxnOMvyec97XgLCL3jBCyzzvPjFL47EuJYNSO8kjcDmEWinsnkMm8MqCJTpf9vb3mbhIZ16ixDxK+6vfvWr4yRYwHIbZUx96zBJfKk+ZGQkwOauIm8Lo6IGVaNthibjdtwc1NBNzqpgBnnurqRNINKH4yFPa4cYmo1Nu82qXtM3Amsh0E5lLWQ6frMI+Ayw87syP8OvfPrTn/bdkUzUGK/sueeeTGFZzAgrh2FkY5jCrxx//PEeDe1puavN6rfR9DHocRhD456NWFRl9z2N9Z9ViOSuuKtKC5Yw57rKe604tR2nNWdGruLFDMPFpAONwNYg0E5la3DeHaUwbVe4whWufe1rv+Utb5F/RpCryPgjd5M5jDIbGnSG3sLkUl4t/O53v1vLzkU5YnN3R3A7z43AsiLQTmVZS2ab6xVP8NWvftWS+9AZ3O52t+NROAzLznbEWvGWUT1x/XpOyD399Ne97nXIrL5IXs6mfEkx3OYgtfqNwC6IQDuVXbBQlyRLmZYpZTId5FAT3sLUlv1LAs6LLIIK8CIvfelLPeV4akIsziY0G5tZKv4daAQagcUh0E5lcdju7pzzVorxh1ELP8ETZB3i3ve+N4fhsinW3QRXxihDvF7ykpd4ZKtuRXIqrvytQD3tQCPQCCwJAu1UlqQgdjU1aoTBYcjbcObqRz/6UXkUgf333z+zXsikyvjGfllTZI5WDC5FkL/FLX/73gg0AsuDQDuV5SmLXVAT6/DZ4ToyFZavu9sDxqm4vBCezHMeWbp/7GMfa4rsYhe72Mr45P/eug9Zj1R2wbrSWdpVEGinsquU5JLlY7iti2pcS+a+cne2rs9bcSdWTdxvfvOb53gSlCbKDETue9/7ir/85S/PzeRasvy1Oo1AI7A6Au1UVselYzePQO3mygwYhuUeDFy8H85tuPI+yrHHHptT3EN297vf3SNfuBqqIXmPUYaAdLgRWEIE2qksYaHsyiqVg/nxj398trOd7XSnOx3nYdRyrnOdS7atqcRt+K6i1yRveMMb7spYdN4agV0RgXYqu2KpLneeDDgyCZavkmQPmGX55zznORQ3b+Z+29velrM54IADljsrrV0j0AiMItBOZRSR/r9QBGqkEimW4jP9xYU47ldkCK5ylauIOfDAAxeqTDNvBBqBuSPQTmXukDbDSQhkIIIigxWfS+E8zHRlvOL1FI+cCbb33ns7NKxHKpOg7GeNwFIi0E5lKYtlV1cqwxHzYBZRrnrVq2ZvsSGLUyZzvgunwtM88pGP3NWR6Pw1ArsaAu1UdrUSXf78WIofHs/+yU9+0mDFlcFKHIkP1IvxCuTyZ6c1bAQagSEC7VSGaHR44QjU6ZAZrOSv91SysuJAsNOf/vRf+tKXVrzMHq94xSsWrlALaAQagbki0E5lrnA2sykQyAkudaC9wLe+9S0HEseR8Cv77bcfH2PgkjPzp2DZJI1AI7AsCLRTWZaS2M31cFyxlZW8YC+QqTBfjdzNYensNwLbDoF2KtuuyHZNhb/3ve8ZqTiWOOMVfsW3h4888shdM7edq0Zg10WgncquW7bbLWcPechDeJQs0QsYtXzhC1/YbplofRuB3R2Bdiq7ew1Ykvx7N8Wi/TnOcQ5HttTrkCeccMKSqNdqNAKNwJQItFOZEqgmWzgCDid+9atfnekvZ4JxLd/+9rcXLrUFNAKNwFwRaKcyVzib2SYQyMsrF7zgBfmVbAar/ceb4NpJG4FGYEsRaKeypXC3sLUQMP2VR4ceemiWVRwxuRZxxzcCjcDSItBOZWmLZrdTLB8J/sUvfnHpS1/aluK99torb7TsdkB0hhuB7YxAO5XtXHq7kO7OAavcHH300Te5yU3uda979Se5CpMONALbBYF2KtulpHYLPU2C/epXv5JVqymGLLtFnjuTjcCuhUA7lV2rPLdtbmpNJZNgyccwvG1z1oo3ArsXAu1Udq/yXubcciGZ7xJw3KQFld79tczl1bo1Aqsi0E5lVVg6cqchwKPU+vxwoWWnKdSCG4FGYBYE2qnMglbTLgyB4Zr8b3/7WyMVHqVHKgvDuxk3AotCoJ3KopBtvrMiUKv0SdjDlFkBbPpGYBkQaKeyDKXQOvxvTXnBwqilF1S6TjQC2xSBdirbtOBa7UagEWgElhGBdirLWCqtUyPQCDQC2xSBdirbtOBa7UagEWgElhGBdirLWCqtUyPQCDQC2xSBdirbtOBa7UagEWgElhGBdirLWCqtUyPQCDQC2xSBdirbtOBa7UagEWgElhGBdirLWCqtUyPQCDQC2xSB/x+N2FE9/gaTHAAAAABJRU5ErkJggg==)"
      ],
      "id": "PJO6CNYD1rp0"
    },
    {
      "cell_type": "code",
      "metadata": {
        "id": "sxWk_Sehm7Ej"
      },
      "source": [
        "#Metodo 1:\n",
        "def RMSE(real, predito):\n",
        "  rmse = 0\n",
        "  for r,p in zip(real, predito):\n",
        "    rmse += pow(r-p,2)\n",
        "\n",
        "  N = len(real)\n",
        "  return (rmse/N)**(0.5)"
      ],
      "id": "sxWk_Sehm7Ej",
      "execution_count": null,
      "outputs": []
    },
    {
      "cell_type": "code",
      "metadata": {
        "colab": {
          "base_uri": "https://localhost:8080/"
        },
        "id": "ralTorEP4W6x",
        "outputId": "0238bd19-0ecc-49dd-fb87-5d68b45f86b7"
      },
      "source": [
        "RMSE(real, predito)"
      ],
      "id": "ralTorEP4W6x",
      "execution_count": null,
      "outputs": [
        {
          "output_type": "execute_result",
          "data": {
            "text/plain": [
              "21396.161454803056"
            ]
          },
          "metadata": {
            "tags": []
          },
          "execution_count": 52
        }
      ]
    },
    {
      "cell_type": "code",
      "metadata": {
        "colab": {
          "base_uri": "https://localhost:8080/"
        },
        "id": "mjDiL5o3m7BR",
        "outputId": "0b29b227-5bd0-48d2-c348-f9aa3830586c"
      },
      "source": [
        "#Metodo 2:\n",
        "rmse = ( sum([pow(r-p,2) for r,p in zip(real, predito)]) / len(real))**(0.5)\n",
        "rmse"
      ],
      "id": "mjDiL5o3m7BR",
      "execution_count": null,
      "outputs": [
        {
          "output_type": "execute_result",
          "data": {
            "text/plain": [
              "21396.161454803056"
            ]
          },
          "metadata": {
            "tags": []
          },
          "execution_count": 53
        }
      ]
    },
    {
      "cell_type": "markdown",
      "metadata": {
        "id": "Qgpgy9za-KVw"
      },
      "source": [
        "________________\n",
        "________________"
      ],
      "id": "Qgpgy9za-KVw"
    }
  ]
}