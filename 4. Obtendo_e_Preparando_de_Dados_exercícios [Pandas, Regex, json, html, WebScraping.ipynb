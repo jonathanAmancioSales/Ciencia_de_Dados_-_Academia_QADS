{
  "nbformat": 4,
  "nbformat_minor": 0,
  "metadata": {
    "kernelspec": {
      "name": "python3",
      "display_name": "Python 3"
    },
    "language_info": {
      "name": "python",
      "version": "3.6.6",
      "mimetype": "text/x-python",
      "codemirror_mode": {
        "name": "ipython",
        "version": 3
      },
      "pygments_lexer": "ipython3",
      "nbconvert_exporter": "python",
      "file_extension": ".py"
    },
    "colab": {
      "name": "QADS Obtendo e Preparando de Dados - exercícios.ipynb",
      "provenance": [],
      "collapsed_sections": [
        "cikvwonftNot",
        "JjL3L-znfOkv",
        "1aEGijL6sF0Z",
        "W944tXGutNox",
        "s38Zh8I4t7UM",
        "J_y6fSVzXhVg",
        "392yCqW1SBF8",
        "UrPGkGwHSkpo",
        "zR7lk_XWXv0r",
        "TWOdbUK9zEsH"
      ]
    }
  },
  "cells": [
    {
      "cell_type": "markdown",
      "metadata": {
        "azdata_cell_guid": "f1681fb2-a9a5-4082-8ec0-323114bdfb17",
        "id": "cikvwonftNot"
      },
      "source": [
        "# Exercícios do módulo de Obtenção e Preparação de Dados\n",
        "\n",
        "<img src=\"https://www.qads.com.br/img/QADS.png\" width=\"300\" height=\"170\">\n",
        "\n",
        "Remis Balaniuk, PhD"
      ]
    },
    {
      "cell_type": "markdown",
      "metadata": {
        "id": "JjL3L-znfOkv"
      },
      "source": [
        "#Bibliotecas"
      ]
    },
    {
      "cell_type": "code",
      "metadata": {
        "id": "5QuaXv61fOOL"
      },
      "source": [
        "import re\n",
        "import os\n",
        "import json\n",
        "import zipfile\n",
        "import requests\n",
        "import pandas as pd\n",
        "import urllib.request\n",
        "\n",
        "from bs4 import BeautifulSoup\n",
        "from google.colab import files\n",
        "from unicodedata import normalize\n",
        "from IPython.display import display"
      ],
      "execution_count": null,
      "outputs": []
    },
    {
      "cell_type": "markdown",
      "metadata": {
        "azdata_cell_guid": "aedefbba-8a02-4bdb-af5f-e4179b490167",
        "id": "1aEGijL6sF0Z"
      },
      "source": [
        "# Flat files\n",
        "\n",
        "Obtenha os dados abertos das [viagens realizadas a serviço no Portal da Transparência](http://www.portaltransparencia.gov.br/download-de-dados/viagens), processe as colunas normalizando atributos textuais e convertendo os demais para os tipos corretos e ao final salve o(s) dataframe(s) em disco usando o Pickle."
      ]
    },
    {
      "cell_type": "code",
      "metadata": {
        "colab": {
          "base_uri": "https://localhost:8080/"
        },
        "id": "FJmXOJGreX0h",
        "outputId": "c9571cbd-0065-4622-f599-5272cec5c459"
      },
      "source": [
        "ano=2021\n",
        "url='http://www.portaltransparencia.gov.br/download-de-dados/viagens/'+str(ano)\n",
        "print(url)\n",
        "file_zip=str(ano)+'.zip'\n",
        "\n",
        "File = urllib.request.urlretrieve(url, file_zip)"
      ],
      "execution_count": null,
      "outputs": [
        {
          "output_type": "stream",
          "text": [
            "http://www.portaltransparencia.gov.br/download-de-dados/viagens/2021\n"
          ],
          "name": "stdout"
        }
      ]
    },
    {
      "cell_type": "code",
      "metadata": {
        "colab": {
          "base_uri": "https://localhost:8080/"
        },
        "id": "GfvzpN0Ok_0y",
        "outputId": "0bf53c74-a59f-48a0-c9ec-d51adeaa6eca"
      },
      "source": [
        "zipfile.ZipFile(file_zip).extractall()\n",
        "\n",
        "os.listdir()"
      ],
      "execution_count": null,
      "outputs": [
        {
          "output_type": "execute_result",
          "data": {
            "text/plain": [
              "['.config',\n",
              " '2021_Trecho.csv',\n",
              " '2021_Passagem.csv',\n",
              " '2021.zip',\n",
              " '2021_Pagamento.csv',\n",
              " '2021_Viagem.csv',\n",
              " 'sample_data']"
            ]
          },
          "metadata": {
            "tags": []
          },
          "execution_count": 4
        }
      ]
    },
    {
      "cell_type": "code",
      "metadata": {
        "id": "ohGRiKhiL-vL",
        "colab": {
          "base_uri": "https://localhost:8080/"
        },
        "outputId": "0726e598-aea1-47d6-80ae-42dc260ae33b"
      },
      "source": [
        "!apt install file"
      ],
      "execution_count": null,
      "outputs": [
        {
          "output_type": "stream",
          "text": [
            "Reading package lists... Done\n",
            "Building dependency tree       \n",
            "Reading state information... Done\n",
            "The following additional packages will be installed:\n",
            "  libmagic-mgc libmagic1\n",
            "The following NEW packages will be installed:\n",
            "  file libmagic-mgc libmagic1\n",
            "0 upgraded, 3 newly installed, 0 to remove and 40 not upgraded.\n",
            "Need to get 275 kB of archives.\n",
            "After this operation, 5,297 kB of additional disk space will be used.\n",
            "Get:1 http://archive.ubuntu.com/ubuntu bionic-updates/main amd64 libmagic-mgc amd64 1:5.32-2ubuntu0.4 [184 kB]\n",
            "Get:2 http://archive.ubuntu.com/ubuntu bionic-updates/main amd64 libmagic1 amd64 1:5.32-2ubuntu0.4 [68.6 kB]\n",
            "Get:3 http://archive.ubuntu.com/ubuntu bionic-updates/main amd64 file amd64 1:5.32-2ubuntu0.4 [22.1 kB]\n",
            "Fetched 275 kB in 1s (401 kB/s)\n",
            "Selecting previously unselected package libmagic-mgc.\n",
            "(Reading database ... 160837 files and directories currently installed.)\n",
            "Preparing to unpack .../libmagic-mgc_1%3a5.32-2ubuntu0.4_amd64.deb ...\n",
            "Unpacking libmagic-mgc (1:5.32-2ubuntu0.4) ...\n",
            "Selecting previously unselected package libmagic1:amd64.\n",
            "Preparing to unpack .../libmagic1_1%3a5.32-2ubuntu0.4_amd64.deb ...\n",
            "Unpacking libmagic1:amd64 (1:5.32-2ubuntu0.4) ...\n",
            "Selecting previously unselected package file.\n",
            "Preparing to unpack .../file_1%3a5.32-2ubuntu0.4_amd64.deb ...\n",
            "Unpacking file (1:5.32-2ubuntu0.4) ...\n",
            "Setting up libmagic-mgc (1:5.32-2ubuntu0.4) ...\n",
            "Setting up libmagic1:amd64 (1:5.32-2ubuntu0.4) ...\n",
            "Setting up file (1:5.32-2ubuntu0.4) ...\n",
            "Processing triggers for man-db (2.8.3-2ubuntu0.1) ...\n",
            "Processing triggers for libc-bin (2.27-3ubuntu1.2) ...\n",
            "/sbin/ldconfig.real: /usr/local/lib/python3.7/dist-packages/ideep4py/lib/libmkldnn.so.0 is not a symbolic link\n",
            "\n"
          ],
          "name": "stdout"
        }
      ]
    },
    {
      "cell_type": "code",
      "metadata": {
        "colab": {
          "base_uri": "https://localhost:8080/"
        },
        "id": "GfMJvYwWyk4m",
        "outputId": "89e37dcb-135f-46e7-98d6-cd950a9f1bc0"
      },
      "source": [
        "#Para detectar a codificação de arquivos:\n",
        "!file -i 2021_Viagem.csv"
      ],
      "execution_count": null,
      "outputs": [
        {
          "output_type": "stream",
          "text": [
            "2021_Viagem.csv: text/plain; charset=iso-8859-1\n"
          ],
          "name": "stdout"
        }
      ]
    },
    {
      "cell_type": "code",
      "metadata": {
        "colab": {
          "base_uri": "https://localhost:8080/",
          "height": 340
        },
        "id": "Srj_mZJyj32P",
        "outputId": "6dd115e2-e59f-4694-8f44-38e6425e5f8c"
      },
      "source": [
        "#'ISO-8859-1' --> 'latin1'\n",
        "df = pd.read_csv('2021_Viagem.csv', encoding='latin1', sep=';')\n",
        "\n",
        "display( df.head(2) )\n",
        "print(df.shape)"
      ],
      "execution_count": null,
      "outputs": [
        {
          "output_type": "display_data",
          "data": {
            "text/html": [
              "<div>\n",
              "<style scoped>\n",
              "    .dataframe tbody tr th:only-of-type {\n",
              "        vertical-align: middle;\n",
              "    }\n",
              "\n",
              "    .dataframe tbody tr th {\n",
              "        vertical-align: top;\n",
              "    }\n",
              "\n",
              "    .dataframe thead th {\n",
              "        text-align: right;\n",
              "    }\n",
              "</style>\n",
              "<table border=\"1\" class=\"dataframe\">\n",
              "  <thead>\n",
              "    <tr style=\"text-align: right;\">\n",
              "      <th></th>\n",
              "      <th>Identificador do processo de viagem</th>\n",
              "      <th>Número da Proposta (PCDP)</th>\n",
              "      <th>Situação</th>\n",
              "      <th>Viagem Urgente</th>\n",
              "      <th>Justificativa Urgência Viagem</th>\n",
              "      <th>Código do órgão superior</th>\n",
              "      <th>Nome do órgão superior</th>\n",
              "      <th>Código órgão solicitante</th>\n",
              "      <th>Nome órgão solicitante</th>\n",
              "      <th>CPF viajante</th>\n",
              "      <th>Nome</th>\n",
              "      <th>Cargo</th>\n",
              "      <th>Função</th>\n",
              "      <th>Descrição Função</th>\n",
              "      <th>Período - Data de início</th>\n",
              "      <th>Período - Data de fim</th>\n",
              "      <th>Destinos</th>\n",
              "      <th>Motivo</th>\n",
              "      <th>Valor diárias</th>\n",
              "      <th>Valor passagens</th>\n",
              "      <th>Valor outros gastos</th>\n",
              "    </tr>\n",
              "  </thead>\n",
              "  <tbody>\n",
              "    <tr>\n",
              "      <th>0</th>\n",
              "      <td>16829271</td>\n",
              "      <td>000163/21</td>\n",
              "      <td>Realizada</td>\n",
              "      <td>SIM</td>\n",
              "      <td>A viagem estva programada para ser realizda em...</td>\n",
              "      <td>36000</td>\n",
              "      <td>Ministério da Saúde</td>\n",
              "      <td>36211</td>\n",
              "      <td>Fundação Nacional de Saúde</td>\n",
              "      <td>***.980.641-**</td>\n",
              "      <td>VILIDIANA MORAES MOURA</td>\n",
              "      <td>ENGENHEIRO</td>\n",
              "      <td>FCT-03</td>\n",
              "      <td>Função Comissionada Técnica</td>\n",
              "      <td>03/02/2021</td>\n",
              "      <td>04/02/2021</td>\n",
              "      <td>Nova Brasilândia/MT</td>\n",
              "      <td>Visita técnica no municipio de Nova Brasilãndi...</td>\n",
              "      <td>223,86</td>\n",
              "      <td>0,00</td>\n",
              "      <td>0,00</td>\n",
              "    </tr>\n",
              "    <tr>\n",
              "      <th>1</th>\n",
              "      <td>16889781</td>\n",
              "      <td>000120/20</td>\n",
              "      <td>Não realizada</td>\n",
              "      <td>NÃO</td>\n",
              "      <td>Sem informação</td>\n",
              "      <td>26000</td>\n",
              "      <td>Ministério da Educação</td>\n",
              "      <td>26281</td>\n",
              "      <td>Fundação Universidade Federal de Sergipe</td>\n",
              "      <td>***.157.645-**</td>\n",
              "      <td>ROSE MARY SILVEIRA MENEZES</td>\n",
              "      <td>ASSISTENTE EM ADMINISTRAçãO</td>\n",
              "      <td>FG-0001</td>\n",
              "      <td>FG-0001</td>\n",
              "      <td>11/05/2021</td>\n",
              "      <td>16/05/2021</td>\n",
              "      <td>Fortaleza/CE</td>\n",
              "      <td>Participação no XXI Congresso Nacional de Secr...</td>\n",
              "      <td>0,00</td>\n",
              "      <td>1179,77</td>\n",
              "      <td>0,00</td>\n",
              "    </tr>\n",
              "  </tbody>\n",
              "</table>\n",
              "</div>"
            ],
            "text/plain": [
              "   Identificador do processo de viagem  ... Valor outros gastos\n",
              "0                             16829271  ...                0,00\n",
              "1                             16889781  ...                0,00\n",
              "\n",
              "[2 rows x 21 columns]"
            ]
          },
          "metadata": {
            "tags": []
          }
        },
        {
          "output_type": "stream",
          "text": [
            "(147510, 21)\n"
          ],
          "name": "stdout"
        }
      ]
    },
    {
      "cell_type": "code",
      "metadata": {
        "colab": {
          "base_uri": "https://localhost:8080/"
        },
        "id": "i-vIP-Qyj35e",
        "outputId": "a083ecec-a931-4d7c-f9c4-b00a36222f13"
      },
      "source": [
        "df.info()"
      ],
      "execution_count": null,
      "outputs": [
        {
          "output_type": "stream",
          "text": [
            "<class 'pandas.core.frame.DataFrame'>\n",
            "RangeIndex: 147480 entries, 0 to 147479\n",
            "Data columns (total 21 columns):\n",
            " #   Column                               Non-Null Count   Dtype \n",
            "---  ------                               --------------   ----- \n",
            " 0   Identificador do processo de viagem  147480 non-null  int64 \n",
            " 1   Número da Proposta (PCDP)            147480 non-null  object\n",
            " 2   Situação                             147480 non-null  object\n",
            " 3   Viagem Urgente                       147480 non-null  object\n",
            " 4   Justificativa Urgência Viagem        147473 non-null  object\n",
            " 5   Código do órgão superior             147480 non-null  int64 \n",
            " 6   Nome do órgão superior               147480 non-null  object\n",
            " 7   Código órgão solicitante             147480 non-null  int64 \n",
            " 8   Nome órgão solicitante               147480 non-null  object\n",
            " 9   CPF viajante                         147457 non-null  object\n",
            " 10  Nome                                 147480 non-null  object\n",
            " 11  Cargo                                83590 non-null   object\n",
            " 12  Função                               147480 non-null  object\n",
            " 13  Descrição Função                     147439 non-null  object\n",
            " 14  Período - Data de início             147480 non-null  object\n",
            " 15  Período - Data de fim                147480 non-null  object\n",
            " 16  Destinos                             147480 non-null  object\n",
            " 17  Motivo                               147480 non-null  object\n",
            " 18  Valor diárias                        147480 non-null  object\n",
            " 19  Valor passagens                      147480 non-null  object\n",
            " 20  Valor outros gastos                  147480 non-null  object\n",
            "dtypes: int64(3), object(18)\n",
            "memory usage: 23.6+ MB\n"
          ],
          "name": "stdout"
        }
      ]
    },
    {
      "cell_type": "code",
      "metadata": {
        "colab": {
          "base_uri": "https://localhost:8080/"
        },
        "id": "CezAgxI3wYga",
        "outputId": "2c312fec-bcb9-4e59-d34d-c083f830110e"
      },
      "source": [
        "df['Identificador do processo de viagem'].nunique()"
      ],
      "execution_count": null,
      "outputs": [
        {
          "output_type": "execute_result",
          "data": {
            "text/plain": [
              "147480"
            ]
          },
          "metadata": {
            "tags": []
          },
          "execution_count": 20
        }
      ]
    },
    {
      "cell_type": "code",
      "metadata": {
        "colab": {
          "base_uri": "https://localhost:8080/",
          "height": 612
        },
        "id": "5gejugDNtm8C",
        "outputId": "4ab7a6d8-a218-4620-dfe0-956210c3040f"
      },
      "source": [
        "df.describe(include='O').T.drop(columns='count')"
      ],
      "execution_count": null,
      "outputs": [
        {
          "output_type": "execute_result",
          "data": {
            "text/html": [
              "<div>\n",
              "<style scoped>\n",
              "    .dataframe tbody tr th:only-of-type {\n",
              "        vertical-align: middle;\n",
              "    }\n",
              "\n",
              "    .dataframe tbody tr th {\n",
              "        vertical-align: top;\n",
              "    }\n",
              "\n",
              "    .dataframe thead th {\n",
              "        text-align: right;\n",
              "    }\n",
              "</style>\n",
              "<table border=\"1\" class=\"dataframe\">\n",
              "  <thead>\n",
              "    <tr style=\"text-align: right;\">\n",
              "      <th></th>\n",
              "      <th>unique</th>\n",
              "      <th>top</th>\n",
              "      <th>freq</th>\n",
              "    </tr>\n",
              "  </thead>\n",
              "  <tbody>\n",
              "    <tr>\n",
              "      <th>Número da Proposta (PCDP)</th>\n",
              "      <td>27899</td>\n",
              "      <td>Informações pro</td>\n",
              "      <td>39006</td>\n",
              "    </tr>\n",
              "    <tr>\n",
              "      <th>Situação</th>\n",
              "      <td>2</td>\n",
              "      <td>Realizada</td>\n",
              "      <td>142110</td>\n",
              "    </tr>\n",
              "    <tr>\n",
              "      <th>Viagem Urgente</th>\n",
              "      <td>2</td>\n",
              "      <td>SIM</td>\n",
              "      <td>81467</td>\n",
              "    </tr>\n",
              "    <tr>\n",
              "      <th>Justificativa Urgência Viagem</th>\n",
              "      <td>27565</td>\n",
              "      <td>Informação protegida por sigilo nos termos da ...</td>\n",
              "      <td>39006</td>\n",
              "    </tr>\n",
              "    <tr>\n",
              "      <th>Nome do órgão superior</th>\n",
              "      <td>19</td>\n",
              "      <td>Ministério da Justiça e Segurança Pública</td>\n",
              "      <td>39955</td>\n",
              "    </tr>\n",
              "    <tr>\n",
              "      <th>Nome órgão solicitante</th>\n",
              "      <td>174</td>\n",
              "      <td>Sem informação</td>\n",
              "      <td>26090</td>\n",
              "    </tr>\n",
              "    <tr>\n",
              "      <th>CPF viajante</th>\n",
              "      <td>52187</td>\n",
              "      <td>***.000.000-**</td>\n",
              "      <td>643</td>\n",
              "    </tr>\n",
              "    <tr>\n",
              "      <th>Nome</th>\n",
              "      <td>41228</td>\n",
              "      <td>Informações protegidas por sigilo</td>\n",
              "      <td>38983</td>\n",
              "    </tr>\n",
              "    <tr>\n",
              "      <th>Cargo</th>\n",
              "      <td>494</td>\n",
              "      <td>Informações protegidas por sigilo</td>\n",
              "      <td>39006</td>\n",
              "    </tr>\n",
              "    <tr>\n",
              "      <th>Função</th>\n",
              "      <td>135</td>\n",
              "      <td>-1</td>\n",
              "      <td>55304</td>\n",
              "    </tr>\n",
              "    <tr>\n",
              "      <th>Descrição Função</th>\n",
              "      <td>80</td>\n",
              "      <td>Não Informado</td>\n",
              "      <td>55304</td>\n",
              "    </tr>\n",
              "    <tr>\n",
              "      <th>Período - Data de início</th>\n",
              "      <td>235</td>\n",
              "      <td>22/02/2021</td>\n",
              "      <td>2349</td>\n",
              "    </tr>\n",
              "    <tr>\n",
              "      <th>Período - Data de fim</th>\n",
              "      <td>246</td>\n",
              "      <td>30/04/2021</td>\n",
              "      <td>2324</td>\n",
              "    </tr>\n",
              "    <tr>\n",
              "      <th>Destinos</th>\n",
              "      <td>10484</td>\n",
              "      <td>Informações protegidas por sigilo</td>\n",
              "      <td>39006</td>\n",
              "    </tr>\n",
              "    <tr>\n",
              "      <th>Motivo</th>\n",
              "      <td>53735</td>\n",
              "      <td>Informação protegida por sigilo nos termos da ...</td>\n",
              "      <td>39006</td>\n",
              "    </tr>\n",
              "    <tr>\n",
              "      <th>Valor diárias</th>\n",
              "      <td>13184</td>\n",
              "      <td>0,00</td>\n",
              "      <td>18614</td>\n",
              "    </tr>\n",
              "    <tr>\n",
              "      <th>Valor passagens</th>\n",
              "      <td>21622</td>\n",
              "      <td>0,00</td>\n",
              "      <td>115080</td>\n",
              "    </tr>\n",
              "    <tr>\n",
              "      <th>Valor outros gastos</th>\n",
              "      <td>2698</td>\n",
              "      <td>0,00</td>\n",
              "      <td>138217</td>\n",
              "    </tr>\n",
              "  </tbody>\n",
              "</table>\n",
              "</div>"
            ],
            "text/plain": [
              "                              unique  ...    freq\n",
              "Número da Proposta (PCDP)      27899  ...   39006\n",
              "Situação                           2  ...  142110\n",
              "Viagem Urgente                     2  ...   81467\n",
              "Justificativa Urgência Viagem  27565  ...   39006\n",
              "Nome do órgão superior            19  ...   39955\n",
              "Nome órgão solicitante           174  ...   26090\n",
              "CPF viajante                   52187  ...     643\n",
              "Nome                           41228  ...   38983\n",
              "Cargo                            494  ...   39006\n",
              "Função                           135  ...   55304\n",
              "Descrição Função                  80  ...   55304\n",
              "Período - Data de início         235  ...    2349\n",
              "Período - Data de fim            246  ...    2324\n",
              "Destinos                       10484  ...   39006\n",
              "Motivo                         53735  ...   39006\n",
              "Valor diárias                  13184  ...   18614\n",
              "Valor passagens                21622  ...  115080\n",
              "Valor outros gastos             2698  ...  138217\n",
              "\n",
              "[18 rows x 3 columns]"
            ]
          },
          "metadata": {
            "tags": []
          },
          "execution_count": 19
        }
      ]
    },
    {
      "cell_type": "code",
      "metadata": {
        "colab": {
          "base_uri": "https://localhost:8080/"
        },
        "id": "wMGSughdpdnI",
        "outputId": "badf47f2-7c72-4a4b-ff77-b59f90193702"
      },
      "source": [
        "#Valores nulos absolutos:\n",
        "a=df.isnull().sum().sort_values(ascending=False)\n",
        "a[a!=0]\n",
        "\n",
        "#Os valores nulos de 'Descrição Função' poderiam ser substituídos por 'Não Informado',\n",
        "#já que esse valor é utilizada nessa coluna (como também, nas outras colunas)."
      ],
      "execution_count": null,
      "outputs": [
        {
          "output_type": "execute_result",
          "data": {
            "text/plain": [
              "Cargo                            63890\n",
              "Descrição Função                    41\n",
              "CPF viajante                        23\n",
              "Justificativa Urgência Viagem        7\n",
              "dtype: int64"
            ]
          },
          "metadata": {
            "tags": []
          },
          "execution_count": 51
        }
      ]
    },
    {
      "cell_type": "code",
      "metadata": {
        "id": "johV6Vapj39h"
      },
      "source": [
        "#Datas:\n",
        "df['Período - Data de início'] = pd.to_datetime(df['Período - Data de início'], dayfirst=True, errors='raise')\n",
        "df['Período - Data de fim']    = pd.to_datetime(df['Período - Data de fim'], dayfirst=True, errors='raise')\n",
        "\n",
        "#Para voltar ao formato '%d/%m/%Y', porém com o dtype=='object':\n",
        "#df['Período - Data de início'].dt.strftime('%d/%m/%Y')"
      ],
      "execution_count": null,
      "outputs": []
    },
    {
      "cell_type": "code",
      "metadata": {
        "id": "yJZ_JC5JgwJ9"
      },
      "source": [
        "#Valores --> Floats:\n",
        "df['Valor diárias']=df['Valor diárias'].map( lambda v: v.replace(',','.') ).astype('float64')\n",
        "df['Valor passagens']=df['Valor passagens'].map( lambda v: v.replace(',','.') ).astype('float64')\n",
        "df['Valor outros gastos']=df['Valor outros gastos'].map( lambda v: v.replace(',','.') ).astype('float64')"
      ],
      "execution_count": null,
      "outputs": []
    },
    {
      "cell_type": "code",
      "metadata": {
        "colab": {
          "base_uri": "https://localhost:8080/"
        },
        "id": "EiMBKh_bMMpQ",
        "outputId": "746ecca9-df24-4b64-e5f4-1bb21fabc60d"
      },
      "source": [
        "df.dtypes"
      ],
      "execution_count": null,
      "outputs": [
        {
          "output_type": "execute_result",
          "data": {
            "text/plain": [
              "Identificador do processo de viagem             int64\n",
              "Número da Proposta (PCDP)                      object\n",
              "Situação                                       object\n",
              "Viagem Urgente                                 object\n",
              "Justificativa Urgência Viagem                  object\n",
              "Código do órgão superior                        int64\n",
              "Nome do órgão superior                         object\n",
              "Código órgão solicitante                        int64\n",
              "Nome órgão solicitante                         object\n",
              "CPF viajante                                   object\n",
              "Nome                                           object\n",
              "Cargo                                          object\n",
              "Função                                         object\n",
              "Descrição Função                               object\n",
              "Período - Data de início               datetime64[ns]\n",
              "Período - Data de fim                  datetime64[ns]\n",
              "Destinos                                       object\n",
              "Motivo                                         object\n",
              "Valor diárias                                 float64\n",
              "Valor passagens                               float64\n",
              "Valor outros gastos                           float64\n",
              "dtype: object"
            ]
          },
          "metadata": {
            "tags": []
          },
          "execution_count": 10
        }
      ]
    },
    {
      "cell_type": "code",
      "metadata": {
        "colab": {
          "base_uri": "https://localhost:8080/",
          "height": 322
        },
        "id": "Ap6J2LfCBaBW",
        "outputId": "be4394f0-165c-4048-f1f4-52ceeeccab1d"
      },
      "source": [
        "#Podemos apenas normalizar as colunas do tipo object e salvar o dataframe com a codificação utf-8:\n",
        "\n",
        "for col in df.columns[df.dtypes=='object']:\n",
        "  df[col]=df[col].str.normalize('NFKD')\n",
        "\n",
        "df.to_csv('df_utf-8.csv', encoding='utf-8', sep=';')\n",
        "display( pd.read_csv('df_utf-8.csv', sep=';').head(2) )\n",
        "\n",
        "df.to_pickle('Dataframe_viagens_utf-8.pkl.bz2', compression='bz2')"
      ],
      "execution_count": null,
      "outputs": [
        {
          "output_type": "display_data",
          "data": {
            "text/html": [
              "<div>\n",
              "<style scoped>\n",
              "    .dataframe tbody tr th:only-of-type {\n",
              "        vertical-align: middle;\n",
              "    }\n",
              "\n",
              "    .dataframe tbody tr th {\n",
              "        vertical-align: top;\n",
              "    }\n",
              "\n",
              "    .dataframe thead th {\n",
              "        text-align: right;\n",
              "    }\n",
              "</style>\n",
              "<table border=\"1\" class=\"dataframe\">\n",
              "  <thead>\n",
              "    <tr style=\"text-align: right;\">\n",
              "      <th></th>\n",
              "      <th>Unnamed: 0</th>\n",
              "      <th>Identificador do processo de viagem</th>\n",
              "      <th>Número da Proposta (PCDP)</th>\n",
              "      <th>Situação</th>\n",
              "      <th>Viagem Urgente</th>\n",
              "      <th>Justificativa Urgência Viagem</th>\n",
              "      <th>Código do órgão superior</th>\n",
              "      <th>Nome do órgão superior</th>\n",
              "      <th>Código órgão solicitante</th>\n",
              "      <th>Nome órgão solicitante</th>\n",
              "      <th>CPF viajante</th>\n",
              "      <th>Nome</th>\n",
              "      <th>Cargo</th>\n",
              "      <th>Função</th>\n",
              "      <th>Descrição Função</th>\n",
              "      <th>Período - Data de início</th>\n",
              "      <th>Período - Data de fim</th>\n",
              "      <th>Destinos</th>\n",
              "      <th>Motivo</th>\n",
              "      <th>Valor diárias</th>\n",
              "      <th>Valor passagens</th>\n",
              "      <th>Valor outros gastos</th>\n",
              "    </tr>\n",
              "  </thead>\n",
              "  <tbody>\n",
              "    <tr>\n",
              "      <th>0</th>\n",
              "      <td>0</td>\n",
              "      <td>16829271</td>\n",
              "      <td>000163/21</td>\n",
              "      <td>Realizada</td>\n",
              "      <td>SIM</td>\n",
              "      <td>A viagem estva programada para ser realizda em...</td>\n",
              "      <td>36000</td>\n",
              "      <td>Ministério da Saúde</td>\n",
              "      <td>36211</td>\n",
              "      <td>Fundação Nacional de Saúde</td>\n",
              "      <td>***.980.641-**</td>\n",
              "      <td>VILIDIANA MORAES MOURA</td>\n",
              "      <td>ENGENHEIRO</td>\n",
              "      <td>FCT-03</td>\n",
              "      <td>Função Comissionada Técnica</td>\n",
              "      <td>2021-02-03</td>\n",
              "      <td>2021-02-04</td>\n",
              "      <td>Nova Brasilândia/MT</td>\n",
              "      <td>Visita técnica no municipio de Nova Brasilãn...</td>\n",
              "      <td>223.86</td>\n",
              "      <td>0.00</td>\n",
              "      <td>0.0</td>\n",
              "    </tr>\n",
              "    <tr>\n",
              "      <th>1</th>\n",
              "      <td>1</td>\n",
              "      <td>16889781</td>\n",
              "      <td>000120/20</td>\n",
              "      <td>Não realizada</td>\n",
              "      <td>NÃO</td>\n",
              "      <td>Sem informação</td>\n",
              "      <td>26000</td>\n",
              "      <td>Ministério da Educação</td>\n",
              "      <td>26281</td>\n",
              "      <td>Fundação Universidade Federal de Sergipe</td>\n",
              "      <td>***.157.645-**</td>\n",
              "      <td>ROSE MARY SILVEIRA MENEZES</td>\n",
              "      <td>ASSISTENTE EM ADMINISTRAçãO</td>\n",
              "      <td>FG-0001</td>\n",
              "      <td>FG-0001</td>\n",
              "      <td>2021-05-11</td>\n",
              "      <td>2021-05-16</td>\n",
              "      <td>Fortaleza/CE</td>\n",
              "      <td>Participação no XXI Congresso Nacional de Se...</td>\n",
              "      <td>0.00</td>\n",
              "      <td>1179.77</td>\n",
              "      <td>0.0</td>\n",
              "    </tr>\n",
              "  </tbody>\n",
              "</table>\n",
              "</div>"
            ],
            "text/plain": [
              "   Unnamed: 0  ...  Valor outros gastos\n",
              "0           0  ...                  0.0\n",
              "1           1  ...                  0.0\n",
              "\n",
              "[2 rows x 22 columns]"
            ]
          },
          "metadata": {
            "tags": []
          }
        }
      ]
    },
    {
      "cell_type": "code",
      "metadata": {
        "colab": {
          "base_uri": "https://localhost:8080/"
        },
        "id": "vSWHJV_UHOwm",
        "outputId": "f87ad0ec-d7ec-45b0-abed-8905a2d168a6"
      },
      "source": [
        "#Teste...\n",
        "'NÃO'==normalize('NFC',df.loc[1,'Viagem Urgente']), 'NÃO'==normalize('NFKD',df.loc[1,'Viagem Urgente']), normalize('NFKD','NÃO')==normalize('NFKD',df.loc[1,'Viagem Urgente'])"
      ],
      "execution_count": null,
      "outputs": [
        {
          "output_type": "execute_result",
          "data": {
            "text/plain": [
              "(True, False, True)"
            ]
          },
          "metadata": {
            "tags": []
          },
          "execution_count": 18
        }
      ]
    },
    {
      "cell_type": "code",
      "metadata": {
        "id": "AhKDjK459Ql_"
      },
      "source": [
        "#Remover acentos:\n",
        "for col in df.columns[df.dtypes=='object']:\n",
        "  df[col]=df[col].str.normalize('NFKD').str.encode('ascii', errors='ignore').str.decode('utf-8')"
      ],
      "execution_count": null,
      "outputs": []
    },
    {
      "cell_type": "code",
      "metadata": {
        "colab": {
          "base_uri": "https://localhost:8080/",
          "height": 322
        },
        "id": "x4D7UDB9tUeB",
        "outputId": "ce0a22d5-bc08-4fd9-a3fd-86f49404660b"
      },
      "source": [
        "df.head(2)"
      ],
      "execution_count": null,
      "outputs": [
        {
          "output_type": "execute_result",
          "data": {
            "text/html": [
              "<div>\n",
              "<style scoped>\n",
              "    .dataframe tbody tr th:only-of-type {\n",
              "        vertical-align: middle;\n",
              "    }\n",
              "\n",
              "    .dataframe tbody tr th {\n",
              "        vertical-align: top;\n",
              "    }\n",
              "\n",
              "    .dataframe thead th {\n",
              "        text-align: right;\n",
              "    }\n",
              "</style>\n",
              "<table border=\"1\" class=\"dataframe\">\n",
              "  <thead>\n",
              "    <tr style=\"text-align: right;\">\n",
              "      <th></th>\n",
              "      <th>Identificador do processo de viagem</th>\n",
              "      <th>Número da Proposta (PCDP)</th>\n",
              "      <th>Situação</th>\n",
              "      <th>Viagem Urgente</th>\n",
              "      <th>Justificativa Urgência Viagem</th>\n",
              "      <th>Código do órgão superior</th>\n",
              "      <th>Nome do órgão superior</th>\n",
              "      <th>Código órgão solicitante</th>\n",
              "      <th>Nome órgão solicitante</th>\n",
              "      <th>CPF viajante</th>\n",
              "      <th>Nome</th>\n",
              "      <th>Cargo</th>\n",
              "      <th>Função</th>\n",
              "      <th>Descrição Função</th>\n",
              "      <th>Período - Data de início</th>\n",
              "      <th>Período - Data de fim</th>\n",
              "      <th>Destinos</th>\n",
              "      <th>Motivo</th>\n",
              "      <th>Valor diárias</th>\n",
              "      <th>Valor passagens</th>\n",
              "      <th>Valor outros gastos</th>\n",
              "    </tr>\n",
              "  </thead>\n",
              "  <tbody>\n",
              "    <tr>\n",
              "      <th>0</th>\n",
              "      <td>16829271</td>\n",
              "      <td>000163/21</td>\n",
              "      <td>Realizada</td>\n",
              "      <td>SIM</td>\n",
              "      <td>A viagem estva programada para ser realizda em...</td>\n",
              "      <td>36000</td>\n",
              "      <td>Ministerio da Saude</td>\n",
              "      <td>36211</td>\n",
              "      <td>Fundacao Nacional de Saude</td>\n",
              "      <td>***.980.641-**</td>\n",
              "      <td>VILIDIANA MORAES MOURA</td>\n",
              "      <td>ENGENHEIRO</td>\n",
              "      <td>FCT-03</td>\n",
              "      <td>Funcao Comissionada Tecnica</td>\n",
              "      <td>2021-02-03</td>\n",
              "      <td>2021-02-04</td>\n",
              "      <td>Nova Brasilandia/MT</td>\n",
              "      <td>Visita tecnica no municipio de Nova Brasilandi...</td>\n",
              "      <td>223.86</td>\n",
              "      <td>0.00</td>\n",
              "      <td>0.0</td>\n",
              "    </tr>\n",
              "    <tr>\n",
              "      <th>1</th>\n",
              "      <td>16889781</td>\n",
              "      <td>000120/20</td>\n",
              "      <td>Nao realizada</td>\n",
              "      <td>NAO</td>\n",
              "      <td>Sem informacao</td>\n",
              "      <td>26000</td>\n",
              "      <td>Ministerio da Educacao</td>\n",
              "      <td>26281</td>\n",
              "      <td>Fundacao Universidade Federal de Sergipe</td>\n",
              "      <td>***.157.645-**</td>\n",
              "      <td>ROSE MARY SILVEIRA MENEZES</td>\n",
              "      <td>ASSISTENTE EM ADMINISTRAcaO</td>\n",
              "      <td>FG-0001</td>\n",
              "      <td>FG-0001</td>\n",
              "      <td>2021-05-11</td>\n",
              "      <td>2021-05-16</td>\n",
              "      <td>Fortaleza/CE</td>\n",
              "      <td>Participacao no XXI Congresso Nacional de Secr...</td>\n",
              "      <td>0.00</td>\n",
              "      <td>1179.77</td>\n",
              "      <td>0.0</td>\n",
              "    </tr>\n",
              "  </tbody>\n",
              "</table>\n",
              "</div>"
            ],
            "text/plain": [
              "   Identificador do processo de viagem  ... Valor outros gastos\n",
              "0                             16829271  ...                 0.0\n",
              "1                             16889781  ...                 0.0\n",
              "\n",
              "[2 rows x 21 columns]"
            ]
          },
          "metadata": {
            "tags": []
          },
          "execution_count": 13
        }
      ]
    },
    {
      "cell_type": "code",
      "metadata": {
        "id": "fnYzvY4jgwQb"
      },
      "source": [
        "#df.to_pickle('Dataframe_viagens.pkl')\n",
        "df.to_pickle('Dataframe_viagens.pkl', compression='bz2')"
      ],
      "execution_count": null,
      "outputs": []
    },
    {
      "cell_type": "markdown",
      "metadata": {
        "azdata_cell_guid": "c3af58d0-fc30-4f61-95fb-5adcb826746e",
        "id": "W944tXGutNox"
      },
      "source": [
        "# Expressões regulares\n",
        "\n",
        "Escreva as expressões regulares solicitadas. Cada exercício possui um conjunto de testes que deve ser completamente validado pela expressão regular. Cada teste possui registros onde expera-se um *match* da expressão regular, enquanto outros registros não devem apresentar nenhum *match*. Faça o exercício para que todos os registros do teste fiquem com a marca de correto (em verde). Para os exercícios, não utilize expressões regulares com mais de 80 caracteres.\n",
        "\n"
      ]
    },
    {
      "cell_type": "markdown",
      "metadata": {
        "id": "YpuAgDHU3aOU"
      },
      "source": [
        "Para esse exercício você precisará baixar o arquivo zipado \"exerciciosRegex\" disponibilizado na pasta QADS em (https://drive.google.com/drive/folders/1sUeC2VYx93ZXi3tKCJarUTVvq_7C2ECI?usp=sharing). Este arquivo contém um diretório chamado \"exercicios\" e um arquivo chamado re_jupyter.py."
      ]
    },
    {
      "cell_type": "code",
      "metadata": {
        "id": "VvgXhujffBCx"
      },
      "source": [
        "file_zip='exerciciosRegex.zip'"
      ],
      "execution_count": null,
      "outputs": []
    },
    {
      "cell_type": "code",
      "metadata": {
        "colab": {
          "resources": {
            "http://localhost:8080/nbextensions/google.colab/files.js": {
              "data": "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",
              "ok": true,
              "headers": [
                [
                  "content-type",
                  "application/javascript"
                ]
              ],
              "status": 200,
              "status_text": ""
            }
          },
          "base_uri": "https://localhost:8080/",
          "height": 73
        },
        "id": "yCXCP1d5fEXT",
        "outputId": "c2224306-e41c-49f8-acbe-4a5efe866a82"
      },
      "source": [
        "#Importar arquivos #Método 1:\n",
        "uploaded = files.upload()"
      ],
      "execution_count": null,
      "outputs": [
        {
          "output_type": "display_data",
          "data": {
            "text/html": [
              "\n",
              "     <input type=\"file\" id=\"files-2bfc86b5-8e06-4428-b21e-1610261ecd20\" name=\"files[]\" multiple disabled\n",
              "        style=\"border:none\" />\n",
              "     <output id=\"result-2bfc86b5-8e06-4428-b21e-1610261ecd20\">\n",
              "      Upload widget is only available when the cell has been executed in the\n",
              "      current browser session. Please rerun this cell to enable.\n",
              "      </output>\n",
              "      <script src=\"/nbextensions/google.colab/files.js\"></script> "
            ],
            "text/plain": [
              "<IPython.core.display.HTML object>"
            ]
          },
          "metadata": {
            "tags": []
          }
        },
        {
          "output_type": "stream",
          "text": [
            "Saving exerciciosRegex.zip to exerciciosRegex.zip\n"
          ],
          "name": "stdout"
        }
      ]
    },
    {
      "cell_type": "code",
      "metadata": {
        "colab": {
          "base_uri": "https://localhost:8080/"
        },
        "id": "6rEgYpbWfEaP",
        "outputId": "a4c193f9-4d3a-48f0-8e13-d1b1f34a2b0f"
      },
      "source": [
        "#Importar arquivos #Método 2:\n",
        "id='https://drive.google.com/file/d/1mKGrtHEJCfKQ5pHnrDEHYPFxUXeNcvld/'.split('/')[-2]\n",
        "url='https://drive.google.com/uc?id='+id+'&export=download'\n",
        "print(url)\n",
        "\n",
        "if not os.path.exists(file_zip):\n",
        "  File = urllib.request.urlretrieve(url, file_zip)"
      ],
      "execution_count": null,
      "outputs": [
        {
          "output_type": "stream",
          "text": [
            "https://drive.google.com/uc?id=1mKGrtHEJCfKQ5pHnrDEHYPFxUXeNcvld&export=download\n"
          ],
          "name": "stdout"
        }
      ]
    },
    {
      "cell_type": "code",
      "metadata": {
        "id": "C4V_1FsagiKh"
      },
      "source": [
        "zipfile.ZipFile(file_zip).extractall()"
      ],
      "execution_count": null,
      "outputs": []
    },
    {
      "cell_type": "code",
      "metadata": {
        "colab": {
          "base_uri": "https://localhost:8080/"
        },
        "id": "3nfQEKrDhvxa",
        "outputId": "df881b12-aacf-4dcb-ecd9-fe87621f4d2a"
      },
      "source": [
        "!cat re_jupyter.py | head -n20"
      ],
      "execution_count": null,
      "outputs": [
        {
          "output_type": "stream",
          "text": [
            "import re\n",
            "import os\n",
            "import json\n",
            "import itertools\n",
            "from pygments import highlight\n",
            "from pygments.lexers import XmlLexer\n",
            "from pygments.formatters import HtmlFormatter\n",
            "from IPython.core.display import display, HTML\n",
            "\n",
            "\n",
            "certo = \"url('data:image/png;base64,iVBORw0KGgoAAAANSUhEUgAAABAAAAAQCAYAAAAf8/9hAAAABHNCSVQICAgIfAhkiAAAAAlwSFlzAAALEwAACxMBAJqcGAAAAgBJREFUOI2lkz1oU1EUx3/nvpcmNqWlNIoKFkFsXKrSOCkoDi6iVOwgCEWLiyBaTKuLdhP8ACkoig5iqoM4SDGDq2uLxUHFptWhHQTF1gzlNc27ufc6tHk0NMTBs917zu9/vu6F/zSpd7lvcnC/VeqUCF1Y61Aya8WOf8k8+NRQIDOVTYXGjImnjtdN51y+omXg68HRPxsEMlPZlHaVj4i3o1HJ1rk5iSd6Pu+9UwRQVceK1m/+BQMokZ2USq+jM0DPxFDGi/mHG4EnWjM0q/hq2Z461v3hanckEOrycCN4oP0o2S0nub31LLLWtQv1UCTglPRUg5MqHmWqwv0dR6hYw6v59zhc1XUAwAcQZxMALSrBvW39WGe5/vMlZ9oORfBIYYwJNYesjc06NkUCzthFoDNuPFpJsL25g1znJVJ+Wy3sRzNHtF2IWjAr5h3AIgGXC0/4UVog5behbYWb0zkmvFoYwJZ0PhIgKI1WgrJBoNiiuVJ4ynzwi5HpF0z684hXC+ulsl4uh49g3UNK5y/caNqcvCUxDxy4pTIkYxtgFxrC38HwTO+z+zUCOKQrf/5xrD150WtuqrtOE4SY4vLDQu/zQWR1HRs+U3r8XJ943l2VbNolvkIQrDboQH8TY67Nns69XR9f9zfikD3j/budeGlx4sS6mem+3Pdq1vX2FyOryD82RGIbAAAAAElFTkSuQmCC')\"\n",
            "\n",
            "errado = \"url('data:image/png;base64,iVBORw0KGgoAAAANSUhEUgAAABAAAAAQCAYAAAAf8/9hAAAABHNCSVQICAgIfAhkiAAAAAlwSFlzAAALEwAACxMBAJqcGAAAAjNJREFUOI2lk01IVFEYhp9zznUcnUnH/Bk3WhCVFEFZbiwUAxeZlCJFWERBgZsIqRatWhuRi0BtFS1bSGQYlBLISD8EgbWwv0VFxlijThOpd+6ce1o49zrh4KZ3+XHe53u/j+/Af0rkK35ra9ythOgwmG0gDYIPUnC/+uHkm3UBM+3NFZC5KxFt+cCuNiNa67O1T17MrwHMtDdX4DqvpZQ160XOGPPZRdRvGp1cAJA+PeMMe2ZRXrl21mzNEmKzMPqeV5cAXw4f2GtZsgmAso2o60PIjhOr5s5uVN8glEQAKJCq9evRpl0AFkDGsS8HAoUrEecSzN8ZJNrTC1JiDFhdJ4kP3CCSXEDJlamdJfsScMYCcJH1XjdLSkITj/mhLKrOXwBg9nY/G2LjKKVWUxn2+QkMBHPnLVQKK1QMxgAQKQ4hc8wArqTIB2jXnQNqffqR4wSPnSY+1A9AdU8vGcvCjA77gLR2Ez5gydGPIkH2ALilEaxDncQHbxKOjQEQBypPnUPHxpGpXwD8yaRHIHsHYw115TWl4dnSYFC5xvBTKMq0QyAb29aapApQZTRCQMpOO9/TdlXLxFRSArS+ejeXWLSv2VojhSCK65u9nURZMS9rTWJx+WrLxFTST5BdpIjt3zEQDYV7SgIB8imVTpP4vXSr8fnbiwLMPwBPTxt3dhUp1RcuKNjipUhrTWrZ/mijrxx8Nv0g933e32hAxBrqtrpKbTcCI1z3ffPL6U9e11z9Bai+yG1sATfvAAAAAElFTkSuQmCC')\"\n",
            "\n",
            "\n",
            "def formatar_html(texto):\n",
            "    return texto.replace(' ', '&nbsp;')\n",
            "\n",
            "def formatar_match(texto, match):\n",
            "    if match:\n"
          ],
          "name": "stdout"
        }
      ]
    },
    {
      "cell_type": "code",
      "metadata": {
        "colab": {
          "base_uri": "https://localhost:8080/"
        },
        "id": "u_0C7JKqhcfp",
        "outputId": "23575744-8785-4eb6-8d01-788604b4812a"
      },
      "source": [
        "!ls exercicios/"
      ],
      "execution_count": null,
      "outputs": [
        {
          "output_type": "stream",
          "text": [
            "10.in\t12.out\t15.in\t17.out\t1.in\t21.out\t3.in   5.out  8.in\n",
            "10.out\t13.in\t15.out\t18.in\t1.out\t22.in\t3.out  6.in   8.out\n",
            "11.in\t13.out\t16.in\t18.out\t20.in\t22.out\t4.in   6.out  9.in\n",
            "11.out\t14.in\t16.out\t19.in\t20.out\t2.in\t4.out  7.in   9.out\n",
            "12.in\t14.out\t17.in\t19.out\t21.in\t2.out\t5.in   7.out\n"
          ],
          "name": "stdout"
        }
      ]
    },
    {
      "cell_type": "code",
      "metadata": {
        "azdata_cell_guid": "62a07945-3b1c-49f6-858f-fadea69a1de1",
        "id": "46yzP36ptNoz"
      },
      "source": [
        "#import imp\n",
        "#import re_jupyter\n",
        "#imp.reload(re_jupyter)\n",
        "\n",
        "from re_jupyter import exercicio"
      ],
      "execution_count": null,
      "outputs": []
    },
    {
      "cell_type": "markdown",
      "metadata": {
        "azdata_cell_guid": "962cae2c-8e07-4d92-8bcd-4e20a6c5f87a",
        "id": "xzhgHcBKtNo0"
      },
      "source": [
        "--> Uma letra `a` imediatamente seguida por uma ou mais letras `b`"
      ]
    },
    {
      "cell_type": "code",
      "metadata": {
        "scrolled": false,
        "azdata_cell_guid": "80721b75-4967-4676-a9f5-592f65e869d4",
        "id": "P7QVttcRtNo1",
        "colab": {
          "base_uri": "https://localhost:8080/",
          "height": 272
        },
        "outputId": "eb087d4a-26d0-4f88-fe54-bb70cfa5066b"
      },
      "source": [
        "exercicio(1, r'ab+')"
      ],
      "execution_count": null,
      "outputs": [
        {
          "output_type": "display_data",
          "data": {
            "text/html": [
              "<style>.certo {background-image: url('data:image/png;base64,iVBORw0KGgoAAAANSUhEUgAAABAAAAAQCAYAAAAf8/9hAAAABHNCSVQICAgIfAhkiAAAAAlwSFlzAAALEwAACxMBAJqcGAAAAgBJREFUOI2lkz1oU1EUx3/nvpcmNqWlNIoKFkFsXKrSOCkoDi6iVOwgCEWLiyBaTKuLdhP8ACkoig5iqoM4SDGDq2uLxUHFptWhHQTF1gzlNc27ufc6tHk0NMTBs917zu9/vu6F/zSpd7lvcnC/VeqUCF1Y61Aya8WOf8k8+NRQIDOVTYXGjImnjtdN51y+omXg68HRPxsEMlPZlHaVj4i3o1HJ1rk5iSd6Pu+9UwRQVceK1m/+BQMokZ2USq+jM0DPxFDGi/mHG4EnWjM0q/hq2Z461v3hanckEOrycCN4oP0o2S0nub31LLLWtQv1UCTglPRUg5MqHmWqwv0dR6hYw6v59zhc1XUAwAcQZxMALSrBvW39WGe5/vMlZ9oORfBIYYwJNYesjc06NkUCzthFoDNuPFpJsL25g1znJVJ+Wy3sRzNHtF2IWjAr5h3AIgGXC0/4UVog5behbYWb0zkmvFoYwJZ0PhIgKI1WgrJBoNiiuVJ4ynzwi5HpF0z684hXC+ulsl4uh49g3UNK5y/caNqcvCUxDxy4pTIkYxtgFxrC38HwTO+z+zUCOKQrf/5xrD150WtuqrtOE4SY4vLDQu/zQWR1HRs+U3r8XJ943l2VbNolvkIQrDboQH8TY67Nns69XR9f9zfikD3j/budeGlx4sS6mem+3Pdq1vX2FyOryD82RGIbAAAAAElFTkSuQmCC'); background-size: cover; height: 16px; width: 16px}.errado {background-image: url('data:image/png;base64,iVBORw0KGgoAAAANSUhEUgAAABAAAAAQCAYAAAAf8/9hAAAABHNCSVQICAgIfAhkiAAAAAlwSFlzAAALEwAACxMBAJqcGAAAAjNJREFUOI2lk01IVFEYhp9zznUcnUnH/Bk3WhCVFEFZbiwUAxeZlCJFWERBgZsIqRatWhuRi0BtFS1bSGQYlBLISD8EgbWwv0VFxlijThOpd+6ce1o49zrh4KZ3+XHe53u/j+/Af0rkK35ra9ythOgwmG0gDYIPUnC/+uHkm3UBM+3NFZC5KxFt+cCuNiNa67O1T17MrwHMtDdX4DqvpZQ160XOGPPZRdRvGp1cAJA+PeMMe2ZRXrl21mzNEmKzMPqeV5cAXw4f2GtZsgmAso2o60PIjhOr5s5uVN8glEQAKJCq9evRpl0AFkDGsS8HAoUrEecSzN8ZJNrTC1JiDFhdJ4kP3CCSXEDJlamdJfsScMYCcJH1XjdLSkITj/mhLKrOXwBg9nY/G2LjKKVWUxn2+QkMBHPnLVQKK1QMxgAQKQ4hc8wArqTIB2jXnQNqffqR4wSPnSY+1A9AdU8vGcvCjA77gLR2Ez5gydGPIkH2ALilEaxDncQHbxKOjQEQBypPnUPHxpGpXwD8yaRHIHsHYw115TWl4dnSYFC5xvBTKMq0QyAb29aapApQZTRCQMpOO9/TdlXLxFRSArS+ejeXWLSv2VojhSCK65u9nURZMS9rTWJx+WrLxFTST5BdpIjt3zEQDYV7SgIB8imVTpP4vXSr8fnbiwLMPwBPTxt3dhUp1RcuKNjipUhrTWrZ/mijrxx8Nv0g933e32hAxBrqtrpKbTcCI1z3ffPL6U9e11z9Bai+yG1sATfvAAAAAElFTkSuQmCC'); background-size: cover; height: 16px; width: 16px}</style><table><tr><td><div class=\"certo\"/></td><td style=\"text-align:left;\"><b><mark style=\"background-color:#ffff40;padding-left:0px;padding-right:0px\">ab</mark></b>\n",
              "</pre></td></tr>\n",
              "<tr><td><div class=\"certo\"/></td><td style=\"text-align:left;\"><b><mark style=\"background-color:#ffff40;padding-left:0px;padding-right:0px\">abb</mark></b>\n",
              "</pre></td></tr>\n",
              "<tr><td><div class=\"certo\"/></td><td style=\"text-align:left;\"><b><mark style=\"background-color:#ffff40;padding-left:0px;padding-right:0px\">abbbbbbbbb</mark></b>\n",
              "</pre></td></tr>\n",
              "<tr><td><div class=\"certo\"/></td><td style=\"text-align:left;\">cbaa<b><mark style=\"background-color:#ffff40;padding-left:0px;padding-right:0px\">abb</mark></b>\n",
              "</pre></td></tr>\n",
              "<tr><td><div class=\"certo\"/></td><td style=\"text-align:left;\"><b><mark style=\"background-color:#ffff40;padding-left:0px;padding-right:0px\">ab</mark></b>a\n",
              "</pre></td></tr><tr><td><div class=\"certo\"/></td><td style=\"text-align:left;\"><div style=\"color:#808080\">a\n",
              "&#9;(sem ocorrências)</div></td></tr>\n",
              "<tr><td><div class=\"certo\"/></td><td style=\"text-align:left;\"><div style=\"color:#808080\">baa\n",
              "&#9;(sem ocorrências)</div></td></tr>\n",
              "<tr><td><div class=\"certo\"/></td><td style=\"text-align:left;\"><div style=\"color:#808080\">ba\n",
              "&#9;(sem ocorrências)</div></td></tr>\n",
              "<tr><td><div class=\"certo\"/></td><td style=\"text-align:left;\"><div style=\"color:#808080\">cba\n",
              "&#9;(sem ocorrências)</div></td></tr>\n",
              "<tr><td><div class=\"certo\"/></td><td style=\"text-align:left;\"><div style=\"color:#808080\">cbaaa\n",
              "&#9;(sem ocorrências)</div></td></tr>\n",
              "<tr><td><div class=\"certo\"/></td><td style=\"text-align:left;\"><div style=\"color:#808080\">ba\n",
              "&#9;(sem ocorrências)</div></td></tr>\n",
              "<tr><td><div class=\"certo\"/></td><td style=\"text-align:left;\"><div style=\"color:#808080\">baa\n",
              "&#9;(sem ocorrências)</div></td></tr></table>"
            ],
            "text/plain": [
              "<IPython.core.display.HTML object>"
            ]
          },
          "metadata": {
            "tags": []
          }
        }
      ]
    },
    {
      "cell_type": "markdown",
      "metadata": {
        "azdata_cell_guid": "8204861f-77af-4f39-a0e3-570bf2adc45a",
        "id": "AYAOP402tNo3"
      },
      "source": [
        "--> Uma palavra de 6 letras que inicia com a letra `z`"
      ]
    },
    {
      "cell_type": "code",
      "metadata": {
        "colab": {
          "base_uri": "https://localhost:8080/"
        },
        "id": "LOl1HjyOkrYC",
        "outputId": "925918f5-e151-4193-bd8f-e4cb444152a7"
      },
      "source": [
        "re.findall('\\Az\\w{5}\\Z', 'zangas')"
      ],
      "execution_count": null,
      "outputs": [
        {
          "output_type": "execute_result",
          "data": {
            "text/plain": [
              "['zangas']"
            ]
          },
          "metadata": {
            "tags": []
          },
          "execution_count": 6
        }
      ]
    },
    {
      "cell_type": "code",
      "metadata": {
        "azdata_cell_guid": "a1bff8fb-b4bb-4482-9245-726ef89dad7f",
        "id": "GCvOMKTxtNo4",
        "colab": {
          "base_uri": "https://localhost:8080/",
          "height": 377
        },
        "outputId": "b1c77081-1404-49a6-8297-fa2f54b5fece"
      },
      "source": [
        "#exercicio(2, r'^z\\w{5}$')\n",
        "#exercicio(2, r'\\Az\\w{5}\\Z')\n",
        "exercicio(2, r'\\bz\\w{5}\\b')"
      ],
      "execution_count": null,
      "outputs": [
        {
          "output_type": "display_data",
          "data": {
            "text/html": [
              "<style>.certo {background-image: url('data:image/png;base64,iVBORw0KGgoAAAANSUhEUgAAABAAAAAQCAYAAAAf8/9hAAAABHNCSVQICAgIfAhkiAAAAAlwSFlzAAALEwAACxMBAJqcGAAAAgBJREFUOI2lkz1oU1EUx3/nvpcmNqWlNIoKFkFsXKrSOCkoDi6iVOwgCEWLiyBaTKuLdhP8ACkoig5iqoM4SDGDq2uLxUHFptWhHQTF1gzlNc27ufc6tHk0NMTBs917zu9/vu6F/zSpd7lvcnC/VeqUCF1Y61Aya8WOf8k8+NRQIDOVTYXGjImnjtdN51y+omXg68HRPxsEMlPZlHaVj4i3o1HJ1rk5iSd6Pu+9UwRQVceK1m/+BQMokZ2USq+jM0DPxFDGi/mHG4EnWjM0q/hq2Z461v3hanckEOrycCN4oP0o2S0nub31LLLWtQv1UCTglPRUg5MqHmWqwv0dR6hYw6v59zhc1XUAwAcQZxMALSrBvW39WGe5/vMlZ9oORfBIYYwJNYesjc06NkUCzthFoDNuPFpJsL25g1znJVJ+Wy3sRzNHtF2IWjAr5h3AIgGXC0/4UVog5behbYWb0zkmvFoYwJZ0PhIgKI1WgrJBoNiiuVJ4ynzwi5HpF0z684hXC+ulsl4uh49g3UNK5y/caNqcvCUxDxy4pTIkYxtgFxrC38HwTO+z+zUCOKQrf/5xrD150WtuqrtOE4SY4vLDQu/zQWR1HRs+U3r8XJ943l2VbNolvkIQrDboQH8TY67Nns69XR9f9zfikD3j/budeGlx4sS6mem+3Pdq1vX2FyOryD82RGIbAAAAAElFTkSuQmCC'); background-size: cover; height: 16px; width: 16px}.errado {background-image: url('data:image/png;base64,iVBORw0KGgoAAAANSUhEUgAAABAAAAAQCAYAAAAf8/9hAAAABHNCSVQICAgIfAhkiAAAAAlwSFlzAAALEwAACxMBAJqcGAAAAjNJREFUOI2lk01IVFEYhp9zznUcnUnH/Bk3WhCVFEFZbiwUAxeZlCJFWERBgZsIqRatWhuRi0BtFS1bSGQYlBLISD8EgbWwv0VFxlijThOpd+6ce1o49zrh4KZ3+XHe53u/j+/Af0rkK35ra9ythOgwmG0gDYIPUnC/+uHkm3UBM+3NFZC5KxFt+cCuNiNa67O1T17MrwHMtDdX4DqvpZQ160XOGPPZRdRvGp1cAJA+PeMMe2ZRXrl21mzNEmKzMPqeV5cAXw4f2GtZsgmAso2o60PIjhOr5s5uVN8glEQAKJCq9evRpl0AFkDGsS8HAoUrEecSzN8ZJNrTC1JiDFhdJ4kP3CCSXEDJlamdJfsScMYCcJH1XjdLSkITj/mhLKrOXwBg9nY/G2LjKKVWUxn2+QkMBHPnLVQKK1QMxgAQKQ4hc8wArqTIB2jXnQNqffqR4wSPnSY+1A9AdU8vGcvCjA77gLR2Ez5gydGPIkH2ALilEaxDncQHbxKOjQEQBypPnUPHxpGpXwD8yaRHIHsHYw115TWl4dnSYFC5xvBTKMq0QyAb29aapApQZTRCQMpOO9/TdlXLxFRSArS+ejeXWLSv2VojhSCK65u9nURZMS9rTWJx+WrLxFTST5BdpIjt3zEQDYV7SgIB8imVTpP4vXSr8fnbiwLMPwBPTxt3dhUp1RcuKNjipUhrTWrZ/mijrxx8Nv0g933e32hAxBrqtrpKbTcCI1z3ffPL6U9e11z9Bai+yG1sATfvAAAAAElFTkSuQmCC'); background-size: cover; height: 16px; width: 16px}</style><table><tr><td><div class=\"certo\"/></td><td style=\"text-align:left;\"><b><mark style=\"background-color:#ffff40;padding-left:0px;padding-right:0px\">zangas</mark></b>\n",
              "</pre></td></tr>\n",
              "<tr><td><div class=\"certo\"/></td><td style=\"text-align:left;\"><b><mark style=\"background-color:#ffff40;padding-left:0px;padding-right:0px\">zangas</mark></b>&nbsp;espaço\n",
              "</pre></td></tr>\n",
              "<tr><td><div class=\"certo\"/></td><td style=\"text-align:left;\"><b><mark style=\"background-color:#ffff40;padding-left:0px;padding-right:0px\">zéfiro</mark></b>\n",
              "</pre></td></tr>\n",
              "<tr><td><div class=\"certo\"/></td><td style=\"text-align:left;\">segundo&nbsp;<b><mark style=\"background-color:#ffff40;padding-left:0px;padding-right:0px\">zéfiro</mark></b>&nbsp;\n",
              "</pre></td></tr><tr><td><div class=\"certo\"/></td><td style=\"text-align:left;\"><div style=\"color:#808080\">zelo\n",
              "&#9;(sem ocorrências)</div></td></tr>\n",
              "<tr><td><div class=\"certo\"/></td><td style=\"text-align:left;\"><div style=\"color:#808080\">zelos\n",
              "&#9;(sem ocorrências)</div></td></tr>\n",
              "<tr><td><div class=\"certo\"/></td><td style=\"text-align:left;\"><div style=\"color:#808080\">zangada\n",
              "&#9;(sem ocorrências)</div></td></tr>\n",
              "<tr><td><div class=\"certo\"/></td><td style=\"text-align:left;\"><div style=\"color:#808080\">zangados\n",
              "&#9;(sem ocorrências)</div></td></tr>\n",
              "<tr><td><div class=\"certo\"/></td><td style=\"text-align:left;\"><div style=\"color:#808080\">azul\n",
              "&#9;(sem ocorrências)</div></td></tr>\n",
              "<tr><td><div class=\"certo\"/></td><td style=\"text-align:left;\"><div style=\"color:#808080\">aziago\n",
              "&#9;(sem ocorrências)</div></td></tr>\n",
              "<tr><td><div class=\"certo\"/></td><td style=\"text-align:left;\"><div style=\"color:#808080\">azougue\n",
              "&#9;(sem ocorrências)</div></td></tr>\n",
              "<tr><td><div class=\"certo\"/></td><td style=\"text-align:left;\"><div style=\"color:#808080\">faziam\n",
              "&#9;(sem ocorrências)</div></td></tr>\n",
              "<tr><td><div class=\"certo\"/></td><td style=\"text-align:left;\"><div style=\"color:#808080\">fazendas\n",
              "&#9;(sem ocorrências)</div></td></tr>\n",
              "<tr><td><div class=\"certo\"/></td><td style=\"text-align:left;\"><div style=\"color:#808080\">talvez\n",
              "&#9;(sem ocorrências)</div></td></tr>\n",
              "<tr><td><div class=\"certo\"/></td><td style=\"text-align:left;\"><div style=\"color:#808080\">robustez\n",
              "&#9;(sem ocorrências)</div></td></tr>\n",
              "<tr><td><div class=\"certo\"/></td><td style=\"text-align:left;\"><div style=\"color:#808080\">chafariz\n",
              "&#9;(sem ocorrências)</div></td></tr>\n",
              "<tr><td><div class=\"certo\"/></td><td style=\"text-align:left;\"><div style=\"color:#808080\">luz\n",
              "&#9;(sem ocorrências)</div></td></tr></table>"
            ],
            "text/plain": [
              "<IPython.core.display.HTML object>"
            ]
          },
          "metadata": {
            "tags": []
          }
        }
      ]
    },
    {
      "cell_type": "markdown",
      "metadata": {
        "azdata_cell_guid": "435592a8-1eae-4f5a-bcc7-67e76051778b",
        "id": "QXQhZII9tNo5"
      },
      "source": [
        "--> Uma palavra com 8 a 10 letras que termine com a letra 'z'"
      ]
    },
    {
      "cell_type": "code",
      "metadata": {
        "scrolled": false,
        "azdata_cell_guid": "efca1822-8e30-4d56-bc9f-f8dabab1ed69",
        "id": "VFHka0zBtNo6",
        "colab": {
          "base_uri": "https://localhost:8080/",
          "height": 335
        },
        "outputId": "37f00501-30f2-42aa-9a58-ae90de00f6ed"
      },
      "source": [
        "#exercicio(3, r'\\b\\w{8,10}\\b') #Funciona para estes teste...\n",
        "exercicio(3, r'\\b\\w{7,9}z\\b')"
      ],
      "execution_count": null,
      "outputs": [
        {
          "output_type": "display_data",
          "data": {
            "text/html": [
              "<style>.certo {background-image: url('data:image/png;base64,iVBORw0KGgoAAAANSUhEUgAAABAAAAAQCAYAAAAf8/9hAAAABHNCSVQICAgIfAhkiAAAAAlwSFlzAAALEwAACxMBAJqcGAAAAgBJREFUOI2lkz1oU1EUx3/nvpcmNqWlNIoKFkFsXKrSOCkoDi6iVOwgCEWLiyBaTKuLdhP8ACkoig5iqoM4SDGDq2uLxUHFptWhHQTF1gzlNc27ufc6tHk0NMTBs917zu9/vu6F/zSpd7lvcnC/VeqUCF1Y61Aya8WOf8k8+NRQIDOVTYXGjImnjtdN51y+omXg68HRPxsEMlPZlHaVj4i3o1HJ1rk5iSd6Pu+9UwRQVceK1m/+BQMokZ2USq+jM0DPxFDGi/mHG4EnWjM0q/hq2Z461v3hanckEOrycCN4oP0o2S0nub31LLLWtQv1UCTglPRUg5MqHmWqwv0dR6hYw6v59zhc1XUAwAcQZxMALSrBvW39WGe5/vMlZ9oORfBIYYwJNYesjc06NkUCzthFoDNuPFpJsL25g1znJVJ+Wy3sRzNHtF2IWjAr5h3AIgGXC0/4UVog5behbYWb0zkmvFoYwJZ0PhIgKI1WgrJBoNiiuVJ4ynzwi5HpF0z684hXC+ulsl4uh49g3UNK5y/caNqcvCUxDxy4pTIkYxtgFxrC38HwTO+z+zUCOKQrf/5xrD150WtuqrtOE4SY4vLDQu/zQWR1HRs+U3r8XJ943l2VbNolvkIQrDboQH8TY67Nns69XR9f9zfikD3j/budeGlx4sS6mem+3Pdq1vX2FyOryD82RGIbAAAAAElFTkSuQmCC'); background-size: cover; height: 16px; width: 16px}.errado {background-image: url('data:image/png;base64,iVBORw0KGgoAAAANSUhEUgAAABAAAAAQCAYAAAAf8/9hAAAABHNCSVQICAgIfAhkiAAAAAlwSFlzAAALEwAACxMBAJqcGAAAAjNJREFUOI2lk01IVFEYhp9zznUcnUnH/Bk3WhCVFEFZbiwUAxeZlCJFWERBgZsIqRatWhuRi0BtFS1bSGQYlBLISD8EgbWwv0VFxlijThOpd+6ce1o49zrh4KZ3+XHe53u/j+/Af0rkK35ra9ythOgwmG0gDYIPUnC/+uHkm3UBM+3NFZC5KxFt+cCuNiNa67O1T17MrwHMtDdX4DqvpZQ160XOGPPZRdRvGp1cAJA+PeMMe2ZRXrl21mzNEmKzMPqeV5cAXw4f2GtZsgmAso2o60PIjhOr5s5uVN8glEQAKJCq9evRpl0AFkDGsS8HAoUrEecSzN8ZJNrTC1JiDFhdJ4kP3CCSXEDJlamdJfsScMYCcJH1XjdLSkITj/mhLKrOXwBg9nY/G2LjKKVWUxn2+QkMBHPnLVQKK1QMxgAQKQ4hc8wArqTIB2jXnQNqffqR4wSPnSY+1A9AdU8vGcvCjA77gLR2Ez5gydGPIkH2ALilEaxDncQHbxKOjQEQBypPnUPHxpGpXwD8yaRHIHsHYw115TWl4dnSYFC5xvBTKMq0QyAb29aapApQZTRCQMpOO9/TdlXLxFRSArS+ejeXWLSv2VojhSCK65u9nURZMS9rTWJx+WrLxFTST5BdpIjt3zEQDYV7SgIB8imVTpP4vXSr8fnbiwLMPwBPTxt3dhUp1RcuKNjipUhrTWrZ/mijrxx8Nv0g933e32hAxBrqtrpKbTcCI1z3ffPL6U9e11z9Bai+yG1sATfvAAAAAElFTkSuQmCC'); background-size: cover; height: 16px; width: 16px}</style><table><tr><td><div class=\"certo\"/></td><td style=\"text-align:left;\"><b><mark style=\"background-color:#ffff40;padding-left:0px;padding-right:0px\">robustez</mark></b>\n",
              "</pre></td></tr>\n",
              "<tr><td><div class=\"certo\"/></td><td style=\"text-align:left;\">espaço&nbsp;<b><mark style=\"background-color:#ffff40;padding-left:0px;padding-right:0px\">robustez</mark></b>\n",
              "</pre></td></tr>\n",
              "<tr><td><div class=\"certo\"/></td><td style=\"text-align:left;\"><b><mark style=\"background-color:#ffff40;padding-left:0px;padding-right:0px\">chafariz</mark></b>\n",
              "</pre></td></tr>\n",
              "<tr><td><div class=\"certo\"/></td><td style=\"text-align:left;\">antes&nbsp;<b><mark style=\"background-color:#ffff40;padding-left:0px;padding-right:0px\">chafariz</mark></b>&nbsp;depois\n",
              "</pre></td></tr>\n",
              "<tr><td><div class=\"certo\"/></td><td style=\"text-align:left;\"><b><mark style=\"background-color:#ffff40;padding-left:0px;padding-right:0px\">vetustez</mark></b>\n",
              "</pre></td></tr>\n",
              "<tr><td><div class=\"certo\"/></td><td style=\"text-align:left;\"><b><mark style=\"background-color:#ffff40;padding-left:0px;padding-right:0px\">placidez</mark></b>\n",
              "</pre></td></tr>\n",
              "<tr><td><div class=\"certo\"/></td><td style=\"text-align:left;\"><b><mark style=\"background-color:#ffff40;padding-left:0px;padding-right:0px\">insensatez</mark></b>\n",
              "</pre></td></tr>\n",
              "<tr><td><div class=\"certo\"/></td><td style=\"text-align:left;\"><b><mark style=\"background-color:#ffff40;padding-left:0px;padding-right:0px\">gravidez</mark></b>\n",
              "</pre></td></tr>\n",
              "<tr><td><div class=\"certo\"/></td><td style=\"text-align:left;\"><b><mark style=\"background-color:#ffff40;padding-left:0px;padding-right:0px\">invalidez</mark></b>\n",
              "</pre></td></tr><tr><td><div class=\"certo\"/></td><td style=\"text-align:left;\"><div style=\"color:#808080\">luz\n",
              "&#9;(sem ocorrências)</div></td></tr>\n",
              "<tr><td><div class=\"certo\"/></td><td style=\"text-align:left;\"><div style=\"color:#808080\">talvez\n",
              "&#9;(sem ocorrências)</div></td></tr>\n",
              "<tr><td><div class=\"certo\"/></td><td style=\"text-align:left;\"><div style=\"color:#808080\">antestalvezjunto\n",
              "&#9;(sem ocorrências)</div></td></tr>\n",
              "<tr><td><div class=\"certo\"/></td><td style=\"text-align:left;\"><div style=\"color:#808080\">robustezjunto\n",
              "&#9;(sem ocorrências)</div></td></tr>\n",
              "<tr><td><div class=\"certo\"/></td><td style=\"text-align:left;\"><div style=\"color:#808080\">antesrobustez\n",
              "&#9;(sem ocorrências)</div></td></tr>\n",
              "<tr><td><div class=\"certo\"/></td><td style=\"text-align:left;\"><div style=\"color:#808080\">antesrobustezjunto\n",
              "&#9;(sem ocorrências)</div></td></tr></table>"
            ],
            "text/plain": [
              "<IPython.core.display.HTML object>"
            ]
          },
          "metadata": {
            "tags": []
          }
        }
      ]
    },
    {
      "cell_type": "markdown",
      "metadata": {
        "azdata_cell_guid": "e7491b58-ce32-4ab6-8d3b-efd997b64d16",
        "id": "WCwhJqb5tNo8"
      },
      "source": [
        "--> 3 dígitos consecutivos"
      ]
    },
    {
      "cell_type": "code",
      "metadata": {
        "azdata_cell_guid": "9392b7b3-1cce-4e79-8591-25d53f5fcf90",
        "id": "TOf0S1N8tNo9",
        "colab": {
          "base_uri": "https://localhost:8080/",
          "height": 314
        },
        "outputId": "4a7d8bee-122d-4dd4-9351-7de975fd6b87"
      },
      "source": [
        "exercicio(4, r'\\d{3}')"
      ],
      "execution_count": null,
      "outputs": [
        {
          "output_type": "display_data",
          "data": {
            "text/html": [
              "<style>.certo {background-image: url('data:image/png;base64,iVBORw0KGgoAAAANSUhEUgAAABAAAAAQCAYAAAAf8/9hAAAABHNCSVQICAgIfAhkiAAAAAlwSFlzAAALEwAACxMBAJqcGAAAAgBJREFUOI2lkz1oU1EUx3/nvpcmNqWlNIoKFkFsXKrSOCkoDi6iVOwgCEWLiyBaTKuLdhP8ACkoig5iqoM4SDGDq2uLxUHFptWhHQTF1gzlNc27ufc6tHk0NMTBs917zu9/vu6F/zSpd7lvcnC/VeqUCF1Y61Aya8WOf8k8+NRQIDOVTYXGjImnjtdN51y+omXg68HRPxsEMlPZlHaVj4i3o1HJ1rk5iSd6Pu+9UwRQVceK1m/+BQMokZ2USq+jM0DPxFDGi/mHG4EnWjM0q/hq2Z461v3hanckEOrycCN4oP0o2S0nub31LLLWtQv1UCTglPRUg5MqHmWqwv0dR6hYw6v59zhc1XUAwAcQZxMALSrBvW39WGe5/vMlZ9oORfBIYYwJNYesjc06NkUCzthFoDNuPFpJsL25g1znJVJ+Wy3sRzNHtF2IWjAr5h3AIgGXC0/4UVog5behbYWb0zkmvFoYwJZ0PhIgKI1WgrJBoNiiuVJ4ynzwi5HpF0z684hXC+ulsl4uh49g3UNK5y/caNqcvCUxDxy4pTIkYxtgFxrC38HwTO+z+zUCOKQrf/5xrD150WtuqrtOE4SY4vLDQu/zQWR1HRs+U3r8XJ943l2VbNolvkIQrDboQH8TY67Nns69XR9f9zfikD3j/budeGlx4sS6mem+3Pdq1vX2FyOryD82RGIbAAAAAElFTkSuQmCC'); background-size: cover; height: 16px; width: 16px}.errado {background-image: url('data:image/png;base64,iVBORw0KGgoAAAANSUhEUgAAABAAAAAQCAYAAAAf8/9hAAAABHNCSVQICAgIfAhkiAAAAAlwSFlzAAALEwAACxMBAJqcGAAAAjNJREFUOI2lk01IVFEYhp9zznUcnUnH/Bk3WhCVFEFZbiwUAxeZlCJFWERBgZsIqRatWhuRi0BtFS1bSGQYlBLISD8EgbWwv0VFxlijThOpd+6ce1o49zrh4KZ3+XHe53u/j+/Af0rkK35ra9ythOgwmG0gDYIPUnC/+uHkm3UBM+3NFZC5KxFt+cCuNiNa67O1T17MrwHMtDdX4DqvpZQ160XOGPPZRdRvGp1cAJA+PeMMe2ZRXrl21mzNEmKzMPqeV5cAXw4f2GtZsgmAso2o60PIjhOr5s5uVN8glEQAKJCq9evRpl0AFkDGsS8HAoUrEecSzN8ZJNrTC1JiDFhdJ4kP3CCSXEDJlamdJfsScMYCcJH1XjdLSkITj/mhLKrOXwBg9nY/G2LjKKVWUxn2+QkMBHPnLVQKK1QMxgAQKQ4hc8wArqTIB2jXnQNqffqR4wSPnSY+1A9AdU8vGcvCjA77gLR2Ez5gydGPIkH2ALilEaxDncQHbxKOjQEQBypPnUPHxpGpXwD8yaRHIHsHYw115TWl4dnSYFC5xvBTKMq0QyAb29aapApQZTRCQMpOO9/TdlXLxFRSArS+ejeXWLSv2VojhSCK65u9nURZMS9rTWJx+WrLxFTST5BdpIjt3zEQDYV7SgIB8imVTpP4vXSr8fnbiwLMPwBPTxt3dhUp1RcuKNjipUhrTWrZ/mijrxx8Nv0g933e32hAxBrqtrpKbTcCI1z3ffPL6U9e11z9Bai+yG1sATfvAAAAAElFTkSuQmCC'); background-size: cover; height: 16px; width: 16px}</style><table><tr><td><div class=\"certo\"/></td><td style=\"text-align:left;\"><b><mark style=\"background-color:#ffff40;padding-left:0px;padding-right:0px\">040</mark></b>&nbsp;inicia&nbsp;com&nbsp;zero\n",
              "</pre></td></tr>\n",
              "<tr><td><div class=\"certo\"/></td><td style=\"text-align:left;\"><b><mark style=\"background-color:#ffff40;padding-left:0px;padding-right:0px\">056</mark></b>&nbsp;de&nbsp;novo\n",
              "</pre></td></tr>\n",
              "<tr><td><div class=\"certo\"/></td><td style=\"text-align:left;\"><b><mark style=\"background-color:#ffff40;padding-left:0px;padding-right:0px\">100</mark></b>&nbsp;cem\n",
              "</pre></td></tr>\n",
              "<tr><td><div class=\"certo\"/></td><td style=\"text-align:left;\"><b><mark style=\"background-color:#ffff40;padding-left:0px;padding-right:0px\">789</mark></b>&nbsp;789&nbsp;789\n",
              "</pre></td></tr>\n",
              "<tr><td><div class=\"certo\"/></td><td style=\"text-align:left;\"><b><mark style=\"background-color:#ffff40;padding-left:0px;padding-right:0px\">010</mark></b>1&nbsp;binário\n",
              "</pre></td></tr>\n",
              "<tr><td><div class=\"certo\"/></td><td style=\"text-align:left;\"><b><mark style=\"background-color:#ffff40;padding-left:0px;padding-right:0px\">000</mark></b>x&nbsp;termina&nbsp;em&nbsp;x\n",
              "</pre></td></tr>\n",
              "<tr><td><div class=\"certo\"/></td><td style=\"text-align:left;\">ano&nbsp;de&nbsp;<b><mark style=\"background-color:#ffff40;padding-left:0px;padding-right:0px\">198</mark></b>4\n",
              "</pre></td></tr>\n",
              "<tr><td><div class=\"certo\"/></td><td style=\"text-align:left;\">data&nbsp;01/01/<b><mark style=\"background-color:#ffff40;padding-left:0px;padding-right:0px\">201</mark></b>8\n",
              "</pre></td></tr><tr><td><div class=\"certo\"/></td><td style=\"text-align:left;\"><div style=\"color:#808080\">zero&nbsp;0\n",
              "&#9;(sem ocorrências)</div></td></tr>\n",
              "<tr><td><div class=\"certo\"/></td><td style=\"text-align:left;\"><div style=\"color:#808080\">dígito&nbsp;1\n",
              "&#9;(sem ocorrências)</div></td></tr>\n",
              "<tr><td><div class=\"certo\"/></td><td style=\"text-align:left;\"><div style=\"color:#808080\">vinte&nbsp;20\n",
              "&#9;(sem ocorrências)</div></td></tr>\n",
              "<tr><td><div class=\"certo\"/></td><td style=\"text-align:left;\"><div style=\"color:#808080\">inicia&nbsp;com&nbsp;zero&nbsp;03\n",
              "&#9;(sem ocorrências)</div></td></tr>\n",
              "<tr><td><div class=\"certo\"/></td><td style=\"text-align:left;\"><div style=\"color:#808080\">03&nbsp;também&nbsp;tem&nbsp;zero\n",
              "&#9;(sem ocorrências)</div></td></tr>\n",
              "<tr><td><div class=\"certo\"/></td><td style=\"text-align:left;\"><div style=\"color:#808080\">sem&nbsp;dígitos\n",
              "&#9;(sem ocorrências)</div></td></tr></table>"
            ],
            "text/plain": [
              "<IPython.core.display.HTML object>"
            ]
          },
          "metadata": {
            "tags": []
          }
        }
      ]
    },
    {
      "cell_type": "markdown",
      "metadata": {
        "azdata_cell_guid": "ba65471c-37ad-47ce-9a9e-9a450484c255",
        "id": "HDHt7Rj2tNo9"
      },
      "source": [
        "--> Um número inteiro com 2, 3 ou 4 dígitos, sendo que o primeiro dígito não pode ser zero"
      ]
    },
    {
      "cell_type": "code",
      "metadata": {
        "azdata_cell_guid": "eba2a1e4-d3c0-426f-829b-63083efa1f30",
        "id": "i6If-wq-tNo-",
        "colab": {
          "base_uri": "https://localhost:8080/",
          "height": 335
        },
        "outputId": "c86de029-80a6-46fd-8ed0-1c782f55a8fe"
      },
      "source": [
        "exercicio(5, r'\\b([1-9]\\d{1,3})\\b')"
      ],
      "execution_count": null,
      "outputs": [
        {
          "output_type": "display_data",
          "data": {
            "text/html": [
              "<style>.certo {background-image: url('data:image/png;base64,iVBORw0KGgoAAAANSUhEUgAAABAAAAAQCAYAAAAf8/9hAAAABHNCSVQICAgIfAhkiAAAAAlwSFlzAAALEwAACxMBAJqcGAAAAgBJREFUOI2lkz1oU1EUx3/nvpcmNqWlNIoKFkFsXKrSOCkoDi6iVOwgCEWLiyBaTKuLdhP8ACkoig5iqoM4SDGDq2uLxUHFptWhHQTF1gzlNc27ufc6tHk0NMTBs917zu9/vu6F/zSpd7lvcnC/VeqUCF1Y61Aya8WOf8k8+NRQIDOVTYXGjImnjtdN51y+omXg68HRPxsEMlPZlHaVj4i3o1HJ1rk5iSd6Pu+9UwRQVceK1m/+BQMokZ2USq+jM0DPxFDGi/mHG4EnWjM0q/hq2Z461v3hanckEOrycCN4oP0o2S0nub31LLLWtQv1UCTglPRUg5MqHmWqwv0dR6hYw6v59zhc1XUAwAcQZxMALSrBvW39WGe5/vMlZ9oORfBIYYwJNYesjc06NkUCzthFoDNuPFpJsL25g1znJVJ+Wy3sRzNHtF2IWjAr5h3AIgGXC0/4UVog5behbYWb0zkmvFoYwJZ0PhIgKI1WgrJBoNiiuVJ4ynzwi5HpF0z684hXC+ulsl4uh49g3UNK5y/caNqcvCUxDxy4pTIkYxtgFxrC38HwTO+z+zUCOKQrf/5xrD150WtuqrtOE4SY4vLDQu/zQWR1HRs+U3r8XJ943l2VbNolvkIQrDboQH8TY67Nns69XR9f9zfikD3j/budeGlx4sS6mem+3Pdq1vX2FyOryD82RGIbAAAAAElFTkSuQmCC'); background-size: cover; height: 16px; width: 16px}.errado {background-image: url('data:image/png;base64,iVBORw0KGgoAAAANSUhEUgAAABAAAAAQCAYAAAAf8/9hAAAABHNCSVQICAgIfAhkiAAAAAlwSFlzAAALEwAACxMBAJqcGAAAAjNJREFUOI2lk01IVFEYhp9zznUcnUnH/Bk3WhCVFEFZbiwUAxeZlCJFWERBgZsIqRatWhuRi0BtFS1bSGQYlBLISD8EgbWwv0VFxlijThOpd+6ce1o49zrh4KZ3+XHe53u/j+/Af0rkK35ra9ythOgwmG0gDYIPUnC/+uHkm3UBM+3NFZC5KxFt+cCuNiNa67O1T17MrwHMtDdX4DqvpZQ160XOGPPZRdRvGp1cAJA+PeMMe2ZRXrl21mzNEmKzMPqeV5cAXw4f2GtZsgmAso2o60PIjhOr5s5uVN8glEQAKJCq9evRpl0AFkDGsS8HAoUrEecSzN8ZJNrTC1JiDFhdJ4kP3CCSXEDJlamdJfsScMYCcJH1XjdLSkITj/mhLKrOXwBg9nY/G2LjKKVWUxn2+QkMBHPnLVQKK1QMxgAQKQ4hc8wArqTIB2jXnQNqffqR4wSPnSY+1A9AdU8vGcvCjA77gLR2Ez5gydGPIkH2ALilEaxDncQHbxKOjQEQBypPnUPHxpGpXwD8yaRHIHsHYw115TWl4dnSYFC5xvBTKMq0QyAb29aapApQZTRCQMpOO9/TdlXLxFRSArS+ejeXWLSv2VojhSCK65u9nURZMS9rTWJx+WrLxFTST5BdpIjt3zEQDYV7SgIB8imVTpP4vXSr8fnbiwLMPwBPTxt3dhUp1RcuKNjipUhrTWrZ/mijrxx8Nv0g933e32hAxBrqtrpKbTcCI1z3ffPL6U9e11z9Bai+yG1sATfvAAAAAElFTkSuQmCC'); background-size: cover; height: 16px; width: 16px}</style><table><tr><td><div class=\"certo\"/></td><td style=\"text-align:left;\">vinte&nbsp;<b><mark style=\"background-color:#ffff40;padding-left:0px;padding-right:0px\">20</mark></b>\n",
              "</pre></td></tr>\n",
              "<tr><td><div class=\"certo\"/></td><td style=\"text-align:left;\"><b><mark style=\"background-color:#ffff40;padding-left:0px;padding-right:0px\">100</mark></b>&nbsp;cem\n",
              "</pre></td></tr>\n",
              "<tr><td><div class=\"certo\"/></td><td style=\"text-align:left;\"><b><mark style=\"background-color:#ffff40;padding-left:0px;padding-right:0px\">789</mark></b>&nbsp;789&nbsp;789\n",
              "</pre></td></tr>\n",
              "<tr><td><div class=\"certo\"/></td><td style=\"text-align:left;\">ano&nbsp;de&nbsp;<b><mark style=\"background-color:#ffff40;padding-left:0px;padding-right:0px\">1984</mark></b>\n",
              "</pre></td></tr>\n",
              "<tr><td><div class=\"certo\"/></td><td style=\"text-align:left;\">data&nbsp;01/01/<b><mark style=\"background-color:#ffff40;padding-left:0px;padding-right:0px\">2018</mark></b>\n",
              "</pre></td></tr><tr><td><div class=\"certo\"/></td><td style=\"text-align:left;\"><div style=\"color:#808080\">zero&nbsp;0\n",
              "&#9;(sem ocorrências)</div></td></tr>\n",
              "<tr><td><div class=\"certo\"/></td><td style=\"text-align:left;\"><div style=\"color:#808080\">dígito&nbsp;1\n",
              "&#9;(sem ocorrências)</div></td></tr>\n",
              "<tr><td><div class=\"certo\"/></td><td style=\"text-align:left;\"><div style=\"color:#808080\">inicia&nbsp;com&nbsp;zero&nbsp;03\n",
              "&#9;(sem ocorrências)</div></td></tr>\n",
              "<tr><td><div class=\"certo\"/></td><td style=\"text-align:left;\"><div style=\"color:#808080\">03&nbsp;também&nbsp;tem&nbsp;zero\n",
              "&#9;(sem ocorrências)</div></td></tr>\n",
              "<tr><td><div class=\"certo\"/></td><td style=\"text-align:left;\"><div style=\"color:#808080\">040&nbsp;inicia&nbsp;com&nbsp;zero\n",
              "&#9;(sem ocorrências)</div></td></tr>\n",
              "<tr><td><div class=\"certo\"/></td><td style=\"text-align:left;\"><div style=\"color:#808080\">056&nbsp;de&nbsp;novo\n",
              "&#9;(sem ocorrências)</div></td></tr>\n",
              "<tr><td><div class=\"certo\"/></td><td style=\"text-align:left;\"><div style=\"color:#808080\">0101&nbsp;binário\n",
              "&#9;(sem ocorrências)</div></td></tr>\n",
              "<tr><td><div class=\"certo\"/></td><td style=\"text-align:left;\"><div style=\"color:#808080\">000x&nbsp;termina&nbsp;em&nbsp;x\n",
              "&#9;(sem ocorrências)</div></td></tr>\n",
              "<tr><td><div class=\"certo\"/></td><td style=\"text-align:left;\"><div style=\"color:#808080\">isso&nbsp;não&nbsp;é&nbsp;um&nbsp;número&nbsp;válido&nbsp;1000abc\n",
              "&#9;(sem ocorrências)</div></td></tr>\n",
              "<tr><td><div class=\"certo\"/></td><td style=\"text-align:left;\"><div style=\"color:#808080\">y1000&nbsp;isso&nbsp;também&nbsp;não&nbsp;é&nbsp;um&nbsp;número&nbsp;válido\n",
              "&#9;(sem ocorrências)</div></td></tr></table>"
            ],
            "text/plain": [
              "<IPython.core.display.HTML object>"
            ]
          },
          "metadata": {
            "tags": []
          }
        }
      ]
    },
    {
      "cell_type": "markdown",
      "metadata": {
        "azdata_cell_guid": "488b7d49-fd37-4e2a-a8f9-c6284e9699fa",
        "id": "s2a1M17etNo-"
      },
      "source": [
        "--> Uma palavra que inicie com um dígito e termine com um letra"
      ]
    },
    {
      "cell_type": "code",
      "metadata": {
        "azdata_cell_guid": "d1ca60b6-8917-40ad-8119-6136f01385fb",
        "id": "zckPX48qtNo_",
        "colab": {
          "base_uri": "https://localhost:8080/",
          "height": 251
        },
        "outputId": "96645dae-ecdc-4878-d23b-8bbc79496040"
      },
      "source": [
        "#exercicio(6, r'\\b(\\d\\w*[a-zA-Z])\\b') # '1a' e '3a' são palavras que iniciam com um dígito e terminam com um letra.\n",
        "exercicio(6, r'\\b(\\d\\w+[a-zA-Z])\\b')"
      ],
      "execution_count": null,
      "outputs": [
        {
          "output_type": "display_data",
          "data": {
            "text/html": [
              "<style>.certo {background-image: url('data:image/png;base64,iVBORw0KGgoAAAANSUhEUgAAABAAAAAQCAYAAAAf8/9hAAAABHNCSVQICAgIfAhkiAAAAAlwSFlzAAALEwAACxMBAJqcGAAAAgBJREFUOI2lkz1oU1EUx3/nvpcmNqWlNIoKFkFsXKrSOCkoDi6iVOwgCEWLiyBaTKuLdhP8ACkoig5iqoM4SDGDq2uLxUHFptWhHQTF1gzlNc27ufc6tHk0NMTBs917zu9/vu6F/zSpd7lvcnC/VeqUCF1Y61Aya8WOf8k8+NRQIDOVTYXGjImnjtdN51y+omXg68HRPxsEMlPZlHaVj4i3o1HJ1rk5iSd6Pu+9UwRQVceK1m/+BQMokZ2USq+jM0DPxFDGi/mHG4EnWjM0q/hq2Z461v3hanckEOrycCN4oP0o2S0nub31LLLWtQv1UCTglPRUg5MqHmWqwv0dR6hYw6v59zhc1XUAwAcQZxMALSrBvW39WGe5/vMlZ9oORfBIYYwJNYesjc06NkUCzthFoDNuPFpJsL25g1znJVJ+Wy3sRzNHtF2IWjAr5h3AIgGXC0/4UVog5behbYWb0zkmvFoYwJZ0PhIgKI1WgrJBoNiiuVJ4ynzwi5HpF0z684hXC+ulsl4uh49g3UNK5y/caNqcvCUxDxy4pTIkYxtgFxrC38HwTO+z+zUCOKQrf/5xrD150WtuqrtOE4SY4vLDQu/zQWR1HRs+U3r8XJ943l2VbNolvkIQrDboQH8TY67Nns69XR9f9zfikD3j/budeGlx4sS6mem+3Pdq1vX2FyOryD82RGIbAAAAAElFTkSuQmCC'); background-size: cover; height: 16px; width: 16px}.errado {background-image: url('data:image/png;base64,iVBORw0KGgoAAAANSUhEUgAAABAAAAAQCAYAAAAf8/9hAAAABHNCSVQICAgIfAhkiAAAAAlwSFlzAAALEwAACxMBAJqcGAAAAjNJREFUOI2lk01IVFEYhp9zznUcnUnH/Bk3WhCVFEFZbiwUAxeZlCJFWERBgZsIqRatWhuRi0BtFS1bSGQYlBLISD8EgbWwv0VFxlijThOpd+6ce1o49zrh4KZ3+XHe53u/j+/Af0rkK35ra9ythOgwmG0gDYIPUnC/+uHkm3UBM+3NFZC5KxFt+cCuNiNa67O1T17MrwHMtDdX4DqvpZQ160XOGPPZRdRvGp1cAJA+PeMMe2ZRXrl21mzNEmKzMPqeV5cAXw4f2GtZsgmAso2o60PIjhOr5s5uVN8glEQAKJCq9evRpl0AFkDGsS8HAoUrEecSzN8ZJNrTC1JiDFhdJ4kP3CCSXEDJlamdJfsScMYCcJH1XjdLSkITj/mhLKrOXwBg9nY/G2LjKKVWUxn2+QkMBHPnLVQKK1QMxgAQKQ4hc8wArqTIB2jXnQNqffqR4wSPnSY+1A9AdU8vGcvCjA77gLR2Ez5gydGPIkH2ALilEaxDncQHbxKOjQEQBypPnUPHxpGpXwD8yaRHIHsHYw115TWl4dnSYFC5xvBTKMq0QyAb29aapApQZTRCQMpOO9/TdlXLxFRSArS+ejeXWLSv2VojhSCK65u9nURZMS9rTWJx+WrLxFTST5BdpIjt3zEQDYV7SgIB8imVTpP4vXSr8fnbiwLMPwBPTxt3dhUp1RcuKNjipUhrTWrZ/mijrxx8Nv0g933e32hAxBrqtrpKbTcCI1z3ffPL6U9e11z9Bai+yG1sATfvAAAAAElFTkSuQmCC'); background-size: cover; height: 16px; width: 16px}</style><table><tr><td><div class=\"certo\"/></td><td style=\"text-align:left;\">parágrafo&nbsp;<b><mark style=\"background-color:#ffff40;padding-left:0px;padding-right:0px\">11b</mark></b>\n",
              "</pre></td></tr>\n",
              "<tr><td><div class=\"certo\"/></td><td style=\"text-align:left;\"><b><mark style=\"background-color:#ffff40;padding-left:0px;padding-right:0px\">1111111b</mark></b>\n",
              "</pre></td></tr>\n",
              "<tr><td><div class=\"certo\"/></td><td style=\"text-align:left;\"><b><mark style=\"background-color:#ffff40;padding-left:0px;padding-right:0px\">1bbbbbbb</mark></b>\n",
              "</pre></td></tr>\n",
              "<tr><td><div class=\"certo\"/></td><td style=\"text-align:left;\"><b><mark style=\"background-color:#ffff40;padding-left:0px;padding-right:0px\">1b1b1b1b</mark></b>\n",
              "</pre></td></tr><tr><td><div class=\"certo\"/></td><td style=\"text-align:left;\"><div style=\"color:#808080\">teste&nbsp;1a\n",
              "&#9;(sem ocorrências)</div></td></tr>\n",
              "<tr><td><div class=\"certo\"/></td><td style=\"text-align:left;\"><div style=\"color:#808080\">dígitos&nbsp;113&nbsp;total\n",
              "&#9;(sem ocorrências)</div></td></tr>\n",
              "<tr><td><div class=\"certo\"/></td><td style=\"text-align:left;\"><div style=\"color:#808080\">soma&nbsp;quando&nbsp;3a\n",
              "&#9;(sem ocorrências)</div></td></tr>\n",
              "<tr><td><div class=\"certo\"/></td><td style=\"text-align:left;\"><div style=\"color:#808080\">bb1bbbbb11b\n",
              "&#9;(sem ocorrências)</div></td></tr>\n",
              "<tr><td><div class=\"certo\"/></td><td style=\"text-align:left;\"><div style=\"color:#808080\">b1b1b1b1\n",
              "&#9;(sem ocorrências)</div></td></tr>\n",
              "<tr><td><div class=\"certo\"/></td><td style=\"text-align:left;\"><div style=\"color:#808080\">111\n",
              "&#9;(sem ocorrências)</div></td></tr>\n",
              "<tr><td><div class=\"certo\"/></td><td style=\"text-align:left;\"><div style=\"color:#808080\">1a1\n",
              "&#9;(sem ocorrências)</div></td></tr></table>"
            ],
            "text/plain": [
              "<IPython.core.display.HTML object>"
            ]
          },
          "metadata": {
            "tags": []
          }
        }
      ]
    },
    {
      "cell_type": "markdown",
      "metadata": {
        "azdata_cell_guid": "d17783a3-2e7a-46cc-a0e3-5f270dc357ac",
        "id": "RsPzCKYstNo_"
      },
      "source": [
        "--> Uma palavra seguida de um espaço seguido de um sequência de um ou mais dígitos"
      ]
    },
    {
      "cell_type": "code",
      "metadata": {
        "azdata_cell_guid": "6c0119f2-2859-481c-b9ab-90f99c4239f0",
        "id": "VvDPJofttNo_",
        "colab": {
          "base_uri": "https://localhost:8080/",
          "height": 166
        },
        "outputId": "de4bfb88-b7ba-42ac-fb5b-911bc468623a"
      },
      "source": [
        "exercicio(7, r'\\w+ \\d+')"
      ],
      "execution_count": null,
      "outputs": [
        {
          "output_type": "display_data",
          "data": {
            "text/html": [
              "<style>.certo {background-image: url('data:image/png;base64,iVBORw0KGgoAAAANSUhEUgAAABAAAAAQCAYAAAAf8/9hAAAABHNCSVQICAgIfAhkiAAAAAlwSFlzAAALEwAACxMBAJqcGAAAAgBJREFUOI2lkz1oU1EUx3/nvpcmNqWlNIoKFkFsXKrSOCkoDi6iVOwgCEWLiyBaTKuLdhP8ACkoig5iqoM4SDGDq2uLxUHFptWhHQTF1gzlNc27ufc6tHk0NMTBs917zu9/vu6F/zSpd7lvcnC/VeqUCF1Y61Aya8WOf8k8+NRQIDOVTYXGjImnjtdN51y+omXg68HRPxsEMlPZlHaVj4i3o1HJ1rk5iSd6Pu+9UwRQVceK1m/+BQMokZ2USq+jM0DPxFDGi/mHG4EnWjM0q/hq2Z461v3hanckEOrycCN4oP0o2S0nub31LLLWtQv1UCTglPRUg5MqHmWqwv0dR6hYw6v59zhc1XUAwAcQZxMALSrBvW39WGe5/vMlZ9oORfBIYYwJNYesjc06NkUCzthFoDNuPFpJsL25g1znJVJ+Wy3sRzNHtF2IWjAr5h3AIgGXC0/4UVog5behbYWb0zkmvFoYwJZ0PhIgKI1WgrJBoNiiuVJ4ynzwi5HpF0z684hXC+ulsl4uh49g3UNK5y/caNqcvCUxDxy4pTIkYxtgFxrC38HwTO+z+zUCOKQrf/5xrD150WtuqrtOE4SY4vLDQu/zQWR1HRs+U3r8XJ943l2VbNolvkIQrDboQH8TY67Nns69XR9f9zfikD3j/budeGlx4sS6mem+3Pdq1vX2FyOryD82RGIbAAAAAElFTkSuQmCC'); background-size: cover; height: 16px; width: 16px}.errado {background-image: url('data:image/png;base64,iVBORw0KGgoAAAANSUhEUgAAABAAAAAQCAYAAAAf8/9hAAAABHNCSVQICAgIfAhkiAAAAAlwSFlzAAALEwAACxMBAJqcGAAAAjNJREFUOI2lk01IVFEYhp9zznUcnUnH/Bk3WhCVFEFZbiwUAxeZlCJFWERBgZsIqRatWhuRi0BtFS1bSGQYlBLISD8EgbWwv0VFxlijThOpd+6ce1o49zrh4KZ3+XHe53u/j+/Af0rkK35ra9ythOgwmG0gDYIPUnC/+uHkm3UBM+3NFZC5KxFt+cCuNiNa67O1T17MrwHMtDdX4DqvpZQ160XOGPPZRdRvGp1cAJA+PeMMe2ZRXrl21mzNEmKzMPqeV5cAXw4f2GtZsgmAso2o60PIjhOr5s5uVN8glEQAKJCq9evRpl0AFkDGsS8HAoUrEecSzN8ZJNrTC1JiDFhdJ4kP3CCSXEDJlamdJfsScMYCcJH1XjdLSkITj/mhLKrOXwBg9nY/G2LjKKVWUxn2+QkMBHPnLVQKK1QMxgAQKQ4hc8wArqTIB2jXnQNqffqR4wSPnSY+1A9AdU8vGcvCjA77gLR2Ez5gydGPIkH2ALilEaxDncQHbxKOjQEQBypPnUPHxpGpXwD8yaRHIHsHYw115TWl4dnSYFC5xvBTKMq0QyAb29aapApQZTRCQMpOO9/TdlXLxFRSArS+ejeXWLSv2VojhSCK65u9nURZMS9rTWJx+WrLxFTST5BdpIjt3zEQDYV7SgIB8imVTpP4vXSr8fnbiwLMPwBPTxt3dhUp1RcuKNjipUhrTWrZ/mijrxx8Nv0g933e32hAxBrqtrpKbTcCI1z3ffPL6U9e11z9Bai+yG1sATfvAAAAAElFTkSuQmCC'); background-size: cover; height: 16px; width: 16px}</style><table><tr><td><div class=\"certo\"/></td><td style=\"text-align:left;\"><b><mark style=\"background-color:#ffff40;padding-left:0px;padding-right:0px\">teste&nbsp;1234</mark></b>\n",
              "</pre></td></tr>\n",
              "<tr><td><div class=\"certo\"/></td><td style=\"text-align:left;\"><b><mark style=\"background-color:#ffff40;padding-left:0px;padding-right:0px\">parágrafo&nbsp;12345</mark></b>\n",
              "</pre></td></tr>\n",
              "<tr><td><div class=\"certo\"/></td><td style=\"text-align:left;\"><b><mark style=\"background-color:#ffff40;padding-left:0px;padding-right:0px\">letra&nbsp;1</mark></b>\n",
              "</pre></td></tr>\n",
              "<tr><td><div class=\"certo\"/></td><td style=\"text-align:left;\">a&nbsp;<b><mark style=\"background-color:#ffff40;padding-left:0px;padding-right:0px\">b&nbsp;1</mark></b>&nbsp;c\n",
              "</pre></td></tr>\n",
              "<tr><td><div class=\"certo\"/></td><td style=\"text-align:left;\"><b><mark style=\"background-color:#ffff40;padding-left:0px;padding-right:0px\">cc&nbsp;11</mark></b>&nbsp;a\n",
              "</pre></td></tr>\n",
              "<tr><td><div class=\"certo\"/></td><td style=\"text-align:left;\"><b><mark style=\"background-color:#ffff40;padding-left:0px;padding-right:0px\">1&nbsp;1</mark></b>\n",
              "</pre></td></tr><tr><td><div class=\"certo\"/></td><td style=\"text-align:left;\"><div style=\"color:#808080\">dois&nbsp;espaços&nbsp;não&nbsp;pode&nbsp;&nbsp;2\n",
              "&#9;(sem ocorrências)</div></td></tr></table>"
            ],
            "text/plain": [
              "<IPython.core.display.HTML object>"
            ]
          },
          "metadata": {
            "tags": []
          }
        }
      ]
    },
    {
      "cell_type": "markdown",
      "metadata": {
        "azdata_cell_guid": "1140f3bf-4518-4752-8ded-db6a7a09cc99",
        "id": "YOs6DR1EtNo_"
      },
      "source": [
        "--> Um dia da semana: segunda-feira, terça-feira, quarta-feira, quinta-feira, sexta-feira. Adicionalmente, permita a escrita dos dias da semana com espaço no lugar do hífen ou com as palavras unidas (ex.: quartafeira e quinta feira)."
      ]
    },
    {
      "cell_type": "code",
      "metadata": {
        "azdata_cell_guid": "99b42ff2-b7c2-48ac-b515-cf139c17f73a",
        "id": "MgRoc_iTtNpA",
        "colab": {
          "base_uri": "https://localhost:8080/",
          "height": 314
        },
        "outputId": "0fbc173e-ee73-4f96-ce2d-2ec402218867"
      },
      "source": [
        "#week=['segunda', 'terça', 'quarta', 'quinta', 'sexta', '']\n",
        "#exercicio(8, r'\\b('+'[ -]*feira|'.join(week)[::-1].replace('|','',1)[::-1]+')')\n",
        "\n",
        "week=['segunda', 'terça', 'quarta', 'quinta', 'sexta']\n",
        "exercicio(8, r'\\b('+'|'.join([d+'[ -]*feira' for d in week])+')')"
      ],
      "execution_count": null,
      "outputs": [
        {
          "output_type": "display_data",
          "data": {
            "text/html": [
              "<style>.certo {background-image: url('data:image/png;base64,iVBORw0KGgoAAAANSUhEUgAAABAAAAAQCAYAAAAf8/9hAAAABHNCSVQICAgIfAhkiAAAAAlwSFlzAAALEwAACxMBAJqcGAAAAgBJREFUOI2lkz1oU1EUx3/nvpcmNqWlNIoKFkFsXKrSOCkoDi6iVOwgCEWLiyBaTKuLdhP8ACkoig5iqoM4SDGDq2uLxUHFptWhHQTF1gzlNc27ufc6tHk0NMTBs917zu9/vu6F/zSpd7lvcnC/VeqUCF1Y61Aya8WOf8k8+NRQIDOVTYXGjImnjtdN51y+omXg68HRPxsEMlPZlHaVj4i3o1HJ1rk5iSd6Pu+9UwRQVceK1m/+BQMokZ2USq+jM0DPxFDGi/mHG4EnWjM0q/hq2Z461v3hanckEOrycCN4oP0o2S0nub31LLLWtQv1UCTglPRUg5MqHmWqwv0dR6hYw6v59zhc1XUAwAcQZxMALSrBvW39WGe5/vMlZ9oORfBIYYwJNYesjc06NkUCzthFoDNuPFpJsL25g1znJVJ+Wy3sRzNHtF2IWjAr5h3AIgGXC0/4UVog5behbYWb0zkmvFoYwJZ0PhIgKI1WgrJBoNiiuVJ4ynzwi5HpF0z684hXC+ulsl4uh49g3UNK5y/caNqcvCUxDxy4pTIkYxtgFxrC38HwTO+z+zUCOKQrf/5xrD150WtuqrtOE4SY4vLDQu/zQWR1HRs+U3r8XJ943l2VbNolvkIQrDboQH8TY67Nns69XR9f9zfikD3j/budeGlx4sS6mem+3Pdq1vX2FyOryD82RGIbAAAAAElFTkSuQmCC'); background-size: cover; height: 16px; width: 16px}.errado {background-image: url('data:image/png;base64,iVBORw0KGgoAAAANSUhEUgAAABAAAAAQCAYAAAAf8/9hAAAABHNCSVQICAgIfAhkiAAAAAlwSFlzAAALEwAACxMBAJqcGAAAAjNJREFUOI2lk01IVFEYhp9zznUcnUnH/Bk3WhCVFEFZbiwUAxeZlCJFWERBgZsIqRatWhuRi0BtFS1bSGQYlBLISD8EgbWwv0VFxlijThOpd+6ce1o49zrh4KZ3+XHe53u/j+/Af0rkK35ra9ythOgwmG0gDYIPUnC/+uHkm3UBM+3NFZC5KxFt+cCuNiNa67O1T17MrwHMtDdX4DqvpZQ160XOGPPZRdRvGp1cAJA+PeMMe2ZRXrl21mzNEmKzMPqeV5cAXw4f2GtZsgmAso2o60PIjhOr5s5uVN8glEQAKJCq9evRpl0AFkDGsS8HAoUrEecSzN8ZJNrTC1JiDFhdJ4kP3CCSXEDJlamdJfsScMYCcJH1XjdLSkITj/mhLKrOXwBg9nY/G2LjKKVWUxn2+QkMBHPnLVQKK1QMxgAQKQ4hc8wArqTIB2jXnQNqffqR4wSPnSY+1A9AdU8vGcvCjA77gLR2Ez5gydGPIkH2ALilEaxDncQHbxKOjQEQBypPnUPHxpGpXwD8yaRHIHsHYw115TWl4dnSYFC5xvBTKMq0QyAb29aapApQZTRCQMpOO9/TdlXLxFRSArS+ejeXWLSv2VojhSCK65u9nURZMS9rTWJx+WrLxFTST5BdpIjt3zEQDYV7SgIB8imVTpP4vXSr8fnbiwLMPwBPTxt3dhUp1RcuKNjipUhrTWrZ/mijrxx8Nv0g933e32hAxBrqtrpKbTcCI1z3ffPL6U9e11z9Bai+yG1sATfvAAAAAElFTkSuQmCC'); background-size: cover; height: 16px; width: 16px}</style><table><tr><td><div class=\"certo\"/></td><td style=\"text-align:left;\">hoje&nbsp;é&nbsp;<b><mark style=\"background-color:#ffff40;padding-left:0px;padding-right:0px\">segunda-feira</mark></b>\n",
              "</pre></td></tr>\n",
              "<tr><td><div class=\"certo\"/></td><td style=\"text-align:left;\">amanhã&nbsp;será&nbsp;<b><mark style=\"background-color:#ffff40;padding-left:0px;padding-right:0px\">terça&nbsp;feira</mark></b>\n",
              "</pre></td></tr>\n",
              "<tr><td><div class=\"certo\"/></td><td style=\"text-align:left;\"><b><mark style=\"background-color:#ffff40;padding-left:0px;padding-right:0px\">quartafeira</mark></b>&nbsp;já&nbsp;passou\n",
              "</pre></td></tr>\n",
              "<tr><td><div class=\"certo\"/></td><td style=\"text-align:left;\"><b><mark style=\"background-color:#ffff40;padding-left:0px;padding-right:0px\">quinta-feira</mark></b>&nbsp;foi&nbsp;dia&nbsp;3\n",
              "</pre></td></tr>\n",
              "<tr><td><div class=\"certo\"/></td><td style=\"text-align:left;\"><b><mark style=\"background-color:#ffff40;padding-left:0px;padding-right:0px\">sextafeira</mark></b>&nbsp;\n",
              "</pre></td></tr><tr><td><div class=\"certo\"/></td><td style=\"text-align:left;\"><div style=\"color:#808080\">sábado&nbsp;feriado\n",
              "&#9;(sem ocorrências)</div></td></tr>\n",
              "<tr><td><div class=\"certo\"/></td><td style=\"text-align:left;\"><div style=\"color:#808080\">domingo&nbsp;feriado\n",
              "&#9;(sem ocorrências)</div></td></tr>\n",
              "<tr><td><div class=\"certo\"/></td><td style=\"text-align:left;\"><div style=\"color:#808080\">2a&nbsp;feira&nbsp;internacional\n",
              "&#9;(sem ocorrências)</div></td></tr>\n",
              "<tr><td><div class=\"certo\"/></td><td style=\"text-align:left;\"><div style=\"color:#808080\">sexta_feira\n",
              "&#9;(sem ocorrências)</div></td></tr>\n",
              "<tr><td><div class=\"certo\"/></td><td style=\"text-align:left;\"><div style=\"color:#808080\">quinta.feira\n",
              "&#9;(sem ocorrências)</div></td></tr>\n",
              "<tr><td><div class=\"certo\"/></td><td style=\"text-align:left;\"><div style=\"color:#808080\">domingues\n",
              "&#9;(sem ocorrências)</div></td></tr>\n",
              "<tr><td><div class=\"certo\"/></td><td style=\"text-align:left;\"><div style=\"color:#808080\">asextafeira\n",
              "&#9;(sem ocorrências)</div></td></tr>\n",
              "<tr><td><div class=\"certo\"/></td><td style=\"text-align:left;\"><div style=\"color:#808080\">abterça-feira\n",
              "&#9;(sem ocorrências)</div></td></tr>\n",
              "<tr><td><div class=\"certo\"/></td><td style=\"text-align:left;\"><div style=\"color:#808080\">terças-feiras&nbsp;não&nbsp;vale&nbsp;plural\n",
              "&#9;(sem ocorrências)</div></td></tr></table>"
            ],
            "text/plain": [
              "<IPython.core.display.HTML object>"
            ]
          },
          "metadata": {
            "tags": []
          }
        }
      ]
    },
    {
      "cell_type": "markdown",
      "metadata": {
        "azdata_cell_guid": "52e8e6f2-50de-440e-8723-a963ae97254d",
        "id": "YOPvIVYNtNpA"
      },
      "source": [
        "--> Uma URL no formato: http://www.&lt;dominio&gt;.com.br/&lt;arquivo&gt;.html. O &lt;arquivo&gt; e o &lt;domínio&gt; somente podem contar letras de a a z (minúscula ou maiúsculas), dígitos e os sinais _ e -."
      ]
    },
    {
      "cell_type": "code",
      "metadata": {
        "azdata_cell_guid": "26b3b1d7-61bb-4712-9763-24390b2a1172",
        "id": "q6ZfiQ5otNpA",
        "colab": {
          "base_uri": "https://localhost:8080/",
          "height": 272
        },
        "outputId": "c7081045-e72f-41ff-ddea-915900c48cac"
      },
      "source": [
        "exercicio(9, r'http://www\\.[\\w-]+\\.com\\.br/[\\w-]+\\.html')"
      ],
      "execution_count": null,
      "outputs": [
        {
          "output_type": "display_data",
          "data": {
            "text/html": [
              "<style>.certo {background-image: url('data:image/png;base64,iVBORw0KGgoAAAANSUhEUgAAABAAAAAQCAYAAAAf8/9hAAAABHNCSVQICAgIfAhkiAAAAAlwSFlzAAALEwAACxMBAJqcGAAAAgBJREFUOI2lkz1oU1EUx3/nvpcmNqWlNIoKFkFsXKrSOCkoDi6iVOwgCEWLiyBaTKuLdhP8ACkoig5iqoM4SDGDq2uLxUHFptWhHQTF1gzlNc27ufc6tHk0NMTBs917zu9/vu6F/zSpd7lvcnC/VeqUCF1Y61Aya8WOf8k8+NRQIDOVTYXGjImnjtdN51y+omXg68HRPxsEMlPZlHaVj4i3o1HJ1rk5iSd6Pu+9UwRQVceK1m/+BQMokZ2USq+jM0DPxFDGi/mHG4EnWjM0q/hq2Z461v3hanckEOrycCN4oP0o2S0nub31LLLWtQv1UCTglPRUg5MqHmWqwv0dR6hYw6v59zhc1XUAwAcQZxMALSrBvW39WGe5/vMlZ9oORfBIYYwJNYesjc06NkUCzthFoDNuPFpJsL25g1znJVJ+Wy3sRzNHtF2IWjAr5h3AIgGXC0/4UVog5behbYWb0zkmvFoYwJZ0PhIgKI1WgrJBoNiiuVJ4ynzwi5HpF0z684hXC+ulsl4uh49g3UNK5y/caNqcvCUxDxy4pTIkYxtgFxrC38HwTO+z+zUCOKQrf/5xrD150WtuqrtOE4SY4vLDQu/zQWR1HRs+U3r8XJ943l2VbNolvkIQrDboQH8TY67Nns69XR9f9zfikD3j/budeGlx4sS6mem+3Pdq1vX2FyOryD82RGIbAAAAAElFTkSuQmCC'); background-size: cover; height: 16px; width: 16px}.errado {background-image: url('data:image/png;base64,iVBORw0KGgoAAAANSUhEUgAAABAAAAAQCAYAAAAf8/9hAAAABHNCSVQICAgIfAhkiAAAAAlwSFlzAAALEwAACxMBAJqcGAAAAjNJREFUOI2lk01IVFEYhp9zznUcnUnH/Bk3WhCVFEFZbiwUAxeZlCJFWERBgZsIqRatWhuRi0BtFS1bSGQYlBLISD8EgbWwv0VFxlijThOpd+6ce1o49zrh4KZ3+XHe53u/j+/Af0rkK35ra9ythOgwmG0gDYIPUnC/+uHkm3UBM+3NFZC5KxFt+cCuNiNa67O1T17MrwHMtDdX4DqvpZQ160XOGPPZRdRvGp1cAJA+PeMMe2ZRXrl21mzNEmKzMPqeV5cAXw4f2GtZsgmAso2o60PIjhOr5s5uVN8glEQAKJCq9evRpl0AFkDGsS8HAoUrEecSzN8ZJNrTC1JiDFhdJ4kP3CCSXEDJlamdJfsScMYCcJH1XjdLSkITj/mhLKrOXwBg9nY/G2LjKKVWUxn2+QkMBHPnLVQKK1QMxgAQKQ4hc8wArqTIB2jXnQNqffqR4wSPnSY+1A9AdU8vGcvCjA77gLR2Ez5gydGPIkH2ALilEaxDncQHbxKOjQEQBypPnUPHxpGpXwD8yaRHIHsHYw115TWl4dnSYFC5xvBTKMq0QyAb29aapApQZTRCQMpOO9/TdlXLxFRSArS+ejeXWLSv2VojhSCK65u9nURZMS9rTWJx+WrLxFTST5BdpIjt3zEQDYV7SgIB8imVTpP4vXSr8fnbiwLMPwBPTxt3dhUp1RcuKNjipUhrTWrZ/mijrxx8Nv0g933e32hAxBrqtrpKbTcCI1z3ffPL6U9e11z9Bai+yG1sATfvAAAAAElFTkSuQmCC'); background-size: cover; height: 16px; width: 16px}</style><table><tr><td><div class=\"certo\"/></td><td style=\"text-align:left;\"><b><mark style=\"background-color:#ffff40;padding-left:0px;padding-right:0px\">http://www.google.com.br/index.html</mark></b>\n",
              "</pre></td></tr>\n",
              "<tr><td><div class=\"certo\"/></td><td style=\"text-align:left;\"><b><mark style=\"background-color:#ffff40;padding-left:0px;padding-right:0px\">http://www.terra.com.br/underline_1.html</mark></b>\n",
              "</pre></td></tr>\n",
              "<tr><td><div class=\"certo\"/></td><td style=\"text-align:left;\"><b><mark style=\"background-color:#ffff40;padding-left:0px;padding-right:0px\">http://www.teste-novo.com.br/hiFen-1.html</mark></b>\n",
              "</pre></td></tr><tr><td><div class=\"certo\"/></td><td style=\"text-align:left;\"><div style=\"color:#808080\">http://www.google.com/index.html\n",
              "&#9;(sem ocorrências)</div></td></tr>\n",
              "<tr><td><div class=\"certo\"/></td><td style=\"text-align:left;\"><div style=\"color:#808080\">http://uol.com.br/teste.html\n",
              "&#9;(sem ocorrências)</div></td></tr>\n",
              "<tr><td><div class=\"certo\"/></td><td style=\"text-align:left;\"><div style=\"color:#808080\">http://bol.com.br/nao/podem/existir/barras.html\n",
              "&#9;(sem ocorrências)</div></td></tr>\n",
              "<tr><td><div class=\"certo\"/></td><td style=\"text-align:left;\"><div style=\"color:#808080\">https://www.google.com/https/também/nao/pode.html\n",
              "&#9;(sem ocorrências)</div></td></tr>\n",
              "<tr><td><div class=\"certo\"/></td><td style=\"text-align:left;\"><div style=\"color:#808080\">http://www.teste_velha.com.br/111-html\n",
              "&#9;(sem ocorrências)</div></td></tr>\n",
              "<tr><td><div class=\"certo\"/></td><td style=\"text-align:left;\"><div style=\"color:#808080\">http://www-testevelho.com-br/111.html\n",
              "&#9;(sem ocorrências)</div></td></tr>\n",
              "<tr><td><div class=\"certo\"/></td><td style=\"text-align:left;\"><div style=\"color:#808080\">http://www..com-br/1.html\n",
              "&#9;(sem ocorrências)</div></td></tr>\n",
              "<tr><td><div class=\"certo\"/></td><td style=\"text-align:left;\"><div style=\"color:#808080\">http://www.com-br/2.html\n",
              "&#9;(sem ocorrências)</div></td></tr>\n",
              "<tr><td><div class=\"certo\"/></td><td style=\"text-align:left;\"><div style=\"color:#808080\">http://www...com-br/3.html\n",
              "&#9;(sem ocorrências)</div></td></tr></table>"
            ],
            "text/plain": [
              "<IPython.core.display.HTML object>"
            ]
          },
          "metadata": {
            "tags": []
          }
        }
      ]
    },
    {
      "cell_type": "markdown",
      "metadata": {
        "azdata_cell_guid": "939b1c09-e93c-4fc3-815a-1c18329f6b16",
        "id": "uDR9pqR5tNpB"
      },
      "source": [
        "--> Duas palavras unidas pelas preposições 'de', 'do', 'da', 'dos' ou 'das'. As palavras somente podem conter letras e elas são separadas por um ou mais espaços."
      ]
    },
    {
      "cell_type": "code",
      "metadata": {
        "colab": {
          "base_uri": "https://localhost:8080/"
        },
        "id": "78OlI1Gefqgl",
        "outputId": "931cd93f-cadf-4141-d09e-357bfc488986"
      },
      "source": [
        "re.findall('d[aeo]', 'dae')\n",
        "re.findall('d[aeo]\\s', 'deo ')\n",
        "re.findall('d[aeo]\\s', 'de ')"
      ],
      "execution_count": null,
      "outputs": [
        {
          "output_type": "execute_result",
          "data": {
            "text/plain": [
              "['de ']"
            ]
          },
          "metadata": {
            "tags": []
          },
          "execution_count": 7
        }
      ]
    },
    {
      "cell_type": "code",
      "metadata": {
        "azdata_cell_guid": "f7bf3a82-385d-400b-8b21-a937262dd9a1",
        "id": "qVIN3c3WtNpB",
        "colab": {
          "base_uri": "https://localhost:8080/",
          "height": 314
        },
        "outputId": "011a36a2-9c9b-4f22-bd18-f44edebd8b58"
      },
      "source": [
        "#exercicio(10, r'[^\\W]+\\s+(de|do|da|dos|das)\\s+[^\\W]+')\n",
        "#exercicio(10, r'\\b([\\w]+[\\s]+d[aeo]s?[\\s]+[\\w]+)\\b')  #pega o 'des' tbm...\n",
        "#exercicio(10, r'\\b([\\w]+[\\s]+(d(a|e|o)|d(a|o)s)[\\s]+[\\w]+)\\b')\n",
        "exercicio(10, r'\\b(\\w+\\s+(de|d[ao]s?)\\s+\\w+)\\b')"
      ],
      "execution_count": null,
      "outputs": [
        {
          "output_type": "display_data",
          "data": {
            "text/html": [
              "<style>.certo {background-image: url('data:image/png;base64,iVBORw0KGgoAAAANSUhEUgAAABAAAAAQCAYAAAAf8/9hAAAABHNCSVQICAgIfAhkiAAAAAlwSFlzAAALEwAACxMBAJqcGAAAAgBJREFUOI2lkz1oU1EUx3/nvpcmNqWlNIoKFkFsXKrSOCkoDi6iVOwgCEWLiyBaTKuLdhP8ACkoig5iqoM4SDGDq2uLxUHFptWhHQTF1gzlNc27ufc6tHk0NMTBs917zu9/vu6F/zSpd7lvcnC/VeqUCF1Y61Aya8WOf8k8+NRQIDOVTYXGjImnjtdN51y+omXg68HRPxsEMlPZlHaVj4i3o1HJ1rk5iSd6Pu+9UwRQVceK1m/+BQMokZ2USq+jM0DPxFDGi/mHG4EnWjM0q/hq2Z461v3hanckEOrycCN4oP0o2S0nub31LLLWtQv1UCTglPRUg5MqHmWqwv0dR6hYw6v59zhc1XUAwAcQZxMALSrBvW39WGe5/vMlZ9oORfBIYYwJNYesjc06NkUCzthFoDNuPFpJsL25g1znJVJ+Wy3sRzNHtF2IWjAr5h3AIgGXC0/4UVog5behbYWb0zkmvFoYwJZ0PhIgKI1WgrJBoNiiuVJ4ynzwi5HpF0z684hXC+ulsl4uh49g3UNK5y/caNqcvCUxDxy4pTIkYxtgFxrC38HwTO+z+zUCOKQrf/5xrD150WtuqrtOE4SY4vLDQu/zQWR1HRs+U3r8XJ943l2VbNolvkIQrDboQH8TY67Nns69XR9f9zfikD3j/budeGlx4sS6mem+3Pdq1vX2FyOryD82RGIbAAAAAElFTkSuQmCC'); background-size: cover; height: 16px; width: 16px}.errado {background-image: url('data:image/png;base64,iVBORw0KGgoAAAANSUhEUgAAABAAAAAQCAYAAAAf8/9hAAAABHNCSVQICAgIfAhkiAAAAAlwSFlzAAALEwAACxMBAJqcGAAAAjNJREFUOI2lk01IVFEYhp9zznUcnUnH/Bk3WhCVFEFZbiwUAxeZlCJFWERBgZsIqRatWhuRi0BtFS1bSGQYlBLISD8EgbWwv0VFxlijThOpd+6ce1o49zrh4KZ3+XHe53u/j+/Af0rkK35ra9ythOgwmG0gDYIPUnC/+uHkm3UBM+3NFZC5KxFt+cCuNiNa67O1T17MrwHMtDdX4DqvpZQ160XOGPPZRdRvGp1cAJA+PeMMe2ZRXrl21mzNEmKzMPqeV5cAXw4f2GtZsgmAso2o60PIjhOr5s5uVN8glEQAKJCq9evRpl0AFkDGsS8HAoUrEecSzN8ZJNrTC1JiDFhdJ4kP3CCSXEDJlamdJfsScMYCcJH1XjdLSkITj/mhLKrOXwBg9nY/G2LjKKVWUxn2+QkMBHPnLVQKK1QMxgAQKQ4hc8wArqTIB2jXnQNqffqR4wSPnSY+1A9AdU8vGcvCjA77gLR2Ez5gydGPIkH2ALilEaxDncQHbxKOjQEQBypPnUPHxpGpXwD8yaRHIHsHYw115TWl4dnSYFC5xvBTKMq0QyAb29aapApQZTRCQMpOO9/TdlXLxFRSArS+ejeXWLSv2VojhSCK65u9nURZMS9rTWJx+WrLxFTST5BdpIjt3zEQDYV7SgIB8imVTpP4vXSr8fnbiwLMPwBPTxt3dhUp1RcuKNjipUhrTWrZ/mijrxx8Nv0g933e32hAxBrqtrpKbTcCI1z3ffPL6U9e11z9Bai+yG1sATfvAAAAAElFTkSuQmCC'); background-size: cover; height: 16px; width: 16px}</style><table><tr><td><div class=\"certo\"/></td><td style=\"text-align:left;\"><b><mark style=\"background-color:#ffff40;padding-left:0px;padding-right:0px\">Olhos&nbsp;do&nbsp;mundo</mark></b>,&nbsp;\n",
              "</pre></td></tr>\n",
              "<tr><td><div class=\"certo\"/></td><td style=\"text-align:left;\"><b><mark style=\"background-color:#ffff40;padding-left:0px;padding-right:0px\">zelos&nbsp;do&nbsp;marido</mark></b>,&nbsp;\n",
              "</pre></td></tr>\n",
              "<tr><td><div class=\"certo\"/></td><td style=\"text-align:left;\"><b><mark style=\"background-color:#ffff40;padding-left:0px;padding-right:0px\">morte&nbsp;do&nbsp;Viegas</mark></b>,&nbsp;\n",
              "</pre></td></tr>\n",
              "<tr><td><div class=\"certo\"/></td><td style=\"text-align:left;\">uma&nbsp;<b><mark style=\"background-color:#ffff40;padding-left:0px;padding-right:0px\">vertigem&nbsp;de&nbsp;cabriolas</mark></b>\n",
              "</pre></td></tr>\n",
              "<tr><td><div class=\"certo\"/></td><td style=\"text-align:left;\">&nbsp;<b><mark style=\"background-color:#ffff40;padding-left:0px;padding-right:0px\">descendente&nbsp;do&nbsp;cavalo</mark></b>&nbsp;de&nbsp;Aquiles\n",
              "</pre></td></tr>\n",
              "<tr><td><div class=\"certo\"/></td><td style=\"text-align:left;\">a&nbsp;minha&nbsp;<b><mark style=\"background-color:#ffff40;padding-left:0px;padding-right:0px\">teoria&nbsp;das&nbsp;edições</mark></b>&nbsp;humanas\n",
              "</pre></td></tr>\n",
              "<tr><td><div class=\"certo\"/></td><td style=\"text-align:left;\">me&nbsp;pareceu&nbsp;entrar&nbsp;na&nbsp;<b><mark style=\"background-color:#ffff40;padding-left:0px;padding-right:0px\">região&nbsp;dos&nbsp;gelos</mark></b>&nbsp;eternos\n",
              "</pre></td></tr><tr><td><div class=\"certo\"/></td><td style=\"text-align:left;\"><div style=\"color:#808080\">Esta&nbsp;idéia,&nbsp;\n",
              "&#9;(sem ocorrências)</div></td></tr>\n",
              "<tr><td><div class=\"certo\"/></td><td style=\"text-align:left;\"><div style=\"color:#808080\">rútila&nbsp;e&nbsp;grande,&nbsp;\n",
              "&#9;(sem ocorrências)</div></td></tr>\n",
              "<tr><td><div class=\"certo\"/></td><td style=\"text-align:left;\"><div style=\"color:#808080\">trajada&nbsp;ao&nbsp;bizarro,&nbsp;\n",
              "&#9;(sem ocorrências)</div></td></tr>\n",
              "<tr><td><div class=\"certo\"/></td><td style=\"text-align:left;\"><div style=\"color:#808080\">como&nbsp;diria&nbsp;o&nbsp;Padre&nbsp;Bernardes,\n",
              "&#9;(sem ocorrências)</div></td></tr>\n",
              "<tr><td><div class=\"certo\"/></td><td style=\"text-align:left;\"><div style=\"color:#808080\">e&nbsp;eu&nbsp;deixei-me&nbsp;estar\n",
              "&#9;(sem ocorrências)</div></td></tr>\n",
              "<tr><td><div class=\"certo\"/></td><td style=\"text-align:left;\"><div style=\"color:#808080\">com&nbsp;os&nbsp;olhos&nbsp;nela,\n",
              "&#9;(sem ocorrências)</div></td></tr>\n",
              "<tr><td><div class=\"certo\"/></td><td style=\"text-align:left;\"><div style=\"color:#808080\">a&nbsp;achar-lhe&nbsp;graça.\n",
              "&#9;(sem ocorrências)</div></td></tr></table>"
            ],
            "text/plain": [
              "<IPython.core.display.HTML object>"
            ]
          },
          "metadata": {
            "tags": []
          }
        }
      ]
    },
    {
      "cell_type": "markdown",
      "metadata": {
        "azdata_cell_guid": "9d91b467-9ae3-495f-be18-3eb1c024a061",
        "id": "pwN1ear5tNpB"
      },
      "source": [
        "--> Uma palavra de no mínimo 3 letras e com TODAS as letras maiúsculas"
      ]
    },
    {
      "cell_type": "code",
      "metadata": {
        "azdata_cell_guid": "904d494f-9347-44f1-8dd1-6e278e57d255",
        "id": "dXKo0QHrtNpC",
        "colab": {
          "base_uri": "https://localhost:8080/",
          "height": 377
        },
        "outputId": "a2209ca5-0c74-4009-af48-435b9b9694fd"
      },
      "source": [
        "#exercicio(11, r'\\b([A-ZÁ-Ú]{3,})\\b')\n",
        "exercicio(11, r'\\b([A-ZÁ-ÚÂ-Û]{3,})\\b')"
      ],
      "execution_count": null,
      "outputs": [
        {
          "output_type": "display_data",
          "data": {
            "text/html": [
              "<style>.certo {background-image: url('data:image/png;base64,iVBORw0KGgoAAAANSUhEUgAAABAAAAAQCAYAAAAf8/9hAAAABHNCSVQICAgIfAhkiAAAAAlwSFlzAAALEwAACxMBAJqcGAAAAgBJREFUOI2lkz1oU1EUx3/nvpcmNqWlNIoKFkFsXKrSOCkoDi6iVOwgCEWLiyBaTKuLdhP8ACkoig5iqoM4SDGDq2uLxUHFptWhHQTF1gzlNc27ufc6tHk0NMTBs917zu9/vu6F/zSpd7lvcnC/VeqUCF1Y61Aya8WOf8k8+NRQIDOVTYXGjImnjtdN51y+omXg68HRPxsEMlPZlHaVj4i3o1HJ1rk5iSd6Pu+9UwRQVceK1m/+BQMokZ2USq+jM0DPxFDGi/mHG4EnWjM0q/hq2Z461v3hanckEOrycCN4oP0o2S0nub31LLLWtQv1UCTglPRUg5MqHmWqwv0dR6hYw6v59zhc1XUAwAcQZxMALSrBvW39WGe5/vMlZ9oORfBIYYwJNYesjc06NkUCzthFoDNuPFpJsL25g1znJVJ+Wy3sRzNHtF2IWjAr5h3AIgGXC0/4UVog5behbYWb0zkmvFoYwJZ0PhIgKI1WgrJBoNiiuVJ4ynzwi5HpF0z684hXC+ulsl4uh49g3UNK5y/caNqcvCUxDxy4pTIkYxtgFxrC38HwTO+z+zUCOKQrf/5xrD150WtuqrtOE4SY4vLDQu/zQWR1HRs+U3r8XJ943l2VbNolvkIQrDboQH8TY67Nns69XR9f9zfikD3j/budeGlx4sS6mem+3Pdq1vX2FyOryD82RGIbAAAAAElFTkSuQmCC'); background-size: cover; height: 16px; width: 16px}.errado {background-image: url('data:image/png;base64,iVBORw0KGgoAAAANSUhEUgAAABAAAAAQCAYAAAAf8/9hAAAABHNCSVQICAgIfAhkiAAAAAlwSFlzAAALEwAACxMBAJqcGAAAAjNJREFUOI2lk01IVFEYhp9zznUcnUnH/Bk3WhCVFEFZbiwUAxeZlCJFWERBgZsIqRatWhuRi0BtFS1bSGQYlBLISD8EgbWwv0VFxlijThOpd+6ce1o49zrh4KZ3+XHe53u/j+/Af0rkK35ra9ythOgwmG0gDYIPUnC/+uHkm3UBM+3NFZC5KxFt+cCuNiNa67O1T17MrwHMtDdX4DqvpZQ160XOGPPZRdRvGp1cAJA+PeMMe2ZRXrl21mzNEmKzMPqeV5cAXw4f2GtZsgmAso2o60PIjhOr5s5uVN8glEQAKJCq9evRpl0AFkDGsS8HAoUrEecSzN8ZJNrTC1JiDFhdJ4kP3CCSXEDJlamdJfsScMYCcJH1XjdLSkITj/mhLKrOXwBg9nY/G2LjKKVWUxn2+QkMBHPnLVQKK1QMxgAQKQ4hc8wArqTIB2jXnQNqffqR4wSPnSY+1A9AdU8vGcvCjA77gLR2Ez5gydGPIkH2ALilEaxDncQHbxKOjQEQBypPnUPHxpGpXwD8yaRHIHsHYw115TWl4dnSYFC5xvBTKMq0QyAb29aapApQZTRCQMpOO9/TdlXLxFRSArS+ejeXWLSv2VojhSCK65u9nURZMS9rTWJx+WrLxFTST5BdpIjt3zEQDYV7SgIB8imVTpP4vXSr8fnbiwLMPwBPTxt3dhUp1RcuKNjipUhrTWrZ/mijrxx8Nv0g933e32hAxBrqtrpKbTcCI1z3ffPL6U9e11z9Bai+yG1sATfvAAAAAElFTkSuQmCC'); background-size: cover; height: 16px; width: 16px}</style><table><tr><td><div class=\"certo\"/></td><td style=\"text-align:left;\"><b><mark style=\"background-color:#ffff40;padding-left:0px;padding-right:0px\">ALBERTO</mark></b>&nbsp;YOUSSEF,&nbsp;brasileiro,&nbsp;casado,&nbsp;filho&nbsp;de&nbsp;Kalim&nbsp;Youssef&nbsp;e&nbsp;Antonieta&nbsp;Youssef\n",
              "</pre></td></tr>\n",
              "<tr><td><div class=\"certo\"/></td><td style=\"text-align:left;\"><b><mark style=\"background-color:#ffff40;padding-left:0px;padding-right:0px\">PAULO</mark></b>&nbsp;ROBERTO&nbsp;COSTA,&nbsp;ex-Diretor&nbsp;de&nbsp;Abastecimento&nbsp;da&nbsp;PETROBRAS\n",
              "</pre></td></tr>\n",
              "<tr><td><div class=\"certo\"/></td><td style=\"text-align:left;\"><b><mark style=\"background-color:#ffff40;padding-left:0px;padding-right:0px\">WALDOMIRO</mark></b>&nbsp;DE&nbsp;OLIVEIRA,&nbsp;conhecido&nbsp;“Bom&nbsp;Velhinho”\n",
              "</pre></td></tr>\n",
              "<tr><td><div class=\"certo\"/></td><td style=\"text-align:left;\"><b><mark style=\"background-color:#ffff40;padding-left:0px;padding-right:0px\">JOSÉ</mark></b>&nbsp;ALDEMÁRIO&nbsp;PINHEIRO&nbsp;FILHO,&nbsp;vulgo&nbsp;“Léo&nbsp;Pinheiro”,\n",
              "</pre></td></tr>\n",
              "<tr><td><div class=\"certo\"/></td><td style=\"text-align:left;\"><b><mark style=\"background-color:#ffff40;padding-left:0px;padding-right:0px\">AGENOR</mark></b>&nbsp;FRANKLIN&nbsp;MAGALHÃES&nbsp;MEDEIROS,&nbsp;brasileiro\n",
              "</pre></td></tr>\n",
              "<tr><td><div class=\"certo\"/></td><td style=\"text-align:left;\">empreiteiras&nbsp;<b><mark style=\"background-color:#ffff40;padding-left:0px;padding-right:0px\">ODEBRECHT</mark></b>\n",
              "</pre></td></tr>\n",
              "<tr><td><div class=\"certo\"/></td><td style=\"text-align:left;\">integrantes&nbsp;do&nbsp;Grupo&nbsp;<b><mark style=\"background-color:#ffff40;padding-left:0px;padding-right:0px\">OAS</mark></b>\n",
              "</pre></td></tr>\n",
              "<tr><td><div class=\"certo\"/></td><td style=\"text-align:left;\">empresa&nbsp;<b><mark style=\"background-color:#ffff40;padding-left:0px;padding-right:0px\">GFD</mark></b>&nbsp;INVESTIMENTOS\n",
              "</pre></td></tr>\n",
              "<tr><td><div class=\"certo\"/></td><td style=\"text-align:left;\">conforme&nbsp;já&nbsp;apurado&nbsp;pelo&nbsp;<b><mark style=\"background-color:#ffff40;padding-left:0px;padding-right:0px\">TCU</mark></b>\n",
              "</pre></td></tr>\n",
              "<tr><td><div class=\"certo\"/></td><td style=\"text-align:left;\">no&nbsp;caso&nbsp;das&nbsp;empresas&nbsp;MO&nbsp;Consultoria,&nbsp;Empreiteira&nbsp;Rigidez&nbsp;e&nbsp;<b><mark style=\"background-color:#ffff40;padding-left:0px;padding-right:0px\">RCI</mark></b>&nbsp;Software\n",
              "</pre></td></tr>\n",
              "<tr><td><div class=\"certo\"/></td><td style=\"text-align:left;\"><b><mark style=\"background-color:#ffff40;padding-left:0px;padding-right:0px\">RELATÓRIO</mark></b>&nbsp;DE&nbsp;TENDÊNCIAs\n",
              "</pre></td></tr>\n",
              "<tr><td><div class=\"certo\"/></td><td style=\"text-align:left;\">três&nbsp;<b><mark style=\"background-color:#ffff40;padding-left:0px;padding-right:0px\">AOS</mark></b>&nbsp;númeROS</pre></td></tr><tr><td><div class=\"certo\"/></td><td style=\"text-align:left;\"><div style=\"color:#808080\">Texto&nbsp;aleATOrio\n",
              "&#9;(sem ocorrências)</div></td></tr>\n",
              "<tr><td><div class=\"certo\"/></td><td style=\"text-align:left;\"><div style=\"color:#808080\">CoNdUtAs&nbsp;ileGAIS\n",
              "&#9;(sem ocorrências)</div></td></tr>\n",
              "<tr><td><div class=\"certo\"/></td><td style=\"text-align:left;\"><div style=\"color:#808080\">rELATÓRIO&nbsp;DE&nbsp;TENDÊNCIAs\n",
              "&#9;(sem ocorrências)</div></td></tr>\n",
              "<tr><td><div class=\"certo\"/></td><td style=\"text-align:left;\"><div style=\"color:#808080\">a&nbsp;BE&nbsp;c\n",
              "&#9;(sem ocorrências)</div></td></tr>\n",
              "<tr><td><div class=\"certo\"/></td><td style=\"text-align:left;\"><div style=\"color:#808080\">duas&nbsp;DE&nbsp;palavras\n",
              "&#9;(sem ocorrências)</div></td></tr></table>"
            ],
            "text/plain": [
              "<IPython.core.display.HTML object>"
            ]
          },
          "metadata": {
            "tags": []
          }
        }
      ]
    },
    {
      "cell_type": "markdown",
      "metadata": {
        "azdata_cell_guid": "61f855da-cb67-4933-af79-a28abd2195bb",
        "id": "khXboY40tNpC"
      },
      "source": [
        "--> Duas palavras consecutivas, de no mínimo 2 letras cada, com TODAS as letras maiúsculas"
      ]
    },
    {
      "cell_type": "code",
      "metadata": {
        "azdata_cell_guid": "36d37f06-0d99-4cb5-94b7-7b5f3996abef",
        "id": "G_iS4xpttNpC",
        "colab": {
          "base_uri": "https://localhost:8080/",
          "height": 864
        },
        "outputId": "a8501b09-a3b8-4c62-ae6a-da8707fbcbd6"
      },
      "source": [
        "exercicio(12, r'\\b([A-ZÁ-ÚÂ-Û]{2,}\\s+[A-ZÁ-ÚÂ-Û]{2,})\\b')\n",
        "#exercicio(12, r'\\b([A-ZÁ-ÚÂ-Û]{2,}\\s+){1}[A-ZÁ-ÚÂ-Û]{2,}\\b')"
      ],
      "execution_count": null,
      "outputs": [
        {
          "output_type": "display_data",
          "data": {
            "text/html": [
              "<style>.certo {background-image: url('data:image/png;base64,iVBORw0KGgoAAAANSUhEUgAAABAAAAAQCAYAAAAf8/9hAAAABHNCSVQICAgIfAhkiAAAAAlwSFlzAAALEwAACxMBAJqcGAAAAgBJREFUOI2lkz1oU1EUx3/nvpcmNqWlNIoKFkFsXKrSOCkoDi6iVOwgCEWLiyBaTKuLdhP8ACkoig5iqoM4SDGDq2uLxUHFptWhHQTF1gzlNc27ufc6tHk0NMTBs917zu9/vu6F/zSpd7lvcnC/VeqUCF1Y61Aya8WOf8k8+NRQIDOVTYXGjImnjtdN51y+omXg68HRPxsEMlPZlHaVj4i3o1HJ1rk5iSd6Pu+9UwRQVceK1m/+BQMokZ2USq+jM0DPxFDGi/mHG4EnWjM0q/hq2Z461v3hanckEOrycCN4oP0o2S0nub31LLLWtQv1UCTglPRUg5MqHmWqwv0dR6hYw6v59zhc1XUAwAcQZxMALSrBvW39WGe5/vMlZ9oORfBIYYwJNYesjc06NkUCzthFoDNuPFpJsL25g1znJVJ+Wy3sRzNHtF2IWjAr5h3AIgGXC0/4UVog5behbYWb0zkmvFoYwJZ0PhIgKI1WgrJBoNiiuVJ4ynzwi5HpF0z684hXC+ulsl4uh49g3UNK5y/caNqcvCUxDxy4pTIkYxtgFxrC38HwTO+z+zUCOKQrf/5xrD150WtuqrtOE4SY4vLDQu/zQWR1HRs+U3r8XJ943l2VbNolvkIQrDboQH8TY67Nns69XR9f9zfikD3j/budeGlx4sS6mem+3Pdq1vX2FyOryD82RGIbAAAAAElFTkSuQmCC'); background-size: cover; height: 16px; width: 16px}.errado {background-image: url('data:image/png;base64,iVBORw0KGgoAAAANSUhEUgAAABAAAAAQCAYAAAAf8/9hAAAABHNCSVQICAgIfAhkiAAAAAlwSFlzAAALEwAACxMBAJqcGAAAAjNJREFUOI2lk01IVFEYhp9zznUcnUnH/Bk3WhCVFEFZbiwUAxeZlCJFWERBgZsIqRatWhuRi0BtFS1bSGQYlBLISD8EgbWwv0VFxlijThOpd+6ce1o49zrh4KZ3+XHe53u/j+/Af0rkK35ra9ythOgwmG0gDYIPUnC/+uHkm3UBM+3NFZC5KxFt+cCuNiNa67O1T17MrwHMtDdX4DqvpZQ160XOGPPZRdRvGp1cAJA+PeMMe2ZRXrl21mzNEmKzMPqeV5cAXw4f2GtZsgmAso2o60PIjhOr5s5uVN8glEQAKJCq9evRpl0AFkDGsS8HAoUrEecSzN8ZJNrTC1JiDFhdJ4kP3CCSXEDJlamdJfsScMYCcJH1XjdLSkITj/mhLKrOXwBg9nY/G2LjKKVWUxn2+QkMBHPnLVQKK1QMxgAQKQ4hc8wArqTIB2jXnQNqffqR4wSPnSY+1A9AdU8vGcvCjA77gLR2Ez5gydGPIkH2ALilEaxDncQHbxKOjQEQBypPnUPHxpGpXwD8yaRHIHsHYw115TWl4dnSYFC5xvBTKMq0QyAb29aapApQZTRCQMpOO9/TdlXLxFRSArS+ejeXWLSv2VojhSCK65u9nURZMS9rTWJx+WrLxFTST5BdpIjt3zEQDYV7SgIB8imVTpP4vXSr8fnbiwLMPwBPTxt3dhUp1RcuKNjipUhrTWrZ/mijrxx8Nv0g933e32hAxBrqtrpKbTcCI1z3ffPL6U9e11z9Bai+yG1sATfvAAAAAElFTkSuQmCC'); background-size: cover; height: 16px; width: 16px}</style><table><tr><td><div class=\"certo\"/></td><td style=\"text-align:left;\"><b><mark style=\"background-color:#ffff40;padding-left:0px;padding-right:0px\">ALBERTO&nbsp;YOUSSEF</mark></b>,&nbsp;brasileiro,&nbsp;casado,&nbsp;filho&nbsp;de&nbsp;Kalim&nbsp;Youssef&nbsp;e&nbsp;Antonieta&nbsp;Youssef\n",
              "</pre></td></tr>\n",
              "<tr><td><div class=\"certo\"/></td><td style=\"text-align:left;\"><b><mark style=\"background-color:#ffff40;padding-left:0px;padding-right:0px\">PAULO&nbsp;ROBERTO</mark></b>&nbsp;COSTA,&nbsp;ex-Diretor&nbsp;de&nbsp;Abastecimento&nbsp;da&nbsp;PETROBRAS\n",
              "</pre></td></tr>\n",
              "<tr><td><div class=\"certo\"/></td><td style=\"text-align:left;\"><b><mark style=\"background-color:#ffff40;padding-left:0px;padding-right:0px\">WALDOMIRO&nbsp;DE</mark></b>&nbsp;OLIVEIRA,&nbsp;conhecido&nbsp;“Bom&nbsp;Velhinho”\n",
              "</pre></td></tr>\n",
              "<tr><td><div class=\"certo\"/></td><td style=\"text-align:left;\"><b><mark style=\"background-color:#ffff40;padding-left:0px;padding-right:0px\">JOSÉ&nbsp;ALDEMÁRIO</mark></b>&nbsp;PINHEIRO&nbsp;FILHO,&nbsp;vulgo&nbsp;“Léo&nbsp;Pinheiro”,\n",
              "</pre></td></tr>\n",
              "<tr><td><div class=\"certo\"/></td><td style=\"text-align:left;\"><b><mark style=\"background-color:#ffff40;padding-left:0px;padding-right:0px\">AGENOR&nbsp;FRANKLIN</mark></b>&nbsp;MAGALHÃES&nbsp;MEDEIROS,&nbsp;brasileiro\n",
              "</pre></td></tr>\n",
              "<tr><td><div class=\"certo\"/></td><td style=\"text-align:left;\">empresa&nbsp;<b><mark style=\"background-color:#ffff40;padding-left:0px;padding-right:0px\">GFD&nbsp;INVESTIMENTOS</mark></b>\n",
              "</pre></td></tr>\n",
              "<tr><td><div class=\"certo\"/></td><td style=\"text-align:left;\"><b><mark style=\"background-color:#ffff40;padding-left:0px;padding-right:0px\">RELATÓRIO&nbsp;DE</mark></b>&nbsp;TENDÊNCIAs\n",
              "</pre></td></tr>\n",
              "<tr><td><div class=\"certo\"/></td><td style=\"text-align:left;\"><b><mark style=\"background-color:#ffff40;padding-left:0px;padding-right:0px\">VARIOS&nbsp;&nbsp;&nbsp;ESPACOS</mark></b>\n",
              "</pre></td></tr><tr><td><div class=\"certo\"/></td><td style=\"text-align:left;\"><div style=\"color:#808080\">empreiteiras&nbsp;ODEBRECHT\n",
              "&#9;(sem ocorrências)</div></td></tr>\n",
              "<tr><td><div class=\"certo\"/></td><td style=\"text-align:left;\"><div style=\"color:#808080\">integrantes&nbsp;do&nbsp;Grupo&nbsp;OAS\n",
              "&#9;(sem ocorrências)</div></td></tr>\n",
              "<tr><td><div class=\"certo\"/></td><td style=\"text-align:left;\"><div style=\"color:#808080\">conforme&nbsp;já&nbsp;apurado&nbsp;pelo&nbsp;TCU\n",
              "&#9;(sem ocorrências)</div></td></tr>\n",
              "<tr><td><div class=\"certo\"/></td><td style=\"text-align:left;\"><div style=\"color:#808080\">no&nbsp;caso&nbsp;das&nbsp;empresas&nbsp;MO&nbsp;Consultoria,&nbsp;Empreiteira&nbsp;Rigidez&nbsp;e&nbsp;RCI&nbsp;Software\n",
              "&#9;(sem ocorrências)</div></td></tr>\n",
              "<tr><td><div class=\"certo\"/></td><td style=\"text-align:left;\"><div style=\"color:#808080\">Texto&nbsp;aleATOrio\n",
              "&#9;(sem ocorrências)</div></td></tr>\n",
              "<tr><td><div class=\"certo\"/></td><td style=\"text-align:left;\"><div style=\"color:#808080\">CoNdUtAs&nbsp;ileGAIS\n",
              "&#9;(sem ocorrências)</div></td></tr>\n",
              "<tr><td><div class=\"certo\"/></td><td style=\"text-align:left;\"><div style=\"color:#808080\">rELATÓRIO&nbsp;DE&nbsp;TENDÊNCIAs\n",
              "&#9;(sem ocorrências)</div></td></tr>\n",
              "<tr><td><div class=\"certo\"/></td><td style=\"text-align:left;\"><div style=\"color:#808080\">a&nbsp;BE&nbsp;c\n",
              "&#9;(sem ocorrências)</div></td></tr>\n",
              "<tr><td><div class=\"certo\"/></td><td style=\"text-align:left;\"><div style=\"color:#808080\">TESTE&nbsp;A&nbsp;TESTE\n",
              "&#9;(sem ocorrências)</div></td></tr>\n",
              "<tr><td><div class=\"certo\"/></td><td style=\"text-align:left;\"><div style=\"color:#808080\">A&nbsp;BE&nbsp;C&nbsp;DE\n",
              "&#9;(sem ocorrências)</div></td></tr>\n",
              "<tr><td><div class=\"certo\"/></td><td style=\"text-align:left;\"><div style=\"color:#808080\">duas&nbsp;DE&nbsp;palavras\n",
              "&#9;(sem ocorrências)</div></td></tr>\n",
              "<tr><td><div class=\"certo\"/></td><td style=\"text-align:left;\"><div style=\"color:#808080\">três&nbsp;AOS&nbsp;númeROS&#9;(sem ocorrências)</div></td></tr></table>"
            ],
            "text/plain": [
              "<IPython.core.display.HTML object>"
            ]
          },
          "metadata": {
            "tags": []
          }
        },
        {
          "output_type": "display_data",
          "data": {
            "text/html": [
              "<style>.certo {background-image: url('data:image/png;base64,iVBORw0KGgoAAAANSUhEUgAAABAAAAAQCAYAAAAf8/9hAAAABHNCSVQICAgIfAhkiAAAAAlwSFlzAAALEwAACxMBAJqcGAAAAgBJREFUOI2lkz1oU1EUx3/nvpcmNqWlNIoKFkFsXKrSOCkoDi6iVOwgCEWLiyBaTKuLdhP8ACkoig5iqoM4SDGDq2uLxUHFptWhHQTF1gzlNc27ufc6tHk0NMTBs917zu9/vu6F/zSpd7lvcnC/VeqUCF1Y61Aya8WOf8k8+NRQIDOVTYXGjImnjtdN51y+omXg68HRPxsEMlPZlHaVj4i3o1HJ1rk5iSd6Pu+9UwRQVceK1m/+BQMokZ2USq+jM0DPxFDGi/mHG4EnWjM0q/hq2Z461v3hanckEOrycCN4oP0o2S0nub31LLLWtQv1UCTglPRUg5MqHmWqwv0dR6hYw6v59zhc1XUAwAcQZxMALSrBvW39WGe5/vMlZ9oORfBIYYwJNYesjc06NkUCzthFoDNuPFpJsL25g1znJVJ+Wy3sRzNHtF2IWjAr5h3AIgGXC0/4UVog5behbYWb0zkmvFoYwJZ0PhIgKI1WgrJBoNiiuVJ4ynzwi5HpF0z684hXC+ulsl4uh49g3UNK5y/caNqcvCUxDxy4pTIkYxtgFxrC38HwTO+z+zUCOKQrf/5xrD150WtuqrtOE4SY4vLDQu/zQWR1HRs+U3r8XJ943l2VbNolvkIQrDboQH8TY67Nns69XR9f9zfikD3j/budeGlx4sS6mem+3Pdq1vX2FyOryD82RGIbAAAAAElFTkSuQmCC'); background-size: cover; height: 16px; width: 16px}.errado {background-image: url('data:image/png;base64,iVBORw0KGgoAAAANSUhEUgAAABAAAAAQCAYAAAAf8/9hAAAABHNCSVQICAgIfAhkiAAAAAlwSFlzAAALEwAACxMBAJqcGAAAAjNJREFUOI2lk01IVFEYhp9zznUcnUnH/Bk3WhCVFEFZbiwUAxeZlCJFWERBgZsIqRatWhuRi0BtFS1bSGQYlBLISD8EgbWwv0VFxlijThOpd+6ce1o49zrh4KZ3+XHe53u/j+/Af0rkK35ra9ythOgwmG0gDYIPUnC/+uHkm3UBM+3NFZC5KxFt+cCuNiNa67O1T17MrwHMtDdX4DqvpZQ160XOGPPZRdRvGp1cAJA+PeMMe2ZRXrl21mzNEmKzMPqeV5cAXw4f2GtZsgmAso2o60PIjhOr5s5uVN8glEQAKJCq9evRpl0AFkDGsS8HAoUrEecSzN8ZJNrTC1JiDFhdJ4kP3CCSXEDJlamdJfsScMYCcJH1XjdLSkITj/mhLKrOXwBg9nY/G2LjKKVWUxn2+QkMBHPnLVQKK1QMxgAQKQ4hc8wArqTIB2jXnQNqffqR4wSPnSY+1A9AdU8vGcvCjA77gLR2Ez5gydGPIkH2ALilEaxDncQHbxKOjQEQBypPnUPHxpGpXwD8yaRHIHsHYw115TWl4dnSYFC5xvBTKMq0QyAb29aapApQZTRCQMpOO9/TdlXLxFRSArS+ejeXWLSv2VojhSCK65u9nURZMS9rTWJx+WrLxFTST5BdpIjt3zEQDYV7SgIB8imVTpP4vXSr8fnbiwLMPwBPTxt3dhUp1RcuKNjipUhrTWrZ/mijrxx8Nv0g933e32hAxBrqtrpKbTcCI1z3ffPL6U9e11z9Bai+yG1sATfvAAAAAElFTkSuQmCC'); background-size: cover; height: 16px; width: 16px}</style><table><tr><td><div class=\"certo\"/></td><td style=\"text-align:left;\"><b><mark style=\"background-color:#ffff40;padding-left:0px;padding-right:0px\">ALBERTO&nbsp;YOUSSEF</mark></b>,&nbsp;brasileiro,&nbsp;casado,&nbsp;filho&nbsp;de&nbsp;Kalim&nbsp;Youssef&nbsp;e&nbsp;Antonieta&nbsp;Youssef\n",
              "</pre></td></tr>\n",
              "<tr><td><div class=\"certo\"/></td><td style=\"text-align:left;\"><b><mark style=\"background-color:#ffff40;padding-left:0px;padding-right:0px\">PAULO&nbsp;ROBERTO</mark></b>&nbsp;COSTA,&nbsp;ex-Diretor&nbsp;de&nbsp;Abastecimento&nbsp;da&nbsp;PETROBRAS\n",
              "</pre></td></tr>\n",
              "<tr><td><div class=\"certo\"/></td><td style=\"text-align:left;\"><b><mark style=\"background-color:#ffff40;padding-left:0px;padding-right:0px\">WALDOMIRO&nbsp;DE</mark></b>&nbsp;OLIVEIRA,&nbsp;conhecido&nbsp;“Bom&nbsp;Velhinho”\n",
              "</pre></td></tr>\n",
              "<tr><td><div class=\"certo\"/></td><td style=\"text-align:left;\"><b><mark style=\"background-color:#ffff40;padding-left:0px;padding-right:0px\">JOSÉ&nbsp;ALDEMÁRIO</mark></b>&nbsp;PINHEIRO&nbsp;FILHO,&nbsp;vulgo&nbsp;“Léo&nbsp;Pinheiro”,\n",
              "</pre></td></tr>\n",
              "<tr><td><div class=\"certo\"/></td><td style=\"text-align:left;\"><b><mark style=\"background-color:#ffff40;padding-left:0px;padding-right:0px\">AGENOR&nbsp;FRANKLIN</mark></b>&nbsp;MAGALHÃES&nbsp;MEDEIROS,&nbsp;brasileiro\n",
              "</pre></td></tr>\n",
              "<tr><td><div class=\"certo\"/></td><td style=\"text-align:left;\">empresa&nbsp;<b><mark style=\"background-color:#ffff40;padding-left:0px;padding-right:0px\">GFD&nbsp;INVESTIMENTOS</mark></b>\n",
              "</pre></td></tr>\n",
              "<tr><td><div class=\"certo\"/></td><td style=\"text-align:left;\"><b><mark style=\"background-color:#ffff40;padding-left:0px;padding-right:0px\">RELATÓRIO&nbsp;DE</mark></b>&nbsp;TENDÊNCIAs\n",
              "</pre></td></tr>\n",
              "<tr><td><div class=\"certo\"/></td><td style=\"text-align:left;\"><b><mark style=\"background-color:#ffff40;padding-left:0px;padding-right:0px\">VARIOS&nbsp;&nbsp;&nbsp;ESPACOS</mark></b>\n",
              "</pre></td></tr><tr><td><div class=\"certo\"/></td><td style=\"text-align:left;\"><div style=\"color:#808080\">empreiteiras&nbsp;ODEBRECHT\n",
              "&#9;(sem ocorrências)</div></td></tr>\n",
              "<tr><td><div class=\"certo\"/></td><td style=\"text-align:left;\"><div style=\"color:#808080\">integrantes&nbsp;do&nbsp;Grupo&nbsp;OAS\n",
              "&#9;(sem ocorrências)</div></td></tr>\n",
              "<tr><td><div class=\"certo\"/></td><td style=\"text-align:left;\"><div style=\"color:#808080\">conforme&nbsp;já&nbsp;apurado&nbsp;pelo&nbsp;TCU\n",
              "&#9;(sem ocorrências)</div></td></tr>\n",
              "<tr><td><div class=\"certo\"/></td><td style=\"text-align:left;\"><div style=\"color:#808080\">no&nbsp;caso&nbsp;das&nbsp;empresas&nbsp;MO&nbsp;Consultoria,&nbsp;Empreiteira&nbsp;Rigidez&nbsp;e&nbsp;RCI&nbsp;Software\n",
              "&#9;(sem ocorrências)</div></td></tr>\n",
              "<tr><td><div class=\"certo\"/></td><td style=\"text-align:left;\"><div style=\"color:#808080\">Texto&nbsp;aleATOrio\n",
              "&#9;(sem ocorrências)</div></td></tr>\n",
              "<tr><td><div class=\"certo\"/></td><td style=\"text-align:left;\"><div style=\"color:#808080\">CoNdUtAs&nbsp;ileGAIS\n",
              "&#9;(sem ocorrências)</div></td></tr>\n",
              "<tr><td><div class=\"certo\"/></td><td style=\"text-align:left;\"><div style=\"color:#808080\">rELATÓRIO&nbsp;DE&nbsp;TENDÊNCIAs\n",
              "&#9;(sem ocorrências)</div></td></tr>\n",
              "<tr><td><div class=\"certo\"/></td><td style=\"text-align:left;\"><div style=\"color:#808080\">a&nbsp;BE&nbsp;c\n",
              "&#9;(sem ocorrências)</div></td></tr>\n",
              "<tr><td><div class=\"certo\"/></td><td style=\"text-align:left;\"><div style=\"color:#808080\">TESTE&nbsp;A&nbsp;TESTE\n",
              "&#9;(sem ocorrências)</div></td></tr>\n",
              "<tr><td><div class=\"certo\"/></td><td style=\"text-align:left;\"><div style=\"color:#808080\">A&nbsp;BE&nbsp;C&nbsp;DE\n",
              "&#9;(sem ocorrências)</div></td></tr>\n",
              "<tr><td><div class=\"certo\"/></td><td style=\"text-align:left;\"><div style=\"color:#808080\">duas&nbsp;DE&nbsp;palavras\n",
              "&#9;(sem ocorrências)</div></td></tr>\n",
              "<tr><td><div class=\"certo\"/></td><td style=\"text-align:left;\"><div style=\"color:#808080\">três&nbsp;AOS&nbsp;númeROS&#9;(sem ocorrências)</div></td></tr></table>"
            ],
            "text/plain": [
              "<IPython.core.display.HTML object>"
            ]
          },
          "metadata": {
            "tags": []
          }
        }
      ]
    },
    {
      "cell_type": "markdown",
      "metadata": {
        "azdata_cell_guid": "a3d97365-40b5-40af-81fc-ac45b0a579d9",
        "id": "9i8Mz37XtNpC"
      },
      "source": [
        "--> Duas ou mais palavras consecutivas com todas as letras maiúsculas. Cada palavra pode possuir qualquer quantidade de letras."
      ]
    },
    {
      "cell_type": "code",
      "metadata": {
        "azdata_cell_guid": "55c88d65-ad1b-4b5b-a982-c6548c42d192",
        "id": "pzRWh72ltNpD",
        "colab": {
          "base_uri": "https://localhost:8080/",
          "height": 462
        },
        "outputId": "71e71f99-7a5a-4c8c-961a-f85cab6b7645"
      },
      "source": [
        "#exercicio(13, r'\\b([A-ZÁ-ÚÂ-Û]+\\s*\\b){2,}')    #falta 1\n",
        "#exercicio(13, r'\\b([A-ZÁ-ÚÂ-Û]+\\b\\s*\\b){2,}')  #falta 1\n",
        "\n",
        "exercicio(13, r'\\b([A-ZÁ-ÚÂ-Û]+\\s+){1,}[A-ZÁ-ÚÂ-Û]+\\b')"
      ],
      "execution_count": null,
      "outputs": [
        {
          "output_type": "display_data",
          "data": {
            "text/html": [
              "<style>.certo {background-image: url('data:image/png;base64,iVBORw0KGgoAAAANSUhEUgAAABAAAAAQCAYAAAAf8/9hAAAABHNCSVQICAgIfAhkiAAAAAlwSFlzAAALEwAACxMBAJqcGAAAAgBJREFUOI2lkz1oU1EUx3/nvpcmNqWlNIoKFkFsXKrSOCkoDi6iVOwgCEWLiyBaTKuLdhP8ACkoig5iqoM4SDGDq2uLxUHFptWhHQTF1gzlNc27ufc6tHk0NMTBs917zu9/vu6F/zSpd7lvcnC/VeqUCF1Y61Aya8WOf8k8+NRQIDOVTYXGjImnjtdN51y+omXg68HRPxsEMlPZlHaVj4i3o1HJ1rk5iSd6Pu+9UwRQVceK1m/+BQMokZ2USq+jM0DPxFDGi/mHG4EnWjM0q/hq2Z461v3hanckEOrycCN4oP0o2S0nub31LLLWtQv1UCTglPRUg5MqHmWqwv0dR6hYw6v59zhc1XUAwAcQZxMALSrBvW39WGe5/vMlZ9oORfBIYYwJNYesjc06NkUCzthFoDNuPFpJsL25g1znJVJ+Wy3sRzNHtF2IWjAr5h3AIgGXC0/4UVog5behbYWb0zkmvFoYwJZ0PhIgKI1WgrJBoNiiuVJ4ynzwi5HpF0z684hXC+ulsl4uh49g3UNK5y/caNqcvCUxDxy4pTIkYxtgFxrC38HwTO+z+zUCOKQrf/5xrD150WtuqrtOE4SY4vLDQu/zQWR1HRs+U3r8XJ943l2VbNolvkIQrDboQH8TY67Nns69XR9f9zfikD3j/budeGlx4sS6mem+3Pdq1vX2FyOryD82RGIbAAAAAElFTkSuQmCC'); background-size: cover; height: 16px; width: 16px}.errado {background-image: url('data:image/png;base64,iVBORw0KGgoAAAANSUhEUgAAABAAAAAQCAYAAAAf8/9hAAAABHNCSVQICAgIfAhkiAAAAAlwSFlzAAALEwAACxMBAJqcGAAAAjNJREFUOI2lk01IVFEYhp9zznUcnUnH/Bk3WhCVFEFZbiwUAxeZlCJFWERBgZsIqRatWhuRi0BtFS1bSGQYlBLISD8EgbWwv0VFxlijThOpd+6ce1o49zrh4KZ3+XHe53u/j+/Af0rkK35ra9ythOgwmG0gDYIPUnC/+uHkm3UBM+3NFZC5KxFt+cCuNiNa67O1T17MrwHMtDdX4DqvpZQ160XOGPPZRdRvGp1cAJA+PeMMe2ZRXrl21mzNEmKzMPqeV5cAXw4f2GtZsgmAso2o60PIjhOr5s5uVN8glEQAKJCq9evRpl0AFkDGsS8HAoUrEecSzN8ZJNrTC1JiDFhdJ4kP3CCSXEDJlamdJfsScMYCcJH1XjdLSkITj/mhLKrOXwBg9nY/G2LjKKVWUxn2+QkMBHPnLVQKK1QMxgAQKQ4hc8wArqTIB2jXnQNqffqR4wSPnSY+1A9AdU8vGcvCjA77gLR2Ez5gydGPIkH2ALilEaxDncQHbxKOjQEQBypPnUPHxpGpXwD8yaRHIHsHYw115TWl4dnSYFC5xvBTKMq0QyAb29aapApQZTRCQMpOO9/TdlXLxFRSArS+ejeXWLSv2VojhSCK65u9nURZMS9rTWJx+WrLxFTST5BdpIjt3zEQDYV7SgIB8imVTpP4vXSr8fnbiwLMPwBPTxt3dhUp1RcuKNjipUhrTWrZ/mijrxx8Nv0g933e32hAxBrqtrpKbTcCI1z3ffPL6U9e11z9Bai+yG1sATfvAAAAAElFTkSuQmCC'); background-size: cover; height: 16px; width: 16px}</style><table><tr><td><div class=\"certo\"/></td><td style=\"text-align:left;\"><b><mark style=\"background-color:#ffff40;padding-left:0px;padding-right:0px\">ALBERTO&nbsp;YOUSSEF</mark></b>,&nbsp;brasileiro,&nbsp;casado,&nbsp;filho&nbsp;de&nbsp;Kalim&nbsp;Youssef&nbsp;e&nbsp;Antonieta&nbsp;Youssef\n",
              "</pre></td></tr>\n",
              "<tr><td><div class=\"certo\"/></td><td style=\"text-align:left;\"><b><mark style=\"background-color:#ffff40;padding-left:0px;padding-right:0px\">PAULO&nbsp;ROBERTO&nbsp;COSTA</mark></b>,&nbsp;ex-Diretor&nbsp;de&nbsp;Abastecimento&nbsp;da&nbsp;PETROBRAS\n",
              "</pre></td></tr>\n",
              "<tr><td><div class=\"certo\"/></td><td style=\"text-align:left;\"><b><mark style=\"background-color:#ffff40;padding-left:0px;padding-right:0px\">WALDOMIRO&nbsp;DE&nbsp;OLIVEIRA</mark></b>,&nbsp;conhecido&nbsp;“Bom&nbsp;Velhinho”\n",
              "</pre></td></tr>\n",
              "<tr><td><div class=\"certo\"/></td><td style=\"text-align:left;\"><b><mark style=\"background-color:#ffff40;padding-left:0px;padding-right:0px\">JOSÉ&nbsp;ALDEMÁRIO&nbsp;PINHEIRO&nbsp;FILHO</mark></b>,&nbsp;vulgo&nbsp;“Léo&nbsp;Pinheiro”,\n",
              "</pre></td></tr>\n",
              "<tr><td><div class=\"certo\"/></td><td style=\"text-align:left;\"><b><mark style=\"background-color:#ffff40;padding-left:0px;padding-right:0px\">AGENOR&nbsp;FRANKLIN&nbsp;MAGALHÃES&nbsp;MEDEIROS</mark></b>,&nbsp;brasileiro\n",
              "</pre></td></tr>\n",
              "<tr><td><div class=\"certo\"/></td><td style=\"text-align:left;\">empresa&nbsp;<b><mark style=\"background-color:#ffff40;padding-left:0px;padding-right:0px\">GFD&nbsp;INVESTIMENTOS</mark></b>\n",
              "</pre></td></tr>\n",
              "<tr><td><div class=\"certo\"/></td><td style=\"text-align:left;\"><b><mark style=\"background-color:#ffff40;padding-left:0px;padding-right:0px\">RELATÓRIO&nbsp;DE</mark></b>&nbsp;TENDÊNCIAs\n",
              "</pre></td></tr>\n",
              "<tr><td><div class=\"certo\"/></td><td style=\"text-align:left;\"><b><mark style=\"background-color:#ffff40;padding-left:0px;padding-right:0px\">TESTE&nbsp;A&nbsp;TESTE</mark></b>\n",
              "</pre></td></tr>\n",
              "<tr><td><div class=\"certo\"/></td><td style=\"text-align:left;\"><b><mark style=\"background-color:#ffff40;padding-left:0px;padding-right:0px\">A&nbsp;BE&nbsp;C&nbsp;DE</mark></b>\n",
              "</pre></td></tr>\n",
              "<tr><td><div class=\"certo\"/></td><td style=\"text-align:left;\"><b><mark style=\"background-color:#ffff40;padding-left:0px;padding-right:0px\">VARIOS&nbsp;&nbsp;&nbsp;ESPACOS</mark></b>\n",
              "</pre></td></tr><tr><td><div class=\"certo\"/></td><td style=\"text-align:left;\"><div style=\"color:#808080\">empreiteiras&nbsp;ODEBRECHT\n",
              "&#9;(sem ocorrências)</div></td></tr>\n",
              "<tr><td><div class=\"certo\"/></td><td style=\"text-align:left;\"><div style=\"color:#808080\">integrantes&nbsp;do&nbsp;Grupo&nbsp;OAS\n",
              "&#9;(sem ocorrências)</div></td></tr>\n",
              "<tr><td><div class=\"certo\"/></td><td style=\"text-align:left;\"><div style=\"color:#808080\">conforme&nbsp;já&nbsp;apurado&nbsp;pelo&nbsp;TCU\n",
              "&#9;(sem ocorrências)</div></td></tr>\n",
              "<tr><td><div class=\"certo\"/></td><td style=\"text-align:left;\"><div style=\"color:#808080\">no&nbsp;caso&nbsp;das&nbsp;empresas&nbsp;MO&nbsp;Consultoria,&nbsp;Empreiteira&nbsp;Rigidez&nbsp;e&nbsp;RCI&nbsp;Software\n",
              "&#9;(sem ocorrências)</div></td></tr>\n",
              "<tr><td><div class=\"certo\"/></td><td style=\"text-align:left;\"><div style=\"color:#808080\">Texto&nbsp;aleATOrio\n",
              "&#9;(sem ocorrências)</div></td></tr>\n",
              "<tr><td><div class=\"certo\"/></td><td style=\"text-align:left;\"><div style=\"color:#808080\">CoNdUtAs&nbsp;ileGAIS\n",
              "&#9;(sem ocorrências)</div></td></tr>\n",
              "<tr><td><div class=\"certo\"/></td><td style=\"text-align:left;\"><div style=\"color:#808080\">rELATÓRIO&nbsp;DE&nbsp;TENDÊNCIAs\n",
              "&#9;(sem ocorrências)</div></td></tr>\n",
              "<tr><td><div class=\"certo\"/></td><td style=\"text-align:left;\"><div style=\"color:#808080\">a&nbsp;BE&nbsp;c\n",
              "&#9;(sem ocorrências)</div></td></tr>\n",
              "<tr><td><div class=\"certo\"/></td><td style=\"text-align:left;\"><div style=\"color:#808080\">varios&nbsp;&nbsp;&nbsp;&nbsp;&nbsp;espacos\n",
              "&#9;(sem ocorrências)</div></td></tr>\n",
              "<tr><td><div class=\"certo\"/></td><td style=\"text-align:left;\"><div style=\"color:#808080\">duas&nbsp;DE&nbsp;palavras\n",
              "&#9;(sem ocorrências)</div></td></tr>\n",
              "<tr><td><div class=\"certo\"/></td><td style=\"text-align:left;\"><div style=\"color:#808080\">três&nbsp;AOS&nbsp;númeROS&#9;(sem ocorrências)</div></td></tr></table>"
            ],
            "text/plain": [
              "<IPython.core.display.HTML object>"
            ]
          },
          "metadata": {
            "tags": []
          }
        }
      ]
    },
    {
      "cell_type": "markdown",
      "metadata": {
        "azdata_cell_guid": "c70e262f-fcb0-4f3e-9dcf-89ceb264804a",
        "id": "3Yw3xUSVtNpD"
      },
      "source": [
        "--> Uma linha contendo exatamente um endereço [IP](https://en.wikipedia.org/wiki/IP_address). ex.: 127.0.0.1, 192.168.0.254. Um IP é formado por exatamente 4 números separados por pontos. Cada número possui no máximo 3 dígitos."
      ]
    },
    {
      "cell_type": "code",
      "metadata": {
        "azdata_cell_guid": "676d6e01-75d0-4d91-9866-1ebca1aaa5f7",
        "id": "fU0x-WdftNpD",
        "colab": {
          "base_uri": "https://localhost:8080/",
          "height": 483
        },
        "outputId": "4b422a15-9b34-4c87-e908-ef5688c23772"
      },
      "source": [
        "#exercicio(14, r'\\b(\\A\\d{1,3}\\.\\d{1,3}\\.\\d{1,3}\\.\\d{1,3}$)\\b')\n",
        "#exercicio(14, r'\\A\\d{1,3}\\.\\d{1,3}\\.\\d{1,3}\\.\\d{1,3}$')\n",
        "exercicio(14, r'\\A(\\d{1,3}\\.){3}\\d{1,3}$')"
      ],
      "execution_count": null,
      "outputs": [
        {
          "output_type": "display_data",
          "data": {
            "text/html": [
              "<style>.certo {background-image: url('data:image/png;base64,iVBORw0KGgoAAAANSUhEUgAAABAAAAAQCAYAAAAf8/9hAAAABHNCSVQICAgIfAhkiAAAAAlwSFlzAAALEwAACxMBAJqcGAAAAgBJREFUOI2lkz1oU1EUx3/nvpcmNqWlNIoKFkFsXKrSOCkoDi6iVOwgCEWLiyBaTKuLdhP8ACkoig5iqoM4SDGDq2uLxUHFptWhHQTF1gzlNc27ufc6tHk0NMTBs917zu9/vu6F/zSpd7lvcnC/VeqUCF1Y61Aya8WOf8k8+NRQIDOVTYXGjImnjtdN51y+omXg68HRPxsEMlPZlHaVj4i3o1HJ1rk5iSd6Pu+9UwRQVceK1m/+BQMokZ2USq+jM0DPxFDGi/mHG4EnWjM0q/hq2Z461v3hanckEOrycCN4oP0o2S0nub31LLLWtQv1UCTglPRUg5MqHmWqwv0dR6hYw6v59zhc1XUAwAcQZxMALSrBvW39WGe5/vMlZ9oORfBIYYwJNYesjc06NkUCzthFoDNuPFpJsL25g1znJVJ+Wy3sRzNHtF2IWjAr5h3AIgGXC0/4UVog5behbYWb0zkmvFoYwJZ0PhIgKI1WgrJBoNiiuVJ4ynzwi5HpF0z684hXC+ulsl4uh49g3UNK5y/caNqcvCUxDxy4pTIkYxtgFxrC38HwTO+z+zUCOKQrf/5xrD150WtuqrtOE4SY4vLDQu/zQWR1HRs+U3r8XJ943l2VbNolvkIQrDboQH8TY67Nns69XR9f9zfikD3j/budeGlx4sS6mem+3Pdq1vX2FyOryD82RGIbAAAAAElFTkSuQmCC'); background-size: cover; height: 16px; width: 16px}.errado {background-image: url('data:image/png;base64,iVBORw0KGgoAAAANSUhEUgAAABAAAAAQCAYAAAAf8/9hAAAABHNCSVQICAgIfAhkiAAAAAlwSFlzAAALEwAACxMBAJqcGAAAAjNJREFUOI2lk01IVFEYhp9zznUcnUnH/Bk3WhCVFEFZbiwUAxeZlCJFWERBgZsIqRatWhuRi0BtFS1bSGQYlBLISD8EgbWwv0VFxlijThOpd+6ce1o49zrh4KZ3+XHe53u/j+/Af0rkK35ra9ythOgwmG0gDYIPUnC/+uHkm3UBM+3NFZC5KxFt+cCuNiNa67O1T17MrwHMtDdX4DqvpZQ160XOGPPZRdRvGp1cAJA+PeMMe2ZRXrl21mzNEmKzMPqeV5cAXw4f2GtZsgmAso2o60PIjhOr5s5uVN8glEQAKJCq9evRpl0AFkDGsS8HAoUrEecSzN8ZJNrTC1JiDFhdJ4kP3CCSXEDJlamdJfsScMYCcJH1XjdLSkITj/mhLKrOXwBg9nY/G2LjKKVWUxn2+QkMBHPnLVQKK1QMxgAQKQ4hc8wArqTIB2jXnQNqffqR4wSPnSY+1A9AdU8vGcvCjA77gLR2Ez5gydGPIkH2ALilEaxDncQHbxKOjQEQBypPnUPHxpGpXwD8yaRHIHsHYw115TWl4dnSYFC5xvBTKMq0QyAb29aapApQZTRCQMpOO9/TdlXLxFRSArS+ejeXWLSv2VojhSCK65u9nURZMS9rTWJx+WrLxFTST5BdpIjt3zEQDYV7SgIB8imVTpP4vXSr8fnbiwLMPwBPTxt3dhUp1RcuKNjipUhrTWrZ/mijrxx8Nv0g933e32hAxBrqtrpKbTcCI1z3ffPL6U9e11z9Bai+yG1sATfvAAAAAElFTkSuQmCC'); background-size: cover; height: 16px; width: 16px}</style><table><tr><td><div class=\"certo\"/></td><td style=\"text-align:left;\"><b><mark style=\"background-color:#ffff40;padding-left:0px;padding-right:0px\">127.0.0.1</mark></b>\n",
              "</pre></td></tr>\n",
              "<tr><td><div class=\"certo\"/></td><td style=\"text-align:left;\"><b><mark style=\"background-color:#ffff40;padding-left:0px;padding-right:0px\">192.168.0.254</mark></b>\n",
              "</pre></td></tr>\n",
              "<tr><td><div class=\"certo\"/></td><td style=\"text-align:left;\"><b><mark style=\"background-color:#ffff40;padding-left:0px;padding-right:0px\">10.11.10.11</mark></b>\n",
              "</pre></td></tr>\n",
              "<tr><td><div class=\"certo\"/></td><td style=\"text-align:left;\"><b><mark style=\"background-color:#ffff40;padding-left:0px;padding-right:0px\">127.127.127.127</mark></b></pre></td></tr><tr><td><div class=\"certo\"/></td><td style=\"text-align:left;\"><div style=\"color:#808080\">9999.0.0.1\n",
              "&#9;(sem ocorrências)</div></td></tr>\n",
              "<tr><td><div class=\"certo\"/></td><td style=\"text-align:left;\"><div style=\"color:#808080\">127404041\n",
              "&#9;(sem ocorrências)</div></td></tr>\n",
              "<tr><td><div class=\"certo\"/></td><td style=\"text-align:left;\"><div style=\"color:#808080\">a127.0.0.1\n",
              "&#9;(sem ocorrências)</div></td></tr>\n",
              "<tr><td><div class=\"certo\"/></td><td style=\"text-align:left;\"><div style=\"color:#808080\">127.a.a.1\n",
              "&#9;(sem ocorrências)</div></td></tr>\n",
              "<tr><td><div class=\"certo\"/></td><td style=\"text-align:left;\"><div style=\"color:#808080\">127.0.0.1a\n",
              "&#9;(sem ocorrências)</div></td></tr>\n",
              "<tr><td><div class=\"certo\"/></td><td style=\"text-align:left;\"><div style=\"color:#808080\">xxx.yyy.zzz.www\n",
              "&#9;(sem ocorrências)</div></td></tr>\n",
              "<tr><td><div class=\"certo\"/></td><td style=\"text-align:left;\"><div style=\"color:#808080\">0.0.0.a\n",
              "&#9;(sem ocorrências)</div></td></tr>\n",
              "<tr><td><div class=\"certo\"/></td><td style=\"text-align:left;\"><div style=\"color:#808080\">127.0.0.1.0\n",
              "&#9;(sem ocorrências)</div></td></tr>\n",
              "<tr><td><div class=\"certo\"/></td><td style=\"text-align:left;\"><div style=\"color:#808080\">palavra\n",
              "&#9;(sem ocorrências)</div></td></tr>\n",
              "<tr><td><div class=\"certo\"/></td><td style=\"text-align:left;\"><div style=\"color:#808080\">0.1.2.\n",
              "&#9;(sem ocorrências)</div></td></tr>\n",
              "<tr><td><div class=\"certo\"/></td><td style=\"text-align:left;\"><div style=\"color:#808080\">.0.1.2\n",
              "&#9;(sem ocorrências)</div></td></tr>\n",
              "<tr><td><div class=\"certo\"/></td><td style=\"text-align:left;\"><div style=\"color:#808080\">.0.1.2.\n",
              "&#9;(sem ocorrências)</div></td></tr>\n",
              "<tr><td><div class=\"certo\"/></td><td style=\"text-align:left;\"><div style=\"color:#808080\">.0.1.2.3.\n",
              "&#9;(sem ocorrências)</div></td></tr>\n",
              "<tr><td><div class=\"certo\"/></td><td style=\"text-align:left;\"><div style=\"color:#808080\">.0.1.2.3.4.\n",
              "&#9;(sem ocorrências)</div></td></tr>\n",
              "<tr><td><div class=\"certo\"/></td><td style=\"text-align:left;\"><div style=\"color:#808080\">0.1.2.3.4.\n",
              "&#9;(sem ocorrências)</div></td></tr>\n",
              "<tr><td><div class=\"certo\"/></td><td style=\"text-align:left;\"><div style=\"color:#808080\">.0.1.2.3.4\n",
              "&#9;(sem ocorrências)</div></td></tr>\n",
              "<tr><td><div class=\"certo\"/></td><td style=\"text-align:left;\"><div style=\"color:#808080\">0.1.2.3.4\n",
              "&#9;(sem ocorrências)</div></td></tr>\n",
              "<tr><td><div class=\"certo\"/></td><td style=\"text-align:left;\"><div style=\"color:#808080\">a0.1.2.3b\n",
              "&#9;(sem ocorrências)</div></td></tr></table>"
            ],
            "text/plain": [
              "<IPython.core.display.HTML object>"
            ]
          },
          "metadata": {
            "tags": []
          }
        }
      ]
    },
    {
      "cell_type": "markdown",
      "metadata": {
        "azdata_cell_guid": "3f9015bc-0c9a-4d80-a157-03bd67084beb",
        "id": "8CUb9D8QtNpD"
      },
      "source": [
        "--> Uma linha contendo exatamente um CPF com separador de milhares e hífen."
      ]
    },
    {
      "cell_type": "code",
      "metadata": {
        "azdata_cell_guid": "56beee36-28e8-493b-a8d7-6a859a82efe3",
        "id": "aMLwTIjDtNpD",
        "colab": {
          "base_uri": "https://localhost:8080/",
          "height": 398
        },
        "outputId": "a007e3a3-fee8-43fd-fd4b-984925403438"
      },
      "source": [
        "#exercicio(15, r'\\b(\\d{3}\\.){2}\\d{3}-\\d{2}\\b')\n",
        "exercicio(15, r'\\b\\d{3}\\.\\d{3}\\.\\d{3}-\\d{2}\\b')"
      ],
      "execution_count": null,
      "outputs": [
        {
          "output_type": "display_data",
          "data": {
            "text/html": [
              "<style>.certo {background-image: url('data:image/png;base64,iVBORw0KGgoAAAANSUhEUgAAABAAAAAQCAYAAAAf8/9hAAAABHNCSVQICAgIfAhkiAAAAAlwSFlzAAALEwAACxMBAJqcGAAAAgBJREFUOI2lkz1oU1EUx3/nvpcmNqWlNIoKFkFsXKrSOCkoDi6iVOwgCEWLiyBaTKuLdhP8ACkoig5iqoM4SDGDq2uLxUHFptWhHQTF1gzlNc27ufc6tHk0NMTBs917zu9/vu6F/zSpd7lvcnC/VeqUCF1Y61Aya8WOf8k8+NRQIDOVTYXGjImnjtdN51y+omXg68HRPxsEMlPZlHaVj4i3o1HJ1rk5iSd6Pu+9UwRQVceK1m/+BQMokZ2USq+jM0DPxFDGi/mHG4EnWjM0q/hq2Z461v3hanckEOrycCN4oP0o2S0nub31LLLWtQv1UCTglPRUg5MqHmWqwv0dR6hYw6v59zhc1XUAwAcQZxMALSrBvW39WGe5/vMlZ9oORfBIYYwJNYesjc06NkUCzthFoDNuPFpJsL25g1znJVJ+Wy3sRzNHtF2IWjAr5h3AIgGXC0/4UVog5behbYWb0zkmvFoYwJZ0PhIgKI1WgrJBoNiiuVJ4ynzwi5HpF0z684hXC+ulsl4uh49g3UNK5y/caNqcvCUxDxy4pTIkYxtgFxrC38HwTO+z+zUCOKQrf/5xrD150WtuqrtOE4SY4vLDQu/zQWR1HRs+U3r8XJ943l2VbNolvkIQrDboQH8TY67Nns69XR9f9zfikD3j/budeGlx4sS6mem+3Pdq1vX2FyOryD82RGIbAAAAAElFTkSuQmCC'); background-size: cover; height: 16px; width: 16px}.errado {background-image: url('data:image/png;base64,iVBORw0KGgoAAAANSUhEUgAAABAAAAAQCAYAAAAf8/9hAAAABHNCSVQICAgIfAhkiAAAAAlwSFlzAAALEwAACxMBAJqcGAAAAjNJREFUOI2lk01IVFEYhp9zznUcnUnH/Bk3WhCVFEFZbiwUAxeZlCJFWERBgZsIqRatWhuRi0BtFS1bSGQYlBLISD8EgbWwv0VFxlijThOpd+6ce1o49zrh4KZ3+XHe53u/j+/Af0rkK35ra9ythOgwmG0gDYIPUnC/+uHkm3UBM+3NFZC5KxFt+cCuNiNa67O1T17MrwHMtDdX4DqvpZQ160XOGPPZRdRvGp1cAJA+PeMMe2ZRXrl21mzNEmKzMPqeV5cAXw4f2GtZsgmAso2o60PIjhOr5s5uVN8glEQAKJCq9evRpl0AFkDGsS8HAoUrEecSzN8ZJNrTC1JiDFhdJ4kP3CCSXEDJlamdJfsScMYCcJH1XjdLSkITj/mhLKrOXwBg9nY/G2LjKKVWUxn2+QkMBHPnLVQKK1QMxgAQKQ4hc8wArqTIB2jXnQNqffqR4wSPnSY+1A9AdU8vGcvCjA77gLR2Ez5gydGPIkH2ALilEaxDncQHbxKOjQEQBypPnUPHxpGpXwD8yaRHIHsHYw115TWl4dnSYFC5xvBTKMq0QyAb29aapApQZTRCQMpOO9/TdlXLxFRSArS+ejeXWLSv2VojhSCK65u9nURZMS9rTWJx+WrLxFTST5BdpIjt3zEQDYV7SgIB8imVTpP4vXSr8fnbiwLMPwBPTxt3dhUp1RcuKNjipUhrTWrZ/mijrxx8Nv0g933e32hAxBrqtrpKbTcCI1z3ffPL6U9e11z9Bai+yG1sATfvAAAAAElFTkSuQmCC'); background-size: cover; height: 16px; width: 16px}</style><table><tr><td><div class=\"certo\"/></td><td style=\"text-align:left;\"><b><mark style=\"background-color:#ffff40;padding-left:0px;padding-right:0px\">000.000.000-00</mark></b>\n",
              "</pre></td></tr>\n",
              "<tr><td><div class=\"certo\"/></td><td style=\"text-align:left;\"><b><mark style=\"background-color:#ffff40;padding-left:0px;padding-right:0px\">111.111.111-11</mark></b>\n",
              "</pre></td></tr><tr><td><div class=\"certo\"/></td><td style=\"text-align:left;\"><div style=\"color:#808080\">0111.111.111-11\n",
              "&#9;(sem ocorrências)</div></td></tr>\n",
              "<tr><td><div class=\"certo\"/></td><td style=\"text-align:left;\"><div style=\"color:#808080\">111.111.111-110\n",
              "&#9;(sem ocorrências)</div></td></tr>\n",
              "<tr><td><div class=\"certo\"/></td><td style=\"text-align:left;\"><div style=\"color:#808080\">111.0111.0111-11\n",
              "&#9;(sem ocorrências)</div></td></tr>\n",
              "<tr><td><div class=\"certo\"/></td><td style=\"text-align:left;\"><div style=\"color:#808080\">11101110111-11\n",
              "&#9;(sem ocorrências)</div></td></tr>\n",
              "<tr><td><div class=\"certo\"/></td><td style=\"text-align:left;\"><div style=\"color:#808080\">111.111.111111\n",
              "&#9;(sem ocorrências)</div></td></tr>\n",
              "<tr><td><div class=\"certo\"/></td><td style=\"text-align:left;\"><div style=\"color:#808080\">1110110111111\n",
              "&#9;(sem ocorrências)</div></td></tr>\n",
              "<tr><td><div class=\"certo\"/></td><td style=\"text-align:left;\"><div style=\"color:#808080\">111011011111\n",
              "&#9;(sem ocorrências)</div></td></tr>\n",
              "<tr><td><div class=\"certo\"/></td><td style=\"text-align:left;\"><div style=\"color:#808080\">11101101111\n",
              "&#9;(sem ocorrências)</div></td></tr>\n",
              "<tr><td><div class=\"certo\"/></td><td style=\"text-align:left;\"><div style=\"color:#808080\">1110110111\n",
              "&#9;(sem ocorrências)</div></td></tr>\n",
              "<tr><td><div class=\"certo\"/></td><td style=\"text-align:left;\"><div style=\"color:#808080\">111011011\n",
              "&#9;(sem ocorrências)</div></td></tr>\n",
              "<tr><td><div class=\"certo\"/></td><td style=\"text-align:left;\"><div style=\"color:#808080\">.111011011-11\n",
              "&#9;(sem ocorrências)</div></td></tr>\n",
              "<tr><td><div class=\"certo\"/></td><td style=\"text-align:left;\"><div style=\"color:#808080\">..111011011-11\n",
              "&#9;(sem ocorrências)</div></td></tr>\n",
              "<tr><td><div class=\"certo\"/></td><td style=\"text-align:left;\"><div style=\"color:#808080\">...111011011-11\n",
              "&#9;(sem ocorrências)</div></td></tr>\n",
              "<tr><td><div class=\"certo\"/></td><td style=\"text-align:left;\"><div style=\"color:#808080\">..1.11011011-11\n",
              "&#9;(sem ocorrências)</div></td></tr>\n",
              "<tr><td><div class=\"certo\"/></td><td style=\"text-align:left;\"><div style=\"color:#808080\">.1.1.1011011-11\n",
              "&#9;(sem ocorrências)</div></td></tr>\n",
              "<tr><td><div class=\"certo\"/></td><td style=\"text-align:left;\"><div style=\"color:#808080\">1.1.1.011011-11&#9;(sem ocorrências)</div></td></tr></table>"
            ],
            "text/plain": [
              "<IPython.core.display.HTML object>"
            ]
          },
          "metadata": {
            "tags": []
          }
        }
      ]
    },
    {
      "cell_type": "markdown",
      "metadata": {
        "azdata_cell_guid": "fd21c8d2-308b-4db7-83fe-6ad9076b6298",
        "id": "qeXYBPaJtNpE"
      },
      "source": [
        "--> Uma linha contendo exatamente um CPF com separador de milhares opcional e hífen opcional."
      ]
    },
    {
      "cell_type": "code",
      "metadata": {
        "azdata_cell_guid": "42035130-c153-4283-8eb3-2508d256a9b6",
        "id": "37zxOFQ0tNpE",
        "colab": {
          "base_uri": "https://localhost:8080/",
          "height": 440
        },
        "outputId": "28ac7bf2-019b-4d44-bba8-9b8f22f75bea"
      },
      "source": [
        "exercicio(16, r'\\b\\A(\\d{3}[\\.]?\\d{3}[\\.]?\\d{3}-?\\d{2}$)\\b')"
      ],
      "execution_count": null,
      "outputs": [
        {
          "output_type": "display_data",
          "data": {
            "text/html": [
              "<style>.certo {background-image: url('data:image/png;base64,iVBORw0KGgoAAAANSUhEUgAAABAAAAAQCAYAAAAf8/9hAAAABHNCSVQICAgIfAhkiAAAAAlwSFlzAAALEwAACxMBAJqcGAAAAgBJREFUOI2lkz1oU1EUx3/nvpcmNqWlNIoKFkFsXKrSOCkoDi6iVOwgCEWLiyBaTKuLdhP8ACkoig5iqoM4SDGDq2uLxUHFptWhHQTF1gzlNc27ufc6tHk0NMTBs917zu9/vu6F/zSpd7lvcnC/VeqUCF1Y61Aya8WOf8k8+NRQIDOVTYXGjImnjtdN51y+omXg68HRPxsEMlPZlHaVj4i3o1HJ1rk5iSd6Pu+9UwRQVceK1m/+BQMokZ2USq+jM0DPxFDGi/mHG4EnWjM0q/hq2Z461v3hanckEOrycCN4oP0o2S0nub31LLLWtQv1UCTglPRUg5MqHmWqwv0dR6hYw6v59zhc1XUAwAcQZxMALSrBvW39WGe5/vMlZ9oORfBIYYwJNYesjc06NkUCzthFoDNuPFpJsL25g1znJVJ+Wy3sRzNHtF2IWjAr5h3AIgGXC0/4UVog5behbYWb0zkmvFoYwJZ0PhIgKI1WgrJBoNiiuVJ4ynzwi5HpF0z684hXC+ulsl4uh49g3UNK5y/caNqcvCUxDxy4pTIkYxtgFxrC38HwTO+z+zUCOKQrf/5xrD150WtuqrtOE4SY4vLDQu/zQWR1HRs+U3r8XJ943l2VbNolvkIQrDboQH8TY67Nns69XR9f9zfikD3j/budeGlx4sS6mem+3Pdq1vX2FyOryD82RGIbAAAAAElFTkSuQmCC'); background-size: cover; height: 16px; width: 16px}.errado {background-image: url('data:image/png;base64,iVBORw0KGgoAAAANSUhEUgAAABAAAAAQCAYAAAAf8/9hAAAABHNCSVQICAgIfAhkiAAAAAlwSFlzAAALEwAACxMBAJqcGAAAAjNJREFUOI2lk01IVFEYhp9zznUcnUnH/Bk3WhCVFEFZbiwUAxeZlCJFWERBgZsIqRatWhuRi0BtFS1bSGQYlBLISD8EgbWwv0VFxlijThOpd+6ce1o49zrh4KZ3+XHe53u/j+/Af0rkK35ra9ythOgwmG0gDYIPUnC/+uHkm3UBM+3NFZC5KxFt+cCuNiNa67O1T17MrwHMtDdX4DqvpZQ160XOGPPZRdRvGp1cAJA+PeMMe2ZRXrl21mzNEmKzMPqeV5cAXw4f2GtZsgmAso2o60PIjhOr5s5uVN8glEQAKJCq9evRpl0AFkDGsS8HAoUrEecSzN8ZJNrTC1JiDFhdJ4kP3CCSXEDJlamdJfsScMYCcJH1XjdLSkITj/mhLKrOXwBg9nY/G2LjKKVWUxn2+QkMBHPnLVQKK1QMxgAQKQ4hc8wArqTIB2jXnQNqffqR4wSPnSY+1A9AdU8vGcvCjA77gLR2Ez5gydGPIkH2ALilEaxDncQHbxKOjQEQBypPnUPHxpGpXwD8yaRHIHsHYw115TWl4dnSYFC5xvBTKMq0QyAb29aapApQZTRCQMpOO9/TdlXLxFRSArS+ejeXWLSv2VojhSCK65u9nURZMS9rTWJx+WrLxFTST5BdpIjt3zEQDYV7SgIB8imVTpP4vXSr8fnbiwLMPwBPTxt3dhUp1RcuKNjipUhrTWrZ/mijrxx8Nv0g933e32hAxBrqtrpKbTcCI1z3ffPL6U9e11z9Bai+yG1sATfvAAAAAElFTkSuQmCC'); background-size: cover; height: 16px; width: 16px}</style><table><tr><td><div class=\"certo\"/></td><td style=\"text-align:left;\"><b><mark style=\"background-color:#ffff40;padding-left:0px;padding-right:0px\">000.000.000-00</mark></b>\n",
              "</pre></td></tr>\n",
              "<tr><td><div class=\"certo\"/></td><td style=\"text-align:left;\"><b><mark style=\"background-color:#ffff40;padding-left:0px;padding-right:0px\">111.111.111-11</mark></b>\n",
              "</pre></td></tr>\n",
              "<tr><td><div class=\"certo\"/></td><td style=\"text-align:left;\"><b><mark style=\"background-color:#ffff40;padding-left:0px;padding-right:0px\">111111.111-11</mark></b>\n",
              "</pre></td></tr>\n",
              "<tr><td><div class=\"certo\"/></td><td style=\"text-align:left;\"><b><mark style=\"background-color:#ffff40;padding-left:0px;padding-right:0px\">111.111111-11</mark></b>\n",
              "</pre></td></tr>\n",
              "<tr><td><div class=\"certo\"/></td><td style=\"text-align:left;\"><b><mark style=\"background-color:#ffff40;padding-left:0px;padding-right:0px\">11101101111</mark></b>\n",
              "</pre></td></tr><tr><td><div class=\"certo\"/></td><td style=\"text-align:left;\"><div style=\"color:#808080\">0111.111.111-11\n",
              "&#9;(sem ocorrências)</div></td></tr>\n",
              "<tr><td><div class=\"certo\"/></td><td style=\"text-align:left;\"><div style=\"color:#808080\">111.111.111-110\n",
              "&#9;(sem ocorrências)</div></td></tr>\n",
              "<tr><td><div class=\"certo\"/></td><td style=\"text-align:left;\"><div style=\"color:#808080\">111.0111.0111-11\n",
              "&#9;(sem ocorrências)</div></td></tr>\n",
              "<tr><td><div class=\"certo\"/></td><td style=\"text-align:left;\"><div style=\"color:#808080\">11101110111-11\n",
              "&#9;(sem ocorrências)</div></td></tr>\n",
              "<tr><td><div class=\"certo\"/></td><td style=\"text-align:left;\"><div style=\"color:#808080\">111.111.111111\n",
              "&#9;(sem ocorrências)</div></td></tr>\n",
              "<tr><td><div class=\"certo\"/></td><td style=\"text-align:left;\"><div style=\"color:#808080\">1110110111111\n",
              "&#9;(sem ocorrências)</div></td></tr>\n",
              "<tr><td><div class=\"certo\"/></td><td style=\"text-align:left;\"><div style=\"color:#808080\">111011011111\n",
              "&#9;(sem ocorrências)</div></td></tr>\n",
              "<tr><td><div class=\"certo\"/></td><td style=\"text-align:left;\"><div style=\"color:#808080\">1110110111\n",
              "&#9;(sem ocorrências)</div></td></tr>\n",
              "<tr><td><div class=\"certo\"/></td><td style=\"text-align:left;\"><div style=\"color:#808080\">111011011\n",
              "&#9;(sem ocorrências)</div></td></tr>\n",
              "<tr><td><div class=\"certo\"/></td><td style=\"text-align:left;\"><div style=\"color:#808080\">.111011011-11\n",
              "&#9;(sem ocorrências)</div></td></tr>\n",
              "<tr><td><div class=\"certo\"/></td><td style=\"text-align:left;\"><div style=\"color:#808080\">..111011011-11\n",
              "&#9;(sem ocorrências)</div></td></tr>\n",
              "<tr><td><div class=\"certo\"/></td><td style=\"text-align:left;\"><div style=\"color:#808080\">...111011011-11\n",
              "&#9;(sem ocorrências)</div></td></tr>\n",
              "<tr><td><div class=\"certo\"/></td><td style=\"text-align:left;\"><div style=\"color:#808080\">..1.11011011-11\n",
              "&#9;(sem ocorrências)</div></td></tr>\n",
              "<tr><td><div class=\"certo\"/></td><td style=\"text-align:left;\"><div style=\"color:#808080\">.1.1.1011011-11\n",
              "&#9;(sem ocorrências)</div></td></tr>\n",
              "<tr><td><div class=\"certo\"/></td><td style=\"text-align:left;\"><div style=\"color:#808080\">1.1.1.011011-11&#9;(sem ocorrências)</div></td></tr></table>"
            ],
            "text/plain": [
              "<IPython.core.display.HTML object>"
            ]
          },
          "metadata": {
            "tags": []
          }
        }
      ]
    },
    {
      "cell_type": "markdown",
      "metadata": {
        "azdata_cell_guid": "e3609c01-ae52-44bd-a092-d35714526482",
        "id": "z_9fnLrptNpE"
      },
      "source": [
        "--> Uma linha contendo exatamente um CNPJ com separador de milhares, barra e hífen."
      ]
    },
    {
      "cell_type": "code",
      "metadata": {
        "azdata_cell_guid": "e3c33cd9-c7ef-455a-94b5-5493c0b9aa8c",
        "id": "PKqvcgG0tNpE",
        "colab": {
          "base_uri": "https://localhost:8080/",
          "height": 293
        },
        "outputId": "d174cd18-3efb-4179-e381-f705f70db211"
      },
      "source": [
        "exercicio(17, r'\\b\\A(\\d{2}\\.\\d{3}\\.\\d{3}/\\d{4}-\\d{2}$)\\b')"
      ],
      "execution_count": null,
      "outputs": [
        {
          "output_type": "display_data",
          "data": {
            "text/html": [
              "<style>.certo {background-image: url('data:image/png;base64,iVBORw0KGgoAAAANSUhEUgAAABAAAAAQCAYAAAAf8/9hAAAABHNCSVQICAgIfAhkiAAAAAlwSFlzAAALEwAACxMBAJqcGAAAAgBJREFUOI2lkz1oU1EUx3/nvpcmNqWlNIoKFkFsXKrSOCkoDi6iVOwgCEWLiyBaTKuLdhP8ACkoig5iqoM4SDGDq2uLxUHFptWhHQTF1gzlNc27ufc6tHk0NMTBs917zu9/vu6F/zSpd7lvcnC/VeqUCF1Y61Aya8WOf8k8+NRQIDOVTYXGjImnjtdN51y+omXg68HRPxsEMlPZlHaVj4i3o1HJ1rk5iSd6Pu+9UwRQVceK1m/+BQMokZ2USq+jM0DPxFDGi/mHG4EnWjM0q/hq2Z461v3hanckEOrycCN4oP0o2S0nub31LLLWtQv1UCTglPRUg5MqHmWqwv0dR6hYw6v59zhc1XUAwAcQZxMALSrBvW39WGe5/vMlZ9oORfBIYYwJNYesjc06NkUCzthFoDNuPFpJsL25g1znJVJ+Wy3sRzNHtF2IWjAr5h3AIgGXC0/4UVog5behbYWb0zkmvFoYwJZ0PhIgKI1WgrJBoNiiuVJ4ynzwi5HpF0z684hXC+ulsl4uh49g3UNK5y/caNqcvCUxDxy4pTIkYxtgFxrC38HwTO+z+zUCOKQrf/5xrD150WtuqrtOE4SY4vLDQu/zQWR1HRs+U3r8XJ943l2VbNolvkIQrDboQH8TY67Nns69XR9f9zfikD3j/budeGlx4sS6mem+3Pdq1vX2FyOryD82RGIbAAAAAElFTkSuQmCC'); background-size: cover; height: 16px; width: 16px}.errado {background-image: url('data:image/png;base64,iVBORw0KGgoAAAANSUhEUgAAABAAAAAQCAYAAAAf8/9hAAAABHNCSVQICAgIfAhkiAAAAAlwSFlzAAALEwAACxMBAJqcGAAAAjNJREFUOI2lk01IVFEYhp9zznUcnUnH/Bk3WhCVFEFZbiwUAxeZlCJFWERBgZsIqRatWhuRi0BtFS1bSGQYlBLISD8EgbWwv0VFxlijThOpd+6ce1o49zrh4KZ3+XHe53u/j+/Af0rkK35ra9ythOgwmG0gDYIPUnC/+uHkm3UBM+3NFZC5KxFt+cCuNiNa67O1T17MrwHMtDdX4DqvpZQ160XOGPPZRdRvGp1cAJA+PeMMe2ZRXrl21mzNEmKzMPqeV5cAXw4f2GtZsgmAso2o60PIjhOr5s5uVN8glEQAKJCq9evRpl0AFkDGsS8HAoUrEecSzN8ZJNrTC1JiDFhdJ4kP3CCSXEDJlamdJfsScMYCcJH1XjdLSkITj/mhLKrOXwBg9nY/G2LjKKVWUxn2+QkMBHPnLVQKK1QMxgAQKQ4hc8wArqTIB2jXnQNqffqR4wSPnSY+1A9AdU8vGcvCjA77gLR2Ez5gydGPIkH2ALilEaxDncQHbxKOjQEQBypPnUPHxpGpXwD8yaRHIHsHYw115TWl4dnSYFC5xvBTKMq0QyAb29aapApQZTRCQMpOO9/TdlXLxFRSArS+ejeXWLSv2VojhSCK65u9nURZMS9rTWJx+WrLxFTST5BdpIjt3zEQDYV7SgIB8imVTpP4vXSr8fnbiwLMPwBPTxt3dhUp1RcuKNjipUhrTWrZ/mijrxx8Nv0g933e32hAxBrqtrpKbTcCI1z3ffPL6U9e11z9Bai+yG1sATfvAAAAAElFTkSuQmCC'); background-size: cover; height: 16px; width: 16px}</style><table><tr><td><div class=\"certo\"/></td><td style=\"text-align:left;\"><b><mark style=\"background-color:#ffff40;padding-left:0px;padding-right:0px\">00.000.000/0001-00</mark></b>\n",
              "</pre></td></tr><tr><td><div class=\"certo\"/></td><td style=\"text-align:left;\"><div style=\"color:#808080\">xx.000.000/0001-xx\n",
              "&#9;(sem ocorrências)</div></td></tr>\n",
              "<tr><td><div class=\"certo\"/></td><td style=\"text-align:left;\"><div style=\"color:#808080\">0011001000/0001-00\n",
              "&#9;(sem ocorrências)</div></td></tr>\n",
              "<tr><td><div class=\"certo\"/></td><td style=\"text-align:left;\"><div style=\"color:#808080\">00.000.00010001-00\n",
              "&#9;(sem ocorrências)</div></td></tr>\n",
              "<tr><td><div class=\"certo\"/></td><td style=\"text-align:left;\"><div style=\"color:#808080\">00.000.000/0001100\n",
              "&#9;(sem ocorrências)</div></td></tr>\n",
              "<tr><td><div class=\"certo\"/></td><td style=\"text-align:left;\"><div style=\"color:#808080\">00000.000/0001-00\n",
              "&#9;(sem ocorrências)</div></td></tr>\n",
              "<tr><td><div class=\"certo\"/></td><td style=\"text-align:left;\"><div style=\"color:#808080\">00000000/0001-00\n",
              "&#9;(sem ocorrências)</div></td></tr>\n",
              "<tr><td><div class=\"certo\"/></td><td style=\"text-align:left;\"><div style=\"color:#808080\">000000000001-00\n",
              "&#9;(sem ocorrências)</div></td></tr>\n",
              "<tr><td><div class=\"certo\"/></td><td style=\"text-align:left;\"><div style=\"color:#808080\">00000000000100\n",
              "&#9;(sem ocorrências)</div></td></tr>\n",
              "<tr><td><div class=\"certo\"/></td><td style=\"text-align:left;\"><div style=\"color:#808080\">x00000000000100\n",
              "&#9;(sem ocorrências)</div></td></tr>\n",
              "<tr><td><div class=\"certo\"/></td><td style=\"text-align:left;\"><div style=\"color:#808080\">00000000000100x\n",
              "&#9;(sem ocorrências)</div></td></tr>\n",
              "<tr><td><div class=\"certo\"/></td><td style=\"text-align:left;\"><div style=\"color:#808080\">00x000.000000100\n",
              "&#9;(sem ocorrências)</div></td></tr>\n",
              "<tr><td><div class=\"certo\"/></td><td style=\"text-align:left;\"><div style=\"color:#808080\">00x000.0000001-00&#9;(sem ocorrências)</div></td></tr></table>"
            ],
            "text/plain": [
              "<IPython.core.display.HTML object>"
            ]
          },
          "metadata": {
            "tags": []
          }
        }
      ]
    },
    {
      "cell_type": "markdown",
      "metadata": {
        "azdata_cell_guid": "bd9367b2-6add-4870-8282-4baaeba292e7",
        "id": "ZNnhGCGItNpE"
      },
      "source": [
        "--> Uma linha contendo exatamente um CNPJ com separador de milhares opcional, barra opcional e hífen opcional."
      ]
    },
    {
      "cell_type": "code",
      "metadata": {
        "azdata_cell_guid": "dd04dd12-3ec0-438e-bf98-6d51f6923090",
        "id": "pJ9d5jEUtNpF",
        "colab": {
          "base_uri": "https://localhost:8080/",
          "height": 293
        },
        "outputId": "a2b709c1-6b17-41e4-dfa3-0a383973e92e"
      },
      "source": [
        "exercicio(18, r'\\b\\A(\\d{2}[\\.]?\\d{3}[\\.]?\\d{3}/?\\d{4}-?\\d{2}$)\\b')"
      ],
      "execution_count": null,
      "outputs": [
        {
          "output_type": "display_data",
          "data": {
            "text/html": [
              "<style>.certo {background-image: url('data:image/png;base64,iVBORw0KGgoAAAANSUhEUgAAABAAAAAQCAYAAAAf8/9hAAAABHNCSVQICAgIfAhkiAAAAAlwSFlzAAALEwAACxMBAJqcGAAAAgBJREFUOI2lkz1oU1EUx3/nvpcmNqWlNIoKFkFsXKrSOCkoDi6iVOwgCEWLiyBaTKuLdhP8ACkoig5iqoM4SDGDq2uLxUHFptWhHQTF1gzlNc27ufc6tHk0NMTBs917zu9/vu6F/zSpd7lvcnC/VeqUCF1Y61Aya8WOf8k8+NRQIDOVTYXGjImnjtdN51y+omXg68HRPxsEMlPZlHaVj4i3o1HJ1rk5iSd6Pu+9UwRQVceK1m/+BQMokZ2USq+jM0DPxFDGi/mHG4EnWjM0q/hq2Z461v3hanckEOrycCN4oP0o2S0nub31LLLWtQv1UCTglPRUg5MqHmWqwv0dR6hYw6v59zhc1XUAwAcQZxMALSrBvW39WGe5/vMlZ9oORfBIYYwJNYesjc06NkUCzthFoDNuPFpJsL25g1znJVJ+Wy3sRzNHtF2IWjAr5h3AIgGXC0/4UVog5behbYWb0zkmvFoYwJZ0PhIgKI1WgrJBoNiiuVJ4ynzwi5HpF0z684hXC+ulsl4uh49g3UNK5y/caNqcvCUxDxy4pTIkYxtgFxrC38HwTO+z+zUCOKQrf/5xrD150WtuqrtOE4SY4vLDQu/zQWR1HRs+U3r8XJ943l2VbNolvkIQrDboQH8TY67Nns69XR9f9zfikD3j/budeGlx4sS6mem+3Pdq1vX2FyOryD82RGIbAAAAAElFTkSuQmCC'); background-size: cover; height: 16px; width: 16px}.errado {background-image: url('data:image/png;base64,iVBORw0KGgoAAAANSUhEUgAAABAAAAAQCAYAAAAf8/9hAAAABHNCSVQICAgIfAhkiAAAAAlwSFlzAAALEwAACxMBAJqcGAAAAjNJREFUOI2lk01IVFEYhp9zznUcnUnH/Bk3WhCVFEFZbiwUAxeZlCJFWERBgZsIqRatWhuRi0BtFS1bSGQYlBLISD8EgbWwv0VFxlijThOpd+6ce1o49zrh4KZ3+XHe53u/j+/Af0rkK35ra9ythOgwmG0gDYIPUnC/+uHkm3UBM+3NFZC5KxFt+cCuNiNa67O1T17MrwHMtDdX4DqvpZQ160XOGPPZRdRvGp1cAJA+PeMMe2ZRXrl21mzNEmKzMPqeV5cAXw4f2GtZsgmAso2o60PIjhOr5s5uVN8glEQAKJCq9evRpl0AFkDGsS8HAoUrEecSzN8ZJNrTC1JiDFhdJ4kP3CCSXEDJlamdJfsScMYCcJH1XjdLSkITj/mhLKrOXwBg9nY/G2LjKKVWUxn2+QkMBHPnLVQKK1QMxgAQKQ4hc8wArqTIB2jXnQNqffqR4wSPnSY+1A9AdU8vGcvCjA77gLR2Ez5gydGPIkH2ALilEaxDncQHbxKOjQEQBypPnUPHxpGpXwD8yaRHIHsHYw115TWl4dnSYFC5xvBTKMq0QyAb29aapApQZTRCQMpOO9/TdlXLxFRSArS+ejeXWLSv2VojhSCK65u9nURZMS9rTWJx+WrLxFTST5BdpIjt3zEQDYV7SgIB8imVTpP4vXSr8fnbiwLMPwBPTxt3dhUp1RcuKNjipUhrTWrZ/mijrxx8Nv0g933e32hAxBrqtrpKbTcCI1z3ffPL6U9e11z9Bai+yG1sATfvAAAAAElFTkSuQmCC'); background-size: cover; height: 16px; width: 16px}</style><table><tr><td><div class=\"certo\"/></td><td style=\"text-align:left;\"><b><mark style=\"background-color:#ffff40;padding-left:0px;padding-right:0px\">00.000.000/0001-00</mark></b>\n",
              "</pre></td></tr>\n",
              "<tr><td><div class=\"certo\"/></td><td style=\"text-align:left;\"><b><mark style=\"background-color:#ffff40;padding-left:0px;padding-right:0px\">00000.000/0001-00</mark></b>\n",
              "</pre></td></tr>\n",
              "<tr><td><div class=\"certo\"/></td><td style=\"text-align:left;\"><b><mark style=\"background-color:#ffff40;padding-left:0px;padding-right:0px\">00000000/0001-00</mark></b>\n",
              "</pre></td></tr>\n",
              "<tr><td><div class=\"certo\"/></td><td style=\"text-align:left;\"><b><mark style=\"background-color:#ffff40;padding-left:0px;padding-right:0px\">000000000001-00</mark></b>\n",
              "</pre></td></tr>\n",
              "<tr><td><div class=\"certo\"/></td><td style=\"text-align:left;\"><b><mark style=\"background-color:#ffff40;padding-left:0px;padding-right:0px\">00000000000100</mark></b>\n",
              "</pre></td></tr><tr><td><div class=\"certo\"/></td><td style=\"text-align:left;\"><div style=\"color:#808080\">xx.000.000/0001-xx\n",
              "&#9;(sem ocorrências)</div></td></tr>\n",
              "<tr><td><div class=\"certo\"/></td><td style=\"text-align:left;\"><div style=\"color:#808080\">0011001000/0001-00\n",
              "&#9;(sem ocorrências)</div></td></tr>\n",
              "<tr><td><div class=\"certo\"/></td><td style=\"text-align:left;\"><div style=\"color:#808080\">00.000.00010001-00\n",
              "&#9;(sem ocorrências)</div></td></tr>\n",
              "<tr><td><div class=\"certo\"/></td><td style=\"text-align:left;\"><div style=\"color:#808080\">00.000.000/0001100\n",
              "&#9;(sem ocorrências)</div></td></tr>\n",
              "<tr><td><div class=\"certo\"/></td><td style=\"text-align:left;\"><div style=\"color:#808080\">x00000000000100\n",
              "&#9;(sem ocorrências)</div></td></tr>\n",
              "<tr><td><div class=\"certo\"/></td><td style=\"text-align:left;\"><div style=\"color:#808080\">00000000000100x\n",
              "&#9;(sem ocorrências)</div></td></tr>\n",
              "<tr><td><div class=\"certo\"/></td><td style=\"text-align:left;\"><div style=\"color:#808080\">00x000.000000100\n",
              "&#9;(sem ocorrências)</div></td></tr>\n",
              "<tr><td><div class=\"certo\"/></td><td style=\"text-align:left;\"><div style=\"color:#808080\">00x000.0000001-00&#9;(sem ocorrências)</div></td></tr></table>"
            ],
            "text/plain": [
              "<IPython.core.display.HTML object>"
            ]
          },
          "metadata": {
            "tags": []
          }
        }
      ]
    },
    {
      "cell_type": "markdown",
      "metadata": {
        "azdata_cell_guid": "a0c6958b-aa8a-45cf-8ef9-fbb020039a11",
        "id": "-5cvif0StNpF"
      },
      "source": [
        "--> Uma linha contendo exatamente um CEP com separador de milhares e hífen"
      ]
    },
    {
      "cell_type": "code",
      "metadata": {
        "azdata_cell_guid": "541768d1-4c21-4a8a-aade-97f2e66fff3d",
        "id": "AuPpjOXctNpF",
        "colab": {
          "base_uri": "https://localhost:8080/",
          "height": 272
        },
        "outputId": "e2fec4f1-2385-4237-cb97-8d8e6ef259d8"
      },
      "source": [
        "exercicio(19, r'\\b\\A(\\d{2}\\.\\d{3}-\\d{3}$)\\b')"
      ],
      "execution_count": null,
      "outputs": [
        {
          "output_type": "display_data",
          "data": {
            "text/html": [
              "<style>.certo {background-image: url('data:image/png;base64,iVBORw0KGgoAAAANSUhEUgAAABAAAAAQCAYAAAAf8/9hAAAABHNCSVQICAgIfAhkiAAAAAlwSFlzAAALEwAACxMBAJqcGAAAAgBJREFUOI2lkz1oU1EUx3/nvpcmNqWlNIoKFkFsXKrSOCkoDi6iVOwgCEWLiyBaTKuLdhP8ACkoig5iqoM4SDGDq2uLxUHFptWhHQTF1gzlNc27ufc6tHk0NMTBs917zu9/vu6F/zSpd7lvcnC/VeqUCF1Y61Aya8WOf8k8+NRQIDOVTYXGjImnjtdN51y+omXg68HRPxsEMlPZlHaVj4i3o1HJ1rk5iSd6Pu+9UwRQVceK1m/+BQMokZ2USq+jM0DPxFDGi/mHG4EnWjM0q/hq2Z461v3hanckEOrycCN4oP0o2S0nub31LLLWtQv1UCTglPRUg5MqHmWqwv0dR6hYw6v59zhc1XUAwAcQZxMALSrBvW39WGe5/vMlZ9oORfBIYYwJNYesjc06NkUCzthFoDNuPFpJsL25g1znJVJ+Wy3sRzNHtF2IWjAr5h3AIgGXC0/4UVog5behbYWb0zkmvFoYwJZ0PhIgKI1WgrJBoNiiuVJ4ynzwi5HpF0z684hXC+ulsl4uh49g3UNK5y/caNqcvCUxDxy4pTIkYxtgFxrC38HwTO+z+zUCOKQrf/5xrD150WtuqrtOE4SY4vLDQu/zQWR1HRs+U3r8XJ943l2VbNolvkIQrDboQH8TY67Nns69XR9f9zfikD3j/budeGlx4sS6mem+3Pdq1vX2FyOryD82RGIbAAAAAElFTkSuQmCC'); background-size: cover; height: 16px; width: 16px}.errado {background-image: url('data:image/png;base64,iVBORw0KGgoAAAANSUhEUgAAABAAAAAQCAYAAAAf8/9hAAAABHNCSVQICAgIfAhkiAAAAAlwSFlzAAALEwAACxMBAJqcGAAAAjNJREFUOI2lk01IVFEYhp9zznUcnUnH/Bk3WhCVFEFZbiwUAxeZlCJFWERBgZsIqRatWhuRi0BtFS1bSGQYlBLISD8EgbWwv0VFxlijThOpd+6ce1o49zrh4KZ3+XHe53u/j+/Af0rkK35ra9ythOgwmG0gDYIPUnC/+uHkm3UBM+3NFZC5KxFt+cCuNiNa67O1T17MrwHMtDdX4DqvpZQ160XOGPPZRdRvGp1cAJA+PeMMe2ZRXrl21mzNEmKzMPqeV5cAXw4f2GtZsgmAso2o60PIjhOr5s5uVN8glEQAKJCq9evRpl0AFkDGsS8HAoUrEecSzN8ZJNrTC1JiDFhdJ4kP3CCSXEDJlamdJfsScMYCcJH1XjdLSkITj/mhLKrOXwBg9nY/G2LjKKVWUxn2+QkMBHPnLVQKK1QMxgAQKQ4hc8wArqTIB2jXnQNqffqR4wSPnSY+1A9AdU8vGcvCjA77gLR2Ez5gydGPIkH2ALilEaxDncQHbxKOjQEQBypPnUPHxpGpXwD8yaRHIHsHYw115TWl4dnSYFC5xvBTKMq0QyAb29aapApQZTRCQMpOO9/TdlXLxFRSArS+ejeXWLSv2VojhSCK65u9nURZMS9rTWJx+WrLxFTST5BdpIjt3zEQDYV7SgIB8imVTpP4vXSr8fnbiwLMPwBPTxt3dhUp1RcuKNjipUhrTWrZ/mijrxx8Nv0g933e32hAxBrqtrpKbTcCI1z3ffPL6U9e11z9Bai+yG1sATfvAAAAAElFTkSuQmCC'); background-size: cover; height: 16px; width: 16px}</style><table><tr><td><div class=\"certo\"/></td><td style=\"text-align:left;\"><b><mark style=\"background-color:#ffff40;padding-left:0px;padding-right:0px\">70.000-000</mark></b>\n",
              "</pre></td></tr><tr><td><div class=\"certo\"/></td><td style=\"text-align:left;\"><div style=\"color:#808080\">7a.aaa-aaa\n",
              "&#9;(sem ocorrências)</div></td></tr>\n",
              "<tr><td><div class=\"certo\"/></td><td style=\"text-align:left;\"><div style=\"color:#808080\">7000000000\n",
              "&#9;(sem ocorrências)</div></td></tr>\n",
              "<tr><td><div class=\"certo\"/></td><td style=\"text-align:left;\"><div style=\"color:#808080\">70000-000\n",
              "&#9;(sem ocorrências)</div></td></tr>\n",
              "<tr><td><div class=\"certo\"/></td><td style=\"text-align:left;\"><div style=\"color:#808080\">700000000\n",
              "&#9;(sem ocorrências)</div></td></tr>\n",
              "<tr><td><div class=\"certo\"/></td><td style=\"text-align:left;\"><div style=\"color:#808080\">70000000\n",
              "&#9;(sem ocorrências)</div></td></tr>\n",
              "<tr><td><div class=\"certo\"/></td><td style=\"text-align:left;\"><div style=\"color:#808080\">7000000\n",
              "&#9;(sem ocorrências)</div></td></tr>\n",
              "<tr><td><div class=\"certo\"/></td><td style=\"text-align:left;\"><div style=\"color:#808080\">700000\n",
              "&#9;(sem ocorrências)</div></td></tr>\n",
              "<tr><td><div class=\"certo\"/></td><td style=\"text-align:left;\"><div style=\"color:#808080\">70000\n",
              "&#9;(sem ocorrências)</div></td></tr>\n",
              "<tr><td><div class=\"certo\"/></td><td style=\"text-align:left;\"><div style=\"color:#808080\">7000\n",
              "&#9;(sem ocorrências)</div></td></tr>\n",
              "<tr><td><div class=\"certo\"/></td><td style=\"text-align:left;\"><div style=\"color:#808080\">70000aaa\n",
              "&#9;(sem ocorrências)</div></td></tr>\n",
              "<tr><td><div class=\"certo\"/></td><td style=\"text-align:left;\"><div style=\"color:#808080\">aaa70000&#9;(sem ocorrências)</div></td></tr></table>"
            ],
            "text/plain": [
              "<IPython.core.display.HTML object>"
            ]
          },
          "metadata": {
            "tags": []
          }
        }
      ]
    },
    {
      "cell_type": "markdown",
      "metadata": {
        "azdata_cell_guid": "262f8816-9925-4aee-8ae7-dcb168ca3cf9",
        "id": "ZBpmJXWltNpF"
      },
      "source": [
        "--> Uma linha contendo exatamente um CEP com separador de milhares opcional e hífen opcional"
      ]
    },
    {
      "cell_type": "code",
      "metadata": {
        "azdata_cell_guid": "698d6615-a805-41e0-b195-15eb1903b430",
        "id": "4VSoofXRtNpF",
        "colab": {
          "base_uri": "https://localhost:8080/",
          "height": 272
        },
        "outputId": "a9bbefac-63e2-42ff-cf12-93c76410c62f"
      },
      "source": [
        "exercicio(20, r'\\b\\A(\\d{2}[\\.]?\\d{3}-?\\d{3}$)\\b')"
      ],
      "execution_count": null,
      "outputs": [
        {
          "output_type": "display_data",
          "data": {
            "text/html": [
              "<style>.certo {background-image: url('data:image/png;base64,iVBORw0KGgoAAAANSUhEUgAAABAAAAAQCAYAAAAf8/9hAAAABHNCSVQICAgIfAhkiAAAAAlwSFlzAAALEwAACxMBAJqcGAAAAgBJREFUOI2lkz1oU1EUx3/nvpcmNqWlNIoKFkFsXKrSOCkoDi6iVOwgCEWLiyBaTKuLdhP8ACkoig5iqoM4SDGDq2uLxUHFptWhHQTF1gzlNc27ufc6tHk0NMTBs917zu9/vu6F/zSpd7lvcnC/VeqUCF1Y61Aya8WOf8k8+NRQIDOVTYXGjImnjtdN51y+omXg68HRPxsEMlPZlHaVj4i3o1HJ1rk5iSd6Pu+9UwRQVceK1m/+BQMokZ2USq+jM0DPxFDGi/mHG4EnWjM0q/hq2Z461v3hanckEOrycCN4oP0o2S0nub31LLLWtQv1UCTglPRUg5MqHmWqwv0dR6hYw6v59zhc1XUAwAcQZxMALSrBvW39WGe5/vMlZ9oORfBIYYwJNYesjc06NkUCzthFoDNuPFpJsL25g1znJVJ+Wy3sRzNHtF2IWjAr5h3AIgGXC0/4UVog5behbYWb0zkmvFoYwJZ0PhIgKI1WgrJBoNiiuVJ4ynzwi5HpF0z684hXC+ulsl4uh49g3UNK5y/caNqcvCUxDxy4pTIkYxtgFxrC38HwTO+z+zUCOKQrf/5xrD150WtuqrtOE4SY4vLDQu/zQWR1HRs+U3r8XJ943l2VbNolvkIQrDboQH8TY67Nns69XR9f9zfikD3j/budeGlx4sS6mem+3Pdq1vX2FyOryD82RGIbAAAAAElFTkSuQmCC'); background-size: cover; height: 16px; width: 16px}.errado {background-image: url('data:image/png;base64,iVBORw0KGgoAAAANSUhEUgAAABAAAAAQCAYAAAAf8/9hAAAABHNCSVQICAgIfAhkiAAAAAlwSFlzAAALEwAACxMBAJqcGAAAAjNJREFUOI2lk01IVFEYhp9zznUcnUnH/Bk3WhCVFEFZbiwUAxeZlCJFWERBgZsIqRatWhuRi0BtFS1bSGQYlBLISD8EgbWwv0VFxlijThOpd+6ce1o49zrh4KZ3+XHe53u/j+/Af0rkK35ra9ythOgwmG0gDYIPUnC/+uHkm3UBM+3NFZC5KxFt+cCuNiNa67O1T17MrwHMtDdX4DqvpZQ160XOGPPZRdRvGp1cAJA+PeMMe2ZRXrl21mzNEmKzMPqeV5cAXw4f2GtZsgmAso2o60PIjhOr5s5uVN8glEQAKJCq9evRpl0AFkDGsS8HAoUrEecSzN8ZJNrTC1JiDFhdJ4kP3CCSXEDJlamdJfsScMYCcJH1XjdLSkITj/mhLKrOXwBg9nY/G2LjKKVWUxn2+QkMBHPnLVQKK1QMxgAQKQ4hc8wArqTIB2jXnQNqffqR4wSPnSY+1A9AdU8vGcvCjA77gLR2Ez5gydGPIkH2ALilEaxDncQHbxKOjQEQBypPnUPHxpGpXwD8yaRHIHsHYw115TWl4dnSYFC5xvBTKMq0QyAb29aapApQZTRCQMpOO9/TdlXLxFRSArS+ejeXWLSv2VojhSCK65u9nURZMS9rTWJx+WrLxFTST5BdpIjt3zEQDYV7SgIB8imVTpP4vXSr8fnbiwLMPwBPTxt3dhUp1RcuKNjipUhrTWrZ/mijrxx8Nv0g933e32hAxBrqtrpKbTcCI1z3ffPL6U9e11z9Bai+yG1sATfvAAAAAElFTkSuQmCC'); background-size: cover; height: 16px; width: 16px}</style><table><tr><td><div class=\"certo\"/></td><td style=\"text-align:left;\"><b><mark style=\"background-color:#ffff40;padding-left:0px;padding-right:0px\">70.000-000</mark></b>\n",
              "</pre></td></tr>\n",
              "<tr><td><div class=\"certo\"/></td><td style=\"text-align:left;\"><b><mark style=\"background-color:#ffff40;padding-left:0px;padding-right:0px\">70000-000</mark></b>\n",
              "</pre></td></tr>\n",
              "<tr><td><div class=\"certo\"/></td><td style=\"text-align:left;\"><b><mark style=\"background-color:#ffff40;padding-left:0px;padding-right:0px\">70000000</mark></b>\n",
              "</pre></td></tr><tr><td><div class=\"certo\"/></td><td style=\"text-align:left;\"><div style=\"color:#808080\">7a.aaa-aaa\n",
              "&#9;(sem ocorrências)</div></td></tr>\n",
              "<tr><td><div class=\"certo\"/></td><td style=\"text-align:left;\"><div style=\"color:#808080\">7000000000\n",
              "&#9;(sem ocorrências)</div></td></tr>\n",
              "<tr><td><div class=\"certo\"/></td><td style=\"text-align:left;\"><div style=\"color:#808080\">700000000\n",
              "&#9;(sem ocorrências)</div></td></tr>\n",
              "<tr><td><div class=\"certo\"/></td><td style=\"text-align:left;\"><div style=\"color:#808080\">7000000\n",
              "&#9;(sem ocorrências)</div></td></tr>\n",
              "<tr><td><div class=\"certo\"/></td><td style=\"text-align:left;\"><div style=\"color:#808080\">700000\n",
              "&#9;(sem ocorrências)</div></td></tr>\n",
              "<tr><td><div class=\"certo\"/></td><td style=\"text-align:left;\"><div style=\"color:#808080\">70000\n",
              "&#9;(sem ocorrências)</div></td></tr>\n",
              "<tr><td><div class=\"certo\"/></td><td style=\"text-align:left;\"><div style=\"color:#808080\">7000\n",
              "&#9;(sem ocorrências)</div></td></tr>\n",
              "<tr><td><div class=\"certo\"/></td><td style=\"text-align:left;\"><div style=\"color:#808080\">70000aaa\n",
              "&#9;(sem ocorrências)</div></td></tr>\n",
              "<tr><td><div class=\"certo\"/></td><td style=\"text-align:left;\"><div style=\"color:#808080\">aaa70000&#9;(sem ocorrências)</div></td></tr></table>"
            ],
            "text/plain": [
              "<IPython.core.display.HTML object>"
            ]
          },
          "metadata": {
            "tags": []
          }
        }
      ]
    },
    {
      "cell_type": "markdown",
      "metadata": {
        "azdata_cell_guid": "2461a0a2-24fc-4df5-8be8-e60b4c8cd46b",
        "id": "YmxyYoIitNpF"
      },
      "source": [
        "--> Uma linha contendo exatamente um telefone no formato (xx)xxxx-xxxx."
      ]
    },
    {
      "cell_type": "code",
      "metadata": {
        "azdata_cell_guid": "945c6146-7d03-4e71-af38-bd20e43739ee",
        "id": "KjJ2DDTNtNpG",
        "colab": {
          "base_uri": "https://localhost:8080/",
          "height": 166
        },
        "outputId": "3f06e3fc-957f-4ccf-a4ca-b63d504f53fa"
      },
      "source": [
        "#exercicio(21, r'\\b\\(\\d{2}\\)\\d{4}-\\d{4}') #errado?\n",
        "#exercicio(21, r'\\(\\d{2}\\)\\d{4}-\\d{4}$\\b')\n",
        "exercicio(21, r'^\\(\\d{2}\\)\\d{4}-\\d{4}\\b')"
      ],
      "execution_count": null,
      "outputs": [
        {
          "output_type": "display_data",
          "data": {
            "text/html": [
              "<style>.certo {background-image: url('data:image/png;base64,iVBORw0KGgoAAAANSUhEUgAAABAAAAAQCAYAAAAf8/9hAAAABHNCSVQICAgIfAhkiAAAAAlwSFlzAAALEwAACxMBAJqcGAAAAgBJREFUOI2lkz1oU1EUx3/nvpcmNqWlNIoKFkFsXKrSOCkoDi6iVOwgCEWLiyBaTKuLdhP8ACkoig5iqoM4SDGDq2uLxUHFptWhHQTF1gzlNc27ufc6tHk0NMTBs917zu9/vu6F/zSpd7lvcnC/VeqUCF1Y61Aya8WOf8k8+NRQIDOVTYXGjImnjtdN51y+omXg68HRPxsEMlPZlHaVj4i3o1HJ1rk5iSd6Pu+9UwRQVceK1m/+BQMokZ2USq+jM0DPxFDGi/mHG4EnWjM0q/hq2Z461v3hanckEOrycCN4oP0o2S0nub31LLLWtQv1UCTglPRUg5MqHmWqwv0dR6hYw6v59zhc1XUAwAcQZxMALSrBvW39WGe5/vMlZ9oORfBIYYwJNYesjc06NkUCzthFoDNuPFpJsL25g1znJVJ+Wy3sRzNHtF2IWjAr5h3AIgGXC0/4UVog5behbYWb0zkmvFoYwJZ0PhIgKI1WgrJBoNiiuVJ4ynzwi5HpF0z684hXC+ulsl4uh49g3UNK5y/caNqcvCUxDxy4pTIkYxtgFxrC38HwTO+z+zUCOKQrf/5xrD150WtuqrtOE4SY4vLDQu/zQWR1HRs+U3r8XJ943l2VbNolvkIQrDboQH8TY67Nns69XR9f9zfikD3j/budeGlx4sS6mem+3Pdq1vX2FyOryD82RGIbAAAAAElFTkSuQmCC'); background-size: cover; height: 16px; width: 16px}.errado {background-image: url('data:image/png;base64,iVBORw0KGgoAAAANSUhEUgAAABAAAAAQCAYAAAAf8/9hAAAABHNCSVQICAgIfAhkiAAAAAlwSFlzAAALEwAACxMBAJqcGAAAAjNJREFUOI2lk01IVFEYhp9zznUcnUnH/Bk3WhCVFEFZbiwUAxeZlCJFWERBgZsIqRatWhuRi0BtFS1bSGQYlBLISD8EgbWwv0VFxlijThOpd+6ce1o49zrh4KZ3+XHe53u/j+/Af0rkK35ra9ythOgwmG0gDYIPUnC/+uHkm3UBM+3NFZC5KxFt+cCuNiNa67O1T17MrwHMtDdX4DqvpZQ160XOGPPZRdRvGp1cAJA+PeMMe2ZRXrl21mzNEmKzMPqeV5cAXw4f2GtZsgmAso2o60PIjhOr5s5uVN8glEQAKJCq9evRpl0AFkDGsS8HAoUrEecSzN8ZJNrTC1JiDFhdJ4kP3CCSXEDJlamdJfsScMYCcJH1XjdLSkITj/mhLKrOXwBg9nY/G2LjKKVWUxn2+QkMBHPnLVQKK1QMxgAQKQ4hc8wArqTIB2jXnQNqffqR4wSPnSY+1A9AdU8vGcvCjA77gLR2Ez5gydGPIkH2ALilEaxDncQHbxKOjQEQBypPnUPHxpGpXwD8yaRHIHsHYw115TWl4dnSYFC5xvBTKMq0QyAb29aapApQZTRCQMpOO9/TdlXLxFRSArS+ejeXWLSv2VojhSCK65u9nURZMS9rTWJx+WrLxFTST5BdpIjt3zEQDYV7SgIB8imVTpP4vXSr8fnbiwLMPwBPTxt3dhUp1RcuKNjipUhrTWrZ/mijrxx8Nv0g933e32hAxBrqtrpKbTcCI1z3ffPL6U9e11z9Bai+yG1sATfvAAAAAElFTkSuQmCC'); background-size: cover; height: 16px; width: 16px}</style><table><tr><td><div class=\"certo\"/></td><td style=\"text-align:left;\"><b><mark style=\"background-color:#ffff40;padding-left:0px;padding-right:0px\">(61)3316-0000</mark></b>\n",
              "</pre></td></tr><tr><td><div class=\"certo\"/></td><td style=\"text-align:left;\"><div style=\"color:#808080\">3316-0000\n",
              "&#9;(sem ocorrências)</div></td></tr>\n",
              "<tr><td><div class=\"certo\"/></td><td style=\"text-align:left;\"><div style=\"color:#808080\">x61x3316x0000\n",
              "&#9;(sem ocorrências)</div></td></tr>\n",
              "<tr><td><div class=\"certo\"/></td><td style=\"text-align:left;\"><div style=\"color:#808080\">(61)3316x0000\n",
              "&#9;(sem ocorrências)</div></td></tr>\n",
              "<tr><td><div class=\"certo\"/></td><td style=\"text-align:left;\"><div style=\"color:#808080\">((61)3316-00006\n",
              "&#9;(sem ocorrências)</div></td></tr>\n",
              "<tr><td><div class=\"certo\"/></td><td style=\"text-align:left;\"><div style=\"color:#808080\">77(61)3316x000077\n",
              "&#9;(sem ocorrências)</div></td></tr>\n",
              "<tr><td><div class=\"certo\"/></td><td style=\"text-align:left;\"><div style=\"color:#808080\">(77)(61)3316-00007\n",
              "&#9;(sem ocorrências)</div></td></tr></table>"
            ],
            "text/plain": [
              "<IPython.core.display.HTML object>"
            ]
          },
          "metadata": {
            "tags": []
          }
        }
      ]
    },
    {
      "cell_type": "markdown",
      "metadata": {
        "azdata_cell_guid": "4e611973-d21b-40d9-aabb-b2a30f797144",
        "id": "UeYGOfh7tNpG"
      },
      "source": [
        "--> Uma linha contendo exatamente um telefone no formato (xx)xxxx-xxxx ou xxxx-xxxx (sem DDD)."
      ]
    },
    {
      "cell_type": "code",
      "metadata": {
        "azdata_cell_guid": "2573e1d5-0ae9-476a-8418-6e51c8aa24e6",
        "id": "QMqsb3lPtNpG",
        "colab": {
          "base_uri": "https://localhost:8080/",
          "height": 166
        },
        "outputId": "1f1ab6c2-0c6a-4a45-80c4-1f939aaa1044"
      },
      "source": [
        "exercicio(22, r'^(\\(\\d{2}\\))?\\d{4}-\\d{4}\\b')"
      ],
      "execution_count": null,
      "outputs": [
        {
          "output_type": "display_data",
          "data": {
            "text/html": [
              "<style>.certo {background-image: url('data:image/png;base64,iVBORw0KGgoAAAANSUhEUgAAABAAAAAQCAYAAAAf8/9hAAAABHNCSVQICAgIfAhkiAAAAAlwSFlzAAALEwAACxMBAJqcGAAAAgBJREFUOI2lkz1oU1EUx3/nvpcmNqWlNIoKFkFsXKrSOCkoDi6iVOwgCEWLiyBaTKuLdhP8ACkoig5iqoM4SDGDq2uLxUHFptWhHQTF1gzlNc27ufc6tHk0NMTBs917zu9/vu6F/zSpd7lvcnC/VeqUCF1Y61Aya8WOf8k8+NRQIDOVTYXGjImnjtdN51y+omXg68HRPxsEMlPZlHaVj4i3o1HJ1rk5iSd6Pu+9UwRQVceK1m/+BQMokZ2USq+jM0DPxFDGi/mHG4EnWjM0q/hq2Z461v3hanckEOrycCN4oP0o2S0nub31LLLWtQv1UCTglPRUg5MqHmWqwv0dR6hYw6v59zhc1XUAwAcQZxMALSrBvW39WGe5/vMlZ9oORfBIYYwJNYesjc06NkUCzthFoDNuPFpJsL25g1znJVJ+Wy3sRzNHtF2IWjAr5h3AIgGXC0/4UVog5behbYWb0zkmvFoYwJZ0PhIgKI1WgrJBoNiiuVJ4ynzwi5HpF0z684hXC+ulsl4uh49g3UNK5y/caNqcvCUxDxy4pTIkYxtgFxrC38HwTO+z+zUCOKQrf/5xrD150WtuqrtOE4SY4vLDQu/zQWR1HRs+U3r8XJ943l2VbNolvkIQrDboQH8TY67Nns69XR9f9zfikD3j/budeGlx4sS6mem+3Pdq1vX2FyOryD82RGIbAAAAAElFTkSuQmCC'); background-size: cover; height: 16px; width: 16px}.errado {background-image: url('data:image/png;base64,iVBORw0KGgoAAAANSUhEUgAAABAAAAAQCAYAAAAf8/9hAAAABHNCSVQICAgIfAhkiAAAAAlwSFlzAAALEwAACxMBAJqcGAAAAjNJREFUOI2lk01IVFEYhp9zznUcnUnH/Bk3WhCVFEFZbiwUAxeZlCJFWERBgZsIqRatWhuRi0BtFS1bSGQYlBLISD8EgbWwv0VFxlijThOpd+6ce1o49zrh4KZ3+XHe53u/j+/Af0rkK35ra9ythOgwmG0gDYIPUnC/+uHkm3UBM+3NFZC5KxFt+cCuNiNa67O1T17MrwHMtDdX4DqvpZQ160XOGPPZRdRvGp1cAJA+PeMMe2ZRXrl21mzNEmKzMPqeV5cAXw4f2GtZsgmAso2o60PIjhOr5s5uVN8glEQAKJCq9evRpl0AFkDGsS8HAoUrEecSzN8ZJNrTC1JiDFhdJ4kP3CCSXEDJlamdJfsScMYCcJH1XjdLSkITj/mhLKrOXwBg9nY/G2LjKKVWUxn2+QkMBHPnLVQKK1QMxgAQKQ4hc8wArqTIB2jXnQNqffqR4wSPnSY+1A9AdU8vGcvCjA77gLR2Ez5gydGPIkH2ALilEaxDncQHbxKOjQEQBypPnUPHxpGpXwD8yaRHIHsHYw115TWl4dnSYFC5xvBTKMq0QyAb29aapApQZTRCQMpOO9/TdlXLxFRSArS+ejeXWLSv2VojhSCK65u9nURZMS9rTWJx+WrLxFTST5BdpIjt3zEQDYV7SgIB8imVTpP4vXSr8fnbiwLMPwBPTxt3dhUp1RcuKNjipUhrTWrZ/mijrxx8Nv0g933e32hAxBrqtrpKbTcCI1z3ffPL6U9e11z9Bai+yG1sATfvAAAAAElFTkSuQmCC'); background-size: cover; height: 16px; width: 16px}</style><table><tr><td><div class=\"certo\"/></td><td style=\"text-align:left;\"><b><mark style=\"background-color:#ffff40;padding-left:0px;padding-right:0px\">(61)3316-0000</mark></b>\n",
              "</pre></td></tr>\n",
              "<tr><td><div class=\"certo\"/></td><td style=\"text-align:left;\"><b><mark style=\"background-color:#ffff40;padding-left:0px;padding-right:0px\">3316-0000</mark></b>\n",
              "</pre></td></tr><tr><td><div class=\"certo\"/></td><td style=\"text-align:left;\"><div style=\"color:#808080\">x61x3316x0000\n",
              "&#9;(sem ocorrências)</div></td></tr>\n",
              "<tr><td><div class=\"certo\"/></td><td style=\"text-align:left;\"><div style=\"color:#808080\">(61)3316x0000\n",
              "&#9;(sem ocorrências)</div></td></tr>\n",
              "<tr><td><div class=\"certo\"/></td><td style=\"text-align:left;\"><div style=\"color:#808080\">((61)3316-00006\n",
              "&#9;(sem ocorrências)</div></td></tr>\n",
              "<tr><td><div class=\"certo\"/></td><td style=\"text-align:left;\"><div style=\"color:#808080\">77(61)3316x000077\n",
              "&#9;(sem ocorrências)</div></td></tr>\n",
              "<tr><td><div class=\"certo\"/></td><td style=\"text-align:left;\"><div style=\"color:#808080\">(77)(61)3316-00007&#9;(sem ocorrências)</div></td></tr></table>"
            ],
            "text/plain": [
              "<IPython.core.display.HTML object>"
            ]
          },
          "metadata": {
            "tags": []
          }
        }
      ]
    },
    {
      "cell_type": "markdown",
      "metadata": {
        "id": "s38Zh8I4t7UM"
      },
      "source": [
        "# JSON\n",
        "\n",
        "Usando a API do Banco Central, descrita em https://www.bcb.gov.br/conteudo/dadosabertos/BCBDepin/gnastportal-dados-abertostaxas-de-cambio---todos-os-boletins-diarios.pdf, escreva uma função que apresente ao usuário as moedas disponíveis para cotação, peça a ele que escolha uma ou mais, peça que o usuário escolha uma data inicial e uma data final, obtenha as cotações para as moedas selecionadas no período, armazene num dataframe e ao final salve o dataframe no disco usando o Pickle."
      ]
    },
    {
      "cell_type": "code",
      "metadata": {
        "id": "t1hW0H_3aE7M"
      },
      "source": [
        "#Lista de Moedas:\n",
        "url='https://olinda.bcb.gov.br/olinda/servico/PTAX/versao/v1/odata/Moedas?%24format=json'"
      ],
      "execution_count": null,
      "outputs": []
    },
    {
      "cell_type": "code",
      "metadata": {
        "colab": {
          "base_uri": "https://localhost:8080/"
        },
        "id": "3FyYFKUT353q",
        "outputId": "33c1548f-e8db-47ba-a60c-9e4bdb34f5db"
      },
      "source": [
        "#Dicionário de moedas - Método 1 --> read_json():\n",
        "df_moedas = pd.read_json(url)['value']\n",
        "df_moedas"
      ],
      "execution_count": null,
      "outputs": [
        {
          "output_type": "execute_result",
          "data": {
            "text/plain": [
              "0    {'simbolo': 'AUD', 'nomeFormatado': 'Dólar aus...\n",
              "1    {'simbolo': 'CAD', 'nomeFormatado': 'Dólar can...\n",
              "2    {'simbolo': 'CHF', 'nomeFormatado': 'Franco su...\n",
              "3    {'simbolo': 'DKK', 'nomeFormatado': 'Coroa din...\n",
              "4    {'simbolo': 'EUR', 'nomeFormatado': 'Euro', 't...\n",
              "5    {'simbolo': 'GBP', 'nomeFormatado': 'Libra Est...\n",
              "6    {'simbolo': 'JPY', 'nomeFormatado': 'Iene', 't...\n",
              "7    {'simbolo': 'NOK', 'nomeFormatado': 'Coroa nor...\n",
              "8    {'simbolo': 'SEK', 'nomeFormatado': 'Coroa sue...\n",
              "9    {'simbolo': 'USD', 'nomeFormatado': 'Dólar dos...\n",
              "Name: value, dtype: object"
            ]
          },
          "metadata": {
            "tags": []
          },
          "execution_count": 3
        }
      ]
    },
    {
      "cell_type": "code",
      "metadata": {
        "colab": {
          "base_uri": "https://localhost:8080/"
        },
        "id": "uHupqA5bUofd",
        "outputId": "a80c6cb3-bcd4-492f-c3d9-0ad942066199"
      },
      "source": [
        "moedas = {df_moedas[i]['simbolo']:df_moedas[i]['nomeFormatado'] for i in range(df_moedas.shape[0])}\n",
        "moedas"
      ],
      "execution_count": null,
      "outputs": [
        {
          "output_type": "execute_result",
          "data": {
            "text/plain": [
              "{'AUD': 'Dólar australiano',\n",
              " 'CAD': 'Dólar canadense',\n",
              " 'CHF': 'Franco suíço',\n",
              " 'DKK': 'Coroa dinamarquesa',\n",
              " 'EUR': 'Euro',\n",
              " 'GBP': 'Libra Esterlina',\n",
              " 'JPY': 'Iene',\n",
              " 'NOK': 'Coroa norueguesa',\n",
              " 'SEK': 'Coroa sueca',\n",
              " 'USD': 'Dólar dos Estados Unidos'}"
            ]
          },
          "metadata": {
            "tags": []
          },
          "execution_count": 4
        }
      ]
    },
    {
      "cell_type": "code",
      "metadata": {
        "colab": {
          "base_uri": "https://localhost:8080/"
        },
        "id": "H64yeejJUT9S",
        "outputId": "bc7fc118-0a7a-46e9-caa7-5661793b1ff7"
      },
      "source": [
        "#Dicionário de moedas - Método 2 --> request.get()+json.loads():\n",
        "r = requests.get(url).content\n",
        "data = json.loads(r)['value']\n",
        "data"
      ],
      "execution_count": null,
      "outputs": [
        {
          "output_type": "execute_result",
          "data": {
            "text/plain": [
              "[{'nomeFormatado': 'Dólar australiano', 'simbolo': 'AUD', 'tipoMoeda': 'B'},\n",
              " {'nomeFormatado': 'Dólar canadense', 'simbolo': 'CAD', 'tipoMoeda': 'A'},\n",
              " {'nomeFormatado': 'Franco suíço', 'simbolo': 'CHF', 'tipoMoeda': 'A'},\n",
              " {'nomeFormatado': 'Coroa dinamarquesa', 'simbolo': 'DKK', 'tipoMoeda': 'A'},\n",
              " {'nomeFormatado': 'Euro', 'simbolo': 'EUR', 'tipoMoeda': 'B'},\n",
              " {'nomeFormatado': 'Libra Esterlina', 'simbolo': 'GBP', 'tipoMoeda': 'B'},\n",
              " {'nomeFormatado': 'Iene', 'simbolo': 'JPY', 'tipoMoeda': 'A'},\n",
              " {'nomeFormatado': 'Coroa norueguesa', 'simbolo': 'NOK', 'tipoMoeda': 'A'},\n",
              " {'nomeFormatado': 'Coroa sueca', 'simbolo': 'SEK', 'tipoMoeda': 'A'},\n",
              " {'nomeFormatado': 'Dólar dos Estados Unidos',\n",
              "  'simbolo': 'USD',\n",
              "  'tipoMoeda': 'A'}]"
            ]
          },
          "metadata": {
            "tags": []
          },
          "execution_count": 5
        }
      ]
    },
    {
      "cell_type": "code",
      "metadata": {
        "colab": {
          "base_uri": "https://localhost:8080/"
        },
        "id": "6PSfAhykWizF",
        "outputId": "f1200373-c92a-469a-a2bc-f8d7f25595a1"
      },
      "source": [
        "moedas = {item['simbolo']:item['nomeFormatado'] for item in data}\n",
        "moedas"
      ],
      "execution_count": null,
      "outputs": [
        {
          "output_type": "execute_result",
          "data": {
            "text/plain": [
              "{'AUD': 'Dólar australiano',\n",
              " 'CAD': 'Dólar canadense',\n",
              " 'CHF': 'Franco suíço',\n",
              " 'DKK': 'Coroa dinamarquesa',\n",
              " 'EUR': 'Euro',\n",
              " 'GBP': 'Libra Esterlina',\n",
              " 'JPY': 'Iene',\n",
              " 'NOK': 'Coroa norueguesa',\n",
              " 'SEK': 'Coroa sueca',\n",
              " 'USD': 'Dólar dos Estados Unidos'}"
            ]
          },
          "metadata": {
            "tags": []
          },
          "execution_count": 6
        }
      ]
    },
    {
      "cell_type": "markdown",
      "metadata": {
        "id": "Z0-QDXWubrJ6"
      },
      "source": [
        "_________"
      ]
    },
    {
      "cell_type": "code",
      "metadata": {
        "id": "bt9I94g9UD5Z"
      },
      "source": [
        "def ListaMoedas():\n",
        "  url='https://olinda.bcb.gov.br/olinda/servico/PTAX/versao/v1/odata/Moedas?%24format=json'\n",
        "  r = requests.get(url).content\n",
        "  moedas = { item['simbolo']:item['nomeFormatado'] for item in json.loads(r)['value'] }\n",
        "  #print(moedas)\n",
        "  #display(moedas)\n",
        "  for k in moedas.keys():\n",
        "    print(f'\\t{k}:{moedas[k]}')\n",
        "  return moedas"
      ],
      "execution_count": null,
      "outputs": []
    },
    {
      "cell_type": "code",
      "metadata": {
        "id": "v4MIfw3bceTq"
      },
      "source": [
        "def CotacaoDolar():\n",
        "  print('Moedas para cotação:')\n",
        "  D = ListaMoedas()\n",
        "  print()\n",
        "  print('#(siglas separadas por espaço)')\n",
        "  moedas = input('Moeda(s): ').split(' ')\n",
        "  print(moedas)\n",
        "  datainicial = input('Data inicial(mm-dd-aaaa): ')\n",
        "  datafinal   = input('Data final(mm-dd-aaaa): ')\n",
        "  aux = pd.DataFrame()\n",
        "  for m in moedas:\n",
        "    url=f'https://olinda.bcb.gov.br/olinda/servico/PTAX/versao/v1/odata/CotacaoMoedaPeriodo(moeda=@moeda,dataInicial=@dataInicial,dataFinalCotacao=@dataFinalCotacao)?%40moeda=%27{m}%27&%40dataInicial=%27{datainicial}%27&%40dataFinalCotacao=%27{datafinal}%27&%24format=json'\n",
        "    df = pd.json_normalize( pd.read_json(url)['value'] )\n",
        "    df['moeda']=D[m]\n",
        "    df['moeda_sigla']=m\n",
        "    aux = pd.concat([aux, df], ignore_index=True)\n",
        "  return aux"
      ],
      "execution_count": null,
      "outputs": []
    },
    {
      "cell_type": "code",
      "metadata": {
        "id": "qNcxYmUPcegT",
        "colab": {
          "base_uri": "https://localhost:8080/"
        },
        "outputId": "40bf3fae-cd83-4105-81f3-f1760845bc93"
      },
      "source": [
        "bcb = CotacaoDolar()"
      ],
      "execution_count": null,
      "outputs": [
        {
          "output_type": "stream",
          "text": [
            "Moedas para cotação:\n",
            "\tAUD:Dólar australiano\n",
            "\tCAD:Dólar canadense\n",
            "\tCHF:Franco suíço\n",
            "\tDKK:Coroa dinamarquesa\n",
            "\tEUR:Euro\n",
            "\tGBP:Libra Esterlina\n",
            "\tJPY:Iene\n",
            "\tNOK:Coroa norueguesa\n",
            "\tSEK:Coroa sueca\n",
            "\tUSD:Dólar dos Estados Unidos\n",
            "\n",
            "#(siglas separadas por espaço)\n",
            "Moeda(s): AUD DKK JPY USD\n",
            "['AUD', 'DKK', 'JPY', 'USD']\n",
            "Data inicial(mm-dd-aaaa): 08-14-2021\n",
            "Data final(mm-dd-aaaa): 08-17-2021\n"
          ],
          "name": "stdout"
        }
      ]
    },
    {
      "cell_type": "code",
      "metadata": {
        "id": "8YXzvFUZyJAZ",
        "colab": {
          "base_uri": "https://localhost:8080/",
          "height": 1000
        },
        "outputId": "5aef7a72-09f3-4e45-ee4f-f3135d3d181e"
      },
      "source": [
        "bcb"
      ],
      "execution_count": null,
      "outputs": [
        {
          "output_type": "execute_result",
          "data": {
            "text/html": [
              "<div>\n",
              "<style scoped>\n",
              "    .dataframe tbody tr th:only-of-type {\n",
              "        vertical-align: middle;\n",
              "    }\n",
              "\n",
              "    .dataframe tbody tr th {\n",
              "        vertical-align: top;\n",
              "    }\n",
              "\n",
              "    .dataframe thead th {\n",
              "        text-align: right;\n",
              "    }\n",
              "</style>\n",
              "<table border=\"1\" class=\"dataframe\">\n",
              "  <thead>\n",
              "    <tr style=\"text-align: right;\">\n",
              "      <th></th>\n",
              "      <th>paridadeCompra</th>\n",
              "      <th>paridadeVenda</th>\n",
              "      <th>cotacaoCompra</th>\n",
              "      <th>cotacaoVenda</th>\n",
              "      <th>dataHoraCotacao</th>\n",
              "      <th>tipoBoletim</th>\n",
              "      <th>moeda</th>\n",
              "      <th>moeda_sigla</th>\n",
              "    </tr>\n",
              "  </thead>\n",
              "  <tbody>\n",
              "    <tr>\n",
              "      <th>0</th>\n",
              "      <td>0.7325</td>\n",
              "      <td>0.7327</td>\n",
              "      <td>3.85340</td>\n",
              "      <td>3.85490</td>\n",
              "      <td>2021-08-16 10:02:22.187</td>\n",
              "      <td>Abertura</td>\n",
              "      <td>Dólar australiano</td>\n",
              "      <td>AUD</td>\n",
              "    </tr>\n",
              "    <tr>\n",
              "      <th>1</th>\n",
              "      <td>0.7322</td>\n",
              "      <td>0.7324</td>\n",
              "      <td>3.84360</td>\n",
              "      <td>3.84510</td>\n",
              "      <td>2021-08-16 11:08:17.306</td>\n",
              "      <td>Intermediário</td>\n",
              "      <td>Dólar australiano</td>\n",
              "      <td>AUD</td>\n",
              "    </tr>\n",
              "    <tr>\n",
              "      <th>2</th>\n",
              "      <td>0.7334</td>\n",
              "      <td>0.7335</td>\n",
              "      <td>3.84360</td>\n",
              "      <td>3.84460</td>\n",
              "      <td>2021-08-16 12:08:17.092</td>\n",
              "      <td>Intermediário</td>\n",
              "      <td>Dólar australiano</td>\n",
              "      <td>AUD</td>\n",
              "    </tr>\n",
              "    <tr>\n",
              "      <th>3</th>\n",
              "      <td>0.7338</td>\n",
              "      <td>0.7340</td>\n",
              "      <td>3.84850</td>\n",
              "      <td>3.85000</td>\n",
              "      <td>2021-08-16 13:05:49.693</td>\n",
              "      <td>Intermediário</td>\n",
              "      <td>Dólar australiano</td>\n",
              "      <td>AUD</td>\n",
              "    </tr>\n",
              "    <tr>\n",
              "      <th>4</th>\n",
              "      <td>0.7338</td>\n",
              "      <td>0.7340</td>\n",
              "      <td>3.85160</td>\n",
              "      <td>3.85310</td>\n",
              "      <td>2021-08-16 13:05:49.701</td>\n",
              "      <td>Fechamento</td>\n",
              "      <td>Dólar australiano</td>\n",
              "      <td>AUD</td>\n",
              "    </tr>\n",
              "    <tr>\n",
              "      <th>5</th>\n",
              "      <td>0.7280</td>\n",
              "      <td>0.7282</td>\n",
              "      <td>3.84100</td>\n",
              "      <td>3.84250</td>\n",
              "      <td>2021-08-17 10:04:56.608</td>\n",
              "      <td>Abertura</td>\n",
              "      <td>Dólar australiano</td>\n",
              "      <td>AUD</td>\n",
              "    </tr>\n",
              "    <tr>\n",
              "      <th>6</th>\n",
              "      <td>0.7267</td>\n",
              "      <td>0.7269</td>\n",
              "      <td>3.81410</td>\n",
              "      <td>3.81560</td>\n",
              "      <td>2021-08-17 11:06:19.052</td>\n",
              "      <td>Intermediário</td>\n",
              "      <td>Dólar australiano</td>\n",
              "      <td>AUD</td>\n",
              "    </tr>\n",
              "    <tr>\n",
              "      <th>7</th>\n",
              "      <td>0.7258</td>\n",
              "      <td>0.7260</td>\n",
              "      <td>3.81180</td>\n",
              "      <td>3.81320</td>\n",
              "      <td>2021-08-17 12:02:17.887</td>\n",
              "      <td>Intermediário</td>\n",
              "      <td>Dólar australiano</td>\n",
              "      <td>AUD</td>\n",
              "    </tr>\n",
              "    <tr>\n",
              "      <th>8</th>\n",
              "      <td>0.7253</td>\n",
              "      <td>0.7254</td>\n",
              "      <td>3.81150</td>\n",
              "      <td>3.81240</td>\n",
              "      <td>2021-08-17 13:10:47.971</td>\n",
              "      <td>Intermediário</td>\n",
              "      <td>Dólar australiano</td>\n",
              "      <td>AUD</td>\n",
              "    </tr>\n",
              "    <tr>\n",
              "      <th>9</th>\n",
              "      <td>0.7253</td>\n",
              "      <td>0.7254</td>\n",
              "      <td>3.81360</td>\n",
              "      <td>3.81450</td>\n",
              "      <td>2021-08-17 13:10:47.981</td>\n",
              "      <td>Fechamento</td>\n",
              "      <td>Dólar australiano</td>\n",
              "      <td>AUD</td>\n",
              "    </tr>\n",
              "    <tr>\n",
              "      <th>10</th>\n",
              "      <td>6.3139</td>\n",
              "      <td>6.3149</td>\n",
              "      <td>0.83300</td>\n",
              "      <td>0.83330</td>\n",
              "      <td>2021-08-16 10:02:22.187</td>\n",
              "      <td>Abertura</td>\n",
              "      <td>Coroa dinamarquesa</td>\n",
              "      <td>DKK</td>\n",
              "    </tr>\n",
              "    <tr>\n",
              "      <th>11</th>\n",
              "      <td>6.3155</td>\n",
              "      <td>6.3158</td>\n",
              "      <td>0.83120</td>\n",
              "      <td>0.83130</td>\n",
              "      <td>2021-08-16 11:08:17.306</td>\n",
              "      <td>Intermediário</td>\n",
              "      <td>Coroa dinamarquesa</td>\n",
              "      <td>DKK</td>\n",
              "    </tr>\n",
              "    <tr>\n",
              "      <th>12</th>\n",
              "      <td>6.3077</td>\n",
              "      <td>6.3087</td>\n",
              "      <td>0.83070</td>\n",
              "      <td>0.83100</td>\n",
              "      <td>2021-08-16 12:08:17.092</td>\n",
              "      <td>Intermediário</td>\n",
              "      <td>Coroa dinamarquesa</td>\n",
              "      <td>DKK</td>\n",
              "    </tr>\n",
              "    <tr>\n",
              "      <th>13</th>\n",
              "      <td>6.3150</td>\n",
              "      <td>6.3152</td>\n",
              "      <td>0.83050</td>\n",
              "      <td>0.83060</td>\n",
              "      <td>2021-08-16 13:05:49.693</td>\n",
              "      <td>Intermediário</td>\n",
              "      <td>Coroa dinamarquesa</td>\n",
              "      <td>DKK</td>\n",
              "    </tr>\n",
              "    <tr>\n",
              "      <th>14</th>\n",
              "      <td>6.3150</td>\n",
              "      <td>6.3152</td>\n",
              "      <td>0.83120</td>\n",
              "      <td>0.83130</td>\n",
              "      <td>2021-08-16 13:05:49.701</td>\n",
              "      <td>Fechamento</td>\n",
              "      <td>Coroa dinamarquesa</td>\n",
              "      <td>DKK</td>\n",
              "    </tr>\n",
              "    <tr>\n",
              "      <th>15</th>\n",
              "      <td>6.3314</td>\n",
              "      <td>6.3324</td>\n",
              "      <td>0.83320</td>\n",
              "      <td>0.83340</td>\n",
              "      <td>2021-08-17 10:04:56.608</td>\n",
              "      <td>Abertura</td>\n",
              "      <td>Coroa dinamarquesa</td>\n",
              "      <td>DKK</td>\n",
              "    </tr>\n",
              "    <tr>\n",
              "      <th>16</th>\n",
              "      <td>6.3347</td>\n",
              "      <td>6.3357</td>\n",
              "      <td>0.82840</td>\n",
              "      <td>0.82860</td>\n",
              "      <td>2021-08-17 11:06:19.052</td>\n",
              "      <td>Intermediário</td>\n",
              "      <td>Coroa dinamarquesa</td>\n",
              "      <td>DKK</td>\n",
              "    </tr>\n",
              "    <tr>\n",
              "      <th>17</th>\n",
              "      <td>6.3464</td>\n",
              "      <td>6.3474</td>\n",
              "      <td>0.82740</td>\n",
              "      <td>0.82760</td>\n",
              "      <td>2021-08-17 12:02:17.887</td>\n",
              "      <td>Intermediário</td>\n",
              "      <td>Coroa dinamarquesa</td>\n",
              "      <td>DKK</td>\n",
              "    </tr>\n",
              "    <tr>\n",
              "      <th>18</th>\n",
              "      <td>6.3485</td>\n",
              "      <td>6.3495</td>\n",
              "      <td>0.82760</td>\n",
              "      <td>0.82780</td>\n",
              "      <td>2021-08-17 13:10:47.971</td>\n",
              "      <td>Intermediário</td>\n",
              "      <td>Coroa dinamarquesa</td>\n",
              "      <td>DKK</td>\n",
              "    </tr>\n",
              "    <tr>\n",
              "      <th>19</th>\n",
              "      <td>6.3485</td>\n",
              "      <td>6.3495</td>\n",
              "      <td>0.82810</td>\n",
              "      <td>0.82830</td>\n",
              "      <td>2021-08-17 13:10:47.981</td>\n",
              "      <td>Fechamento</td>\n",
              "      <td>Coroa dinamarquesa</td>\n",
              "      <td>DKK</td>\n",
              "    </tr>\n",
              "    <tr>\n",
              "      <th>20</th>\n",
              "      <td>109.3000</td>\n",
              "      <td>109.3400</td>\n",
              "      <td>0.04811</td>\n",
              "      <td>0.04814</td>\n",
              "      <td>2021-08-16 10:02:22.187</td>\n",
              "      <td>Abertura</td>\n",
              "      <td>Iene</td>\n",
              "      <td>JPY</td>\n",
              "    </tr>\n",
              "    <tr>\n",
              "      <th>21</th>\n",
              "      <td>109.1600</td>\n",
              "      <td>109.1700</td>\n",
              "      <td>0.04808</td>\n",
              "      <td>0.04809</td>\n",
              "      <td>2021-08-16 11:08:17.306</td>\n",
              "      <td>Intermediário</td>\n",
              "      <td>Iene</td>\n",
              "      <td>JPY</td>\n",
              "    </tr>\n",
              "    <tr>\n",
              "      <th>22</th>\n",
              "      <td>109.1300</td>\n",
              "      <td>109.1600</td>\n",
              "      <td>0.04801</td>\n",
              "      <td>0.04803</td>\n",
              "      <td>2021-08-16 12:08:17.092</td>\n",
              "      <td>Intermediário</td>\n",
              "      <td>Iene</td>\n",
              "      <td>JPY</td>\n",
              "    </tr>\n",
              "    <tr>\n",
              "      <th>23</th>\n",
              "      <td>109.2500</td>\n",
              "      <td>109.2800</td>\n",
              "      <td>0.04799</td>\n",
              "      <td>0.04801</td>\n",
              "      <td>2021-08-16 13:05:49.693</td>\n",
              "      <td>Intermediário</td>\n",
              "      <td>Iene</td>\n",
              "      <td>JPY</td>\n",
              "    </tr>\n",
              "    <tr>\n",
              "      <th>24</th>\n",
              "      <td>109.2500</td>\n",
              "      <td>109.2800</td>\n",
              "      <td>0.04803</td>\n",
              "      <td>0.04805</td>\n",
              "      <td>2021-08-16 13:05:49.701</td>\n",
              "      <td>Fechamento</td>\n",
              "      <td>Iene</td>\n",
              "      <td>JPY</td>\n",
              "    </tr>\n",
              "    <tr>\n",
              "      <th>25</th>\n",
              "      <td>109.5300</td>\n",
              "      <td>109.5400</td>\n",
              "      <td>0.04817</td>\n",
              "      <td>0.04818</td>\n",
              "      <td>2021-08-17 10:04:56.608</td>\n",
              "      <td>Abertura</td>\n",
              "      <td>Iene</td>\n",
              "      <td>JPY</td>\n",
              "    </tr>\n",
              "    <tr>\n",
              "      <th>26</th>\n",
              "      <td>109.4200</td>\n",
              "      <td>109.4600</td>\n",
              "      <td>0.04795</td>\n",
              "      <td>0.04797</td>\n",
              "      <td>2021-08-17 11:06:19.052</td>\n",
              "      <td>Intermediário</td>\n",
              "      <td>Iene</td>\n",
              "      <td>JPY</td>\n",
              "    </tr>\n",
              "    <tr>\n",
              "      <th>27</th>\n",
              "      <td>109.5800</td>\n",
              "      <td>109.6100</td>\n",
              "      <td>0.04791</td>\n",
              "      <td>0.04793</td>\n",
              "      <td>2021-08-17 12:02:17.887</td>\n",
              "      <td>Intermediário</td>\n",
              "      <td>Iene</td>\n",
              "      <td>JPY</td>\n",
              "    </tr>\n",
              "    <tr>\n",
              "      <th>28</th>\n",
              "      <td>109.6000</td>\n",
              "      <td>109.6100</td>\n",
              "      <td>0.04794</td>\n",
              "      <td>0.04795</td>\n",
              "      <td>2021-08-17 13:10:47.971</td>\n",
              "      <td>Intermediário</td>\n",
              "      <td>Iene</td>\n",
              "      <td>JPY</td>\n",
              "    </tr>\n",
              "    <tr>\n",
              "      <th>29</th>\n",
              "      <td>109.6000</td>\n",
              "      <td>109.6100</td>\n",
              "      <td>0.04797</td>\n",
              "      <td>0.04798</td>\n",
              "      <td>2021-08-17 13:10:47.981</td>\n",
              "      <td>Fechamento</td>\n",
              "      <td>Iene</td>\n",
              "      <td>JPY</td>\n",
              "    </tr>\n",
              "    <tr>\n",
              "      <th>30</th>\n",
              "      <td>1.0000</td>\n",
              "      <td>1.0000</td>\n",
              "      <td>5.26060</td>\n",
              "      <td>5.26120</td>\n",
              "      <td>2021-08-16 10:02:22.187</td>\n",
              "      <td>Abertura</td>\n",
              "      <td>Dólar dos Estados Unidos</td>\n",
              "      <td>USD</td>\n",
              "    </tr>\n",
              "    <tr>\n",
              "      <th>31</th>\n",
              "      <td>1.0000</td>\n",
              "      <td>1.0000</td>\n",
              "      <td>5.24940</td>\n",
              "      <td>5.25000</td>\n",
              "      <td>2021-08-16 11:08:17.306</td>\n",
              "      <td>Intermediário</td>\n",
              "      <td>Dólar dos Estados Unidos</td>\n",
              "      <td>USD</td>\n",
              "    </tr>\n",
              "    <tr>\n",
              "      <th>32</th>\n",
              "      <td>1.0000</td>\n",
              "      <td>1.0000</td>\n",
              "      <td>5.24080</td>\n",
              "      <td>5.24140</td>\n",
              "      <td>2021-08-16 12:08:17.092</td>\n",
              "      <td>Intermediário</td>\n",
              "      <td>Dólar dos Estados Unidos</td>\n",
              "      <td>USD</td>\n",
              "    </tr>\n",
              "    <tr>\n",
              "      <th>33</th>\n",
              "      <td>1.0000</td>\n",
              "      <td>1.0000</td>\n",
              "      <td>5.24460</td>\n",
              "      <td>5.24520</td>\n",
              "      <td>2021-08-16 13:05:49.693</td>\n",
              "      <td>Intermediário</td>\n",
              "      <td>Dólar dos Estados Unidos</td>\n",
              "      <td>USD</td>\n",
              "    </tr>\n",
              "    <tr>\n",
              "      <th>34</th>\n",
              "      <td>1.0000</td>\n",
              "      <td>1.0000</td>\n",
              "      <td>5.24890</td>\n",
              "      <td>5.24950</td>\n",
              "      <td>2021-08-16 13:05:49.701</td>\n",
              "      <td>Fechamento</td>\n",
              "      <td>Dólar dos Estados Unidos</td>\n",
              "      <td>USD</td>\n",
              "    </tr>\n",
              "    <tr>\n",
              "      <th>35</th>\n",
              "      <td>1.0000</td>\n",
              "      <td>1.0000</td>\n",
              "      <td>5.27610</td>\n",
              "      <td>5.27670</td>\n",
              "      <td>2021-08-17 10:04:56.608</td>\n",
              "      <td>Abertura</td>\n",
              "      <td>Dólar dos Estados Unidos</td>\n",
              "      <td>USD</td>\n",
              "    </tr>\n",
              "    <tr>\n",
              "      <th>36</th>\n",
              "      <td>1.0000</td>\n",
              "      <td>1.0000</td>\n",
              "      <td>5.24850</td>\n",
              "      <td>5.24910</td>\n",
              "      <td>2021-08-17 11:06:19.052</td>\n",
              "      <td>Intermediário</td>\n",
              "      <td>Dólar dos Estados Unidos</td>\n",
              "      <td>USD</td>\n",
              "    </tr>\n",
              "    <tr>\n",
              "      <th>37</th>\n",
              "      <td>1.0000</td>\n",
              "      <td>1.0000</td>\n",
              "      <td>5.25180</td>\n",
              "      <td>5.25240</td>\n",
              "      <td>2021-08-17 12:02:17.887</td>\n",
              "      <td>Intermediário</td>\n",
              "      <td>Dólar dos Estados Unidos</td>\n",
              "      <td>USD</td>\n",
              "    </tr>\n",
              "    <tr>\n",
              "      <th>38</th>\n",
              "      <td>1.0000</td>\n",
              "      <td>1.0000</td>\n",
              "      <td>5.25500</td>\n",
              "      <td>5.25560</td>\n",
              "      <td>2021-08-17 13:10:47.971</td>\n",
              "      <td>Intermediário</td>\n",
              "      <td>Dólar dos Estados Unidos</td>\n",
              "      <td>USD</td>\n",
              "    </tr>\n",
              "    <tr>\n",
              "      <th>39</th>\n",
              "      <td>1.0000</td>\n",
              "      <td>1.0000</td>\n",
              "      <td>5.25790</td>\n",
              "      <td>5.25850</td>\n",
              "      <td>2021-08-17 13:10:47.981</td>\n",
              "      <td>Fechamento</td>\n",
              "      <td>Dólar dos Estados Unidos</td>\n",
              "      <td>USD</td>\n",
              "    </tr>\n",
              "  </tbody>\n",
              "</table>\n",
              "</div>"
            ],
            "text/plain": [
              "    paridadeCompra  paridadeVenda  ...                     moeda  moeda_sigla\n",
              "0           0.7325         0.7327  ...         Dólar australiano          AUD\n",
              "1           0.7322         0.7324  ...         Dólar australiano          AUD\n",
              "2           0.7334         0.7335  ...         Dólar australiano          AUD\n",
              "3           0.7338         0.7340  ...         Dólar australiano          AUD\n",
              "4           0.7338         0.7340  ...         Dólar australiano          AUD\n",
              "5           0.7280         0.7282  ...         Dólar australiano          AUD\n",
              "6           0.7267         0.7269  ...         Dólar australiano          AUD\n",
              "7           0.7258         0.7260  ...         Dólar australiano          AUD\n",
              "8           0.7253         0.7254  ...         Dólar australiano          AUD\n",
              "9           0.7253         0.7254  ...         Dólar australiano          AUD\n",
              "10          6.3139         6.3149  ...        Coroa dinamarquesa          DKK\n",
              "11          6.3155         6.3158  ...        Coroa dinamarquesa          DKK\n",
              "12          6.3077         6.3087  ...        Coroa dinamarquesa          DKK\n",
              "13          6.3150         6.3152  ...        Coroa dinamarquesa          DKK\n",
              "14          6.3150         6.3152  ...        Coroa dinamarquesa          DKK\n",
              "15          6.3314         6.3324  ...        Coroa dinamarquesa          DKK\n",
              "16          6.3347         6.3357  ...        Coroa dinamarquesa          DKK\n",
              "17          6.3464         6.3474  ...        Coroa dinamarquesa          DKK\n",
              "18          6.3485         6.3495  ...        Coroa dinamarquesa          DKK\n",
              "19          6.3485         6.3495  ...        Coroa dinamarquesa          DKK\n",
              "20        109.3000       109.3400  ...                      Iene          JPY\n",
              "21        109.1600       109.1700  ...                      Iene          JPY\n",
              "22        109.1300       109.1600  ...                      Iene          JPY\n",
              "23        109.2500       109.2800  ...                      Iene          JPY\n",
              "24        109.2500       109.2800  ...                      Iene          JPY\n",
              "25        109.5300       109.5400  ...                      Iene          JPY\n",
              "26        109.4200       109.4600  ...                      Iene          JPY\n",
              "27        109.5800       109.6100  ...                      Iene          JPY\n",
              "28        109.6000       109.6100  ...                      Iene          JPY\n",
              "29        109.6000       109.6100  ...                      Iene          JPY\n",
              "30          1.0000         1.0000  ...  Dólar dos Estados Unidos          USD\n",
              "31          1.0000         1.0000  ...  Dólar dos Estados Unidos          USD\n",
              "32          1.0000         1.0000  ...  Dólar dos Estados Unidos          USD\n",
              "33          1.0000         1.0000  ...  Dólar dos Estados Unidos          USD\n",
              "34          1.0000         1.0000  ...  Dólar dos Estados Unidos          USD\n",
              "35          1.0000         1.0000  ...  Dólar dos Estados Unidos          USD\n",
              "36          1.0000         1.0000  ...  Dólar dos Estados Unidos          USD\n",
              "37          1.0000         1.0000  ...  Dólar dos Estados Unidos          USD\n",
              "38          1.0000         1.0000  ...  Dólar dos Estados Unidos          USD\n",
              "39          1.0000         1.0000  ...  Dólar dos Estados Unidos          USD\n",
              "\n",
              "[40 rows x 8 columns]"
            ]
          },
          "metadata": {
            "tags": []
          },
          "execution_count": 10
        }
      ]
    },
    {
      "cell_type": "code",
      "metadata": {
        "id": "i1Tja3uLyJEB"
      },
      "source": [
        "bcb.to_pickle('Dataframe_Moedas.pkl', compression='bz2')"
      ],
      "execution_count": null,
      "outputs": []
    },
    {
      "cell_type": "markdown",
      "metadata": {
        "id": "pxYd-2uq9LUv"
      },
      "source": [
        "# HTML, JSON e REGEX\n",
        "\n",
        "Crie um extrator de contratos a partir da seção 3 do Diário Oficial da União, obtendo as informações da página (link e texto) e por meio de expressões regulares extraia o nome do contratante, CNPJ e nome do contratado. Coloque o resultado num dataframe e salve em disco com o Pickle."
      ]
    },
    {
      "cell_type": "markdown",
      "metadata": {
        "id": "J_y6fSVzXhVg"
      },
      "source": [
        "### Requisição"
      ]
    },
    {
      "cell_type": "code",
      "metadata": {
        "id": "YHX95UdacfeD",
        "colab": {
          "base_uri": "https://localhost:8080/"
        },
        "outputId": "5a5fb0a7-2439-4335-9f27-1f435eda71c4"
      },
      "source": [
        "#url1='http://www.imprensanacional.gov.br'\n",
        "#secao='do3'; url2=f'https://www.in.gov.br/leiturajornal?data={data}&secao={secao}\n",
        "\n",
        "secao='dou3'\n",
        "data='09-08-2021'\n",
        "url=f'https://www.in.gov.br/leiturajornal?secao={secao}&data={data}'\n",
        "print(url)"
      ],
      "execution_count": null,
      "outputs": [
        {
          "output_type": "stream",
          "text": [
            "https://www.in.gov.br/leiturajornal?secao=dou3&data=09-08-2021\n"
          ],
          "name": "stdout"
        }
      ]
    },
    {
      "cell_type": "code",
      "metadata": {
        "id": "4beDHx1wcfhM"
      },
      "source": [
        "'''\n",
        "header = {\n",
        "  \"User-Agent\": \"Mozilla/5.0 (X11; Linux x86_64) AppleWebKit/537.36 (KHTML, like Gecko) Chrome/50.0.2661.75 Safari/537.36\",\n",
        "  \"X-Requested-With\": \"XMLHttpRequest\"\n",
        "}\n",
        "r = requests.get(url, headers=header)\n",
        "'''"
      ],
      "execution_count": null,
      "outputs": []
    },
    {
      "cell_type": "code",
      "metadata": {
        "id": "RjxJnryL_KFZ",
        "colab": {
          "base_uri": "https://localhost:8080/"
        },
        "outputId": "8ae3f279-1282-4909-bac3-dc64f3af33d4"
      },
      "source": [
        "%%time\n",
        "#r=requests.get(url)\n",
        "#soup=BeautifulSoup(r.text, 'html.parser')\n",
        "\n",
        "r=requests.get(url).content\n",
        "soup=BeautifulSoup(r, 'html.parser')"
      ],
      "execution_count": null,
      "outputs": [
        {
          "output_type": "stream",
          "text": [
            "CPU times: user 149 ms, sys: 29.5 ms, total: 179 ms\n",
            "Wall time: 17.8 s\n"
          ],
          "name": "stdout"
        }
      ]
    },
    {
      "cell_type": "code",
      "metadata": {
        "id": "SUWrMnpXyCpt",
        "colab": {
          "base_uri": "https://localhost:8080/"
        },
        "outputId": "774fc182-d62e-431c-8b92-0a6c20f7a20d"
      },
      "source": [
        "print(soup.prettify()[:600])"
      ],
      "execution_count": null,
      "outputs": [
        {
          "output_type": "stream",
          "text": [
            "<!DOCTYPE html>\n",
            "<html class=\"ltr\" dir=\"ltr\" lang=\"pt-BR\">\n",
            " <head>\n",
            "  <title>\n",
            "   Leitura do Jornal - Imprensa Nacional\n",
            "  </title>\n",
            "  <meta content=\"initial-scale=1.0, width=device-width\" name=\"viewport\"/>\n",
            "  <meta content=\"http://estruturaorganizacional.dados.gov.br/id/unidade-organizacional/332\" property=\"creator.productor\"/>\n",
            "  <!-- FAVICON -->\n",
            "  <link href=\"https://www.in.gov.br/o/imprensa-nacional-lf7_1-ce-theme/images/favicon/apple-icon-57x57.png\" rel=\"apple-touch-icon\" sizes=\"57x57\"/>\n",
            "  <link href=\"https://www.in.gov.br/o/imprensa-nacional-lf7_1-ce-theme/images/favicon//apple-icon-60x60.png\" \n"
          ],
          "name": "stdout"
        }
      ]
    },
    {
      "cell_type": "markdown",
      "metadata": {
        "id": "4yLEQ1r_Rtng"
      },
      "source": [
        "### Busca no HTML - Método 1:\n",
        "--> Procurar por: ```<script id=\"params\" type=\"application/json\">```"
      ]
    },
    {
      "cell_type": "code",
      "metadata": {
        "colab": {
          "base_uri": "https://localhost:8080/"
        },
        "id": "jSwD3pTeH6X5",
        "outputId": "90f574c5-1f1c-4479-a686-dc5f85d001c2"
      },
      "source": [
        "#Procurar por: <script id=\"params\" type=\"application/json\">\n",
        "busca = soup.find_all('script', id=\"params\")\n",
        "print(busca[0].prettify()[:92])"
      ],
      "execution_count": null,
      "outputs": [
        {
          "output_type": "stream",
          "text": [
            "<script id=\"params\" type=\"application/json\">\n",
            " {\"typeNormDay\":{\"DO2ESP\":false,\"DO1ESP\":false,\n"
          ],
          "name": "stdout"
        }
      ]
    },
    {
      "cell_type": "code",
      "metadata": {
        "id": "J-LVynm9SdAt"
      },
      "source": [
        "D = json.loads( busca[0].text.replace('\\n','').replace('\\t','') )"
      ],
      "execution_count": null,
      "outputs": []
    },
    {
      "cell_type": "markdown",
      "metadata": {
        "id": "392yCqW1SBF8"
      },
      "source": [
        "### Busca no HTML - Método 2:\n",
        "--> Procurar por: ```jsonArray```"
      ]
    },
    {
      "cell_type": "code",
      "metadata": {
        "id": "Ae7_IETVMaVY"
      },
      "source": [
        "#Procurar por: jsonArray\n",
        "busca2 = soup.find_all(text=re.compile('jsonArray'))"
      ],
      "execution_count": null,
      "outputs": []
    },
    {
      "cell_type": "code",
      "metadata": {
        "colab": {
          "base_uri": "https://localhost:8080/"
        },
        "id": "sOGo87SFRTLj",
        "outputId": "ce8ea5c0-4e12-4cb5-87b7-c5d275fde63a"
      },
      "source": [
        "type(busca2), len(busca2)"
      ],
      "execution_count": null,
      "outputs": [
        {
          "output_type": "execute_result",
          "data": {
            "text/plain": [
              "(bs4.element.ResultSet, 3)"
            ]
          },
          "metadata": {
            "tags": []
          },
          "execution_count": 35
        }
      ]
    },
    {
      "cell_type": "code",
      "metadata": {
        "colab": {
          "base_uri": "https://localhost:8080/"
        },
        "id": "7pPhn46XQ83c",
        "outputId": "5a542e3d-1a4c-4dd9-e648-c538b4b842cd"
      },
      "source": [
        "print(busca2[0][2:19])\n",
        "print(busca2[1][4:100])\n",
        "print(busca2[2][1:100])"
      ],
      "execution_count": null,
      "outputs": [
        {
          "output_type": "stream",
          "text": [
            "\t{\"jsonArray\":[]}\n",
            "var elemParams = document.getElementById(\"_br_com_seatecnologia_in_buscadou_BuscaDouPortlet_para\n",
            "\t{\"typeNormDay\":{\"DO2ESP\":false,\"DO1ESP\":false,\"DO1A\":false,\"DO3E\":false,\"DO2E\":false,\"DO1E\":false}\n"
          ],
          "name": "stdout"
        }
      ]
    },
    {
      "cell_type": "code",
      "metadata": {
        "colab": {
          "base_uri": "https://localhost:8080/"
        },
        "id": "0ZWgeCedNVvR",
        "outputId": "fc42f85c-419f-491d-eff7-d986f10448d2"
      },
      "source": [
        "D2 = json.loads( busca2[2].replace('\\n','').replace('\\t','') )\n",
        "D2.keys()"
      ],
      "execution_count": null,
      "outputs": [
        {
          "output_type": "execute_result",
          "data": {
            "text/plain": [
              "dict_keys(['typeNormDay', 'idPortletInstance', 'dateUrl', 'section', 'jsonArray'])"
            ]
          },
          "metadata": {
            "tags": []
          },
          "execution_count": 59
        }
      ]
    },
    {
      "cell_type": "code",
      "metadata": {
        "colab": {
          "base_uri": "https://localhost:8080/"
        },
        "id": "wwCnH_esUqR2",
        "outputId": "4f3fa44b-d284-49da-c39e-fd53bac44e83"
      },
      "source": [
        "D2==D"
      ],
      "execution_count": null,
      "outputs": [
        {
          "output_type": "execute_result",
          "data": {
            "text/plain": [
              "True"
            ]
          },
          "metadata": {
            "tags": []
          },
          "execution_count": 60
        }
      ]
    },
    {
      "cell_type": "markdown",
      "metadata": {
        "id": "UrPGkGwHSkpo"
      },
      "source": [
        "### Dicionário"
      ]
    },
    {
      "cell_type": "code",
      "metadata": {
        "colab": {
          "base_uri": "https://localhost:8080/"
        },
        "id": "TslfYdFzOUGv",
        "outputId": "b3606d58-269d-404d-f6e0-99884cb37e8c"
      },
      "source": [
        "D.keys()"
      ],
      "execution_count": null,
      "outputs": [
        {
          "output_type": "execute_result",
          "data": {
            "text/plain": [
              "dict_keys(['typeNormDay', 'idPortletInstance', 'dateUrl', 'section', 'jsonArray'])"
            ]
          },
          "metadata": {
            "tags": []
          },
          "execution_count": 8
        }
      ]
    },
    {
      "cell_type": "code",
      "metadata": {
        "colab": {
          "base_uri": "https://localhost:8080/"
        },
        "id": "Jv8kwXrXP2FW",
        "outputId": "e73688a7-275a-40e1-c380-7db7594885ea"
      },
      "source": [
        "type(D['jsonArray']), len(D['jsonArray'])"
      ],
      "execution_count": null,
      "outputs": [
        {
          "output_type": "execute_result",
          "data": {
            "text/plain": [
              "(list, 2680)"
            ]
          },
          "metadata": {
            "tags": []
          },
          "execution_count": 9
        }
      ]
    },
    {
      "cell_type": "code",
      "metadata": {
        "colab": {
          "base_uri": "https://localhost:8080/"
        },
        "id": "aJ9YQErnNnrN",
        "outputId": "cb89d1f3-09ee-49be-ee2d-700092433485"
      },
      "source": [
        "D['jsonArray'][-1]"
      ],
      "execution_count": null,
      "outputs": [
        {
          "output_type": "execute_result",
          "data": {
            "text/plain": [
              "{'artType': 'Extrato de Termo Aditivo',\n",
              " 'content': 'Extrato de Termo Aditivo Espécie: Termo de Rerratificação de Contrato - Tomada de Preços nº 02/2020 - CPL nº. 158/2020. Partes: Prefeitura de Sorocaba e a empresa GALLI INSTALAÇÕES E SERVIÇOS EIRELI - ME (***) - CNPJ: 18.787.702/0001-22. Objeto: retificação da clausula \"1.2. Contrato de Repasse OGU 873908/2018 com Governo Federal através do Ministério do Esporte\". Disponível no endereço: https://b...',\n",
              " 'hierarchyLevelSize': 3,\n",
              " 'hierarchyList': ['Prefeituras',\n",
              "  'Estado de São Paulo',\n",
              "  'Prefeitura Municipal de Sorocaba'],\n",
              " 'hierarchyStr': 'Prefeituras/Estado de São Paulo/Prefeitura Municipal de Sorocaba',\n",
              " 'numberPage': '249',\n",
              " 'pubOrder': 'DO300051:00024:00710:00000:00000:00000:00000:00000:00000:00000:00055:00000',\n",
              " 'title': 'Extrato de Termo Aditivo',\n",
              " 'urlTitle': 'extrato-de-termo-aditivo-337230185'}"
            ]
          },
          "metadata": {
            "tags": []
          },
          "execution_count": 10
        }
      ]
    },
    {
      "cell_type": "markdown",
      "metadata": {
        "id": "zR7lk_XWXv0r"
      },
      "source": [
        "### DataFrame"
      ]
    },
    {
      "cell_type": "code",
      "metadata": {
        "colab": {
          "base_uri": "https://localhost:8080/"
        },
        "id": "aK7Z8Xd2UyTh",
        "outputId": "25aef822-11b3-4b0f-81c3-1bc078ee7816"
      },
      "source": [
        "df_lista_url = pd.DataFrame(D['jsonArray'], columns=['title', 'urlTitle', 'content'])\n",
        "df_lista_url.urlTitle = df_lista_url.urlTitle.apply(lambda s:'https://www.in.gov.br/web/dou/-/'+s)\n",
        "\n",
        "display( df_lista_url.head(4) )\n",
        "print( df_lista_url.shape )"
      ],
      "execution_count": null,
      "outputs": [
        {
          "output_type": "display_data",
          "data": {
            "text/html": [
              "<div>\n",
              "<style scoped>\n",
              "    .dataframe tbody tr th:only-of-type {\n",
              "        vertical-align: middle;\n",
              "    }\n",
              "\n",
              "    .dataframe tbody tr th {\n",
              "        vertical-align: top;\n",
              "    }\n",
              "\n",
              "    .dataframe thead th {\n",
              "        text-align: right;\n",
              "    }\n",
              "</style>\n",
              "<table border=\"1\" class=\"dataframe\">\n",
              "  <thead>\n",
              "    <tr style=\"text-align: right;\">\n",
              "      <th></th>\n",
              "      <th>title</th>\n",
              "      <th>urlTitle</th>\n",
              "      <th>content</th>\n",
              "    </tr>\n",
              "  </thead>\n",
              "  <tbody>\n",
              "    <tr>\n",
              "      <th>0</th>\n",
              "      <td>EXTRATO DE TERMO ADITIVO Nº 1.001/2019 - UASG ...</td>\n",
              "      <td>https://www.in.gov.br/web/dou/-/extrato-de-ter...</td>\n",
              "      <td>EXTRATO DE TERMO ADITIVO Nº 1.001/2019 - UASG ...</td>\n",
              "    </tr>\n",
              "    <tr>\n",
              "      <th>1</th>\n",
              "      <td>EXTRATO DE TERMO ADITIVO Nº 1/2021 - UASG 1300...</td>\n",
              "      <td>https://www.in.gov.br/web/dou/-/extrato-de-ter...</td>\n",
              "      <td>EXTRATO DE TERMO ADITIVO Nº 1/2021 - UASG 1300...</td>\n",
              "    </tr>\n",
              "    <tr>\n",
              "      <th>2</th>\n",
              "      <td>EXTRATO DE TERMO APOSTILAMENTO</td>\n",
              "      <td>https://www.in.gov.br/web/dou/-/extrato-de-ter...</td>\n",
              "      <td>EXTRATO DE TERMO APOSTILAMENTO A repactuação d...</td>\n",
              "    </tr>\n",
              "    <tr>\n",
              "      <th>3</th>\n",
              "      <td>EXTRATO DE TERMO ADITIVO</td>\n",
              "      <td>https://www.in.gov.br/web/dou/-/extrato-de-ter...</td>\n",
              "      <td>EXTRATO DE TERMO ADITIVO Espécie: Termo Aditiv...</td>\n",
              "    </tr>\n",
              "  </tbody>\n",
              "</table>\n",
              "</div>"
            ],
            "text/plain": [
              "                                               title  ...                                            content\n",
              "0  EXTRATO DE TERMO ADITIVO Nº 1.001/2019 - UASG ...  ...  EXTRATO DE TERMO ADITIVO Nº 1.001/2019 - UASG ...\n",
              "1  EXTRATO DE TERMO ADITIVO Nº 1/2021 - UASG 1300...  ...  EXTRATO DE TERMO ADITIVO Nº 1/2021 - UASG 1300...\n",
              "2                     EXTRATO DE TERMO APOSTILAMENTO  ...  EXTRATO DE TERMO APOSTILAMENTO A repactuação d...\n",
              "3                           EXTRATO DE TERMO ADITIVO  ...  EXTRATO DE TERMO ADITIVO Espécie: Termo Aditiv...\n",
              "\n",
              "[4 rows x 3 columns]"
            ]
          },
          "metadata": {
            "tags": []
          }
        },
        {
          "output_type": "stream",
          "text": [
            "(2680, 3)\n"
          ],
          "name": "stdout"
        }
      ]
    },
    {
      "cell_type": "markdown",
      "metadata": {
        "id": "TWOdbUK9zEsH"
      },
      "source": [
        "### Regex - Extração de informações"
      ]
    },
    {
      "cell_type": "code",
      "metadata": {
        "colab": {
          "base_uri": "https://localhost:8080/"
        },
        "id": "Lca77ewsVrIY",
        "outputId": "d41902ef-c373-4ba7-f2d8-431787338ab6"
      },
      "source": [
        "link = df_lista_url.urlTitle.loc[1]\n",
        "print(link)\n",
        "\n",
        "s=BeautifulSoup(requests.get(link).content, 'html.parser')"
      ],
      "execution_count": null,
      "outputs": [
        {
          "output_type": "stream",
          "text": [
            "https://www.in.gov.br/web/dou/-/extrato-de-termo-aditivo-n-1/2021-uasg-130060-sfa/es/mapa-336997967\n"
          ],
          "name": "stdout"
        }
      ]
    },
    {
      "cell_type": "code",
      "metadata": {
        "colab": {
          "base_uri": "https://localhost:8080/"
        },
        "id": "njubDP60ybB5",
        "outputId": "ec77d757-f251-46c7-aed9-9ad97db96b26"
      },
      "source": [
        "#Método 1:\n",
        "busca = s.find_all('p', class_=\"dou-paragraph\")\n",
        "busca"
      ],
      "execution_count": null,
      "outputs": [
        {
          "output_type": "execute_result",
          "data": {
            "text/plain": [
              "[<p class=\"dou-paragraph\">Número do Contrato: 2/2020.</p>,\n",
              " <p class=\"dou-paragraph\">Nº Processo: 21018.003713/2019-24.</p>,\n",
              " <p class=\"dou-paragraph\">Pregão. Nº 6/2014. Contratante: SUPERINT.FED.DE AGRIC.,PEC.E ABASTECIMENTO/ES. Contratado: 27.355.635/0001-68 - MECANICA DO TREVO PECAS E ACESSORIOS LTDA - EPP. Objeto: O presente termo aditivo tem por objetivo a prorogar o prazo de vigencia de 15/06/2021 a 15/06/2022, do contrato original nº 02/2020. Vigência: 15/06/2020 a 15/06/2021. Valor Total Atualizado do Contrato: R$ 80.359,95. Data de Assinatura: 20/05/2021.</p>,\n",
              " <p class=\"dou-paragraph\">(COMPRASNET 4.0 - 20/05/2021).</p>]"
            ]
          },
          "metadata": {
            "tags": []
          },
          "execution_count": 28
        }
      ]
    },
    {
      "cell_type": "code",
      "metadata": {
        "colab": {
          "base_uri": "https://localhost:8080/"
        },
        "id": "vuoD5qiKURjW",
        "outputId": "73d3e9bf-766a-4369-f8de-5551852d40c6"
      },
      "source": [
        "L=[len(busca[i].text) for i in range(len(busca))]\n",
        "#Argmax:\n",
        "i = max(zip(L, range(len(L))))[1]\n",
        "print(L,i)\n",
        "\n",
        "texto = busca[i].text"
      ],
      "execution_count": null,
      "outputs": [
        {
          "output_type": "stream",
          "text": [
            "[27, 34, 419, 30] 2\n"
          ],
          "name": "stdout"
        }
      ]
    },
    {
      "cell_type": "code",
      "metadata": {
        "colab": {
          "base_uri": "https://localhost:8080/"
        },
        "id": "vuwBMyGPw-hA",
        "outputId": "120a8a2d-c138-4d73-d881-976e4d8fd754"
      },
      "source": [
        "#Método 2:\n",
        "try:\n",
        "  texto = s.find_all(text=re.compile('Contratante'))[0]\n",
        "  print(texto)\n",
        "except:\n",
        "  print('String não encontrada.')"
      ],
      "execution_count": null,
      "outputs": [
        {
          "output_type": "stream",
          "text": [
            "Pregão. Nº 6/2014. Contratante: SUPERINT.FED.DE AGRIC.,PEC.E ABASTECIMENTO/ES. Contratado: 27.355.635/0001-68 - MECANICA DO TREVO PECAS E ACESSORIOS LTDA - EPP. Objeto: O presente termo aditivo tem por objetivo a prorogar o prazo de vigencia de 15/06/2021 a 15/06/2022, do contrato original nº 02/2020. Vigência: 15/06/2020 a 15/06/2021. Valor Total Atualizado do Contrato: R$ 80.359,95. Data de Assinatura: 20/05/2021.\n"
          ],
          "name": "stdout"
        }
      ]
    },
    {
      "cell_type": "code",
      "metadata": {
        "colab": {
          "base_uri": "https://localhost:8080/"
        },
        "id": "lRz375P70pS4",
        "outputId": "4f7fb885-2c58-4e57-b3e7-e6552a826f48"
      },
      "source": [
        "Contratante = re.findall(r'Contratante: \\b(([A-ZÀ-Û]+[\\s\\./,-]+){1,}[A-ZÀ-Û]+)\\b', texto)[0][0]\n",
        "\n",
        "#CNPJ = re.findall(r'\\b(\\d{2}\\.\\d{3}\\.\\d{3}/\\d{4}-\\d{2})\\b', texto)[0]\n",
        "CNPJ = re.findall(r'Contratado: \\b(\\d{2}\\.\\d{3}\\.\\d{3}/\\d{4}-\\d{2})\\b', texto)[0]\n",
        "\n",
        "#Contratado = re.findall(r'Contratado: '+CNPJ+' - (([A-ZÀ-Û]+[\\s\\./,-]+){1,})', texto)#[0][0]\n",
        "Contratado = re.findall(r'Contratado: '+CNPJ+' - (([A-ZÀ-Û]+[\\s\\./,]+){1,}[A-ZÀ-Û]+)', texto)[0][0]\n",
        "\n",
        "####################\n",
        "print(f'Contratante: {Contratante}\\nContratado:  {Contratado}\\nCNPJ:        {CNPJ}')"
      ],
      "execution_count": null,
      "outputs": [
        {
          "output_type": "stream",
          "text": [
            "Contratante: SUPERINT.FED.DE AGRIC.,PEC.E ABASTECIMENTO/ES\n",
            "Contratado:  MECANICA DO TREVO PECAS E ACESSORIOS LTDA\n",
            "CNPJ:        27.355.635/0001-68\n"
          ],
          "name": "stdout"
        }
      ]
    },
    {
      "cell_type": "code",
      "metadata": {
        "colab": {
          "base_uri": "https://localhost:8080/"
        },
        "id": "j94-pmwiSQmK",
        "outputId": "9a9586d6-e99a-4c1b-92a9-f0360d51570b"
      },
      "source": [
        "%%time\n",
        "CNPJs=[]; #Empresas=[]\n",
        "CNPJ_Contratado=[]; Contratado=[]; Contratante=[];\n",
        "for link in df_lista_url.urlTitle:\n",
        "  s = BeautifulSoup(requests.get(link).content, 'html.parser')\n",
        "  busca = s.find_all('p', class_=\"dou-paragraph\")\n",
        "  L=[len(busca[i].text) for i in range(len(busca))]\n",
        "  i = max(zip(L, range(len(L))))[1]  #Argmax:\n",
        "  texto = busca[i].text\n",
        "  try:\n",
        "    #Empresas.append(re.findall(r'\\b(([A-ZÀ-Û]+[\\s\\./,-]+){1,}[A-ZÀ-Û]+)\\b', texto))\n",
        "    CNPJs.append(re.findall(r'\\b(\\d{2}\\.\\d{3}\\.\\d{3}/\\d{4}-\\d{2})\\b', texto))\n",
        "    #print(CNPJs[-1])\n",
        "    Contratante.append(re.findall(r'Contratante: \\b(([A-ZÀ-Û]+[\\s\\./,-]+){1,}[A-ZÀ-Û]+)\\b', texto)[0][0])\n",
        "    try:\n",
        "      CNPJ_Contratado.append(re.findall(r'Contratado: \\b(\\d{2}\\.\\d{3}\\.\\d{3}/\\d{4}-\\d{2})\\b', texto)[0])\n",
        "      Contratado.append(re.findall(r'Contratado: '+CNPJ_Contratado+' - (([A-ZÀ-Û]+[\\s\\./,]+){1,}[A-ZÀ-Û]+)', texto)[0][0])\n",
        "    except:\n",
        "      CNPJ_Contratado.append(None); Contratado.append(None);\n",
        "  except:\n",
        "    Contratante.append(None); CNPJ_Contratado.append(None); Contratado.append(None);"
      ],
      "execution_count": null,
      "outputs": [
        {
          "output_type": "stream",
          "text": [
            "CPU times: user 2min 18s, sys: 4.03 s, total: 2min 22s\n",
            "Wall time: 48min 29s\n"
          ],
          "name": "stdout"
        }
      ]
    },
    {
      "cell_type": "code",
      "metadata": {
        "id": "EEZYrxN8YBUk"
      },
      "source": [
        "'''\n",
        "#Wall time: 1h 12s\n",
        "%%time\n",
        "CNPJ_Contratado=[]; Contratado=[]; Contratante=[];\n",
        "for link in df_lista_url.urlTitle:\n",
        "  s = BeautifulSoup(requests.get(link).content, 'html.parser')\n",
        "  try:\n",
        "    texto = s.find_all(text=re.compile('Contratante'))[0]\n",
        "    Contratante.append(re.findall(r'Contratante: \\b(([A-ZÀ-Û]+[\\s\\./,-]+){1,}[A-ZÀ-Û]+)\\b', texto)[0][0])\n",
        "    try:\n",
        "      CNPJ_Contratado.append(re.findall(r'Contratado: \\b(\\d{2}\\.\\d{3}\\.\\d{3}/\\d{4}-\\d{2})\\b', texto)[0])\n",
        "      Contratado.append(re.findall(r'Contratado: '+CNPJ_Contratado+' - (([A-ZÀ-Û]+[\\s\\./,]+){1,}[A-ZÀ-Û]+)', texto)[0][0])\n",
        "    except:\n",
        "      CNPJ_Contratado.append(''); Contratado.append('');\n",
        "  except:\n",
        "    Contratante.append(''); CNPJ_Contratado.append(''); Contratado.append('');\n",
        "'''"
      ],
      "execution_count": null,
      "outputs": []
    },
    {
      "cell_type": "code",
      "metadata": {
        "id": "uulaihofYBNg"
      },
      "source": [
        "df_lista_url['CNPJs']=pd.Series(CNPJs)\n",
        "df_lista_url['CNPJ_Contratado']=pd.Series(CNPJ_Contratado)\n",
        "df_lista_url['Contratado']=pd.Series(Contratado)\n",
        "df_lista_url['Contratante']=pd.Series(Contratante)"
      ],
      "execution_count": null,
      "outputs": []
    },
    {
      "cell_type": "code",
      "metadata": {
        "colab": {
          "base_uri": "https://localhost:8080/",
          "height": 1000
        },
        "id": "a-koDuFpPVKR",
        "outputId": "1ca4cce6-0471-4611-8917-0b4807172101"
      },
      "source": [
        "#f=df_lista_url['CNPJ_Contratado'].notnull()\n",
        "f=df_lista_url['Contratante'].notnull()\n",
        "df_lista_url.loc[f]"
      ],
      "execution_count": null,
      "outputs": [
        {
          "output_type": "execute_result",
          "data": {
            "text/html": [
              "<div>\n",
              "<style scoped>\n",
              "    .dataframe tbody tr th:only-of-type {\n",
              "        vertical-align: middle;\n",
              "    }\n",
              "\n",
              "    .dataframe tbody tr th {\n",
              "        vertical-align: top;\n",
              "    }\n",
              "\n",
              "    .dataframe thead th {\n",
              "        text-align: right;\n",
              "    }\n",
              "</style>\n",
              "<table border=\"1\" class=\"dataframe\">\n",
              "  <thead>\n",
              "    <tr style=\"text-align: right;\">\n",
              "      <th></th>\n",
              "      <th>title</th>\n",
              "      <th>urlTitle</th>\n",
              "      <th>content</th>\n",
              "      <th>CNPJs</th>\n",
              "      <th>CNPJ_Contratado</th>\n",
              "      <th>Contratado</th>\n",
              "      <th>Contratante</th>\n",
              "    </tr>\n",
              "  </thead>\n",
              "  <tbody>\n",
              "    <tr>\n",
              "      <th>0</th>\n",
              "      <td>EXTRATO DE TERMO ADITIVO Nº 1.001/2019 - UASG ...</td>\n",
              "      <td>https://www.in.gov.br/web/dou/-/extrato-de-ter...</td>\n",
              "      <td>EXTRATO DE TERMO ADITIVO Nº 1.001/2019 - UASG ...</td>\n",
              "      <td>[]</td>\n",
              "      <td>None</td>\n",
              "      <td>None</td>\n",
              "      <td>INSTITUTO NACIONAL DE COLONIZACAO-E REFORMA AG...</td>\n",
              "    </tr>\n",
              "    <tr>\n",
              "      <th>1</th>\n",
              "      <td>EXTRATO DE TERMO ADITIVO Nº 1/2021 - UASG 1300...</td>\n",
              "      <td>https://www.in.gov.br/web/dou/-/extrato-de-ter...</td>\n",
              "      <td>EXTRATO DE TERMO ADITIVO Nº 1/2021 - UASG 1300...</td>\n",
              "      <td>[27.355.635/0001-68]</td>\n",
              "      <td>27.355.635/0001-68</td>\n",
              "      <td>None</td>\n",
              "      <td>SUPERINT.FED.DE AGRIC.,PEC.E ABASTECIMENTO/ES</td>\n",
              "    </tr>\n",
              "    <tr>\n",
              "      <th>6</th>\n",
              "      <td>EXTRATO DE TERMO ADITIVO Nº 1/2021 - UASG 1300...</td>\n",
              "      <td>https://www.in.gov.br/web/dou/-/extrato-de-ter...</td>\n",
              "      <td>EXTRATO DE TERMO ADITIVO Nº 1/2021 - UASG 1300...</td>\n",
              "      <td>[27.355.635/0001-68]</td>\n",
              "      <td>None</td>\n",
              "      <td>None</td>\n",
              "      <td>SUPERINT.FED.DE AGRIC.,PEC.E ABASTECIMENTO/ES</td>\n",
              "    </tr>\n",
              "    <tr>\n",
              "      <th>19</th>\n",
              "      <td>EXTRATO DE TERMO ADITIVO Nº 205/2021 - UASG 15...</td>\n",
              "      <td>https://www.in.gov.br/web/dou/-/extrato-de-ter...</td>\n",
              "      <td>EXTRATO DE TERMO ADITIVO Nº 205/2021 - UASG 15...</td>\n",
              "      <td>[02.700.617/0001-45]</td>\n",
              "      <td>None</td>\n",
              "      <td>None</td>\n",
              "      <td>CPST FED RN / CAMPUS CANGUARETAMA</td>\n",
              "    </tr>\n",
              "    <tr>\n",
              "      <th>22</th>\n",
              "      <td>EXTRATO DE TERMO ADITIVO Nº 3/2021 - UASG 1206...</td>\n",
              "      <td>https://www.in.gov.br/web/dou/-/extrato-de-ter...</td>\n",
              "      <td>EXTRATO DE TERMO ADITIVO Nº 3/2021 - UASG 1206...</td>\n",
              "      <td>[76.535.764/0001-43, 33.000.118/0001-79, 76.53...</td>\n",
              "      <td>None</td>\n",
              "      <td>None</td>\n",
              "      <td>GRUPAMENTO DE APOIO DE LAGOA SANTA</td>\n",
              "    </tr>\n",
              "    <tr>\n",
              "      <th>...</th>\n",
              "      <td>...</td>\n",
              "      <td>...</td>\n",
              "      <td>...</td>\n",
              "      <td>...</td>\n",
              "      <td>...</td>\n",
              "      <td>...</td>\n",
              "      <td>...</td>\n",
              "    </tr>\n",
              "    <tr>\n",
              "      <th>2506</th>\n",
              "      <td>EXTRATO DE TERMO ADITIVO Nº 1/2021 - UASG 1600...</td>\n",
              "      <td>https://www.in.gov.br/web/dou/-/extrato-de-ter...</td>\n",
              "      <td>EXTRATO DE TERMO ADITIVO Nº 1/2021 - UASG 1600...</td>\n",
              "      <td>[09.087.150/0005-82]</td>\n",
              "      <td>None</td>\n",
              "      <td>None</td>\n",
              "      <td>HOSPITAL MILITAR DE AREA DE BRASILIA</td>\n",
              "    </tr>\n",
              "    <tr>\n",
              "      <th>2510</th>\n",
              "      <td>EXTRATO DE TERMO ADITIVO Nº 6/2021 - UASG 1730...</td>\n",
              "      <td>https://www.in.gov.br/web/dou/-/extrato-de-ter...</td>\n",
              "      <td>EXTRATO DE TERMO ADITIVO Nº 6/2021 - UASG 1730...</td>\n",
              "      <td>[09.370.244/0001-30]</td>\n",
              "      <td>27.355.635/0001-68</td>\n",
              "      <td>None</td>\n",
              "      <td>SUPERINTENDENCIA DE SEGUROS PRIVADOS - RJ</td>\n",
              "    </tr>\n",
              "    <tr>\n",
              "      <th>2511</th>\n",
              "      <td>EXTRATO DE TERMO ADITIVO Nº 1/2021 - UASG 1701...</td>\n",
              "      <td>https://www.in.gov.br/web/dou/-/extrato-de-ter...</td>\n",
              "      <td>EXTRATO DE TERMO ADITIVO Nº 1/2021 - UASG 1701...</td>\n",
              "      <td>[13.515.708/0001-27]</td>\n",
              "      <td>None</td>\n",
              "      <td>None</td>\n",
              "      <td>SUPERINTENDENCIA REGIONAL DA RFB NA</td>\n",
              "    </tr>\n",
              "    <tr>\n",
              "      <th>2533</th>\n",
              "      <td>EXTRATO DE TERMO ADITIVO Nº 5/2021 - UASG 1540...</td>\n",
              "      <td>https://www.in.gov.br/web/dou/-/extrato-de-ter...</td>\n",
              "      <td>EXTRATO DE TERMO ADITIVO Nº 5/2021 - UASG 1540...</td>\n",
              "      <td>[13.230.124/0001-05]</td>\n",
              "      <td>None</td>\n",
              "      <td>None</td>\n",
              "      <td>FUNDACAO UNIVERSIDADE FEDERAL DO PIAUI</td>\n",
              "    </tr>\n",
              "    <tr>\n",
              "      <th>2558</th>\n",
              "      <td>EXTRATO DE CONTRATO</td>\n",
              "      <td>https://www.in.gov.br/web/dou/-/extrato-de-con...</td>\n",
              "      <td>EXTRATO DE CONTRATO Processo Administrativo n....</td>\n",
              "      <td>[92.698.471/0001-33, 87.878.476/0001-08]</td>\n",
              "      <td>None</td>\n",
              "      <td>None</td>\n",
              "      <td>CRCRS, CNPJ</td>\n",
              "    </tr>\n",
              "  </tbody>\n",
              "</table>\n",
              "<p>194 rows × 7 columns</p>\n",
              "</div>"
            ],
            "text/plain": [
              "                                                  title  ...                                        Contratante\n",
              "0     EXTRATO DE TERMO ADITIVO Nº 1.001/2019 - UASG ...  ...  INSTITUTO NACIONAL DE COLONIZACAO-E REFORMA AG...\n",
              "1     EXTRATO DE TERMO ADITIVO Nº 1/2021 - UASG 1300...  ...      SUPERINT.FED.DE AGRIC.,PEC.E ABASTECIMENTO/ES\n",
              "6     EXTRATO DE TERMO ADITIVO Nº 1/2021 - UASG 1300...  ...      SUPERINT.FED.DE AGRIC.,PEC.E ABASTECIMENTO/ES\n",
              "19    EXTRATO DE TERMO ADITIVO Nº 205/2021 - UASG 15...  ...                  CPST FED RN / CAMPUS CANGUARETAMA\n",
              "22    EXTRATO DE TERMO ADITIVO Nº 3/2021 - UASG 1206...  ...                 GRUPAMENTO DE APOIO DE LAGOA SANTA\n",
              "...                                                 ...  ...                                                ...\n",
              "2506  EXTRATO DE TERMO ADITIVO Nº 1/2021 - UASG 1600...  ...               HOSPITAL MILITAR DE AREA DE BRASILIA\n",
              "2510  EXTRATO DE TERMO ADITIVO Nº 6/2021 - UASG 1730...  ...          SUPERINTENDENCIA DE SEGUROS PRIVADOS - RJ\n",
              "2511  EXTRATO DE TERMO ADITIVO Nº 1/2021 - UASG 1701...  ...                SUPERINTENDENCIA REGIONAL DA RFB NA\n",
              "2533  EXTRATO DE TERMO ADITIVO Nº 5/2021 - UASG 1540...  ...             FUNDACAO UNIVERSIDADE FEDERAL DO PIAUI\n",
              "2558                                EXTRATO DE CONTRATO  ...                                        CRCRS, CNPJ\n",
              "\n",
              "[194 rows x 7 columns]"
            ]
          },
          "metadata": {
            "tags": []
          },
          "execution_count": 37
        }
      ]
    },
    {
      "cell_type": "code",
      "metadata": {
        "id": "5nq_ZCBtyCyT"
      },
      "source": [
        "df_lista_url.to_pickle('DO3.pkl', compression='bz2')"
      ],
      "execution_count": null,
      "outputs": []
    },
    {
      "cell_type": "markdown",
      "metadata": {
        "id": "mcjDIR63yEpN"
      },
      "source": [
        "___________\n",
        "___________"
      ]
    }
  ]
}